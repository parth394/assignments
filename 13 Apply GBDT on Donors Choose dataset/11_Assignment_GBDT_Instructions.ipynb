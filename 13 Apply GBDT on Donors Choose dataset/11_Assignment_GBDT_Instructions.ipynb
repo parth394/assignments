{
 "cells": [
  {
   "cell_type": "markdown",
   "metadata": {
    "colab_type": "text",
    "id": "8wqapAXjsc24"
   },
   "source": [
    "# Assignment 9: GBDT"
   ]
  },
  {
   "cell_type": "markdown",
   "metadata": {
    "colab_type": "text",
    "id": "8u5NhbnEsc2-"
   },
   "source": [
    "#### Response Coding: Example"
   ]
  },
  {
   "cell_type": "markdown",
   "metadata": {
    "colab_type": "text",
    "id": "HIFWmwHKsc3A"
   },
   "source": [
    "<img src='http://i.imgur.com/TufZptV.jpg' width=700px>\n",
    "\n",
    "> The response tabel is built only on train dataset.\n",
    "> For a category which is not there in train data and present in test data, we will encode them with default values\n",
    "Ex: in our test data if have State: D then we encode it as [0.5, 0.05]"
   ]
  },
  {
   "cell_type": "markdown",
   "metadata": {
    "colab_type": "text",
    "id": "3KwfGufDsc3D"
   },
   "source": [
    "<ol>\n",
    "    <li><strong>Apply GBDT on these feature sets</strong>\n",
    "        <ul>\n",
    "            <li><font color='red'>Set 1</font>: categorical(instead of one hot encoding, try <a href='https://www.appliedaicourse.com/course/applied-ai-course-online/lessons/handling-categorical-and-numerical-features/'>response coding</a>: use probability values), numerical features + project_title(TFIDF)+  preprocessed_eassay (TFIDF)+sentiment Score of eassay(check the bellow example, include all 4 values as 4 features)</li>\n",
    "            <li><font color='red'>Set 2</font>: categorical(instead of one hot encoding, try <a href='https://www.appliedaicourse.com/course/applied-ai-course-online/lessons/handling-categorical-and-numerical-features/'>response coding</a>: use probability values), numerical features + project_title(TFIDF W2V)+  preprocessed_eassay (TFIDF W2V)</li>        </ul>\n",
    "    </li>\n",
    "    <li><strong>The hyper paramter tuning (Consider any two hyper parameters)</strong>\n",
    "        <ul>\n",
    "    <li>Find the best hyper parameter which will give the maximum <a href='https://www.appliedaicourse.com/course/applied-ai-course-online/lessons/receiver-operating-characteristic-curve-roc-curve-and-auc-1/'>AUC</a> value</li>\n",
    "    <li>find the best hyper paramter using k-fold cross validation/simple cross validation data</li>\n",
    "    <li>use gridsearch cv or randomsearch cv or you can write your own for loops to do this task</li>\n",
    "        </ul>\n",
    "    </li>\n",
    "    <li>\n",
    "    <strong>Representation of results</strong>\n",
    "        <ul>\n",
    "    <li>You need to plot the performance of model both on train data and cross validation data for each hyper parameter, like shown in the figure\n",
    "    <img src='https://i.imgur.com/Gp2DQmh.jpg' width=500px> with X-axis as <strong>n_estimators</strong>, Y-axis as <strong>max_depth</strong>, and Z-axis as <strong>AUC Score</strong> , we have given the notebook which explains how to plot this 3d plot, you can find it in the same drive <i>3d_scatter_plot.ipynb</i></li>\n",
    "            <p style=\"text-align:center;font-size:30px;color:red;\"><strong>or</strong></p> <br>\n",
    "    <li>You need to plot the performance of model both on train data and cross validation data for each hyper parameter, like shown in the figure\n",
    "    <img src='https://i.imgur.com/fgN9aUP.jpg' width=300px> <a href='https://seaborn.pydata.org/generated/seaborn.heatmap.html'>seaborn heat maps</a> with rows as <strong>n_estimators</strong>, columns as <strong>max_depth</strong>, and values inside the cell representing <strong>AUC Score</strong> </li>\n",
    "    <li>You choose either of the plotting techniques out of 3d plot or heat map</li>\n",
    "    <li>Once after you found the best hyper parameter, you need to train your model with it, and find the AUC on test data and plot the ROC curve on both train and test.\n",
    "    <img src='https://i.imgur.com/wMQDTFe.jpg' width=300px></li>\n",
    "    <li>Along with plotting ROC curve, you need to print the <a href='https://www.appliedaicourse.com/course/applied-ai-course-online/lessons/confusion-matrix-tpr-fpr-fnr-tnr-1/'>confusion matrix</a> with predicted and original labels of test data points\n",
    "    <img src='https://i.imgur.com/IdN5Ctv.png' width=300px></li>\n",
    "            </ul>\n",
    "    <br>\n",
    "    <li>You need to summarize the results at the end of the notebook, summarize it in the table format\n",
    "        <img src='http://i.imgur.com/YVpIGGE.jpg' width=400px>\n",
    "    </li>\n",
    "</ol>"
   ]
  },
  {
   "cell_type": "code",
   "execution_count": 1,
   "metadata": {
    "ExecuteTime": {
     "end_time": "2020-08-12T04:50:30.933776Z",
     "start_time": "2020-08-12T04:50:30.259466Z"
    },
    "colab": {},
    "colab_type": "code",
    "id": "iffa2_WGsc3H",
    "outputId": "151fc2d5-3bc1-4206-9bd2-000dbf662b31"
   },
   "outputs": [
    {
     "name": "stdout",
     "output_type": "stream",
     "text": [
      "neg: 0.01, neu: 0.745, pos: 0.245, compound: 0.9975, "
     ]
    }
   ],
   "source": [
    "import nltk\n",
    "from nltk.sentiment.vader import SentimentIntensityAnalyzer\n",
    "\n",
    "# import nltk\n",
    "# nltk.download('vader_lexicon')\n",
    "\n",
    "sid = SentimentIntensityAnalyzer()\n",
    "\n",
    "for_sentiment = 'a person is a person no matter how small dr seuss i teach the smallest students with the biggest enthusiasm \\\n",
    "for learning my students learn in many different ways using all of our senses and multiple intelligences i use a wide range\\\n",
    "of techniques to help all my students succeed students in my class come from a variety of different backgrounds which makes\\\n",
    "for wonderful sharing of experiences and cultures including native americans our school is a caring community of successful \\\n",
    "learners which can be seen through collaborative student project based learning in and out of the classroom kindergarteners \\\n",
    "in my class love to work with hands on materials and have many different opportunities to practice a skill before it is\\\n",
    "mastered having the social skills to work cooperatively with friends is a crucial aspect of the kindergarten curriculum\\\n",
    "montana is the perfect place to learn about agriculture and nutrition my students love to role play in our pretend kitchen\\\n",
    "in the early childhood classroom i have had several kids ask me can we try cooking with real food i will take their idea \\\n",
    "and create common core cooking lessons where we learn important math and writing concepts while cooking delicious healthy \\\n",
    "food for snack time my students will have a grounded appreciation for the work that went into making the food and knowledge \\\n",
    "of where the ingredients came from as well as how it is healthy for their bodies this project would expand our learning of \\\n",
    "nutrition and agricultural cooking recipes by having us peel our own apples to make homemade applesauce make our own bread \\\n",
    "and mix up healthy plants from our classroom garden in the spring we will also create our own cookbooks to be printed and \\\n",
    "shared with families students will gain math and literature skills as well as a life long enjoyment for healthy cooking \\\n",
    "nannan'\n",
    "ss = sid.polarity_scores(for_sentiment)\n",
    "\n",
    "for k in ss:\n",
    "    print('{0}: {1}, '.format(k, ss[k]), end='')\n",
    "\n",
    "# we can use these 4 things as features/attributes (neg, neu, pos, compound)\n",
    "# neg: 0.0, neu: 0.753, pos: 0.247, compound: 0.93"
   ]
  },
  {
   "cell_type": "markdown",
   "metadata": {
    "colab_type": "text",
    "id": "BOyTl7oKsc3W"
   },
   "source": [
    "<h1>1. GBDT (xgboost/lightgbm) </h1>"
   ]
  },
  {
   "cell_type": "markdown",
   "metadata": {
    "colab_type": "text",
    "id": "VWge-b2Zsc3Z"
   },
   "source": [
    "## 1.1 Loading Data"
   ]
  },
  {
   "cell_type": "code",
   "execution_count": 2,
   "metadata": {
    "ExecuteTime": {
     "end_time": "2020-08-12T04:51:14.525769Z",
     "start_time": "2020-08-12T04:51:13.279359Z"
    },
    "colab": {},
    "colab_type": "code",
    "id": "WDZFu6-usc3d",
    "run_control": {
     "marked": false
    }
   },
   "outputs": [],
   "source": [
    "import pandas\n",
    "data = pandas.read_csv('preprocessed_data.csv')"
   ]
  },
  {
   "cell_type": "code",
   "execution_count": 5,
   "metadata": {
    "ExecuteTime": {
     "end_time": "2020-08-12T16:34:31.812024Z",
     "start_time": "2020-08-12T16:34:31.763016Z"
    }
   },
   "outputs": [
    {
     "data": {
      "text/html": [
       "<div>\n",
       "<style scoped>\n",
       "    .dataframe tbody tr th:only-of-type {\n",
       "        vertical-align: middle;\n",
       "    }\n",
       "\n",
       "    .dataframe tbody tr th {\n",
       "        vertical-align: top;\n",
       "    }\n",
       "\n",
       "    .dataframe thead th {\n",
       "        text-align: right;\n",
       "    }\n",
       "</style>\n",
       "<table border=\"1\" class=\"dataframe\">\n",
       "  <thead>\n",
       "    <tr style=\"text-align: right;\">\n",
       "      <th></th>\n",
       "      <th>school_state</th>\n",
       "      <th>teacher_prefix</th>\n",
       "      <th>project_grade_category</th>\n",
       "      <th>teacher_number_of_previously_posted_projects</th>\n",
       "      <th>project_is_approved</th>\n",
       "      <th>clean_categories</th>\n",
       "      <th>clean_subcategories</th>\n",
       "      <th>essay</th>\n",
       "      <th>price</th>\n",
       "    </tr>\n",
       "  </thead>\n",
       "  <tbody>\n",
       "    <tr>\n",
       "      <th>0</th>\n",
       "      <td>ca</td>\n",
       "      <td>mrs</td>\n",
       "      <td>grades_prek_2</td>\n",
       "      <td>53</td>\n",
       "      <td>1</td>\n",
       "      <td>math_science</td>\n",
       "      <td>appliedsciences health_lifescience</td>\n",
       "      <td>i fortunate enough use fairy tale stem kits cl...</td>\n",
       "      <td>725.05</td>\n",
       "    </tr>\n",
       "    <tr>\n",
       "      <th>1</th>\n",
       "      <td>ut</td>\n",
       "      <td>ms</td>\n",
       "      <td>grades_3_5</td>\n",
       "      <td>4</td>\n",
       "      <td>1</td>\n",
       "      <td>specialneeds</td>\n",
       "      <td>specialneeds</td>\n",
       "      <td>imagine 8 9 years old you third grade classroo...</td>\n",
       "      <td>213.03</td>\n",
       "    </tr>\n",
       "    <tr>\n",
       "      <th>2</th>\n",
       "      <td>ca</td>\n",
       "      <td>mrs</td>\n",
       "      <td>grades_prek_2</td>\n",
       "      <td>10</td>\n",
       "      <td>1</td>\n",
       "      <td>literacy_language</td>\n",
       "      <td>literacy</td>\n",
       "      <td>having class 24 students comes diverse learner...</td>\n",
       "      <td>329.00</td>\n",
       "    </tr>\n",
       "    <tr>\n",
       "      <th>3</th>\n",
       "      <td>ga</td>\n",
       "      <td>mrs</td>\n",
       "      <td>grades_prek_2</td>\n",
       "      <td>2</td>\n",
       "      <td>1</td>\n",
       "      <td>appliedlearning</td>\n",
       "      <td>earlydevelopment</td>\n",
       "      <td>i recently read article giving students choice...</td>\n",
       "      <td>481.04</td>\n",
       "    </tr>\n",
       "    <tr>\n",
       "      <th>4</th>\n",
       "      <td>wa</td>\n",
       "      <td>mrs</td>\n",
       "      <td>grades_3_5</td>\n",
       "      <td>2</td>\n",
       "      <td>1</td>\n",
       "      <td>literacy_language</td>\n",
       "      <td>literacy</td>\n",
       "      <td>my students crave challenge eat obstacles brea...</td>\n",
       "      <td>17.74</td>\n",
       "    </tr>\n",
       "  </tbody>\n",
       "</table>\n",
       "</div>"
      ],
      "text/plain": [
       "  school_state teacher_prefix project_grade_category  \\\n",
       "0           ca            mrs          grades_prek_2   \n",
       "1           ut             ms             grades_3_5   \n",
       "2           ca            mrs          grades_prek_2   \n",
       "3           ga            mrs          grades_prek_2   \n",
       "4           wa            mrs             grades_3_5   \n",
       "\n",
       "   teacher_number_of_previously_posted_projects  project_is_approved  \\\n",
       "0                                            53                    1   \n",
       "1                                             4                    1   \n",
       "2                                            10                    1   \n",
       "3                                             2                    1   \n",
       "4                                             2                    1   \n",
       "\n",
       "    clean_categories                 clean_subcategories  \\\n",
       "0       math_science  appliedsciences health_lifescience   \n",
       "1       specialneeds                        specialneeds   \n",
       "2  literacy_language                            literacy   \n",
       "3    appliedlearning                    earlydevelopment   \n",
       "4  literacy_language                            literacy   \n",
       "\n",
       "                                               essay   price  \n",
       "0  i fortunate enough use fairy tale stem kits cl...  725.05  \n",
       "1  imagine 8 9 years old you third grade classroo...  213.03  \n",
       "2  having class 24 students comes diverse learner...  329.00  \n",
       "3  i recently read article giving students choice...  481.04  \n",
       "4  my students crave challenge eat obstacles brea...   17.74  "
      ]
     },
     "execution_count": 5,
     "metadata": {},
     "output_type": "execute_result"
    }
   ],
   "source": [
    "data.head()"
   ]
  },
  {
   "cell_type": "markdown",
   "metadata": {},
   "source": [
    "## Defining Reusable Functions"
   ]
  },
  {
   "cell_type": "code",
   "execution_count": 4,
   "metadata": {
    "ExecuteTime": {
     "end_time": "2020-08-12T04:52:38.410073Z",
     "start_time": "2020-08-12T04:52:38.344327Z"
    }
   },
   "outputs": [],
   "source": [
    "# Plotting Confusion Matrix\n",
    "def plot_matrix(y_true, y_pred):\n",
    "    '''Input: true labes , predicted labels\n",
    "       Output: None\n",
    "       Functionality: Plots the confusion, precison and recall matrices\n",
    "    '''\n",
    "    conf = confusion_matrix(y_true, y_pred)\n",
    "    # Column Sum = 1\n",
    "    precision = conf/conf.sum(0)\n",
    "    # Row Sum = 1\n",
    "    recall    = (conf.T/conf.sum(1)).T\n",
    "    cmap='YlGnBu'\n",
    "    labels = [1,2,3,4,5,6,7,8,9]\n",
    "    print('-'*20,'Confusion Matrix','-'*20)\n",
    "    plt.figure(figsize=(20,7))\n",
    "    sns.heatmap(conf ,annot=True, fmt='.3f', cmap=cmap, xticklabels=labels, yticklabels=labels)\n",
    "    plt.xlabel('Predicted')\n",
    "    plt.ylabel('Original')\n",
    "    plt.show()\n",
    "    print('-'*20,'Precision Matrix ( Columns Sum == 1 )','-'*20)\n",
    "    plt.figure(figsize=(20,7))\n",
    "    sns.heatmap(precision ,annot=True, fmt='.3f', cmap=cmap, xticklabels=labels, yticklabels=labels)\n",
    "    plt.xlabel('Predicted')\n",
    "    plt.ylabel('Original')\n",
    "    plt.show()\n",
    "    print('-'*20,'Recall Matrix ( Row Sum == 1 )','-'*20)\n",
    "    plt.figure(figsize=(20,7))\n",
    "    sns.heatmap(recall ,annot=True, fmt='.3f', cmap=cmap, xticklabels=labels, yticklabels=labels)\n",
    "    plt.xlabel('Predicted')\n",
    "    plt.ylabel('Original')\n",
    "    plt.show()\n",
    "    \n",
    "# Defining Functions for Categorical Columns Response Encoding\n",
    "def response_encoding_fitting(x_train,y_train,feature,label,alpha):\n",
    "    '''\n",
    "    Input   : x_train, y_train, feature, label, alpha\n",
    "    Output  : dictionary containing response coded features\n",
    "    Functionality: Encoding a feature using response encoding feature techniques\n",
    "    '''\n",
    "    temp = x_train.copy()\n",
    "    temp[label] = y_train\n",
    "    temp = temp.groupby([feature,label])[label].agg(Total='count').reset_index().sort_values([feature,label])\n",
    "    response_encoding = {}\n",
    "    # For evey Gene\n",
    "    for gene in temp[feature].unique():\n",
    "        response = np.zeros((9,1))\n",
    "        # Filter DataFrame Values for that gene\n",
    "        x = temp[temp[feature] == gene]\n",
    "        total = x['Total'].sum()\n",
    "        # For each class present for the gene \n",
    "        response_check = (x['Total'].values + 10 *alpha) / total + 90 * alpha\n",
    "\n",
    "        for i in temp[label].unique():\n",
    "            z=x[x[label] == i]['Total']\n",
    "            if len(z.values) == 0:\n",
    "                z=0\n",
    "            numerator   = (z + 10 * alpha)\n",
    "            denominator = (total +( 90 * alpha))\n",
    "            response[i-1] = (numerator)/(denominator)\n",
    "        response_encoding[gene] = response.T[0]\n",
    "    return response_encoding\n",
    "    \n",
    "def response_encoding_fit_transform(x,y,feature,label,alpha):\n",
    "    '''\n",
    "    Input   : x, y, feature, label\n",
    "    Output  : response encoded data\n",
    "    Functionality: fit and Transforming the data into response encoded data\n",
    "    '''\n",
    "    \n",
    "    temp = x.copy()\n",
    "    temp[label] = y\n",
    "\n",
    "    response_dictionary = response_encoding_fitting(x, y, feature, label, alpha)\n",
    "    \n",
    "    final_feature = []\n",
    "\n",
    "    for ind, row in temp.iterrows():\n",
    "        if row[feature] in response_dictionary.keys():\n",
    "            final_feature.append(response_dictionary[row[feature]])\n",
    "        else:\n",
    "            feature_count = len(df[feature].unique())\n",
    "            final_feature.append(np.ones(feature_count)/feature_count)\n",
    "    return np.array(final_feature)\n",
    "\n",
    "# Creating Response Encoding Functions for TEXT\n",
    "def creating_word_count_dict(df):\n",
    "    return dict(Counter(' '.join(df['Text'].tolist()).split()))\n",
    "\n",
    "def response_encoding_text(curr_df,label):\n",
    "    total_wc_dict = creating_word_count_dict(curr_df)\n",
    "    response_encoding_feature = np.zeros((curr_df.shape[0],9))\n",
    "    for cls in range(1,10):\n",
    "        # print('calculating for class {}'.format(cls))\n",
    "        temp_df = curr_df[label['Class'] == cls]\n",
    "        # print(temp_df.shape)\n",
    "        per_class_wc_dict = creating_word_count_dict(temp_df)\n",
    "        index = 0\n",
    "        for ind, row in curr_df.iterrows():\n",
    "            sum_prob = 0\n",
    "            for word in row['Text'].split():\n",
    "                # print('Calculation for word = {}'.format(word))\n",
    "                temp = ((per_class_wc_dict.get(word,0)+10)/(total_wc_dict.get(word,0) + 90) )\n",
    "                # print(temp)\n",
    "                sum_prob += math.log( temp )\n",
    "            response_encoding_feature[index][cls-1] = math.exp(sum_prob/len(row['Text'].split()))\n",
    "            index += 1\n",
    "    return response_encoding_feature\n",
    "\n",
    "def create_tfidf_w2v(df, col):\n",
    "    \n",
    "    with open('drive/My Drive/Colab Notebooks/AppliedAICourse/Assignment/glove_vectors', 'rb') as f:\n",
    "        model = pickle.load(f)\n",
    "        glove_words =  set(model.keys())\n",
    "\n",
    "    # Creating TFIDF \n",
    "    tfidf_vec = TfidfVectorizer()\n",
    "    tfidf_vec.fit(df[col])\n",
    "    idf_dict = dict(zip(tfidf_vec.get_feature_names(), list(tfidf_vec.idf_)))\n",
    "    tfidf_words = set(tfidf_vec.get_feature_names())\n",
    "\n",
    "    # Creating TVIDF weigthed W2V\n",
    "    tfidf_w2v_vectors = []\n",
    "    for sentence in tqdm(df[col].values):\n",
    "        vector = np.zeros(300)\n",
    "        tfidf_val = 0\n",
    "        for word in sentence.split():\n",
    "            if word in glove_words and word in tfidf_words:\n",
    "                temp = model[word]\n",
    "                # Calcualting the tfidf values\n",
    "                tf_idf = idf_dict[word] * (sentence.count(word)/len(sentence.split()))\n",
    "                vector += temp * tf_idf\n",
    "                tfidf_val += tf_idf\n",
    "        if tfidf_val != 0:\n",
    "            vector /= tfidf_val\n",
    "        tfidf_w2v_vectors.append(vector)\n",
    "    return tfidf_w2v_vectors\n",
    "\n",
    "\n",
    "\n",
    "def transforming(x_train, y_train, x_test, y_test, x_cv, y_cv, col):\n",
    "    # Transforming Integer Fields\n",
    "    if x_train[col].dtype == np.dtype('int64') or x_train[col].dtype == np.dtype('float64'):\n",
    "        \n",
    "        std = StandardScaler()\n",
    "        x_train_val = std.fit_transform(x_train[col].values.reshape(-1,1))\n",
    "        x_cv_val    = std.transform(x_cv[col].values.reshape(-1,1))\n",
    "        x_test_val  = std.transform(x_test[col].values.reshape(-1,1))\n",
    "        \n",
    "   # Transfroming \n",
    "    if x_train[col].dtype == np.dtype('object'):\n",
    "        \n",
    "        if col == 'essay':\n",
    "            tf_vec      = TfidfVectorizer(ngram_range=(1,5),min_df=10,norm='l2')\n",
    "            x_train_val = tf_vec.fit_transform(x_train[col].values).tocsr()\n",
    "            x_test_val    = tf_vec.transform(x_test[col].values).tocsr()\n",
    "            x_cv_val  = tf_vec.transform(x_cv[col].values).tocsr()\n",
    "                \n",
    "        else:\n",
    "            response_encoding_fit_transform(x_train, y_train, col, '')\n",
    "        \n",
    "    return (x_train_val, x_cv_val, x_test_val)"
   ]
  },
  {
   "cell_type": "markdown",
   "metadata": {
    "colab_type": "text",
    "id": "6lAMFKFcsc3j"
   },
   "source": [
    "<h2>1.2 Splitting data into Train and cross validation(or test): Stratified Sampling</h2>"
   ]
  },
  {
   "cell_type": "code",
   "execution_count": 0,
   "metadata": {
    "colab": {},
    "colab_type": "code",
    "id": "ODMijuuNsc3l"
   },
   "outputs": [],
   "source": [
    "# please write all the code with proper documentation, and proper titles for each subsection\n",
    "# go through documentations and blogs before you start coding\n",
    "# first figure out what to do, and then think about how to do.\n",
    "# reading and understanding error messages will be very much helpfull in debugging your code\n",
    "# when you plot any graph make sure you use \n",
    "    # a. Title, that describes your plot, this will be very helpful to the reader\n",
    "    # b. Legends if needed\n",
    "    # c. X-axis label\n",
    "    # d. Y-axis label"
   ]
  },
  {
   "cell_type": "markdown",
   "metadata": {
    "colab_type": "text",
    "id": "vsALgl5Asc3u"
   },
   "source": [
    "<h2>1.3 Make Data Model Ready: encoding eassay, and project_title</h2>"
   ]
  },
  {
   "cell_type": "code",
   "execution_count": 0,
   "metadata": {
    "colab": {},
    "colab_type": "code",
    "id": "1A_85jbWsc3v"
   },
   "outputs": [],
   "source": [
    "# please write all the code with proper documentation, and proper titles for each subsection\n",
    "# go through documentations and blogs before you start coding\n",
    "# first figure out what to do, and then think about how to do.\n",
    "# reading and understanding error messages will be very much helpfull in debugging your code\n",
    "# make sure you featurize train and test data separatly\n",
    "\n",
    "# when you plot any graph make sure you use \n",
    "    # a. Title, that describes your plot, this will be very helpful to the reader\n",
    "    # b. Legends if needed\n",
    "    # c. X-axis label\n",
    "    # d. Y-axis label"
   ]
  },
  {
   "cell_type": "markdown",
   "metadata": {
    "colab_type": "text",
    "id": "S3Vxxv2Hsc31"
   },
   "source": [
    "<h2>1.4 Make Data Model Ready: encoding numerical, categorical features</h2>"
   ]
  },
  {
   "cell_type": "code",
   "execution_count": 0,
   "metadata": {
    "colab": {},
    "colab_type": "code",
    "id": "RAtihVPqsc33"
   },
   "outputs": [],
   "source": [
    "# please write all the code with proper documentation, and proper titles for each subsection\n",
    "# go through documentations and blogs before you start coding \n",
    "# first figure out what to do, and then think about how to do.\n",
    "# reading and understanding error messages will be very much helpfull in debugging your code\n",
    "# make sure you featurize train and test data separatly\n",
    "\n",
    "# when you plot any graph make sure you use \n",
    "    # a. Title, that describes your plot, this will be very helpful to the reader\n",
    "    # b. Legends if needed\n",
    "    # c. X-axis label\n",
    "    # d. Y-axis label"
   ]
  },
  {
   "cell_type": "markdown",
   "metadata": {
    "colab_type": "text",
    "id": "I5wDFj17sc3-"
   },
   "source": [
    "<h2>1.5 Appling Models on different kind of featurization as mentioned in the instructions</h2>"
   ]
  },
  {
   "cell_type": "markdown",
   "metadata": {
    "colab_type": "text",
    "id": "O5tWox1jsc3_"
   },
   "source": [
    "<br>Apply GBDT on different kind of featurization as mentioned in the instructions\n",
    "<br> For Every model that you work on make sure you do the step 2 and step 3 of instrucations"
   ]
  },
  {
   "cell_type": "code",
   "execution_count": 0,
   "metadata": {
    "colab": {},
    "colab_type": "code",
    "id": "ARWulYUwsc4B"
   },
   "outputs": [],
   "source": [
    "# please write all the code with proper documentation, and proper titles for each subsection\n",
    "# go through documentations and blogs before you start coding\n",
    "# first figure out what to do, and then think about how to do.\n",
    "# reading and understanding error messages will be very much helpfull in debugging your code\n",
    "# when you plot any graph make sure you use \n",
    "    # a. Title, that describes your plot, this will be very helpful to the reader\n",
    "    # b. Legends if needed\n",
    "    # c. X-axis label\n",
    "    # d. Y-axis label"
   ]
  },
  {
   "cell_type": "markdown",
   "metadata": {
    "colab_type": "text",
    "id": "YhFN-lDWsc4G"
   },
   "source": [
    "<h1>3. Summary</h1>\n",
    "\n",
    "<br> as mentioned in the step 4 of instructions"
   ]
  }
 ],
 "metadata": {
  "colab": {
   "collapsed_sections": [],
   "name": "11_Assignment_GBDT_Instructions.ipynb",
   "provenance": [],
   "version": "0.3.2"
  },
  "kernelspec": {
   "display_name": "Python 3",
   "language": "python",
   "name": "python3"
  },
  "language_info": {
   "codemirror_mode": {
    "name": "ipython",
    "version": 3
   },
   "file_extension": ".py",
   "mimetype": "text/x-python",
   "name": "python",
   "nbconvert_exporter": "python",
   "pygments_lexer": "ipython3",
   "version": "3.8.3"
  },
  "latex_envs": {
   "LaTeX_envs_menu_present": true,
   "autoclose": false,
   "autocomplete": true,
   "bibliofile": "biblio.bib",
   "cite_by": "apalike",
   "current_citInitial": 1,
   "eqLabelWithNumbers": true,
   "eqNumInitial": 1,
   "hotkeys": {
    "equation": "Ctrl-E",
    "itemize": "Ctrl-I"
   },
   "labels_anchors": false,
   "latex_user_defs": false,
   "report_style_numbering": false,
   "user_envs_cfg": false
  },
  "toc": {
   "base_numbering": 1,
   "nav_menu": {},
   "number_sections": true,
   "sideBar": true,
   "skip_h1_title": false,
   "title_cell": "Table of Contents",
   "title_sidebar": "Contents",
   "toc_cell": false,
   "toc_position": {
    "height": "calc(100% - 180px)",
    "left": "10px",
    "top": "150px",
    "width": "366px"
   },
   "toc_section_display": true,
   "toc_window_display": true
  },
  "varInspector": {
   "cols": {
    "lenName": 16,
    "lenType": 16,
    "lenVar": 40
   },
   "kernels_config": {
    "python": {
     "delete_cmd_postfix": "",
     "delete_cmd_prefix": "del ",
     "library": "var_list.py",
     "varRefreshCmd": "print(var_dic_list())"
    },
    "r": {
     "delete_cmd_postfix": ") ",
     "delete_cmd_prefix": "rm(",
     "library": "var_list.r",
     "varRefreshCmd": "cat(var_dic_list()) "
    }
   },
   "types_to_exclude": [
    "module",
    "function",
    "builtin_function_or_method",
    "instance",
    "_Feature"
   ],
   "window_display": false
  }
 },
 "nbformat": 4,
 "nbformat_minor": 1
}
