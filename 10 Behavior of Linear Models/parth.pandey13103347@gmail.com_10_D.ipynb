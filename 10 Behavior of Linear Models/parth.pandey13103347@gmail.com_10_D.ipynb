{
 "cells": [
  {
   "cell_type": "markdown",
   "metadata": {
    "colab_type": "text",
    "id": "86Tvnj5UblTy"
   },
   "source": [
    "# Task-D: Collinear features and their effect on linear models"
   ]
  },
  {
   "cell_type": "markdown",
   "metadata": {},
   "source": [
    "## Imports"
   ]
  },
  {
   "cell_type": "code",
   "execution_count": 344,
   "metadata": {
    "ExecuteTime": {
     "end_time": "2020-06-12T06:43:02.970849Z",
     "start_time": "2020-06-12T06:43:02.964045Z"
    },
    "colab": {},
    "colab_type": "code",
    "id": "qn_eOn2EblT3"
   },
   "outputs": [],
   "source": [
    "%matplotlib inline\n",
    "import warnings\n",
    "warnings.filterwarnings(\"ignore\")\n",
    "import pandas as pd\n",
    "import numpy as np\n",
    "from sklearn.datasets import load_iris\n",
    "from sklearn.linear_model import SGDClassifier\n",
    "from sklearn.model_selection import GridSearchCV\n",
    "from sklearn.metrics import accuracy_score, confusion_matrix\n",
    "import seaborn as sns\n",
    "import matplotlib.pyplot as plt\n",
    "from beautifultable  import BeautifulTable"
   ]
  },
  {
   "cell_type": "markdown",
   "metadata": {},
   "source": [
    "## Data Prep"
   ]
  },
  {
   "cell_type": "code",
   "execution_count": 345,
   "metadata": {
    "ExecuteTime": {
     "end_time": "2020-06-12T06:43:03.007063Z",
     "start_time": "2020-06-12T06:43:02.994390Z"
    },
    "colab": {},
    "colab_type": "code",
    "id": "VMoYWIayblUB"
   },
   "outputs": [],
   "source": [
    "data = pd.read_csv('task_d.csv')"
   ]
  },
  {
   "cell_type": "code",
   "execution_count": 346,
   "metadata": {
    "ExecuteTime": {
     "end_time": "2020-06-12T06:43:03.024121Z",
     "start_time": "2020-06-12T06:43:03.008598Z"
    },
    "colab": {},
    "colab_type": "code",
    "id": "RfStXG4tblUI",
    "outputId": "ddf4eec6-7f53-4d28-914f-23133957d6d5"
   },
   "outputs": [
    {
     "data": {
      "text/html": [
       "<div>\n",
       "<style scoped>\n",
       "    .dataframe tbody tr th:only-of-type {\n",
       "        vertical-align: middle;\n",
       "    }\n",
       "\n",
       "    .dataframe tbody tr th {\n",
       "        vertical-align: top;\n",
       "    }\n",
       "\n",
       "    .dataframe thead th {\n",
       "        text-align: right;\n",
       "    }\n",
       "</style>\n",
       "<table border=\"1\" class=\"dataframe\">\n",
       "  <thead>\n",
       "    <tr style=\"text-align: right;\">\n",
       "      <th></th>\n",
       "      <th>x</th>\n",
       "      <th>y</th>\n",
       "      <th>z</th>\n",
       "      <th>x*x</th>\n",
       "      <th>2*y</th>\n",
       "      <th>2*z+3*x*x</th>\n",
       "      <th>w</th>\n",
       "      <th>target</th>\n",
       "    </tr>\n",
       "  </thead>\n",
       "  <tbody>\n",
       "    <tr>\n",
       "      <th>0</th>\n",
       "      <td>-0.581066</td>\n",
       "      <td>0.841837</td>\n",
       "      <td>-1.012978</td>\n",
       "      <td>-0.604025</td>\n",
       "      <td>0.841837</td>\n",
       "      <td>-0.665927</td>\n",
       "      <td>-0.536277</td>\n",
       "      <td>0</td>\n",
       "    </tr>\n",
       "    <tr>\n",
       "      <th>1</th>\n",
       "      <td>-0.894309</td>\n",
       "      <td>-0.207835</td>\n",
       "      <td>-1.012978</td>\n",
       "      <td>-0.883052</td>\n",
       "      <td>-0.207835</td>\n",
       "      <td>-0.917054</td>\n",
       "      <td>-0.522364</td>\n",
       "      <td>0</td>\n",
       "    </tr>\n",
       "    <tr>\n",
       "      <th>2</th>\n",
       "      <td>-1.207552</td>\n",
       "      <td>0.212034</td>\n",
       "      <td>-1.082312</td>\n",
       "      <td>-1.150918</td>\n",
       "      <td>0.212034</td>\n",
       "      <td>-1.166507</td>\n",
       "      <td>0.205738</td>\n",
       "      <td>0</td>\n",
       "    </tr>\n",
       "    <tr>\n",
       "      <th>3</th>\n",
       "      <td>-1.364174</td>\n",
       "      <td>0.002099</td>\n",
       "      <td>-0.943643</td>\n",
       "      <td>-1.280666</td>\n",
       "      <td>0.002099</td>\n",
       "      <td>-1.266540</td>\n",
       "      <td>-0.665720</td>\n",
       "      <td>0</td>\n",
       "    </tr>\n",
       "    <tr>\n",
       "      <th>4</th>\n",
       "      <td>-0.737687</td>\n",
       "      <td>1.051772</td>\n",
       "      <td>-1.012978</td>\n",
       "      <td>-0.744934</td>\n",
       "      <td>1.051772</td>\n",
       "      <td>-0.792746</td>\n",
       "      <td>-0.735054</td>\n",
       "      <td>0</td>\n",
       "    </tr>\n",
       "  </tbody>\n",
       "</table>\n",
       "</div>"
      ],
      "text/plain": [
       "          x         y         z       x*x       2*y  2*z+3*x*x         w  \\\n",
       "0 -0.581066  0.841837 -1.012978 -0.604025  0.841837  -0.665927 -0.536277   \n",
       "1 -0.894309 -0.207835 -1.012978 -0.883052 -0.207835  -0.917054 -0.522364   \n",
       "2 -1.207552  0.212034 -1.082312 -1.150918  0.212034  -1.166507  0.205738   \n",
       "3 -1.364174  0.002099 -0.943643 -1.280666  0.002099  -1.266540 -0.665720   \n",
       "4 -0.737687  1.051772 -1.012978 -0.744934  1.051772  -0.792746 -0.735054   \n",
       "\n",
       "   target  \n",
       "0       0  \n",
       "1       0  \n",
       "2       0  \n",
       "3       0  \n",
       "4       0  "
      ]
     },
     "execution_count": 346,
     "metadata": {},
     "output_type": "execute_result"
    }
   ],
   "source": [
    "data.head()"
   ]
  },
  {
   "cell_type": "code",
   "execution_count": 347,
   "metadata": {
    "ExecuteTime": {
     "end_time": "2020-06-12T06:43:03.030925Z",
     "start_time": "2020-06-12T06:43:03.025717Z"
    },
    "colab": {},
    "colab_type": "code",
    "id": "JIIuomCkblUP"
   },
   "outputs": [],
   "source": [
    "x_train = data.drop(['target'], axis=1).values\n",
    "y_train = data['target'].values"
   ]
  },
  {
   "cell_type": "markdown",
   "metadata": {
    "colab_type": "text",
    "id": "Ydm98u3EblUU"
   },
   "source": [
    "## Defining Objective\n",
    "\n",
    " Doing perturbation test to check the presence of collinearity  \n",
    "\n",
    " Task: 1 Logistic Regression\n",
    "<pre>\n",
    "\n",
    "\n",
    "1. <b>Finding the Correlation between the features</b>\n",
    "    a. check the correlation between the features\n",
    "    b. plot heat map of correlation matrix using seaborn heatmap\n",
    "2. <b>Finding the best model for the given data</b>\n",
    "    a. Train Logistic regression on data(X,Y) that we have created in the above cell\n",
    "    b. Find the best hyper prameter alpha with hyper parameter tuning using k-fold cross validation (grid search CV or         \n",
    "    random search CV make sure you choose the alpha in log space)\n",
    "    c. Creat a new Logistic regression with the best alpha\n",
    "    (search for how to get the best hyper parameter value), name the best model as 'best_model'\n",
    "    \n",
    "3. <b>Getting the weights with the original data</b>\n",
    "    a. train the 'best_model' with X, Y\n",
    "    b. Check the accuracy of the model 'best_model_accuracy'\n",
    "    c. Get the weights W using best_model.coef_\n",
    "\n",
    "4. <b>Modifying original data</b>\n",
    "    a. Add a noise(order of 10^-2) to each element of X \n",
    "    and get the new data set X' (X' = X + e)\n",
    "    b. Train the same 'best_model' with data (X', Y)\n",
    "    c. Check the accuracy of the model 'best_model_accuracy_edited'\n",
    "    d. Get the weights W' using best_model.coef_\n",
    "    \n",
    "5. <b> Checking deviations in metric and weights </b>\n",
    "    a. find the difference between 'best_model_accuracy_edited' and 'best_model_accuracy'\n",
    "    b. find the absolute change between each value of W and W' ==> |(W-W')|\n",
    "    c. print the top 4 features which have higher % change in weights \n",
    "    compare to the other feature\n",
    "\n",
    "</pre>"
   ]
  },
  {
   "cell_type": "markdown",
   "metadata": {},
   "source": [
    "### Task 1 : Implementing Logistic Regression"
   ]
  },
  {
   "cell_type": "markdown",
   "metadata": {},
   "source": [
    "#### A: Correlation Heat Map"
   ]
  },
  {
   "cell_type": "code",
   "execution_count": 348,
   "metadata": {
    "ExecuteTime": {
     "end_time": "2020-06-12T06:43:03.496375Z",
     "start_time": "2020-06-12T06:43:03.087839Z"
    }
   },
   "outputs": [
    {
     "data": {
      "image/png": "[encoded data removed]",
      "text/plain": [
       "<Figure size 1080x720 with 2 Axes>"
      ]
     },
     "metadata": {
      "needs_background": "light"
     },
     "output_type": "display_data"
    }
   ],
   "source": [
    "# Correlation\n",
    "_, ax = plt.subplots(1,1,figsize=(15,10))\n",
    "sns.heatmap(np.corrcoef(x_train.T), annot=True, ax=ax, cmap=\"YlGnBu\", xticklabels=data.columns[:-1].tolist(),\n",
    "            yticklabels=data.columns[:-1].tolist())\n",
    "ax.set_title('Correlation Heat Map')\n",
    "plt.show()"
   ]
  },
  {
   "cell_type": "markdown",
   "metadata": {},
   "source": [
    "#### B: Logistic Regression With Hyperparamenter Tuning"
   ]
  },
  {
   "cell_type": "code",
   "execution_count": 349,
   "metadata": {
    "ExecuteTime": {
     "end_time": "2020-06-12T06:43:04.503513Z",
     "start_time": "2020-06-12T06:43:03.498522Z"
    },
    "scrolled": false
   },
   "outputs": [],
   "source": [
    "clf = SGDClassifier(loss='log', random_state=42)\n",
    "# chossing value in logspace\n",
    "parameters = {'alpha':np.logspace(2,5,10,base=2,endpoint=True)}\n",
    "# Since the task is of classfication and there are only two classes \n",
    "grid = GridSearchCV(clf, parameters,scoring='accuracy', cv=3,return_train_score=True,n_jobs=-1)\n",
    "grid.fit(x_train,y_train)\n",
    "# Converting the CV resutls into a dataframe for easy plotting\n",
    "df = pd.DataFrame(grid.cv_results_)"
   ]
  },
  {
   "cell_type": "code",
   "execution_count": 350,
   "metadata": {
    "ExecuteTime": {
     "end_time": "2020-06-12T06:43:04.528739Z",
     "start_time": "2020-06-12T06:43:04.506036Z"
    },
    "scrolled": true
   },
   "outputs": [
    {
     "data": {
      "text/html": [
       "<div>\n",
       "<style scoped>\n",
       "    .dataframe tbody tr th:only-of-type {\n",
       "        vertical-align: middle;\n",
       "    }\n",
       "\n",
       "    .dataframe tbody tr th {\n",
       "        vertical-align: top;\n",
       "    }\n",
       "\n",
       "    .dataframe thead th {\n",
       "        text-align: right;\n",
       "    }\n",
       "</style>\n",
       "<table border=\"1\" class=\"dataframe\">\n",
       "  <thead>\n",
       "    <tr style=\"text-align: right;\">\n",
       "      <th></th>\n",
       "      <th>mean_fit_time</th>\n",
       "      <th>std_fit_time</th>\n",
       "      <th>mean_score_time</th>\n",
       "      <th>std_score_time</th>\n",
       "      <th>param_alpha</th>\n",
       "      <th>params</th>\n",
       "      <th>split0_test_score</th>\n",
       "      <th>split1_test_score</th>\n",
       "      <th>split2_test_score</th>\n",
       "      <th>mean_test_score</th>\n",
       "      <th>std_test_score</th>\n",
       "      <th>rank_test_score</th>\n",
       "      <th>split0_train_score</th>\n",
       "      <th>split1_train_score</th>\n",
       "      <th>split2_train_score</th>\n",
       "      <th>mean_train_score</th>\n",
       "      <th>std_train_score</th>\n",
       "    </tr>\n",
       "  </thead>\n",
       "  <tbody>\n",
       "    <tr>\n",
       "      <th>0</th>\n",
       "      <td>0.001623</td>\n",
       "      <td>0.000007</td>\n",
       "      <td>0.000528</td>\n",
       "      <td>0.000003</td>\n",
       "      <td>4</td>\n",
       "      <td>{'alpha': 4.0}</td>\n",
       "      <td>0.794118</td>\n",
       "      <td>1.000000</td>\n",
       "      <td>0.878788</td>\n",
       "      <td>0.890969</td>\n",
       "      <td>0.084491</td>\n",
       "      <td>1</td>\n",
       "      <td>0.833333</td>\n",
       "      <td>0.880597</td>\n",
       "      <td>0.940299</td>\n",
       "      <td>0.884743</td>\n",
       "      <td>0.043767</td>\n",
       "    </tr>\n",
       "    <tr>\n",
       "      <th>1</th>\n",
       "      <td>0.001635</td>\n",
       "      <td>0.000006</td>\n",
       "      <td>0.000512</td>\n",
       "      <td>0.000008</td>\n",
       "      <td>5.03968</td>\n",
       "      <td>{'alpha': 5.039684199579493}</td>\n",
       "      <td>0.794118</td>\n",
       "      <td>0.939394</td>\n",
       "      <td>0.787879</td>\n",
       "      <td>0.840463</td>\n",
       "      <td>0.070001</td>\n",
       "      <td>2</td>\n",
       "      <td>0.772727</td>\n",
       "      <td>0.850746</td>\n",
       "      <td>0.850746</td>\n",
       "      <td>0.824740</td>\n",
       "      <td>0.036779</td>\n",
       "    </tr>\n",
       "    <tr>\n",
       "      <th>2</th>\n",
       "      <td>0.002628</td>\n",
       "      <td>0.001426</td>\n",
       "      <td>0.000616</td>\n",
       "      <td>0.000131</td>\n",
       "      <td>6.3496</td>\n",
       "      <td>{'alpha': 6.3496042078727974}</td>\n",
       "      <td>0.735294</td>\n",
       "      <td>0.848485</td>\n",
       "      <td>0.666667</td>\n",
       "      <td>0.750149</td>\n",
       "      <td>0.074966</td>\n",
       "      <td>3</td>\n",
       "      <td>0.651515</td>\n",
       "      <td>0.761194</td>\n",
       "      <td>0.820896</td>\n",
       "      <td>0.744535</td>\n",
       "      <td>0.070145</td>\n",
       "    </tr>\n",
       "    <tr>\n",
       "      <th>3</th>\n",
       "      <td>0.002645</td>\n",
       "      <td>0.000425</td>\n",
       "      <td>0.000810</td>\n",
       "      <td>0.000006</td>\n",
       "      <td>8</td>\n",
       "      <td>{'alpha': 8.0}</td>\n",
       "      <td>0.676471</td>\n",
       "      <td>0.757576</td>\n",
       "      <td>0.575758</td>\n",
       "      <td>0.669935</td>\n",
       "      <td>0.074371</td>\n",
       "      <td>4</td>\n",
       "      <td>0.636364</td>\n",
       "      <td>0.686567</td>\n",
       "      <td>0.731343</td>\n",
       "      <td>0.684758</td>\n",
       "      <td>0.038796</td>\n",
       "    </tr>\n",
       "    <tr>\n",
       "      <th>4</th>\n",
       "      <td>0.002365</td>\n",
       "      <td>0.000203</td>\n",
       "      <td>0.000754</td>\n",
       "      <td>0.000060</td>\n",
       "      <td>10.0794</td>\n",
       "      <td>{'alpha': 10.079368399158984}</td>\n",
       "      <td>0.647059</td>\n",
       "      <td>0.727273</td>\n",
       "      <td>0.575758</td>\n",
       "      <td>0.650030</td>\n",
       "      <td>0.061891</td>\n",
       "      <td>5</td>\n",
       "      <td>0.590909</td>\n",
       "      <td>0.641791</td>\n",
       "      <td>0.686567</td>\n",
       "      <td>0.639756</td>\n",
       "      <td>0.039079</td>\n",
       "    </tr>\n",
       "  </tbody>\n",
       "</table>\n",
       "</div>"
      ],
      "text/plain": [
       "   mean_fit_time  std_fit_time  mean_score_time  std_score_time param_alpha  \\\n",
       "0       0.001623      0.000007         0.000528        0.000003           4   \n",
       "1       0.001635      0.000006         0.000512        0.000008     5.03968   \n",
       "2       0.002628      0.001426         0.000616        0.000131      6.3496   \n",
       "3       0.002645      0.000425         0.000810        0.000006           8   \n",
       "4       0.002365      0.000203         0.000754        0.000060     10.0794   \n",
       "\n",
       "                          params  split0_test_score  split1_test_score  \\\n",
       "0                 {'alpha': 4.0}           0.794118           1.000000   \n",
       "1   {'alpha': 5.039684199579493}           0.794118           0.939394   \n",
       "2  {'alpha': 6.3496042078727974}           0.735294           0.848485   \n",
       "3                 {'alpha': 8.0}           0.676471           0.757576   \n",
       "4  {'alpha': 10.079368399158984}           0.647059           0.727273   \n",
       "\n",
       "   split2_test_score  mean_test_score  std_test_score  rank_test_score  \\\n",
       "0           0.878788         0.890969        0.084491                1   \n",
       "1           0.787879         0.840463        0.070001                2   \n",
       "2           0.666667         0.750149        0.074966                3   \n",
       "3           0.575758         0.669935        0.074371                4   \n",
       "4           0.575758         0.650030        0.061891                5   \n",
       "\n",
       "   split0_train_score  split1_train_score  split2_train_score  \\\n",
       "0            0.833333            0.880597            0.940299   \n",
       "1            0.772727            0.850746            0.850746   \n",
       "2            0.651515            0.761194            0.820896   \n",
       "3            0.636364            0.686567            0.731343   \n",
       "4            0.590909            0.641791            0.686567   \n",
       "\n",
       "   mean_train_score  std_train_score  \n",
       "0          0.884743         0.043767  \n",
       "1          0.824740         0.036779  \n",
       "2          0.744535         0.070145  \n",
       "3          0.684758         0.038796  \n",
       "4          0.639756         0.039079  "
      ]
     },
     "execution_count": 350,
     "metadata": {},
     "output_type": "execute_result"
    }
   ],
   "source": [
    "df.head()"
   ]
  },
  {
   "cell_type": "code",
   "execution_count": 351,
   "metadata": {
    "ExecuteTime": {
     "end_time": "2020-06-12T06:43:04.816333Z",
     "start_time": "2020-06-12T06:43:04.530741Z"
    }
   },
   "outputs": [
    {
     "data": {
      "image/png": "[encoded data removed]",
      "text/plain": [
       "<Figure size 720x720 with 1 Axes>"
      ]
     },
     "metadata": {
      "needs_background": "light"
     },
     "output_type": "display_data"
    }
   ],
   "source": [
    "_,ax = plt.subplots(1,1,figsize=(10,10))\n",
    "ax.plot(df['param_alpha'], df['mean_train_score'])\n",
    "ax.scatter(df['param_alpha'], df['mean_train_score'],label='Train')\n",
    "ax.plot(df['param_alpha'], df['mean_test_score'])\n",
    "ax.scatter(df['param_alpha'], df['mean_test_score'], label='Test')\n",
    "ax.legend()\n",
    "ax.grid()"
   ]
  },
  {
   "cell_type": "code",
   "execution_count": 352,
   "metadata": {
    "ExecuteTime": {
     "end_time": "2020-06-12T06:43:04.821770Z",
     "start_time": "2020-06-12T06:43:04.817920Z"
    }
   },
   "outputs": [
    {
     "name": "stdout",
     "output_type": "stream",
     "text": [
      "Best Alpha 4.0\n"
     ]
    }
   ],
   "source": [
    "best_alpha = df['param_alpha'].iloc[np.argmax(df['mean_test_score'])]\n",
    "print('Best Alpha {}'.format(best_alpha))"
   ]
  },
  {
   "cell_type": "code",
   "execution_count": 353,
   "metadata": {
    "ExecuteTime": {
     "end_time": "2020-06-12T06:43:04.829287Z",
     "start_time": "2020-06-12T06:43:04.823050Z"
    },
    "scrolled": true
   },
   "outputs": [
    {
     "name": "stdout",
     "output_type": "stream",
     "text": [
      "[ 0.0701358  -0.07022977  0.09765571  0.06907139 -0.07022977  0.07395507\n",
      "  0.0619306 ]\n"
     ]
    }
   ],
   "source": [
    "best_model = SGDClassifier(loss='log',alpha=best_alpha, random_state=42)\n",
    "model_weights = []\n",
    "best_model.fit(x_train,y_train)\n",
    "print(best_model.coef_[0])\n",
    "y_pred = best_model.predict(x_train)\n",
    "model_weights.append(best_model.coef_[0])"
   ]
  },
  {
   "cell_type": "code",
   "execution_count": 354,
   "metadata": {
    "ExecuteTime": {
     "end_time": "2020-06-12T06:43:04.839620Z",
     "start_time": "2020-06-12T06:43:04.830943Z"
    }
   },
   "outputs": [],
   "source": [
    "accuracy_list = []\n",
    "accuracy = accuracy_score(y_train,y_pred )\n",
    "accuracy_list.append(accuracy)"
   ]
  },
  {
   "cell_type": "markdown",
   "metadata": {},
   "source": [
    "#### C:  Logistic Regression And Hyperparameter Tuning on Noisy Data"
   ]
  },
  {
   "cell_type": "code",
   "execution_count": 355,
   "metadata": {
    "ExecuteTime": {
     "end_time": "2020-06-12T06:43:04.847886Z",
     "start_time": "2020-06-12T06:43:04.841775Z"
    }
   },
   "outputs": [],
   "source": [
    "x_train = x_train + 5 * 10**-2"
   ]
  },
  {
   "cell_type": "code",
   "execution_count": 356,
   "metadata": {
    "ExecuteTime": {
     "end_time": "2020-06-12T06:43:04.914856Z",
     "start_time": "2020-06-12T06:43:04.849538Z"
    }
   },
   "outputs": [],
   "source": [
    "clf = SGDClassifier(loss='log', random_state=42)\n",
    "# Since the task is of classfication and there are only two classes \n",
    "grid = GridSearchCV(clf, parameters,scoring='accuracy', cv=3,return_train_score=True,n_jobs=-1)\n",
    "grid.fit(x_train,y_train)\n",
    "# Converting the CV resutls into a dataframe for easy plotting\n",
    "df = pd.DataFrame(grid.cv_results_)"
   ]
  },
  {
   "cell_type": "code",
   "execution_count": 357,
   "metadata": {
    "ExecuteTime": {
     "end_time": "2020-06-12T06:43:04.935554Z",
     "start_time": "2020-06-12T06:43:04.916645Z"
    }
   },
   "outputs": [
    {
     "data": {
      "text/html": [
       "<div>\n",
       "<style scoped>\n",
       "    .dataframe tbody tr th:only-of-type {\n",
       "        vertical-align: middle;\n",
       "    }\n",
       "\n",
       "    .dataframe tbody tr th {\n",
       "        vertical-align: top;\n",
       "    }\n",
       "\n",
       "    .dataframe thead th {\n",
       "        text-align: right;\n",
       "    }\n",
       "</style>\n",
       "<table border=\"1\" class=\"dataframe\">\n",
       "  <thead>\n",
       "    <tr style=\"text-align: right;\">\n",
       "      <th></th>\n",
       "      <th>mean_fit_time</th>\n",
       "      <th>std_fit_time</th>\n",
       "      <th>mean_score_time</th>\n",
       "      <th>std_score_time</th>\n",
       "      <th>param_alpha</th>\n",
       "      <th>params</th>\n",
       "      <th>split0_test_score</th>\n",
       "      <th>split1_test_score</th>\n",
       "      <th>split2_test_score</th>\n",
       "      <th>mean_test_score</th>\n",
       "      <th>std_test_score</th>\n",
       "      <th>rank_test_score</th>\n",
       "      <th>split0_train_score</th>\n",
       "      <th>split1_train_score</th>\n",
       "      <th>split2_train_score</th>\n",
       "      <th>mean_train_score</th>\n",
       "      <th>std_train_score</th>\n",
       "    </tr>\n",
       "  </thead>\n",
       "  <tbody>\n",
       "    <tr>\n",
       "      <th>0</th>\n",
       "      <td>0.001037</td>\n",
       "      <td>0.000232</td>\n",
       "      <td>0.000368</td>\n",
       "      <td>0.000060</td>\n",
       "      <td>4</td>\n",
       "      <td>{'alpha': 4.0}</td>\n",
       "      <td>0.794118</td>\n",
       "      <td>1.000000</td>\n",
       "      <td>0.878788</td>\n",
       "      <td>0.890969</td>\n",
       "      <td>0.084491</td>\n",
       "      <td>1</td>\n",
       "      <td>0.863636</td>\n",
       "      <td>0.895522</td>\n",
       "      <td>0.940299</td>\n",
       "      <td>0.899819</td>\n",
       "      <td>0.031444</td>\n",
       "    </tr>\n",
       "    <tr>\n",
       "      <th>1</th>\n",
       "      <td>0.001159</td>\n",
       "      <td>0.000317</td>\n",
       "      <td>0.000355</td>\n",
       "      <td>0.000079</td>\n",
       "      <td>5.03968</td>\n",
       "      <td>{'alpha': 5.039684199579493}</td>\n",
       "      <td>0.794118</td>\n",
       "      <td>0.969697</td>\n",
       "      <td>0.787879</td>\n",
       "      <td>0.850564</td>\n",
       "      <td>0.084278</td>\n",
       "      <td>2</td>\n",
       "      <td>0.787879</td>\n",
       "      <td>0.865672</td>\n",
       "      <td>0.850746</td>\n",
       "      <td>0.834766</td>\n",
       "      <td>0.033709</td>\n",
       "    </tr>\n",
       "    <tr>\n",
       "      <th>2</th>\n",
       "      <td>0.001337</td>\n",
       "      <td>0.000405</td>\n",
       "      <td>0.000441</td>\n",
       "      <td>0.000052</td>\n",
       "      <td>6.3496</td>\n",
       "      <td>{'alpha': 6.3496042078727974}</td>\n",
       "      <td>0.764706</td>\n",
       "      <td>0.848485</td>\n",
       "      <td>0.666667</td>\n",
       "      <td>0.759952</td>\n",
       "      <td>0.074303</td>\n",
       "      <td>3</td>\n",
       "      <td>0.681818</td>\n",
       "      <td>0.776119</td>\n",
       "      <td>0.820896</td>\n",
       "      <td>0.759611</td>\n",
       "      <td>0.057966</td>\n",
       "    </tr>\n",
       "    <tr>\n",
       "      <th>3</th>\n",
       "      <td>0.001451</td>\n",
       "      <td>0.000334</td>\n",
       "      <td>0.000470</td>\n",
       "      <td>0.000114</td>\n",
       "      <td>8</td>\n",
       "      <td>{'alpha': 8.0}</td>\n",
       "      <td>0.676471</td>\n",
       "      <td>0.757576</td>\n",
       "      <td>0.606061</td>\n",
       "      <td>0.680036</td>\n",
       "      <td>0.061907</td>\n",
       "      <td>4</td>\n",
       "      <td>0.651515</td>\n",
       "      <td>0.701493</td>\n",
       "      <td>0.731343</td>\n",
       "      <td>0.694784</td>\n",
       "      <td>0.032933</td>\n",
       "    </tr>\n",
       "    <tr>\n",
       "      <th>4</th>\n",
       "      <td>0.001035</td>\n",
       "      <td>0.000129</td>\n",
       "      <td>0.000389</td>\n",
       "      <td>0.000069</td>\n",
       "      <td>10.0794</td>\n",
       "      <td>{'alpha': 10.079368399158984}</td>\n",
       "      <td>0.647059</td>\n",
       "      <td>0.727273</td>\n",
       "      <td>0.575758</td>\n",
       "      <td>0.650030</td>\n",
       "      <td>0.061891</td>\n",
       "      <td>5</td>\n",
       "      <td>0.606061</td>\n",
       "      <td>0.641791</td>\n",
       "      <td>0.686567</td>\n",
       "      <td>0.644806</td>\n",
       "      <td>0.032936</td>\n",
       "    </tr>\n",
       "  </tbody>\n",
       "</table>\n",
       "</div>"
      ],
      "text/plain": [
       "   mean_fit_time  std_fit_time  mean_score_time  std_score_time param_alpha  \\\n",
       "0       0.001037      0.000232         0.000368        0.000060           4   \n",
       "1       0.001159      0.000317         0.000355        0.000079     5.03968   \n",
       "2       0.001337      0.000405         0.000441        0.000052      6.3496   \n",
       "3       0.001451      0.000334         0.000470        0.000114           8   \n",
       "4       0.001035      0.000129         0.000389        0.000069     10.0794   \n",
       "\n",
       "                          params  split0_test_score  split1_test_score  \\\n",
       "0                 {'alpha': 4.0}           0.794118           1.000000   \n",
       "1   {'alpha': 5.039684199579493}           0.794118           0.969697   \n",
       "2  {'alpha': 6.3496042078727974}           0.764706           0.848485   \n",
       "3                 {'alpha': 8.0}           0.676471           0.757576   \n",
       "4  {'alpha': 10.079368399158984}           0.647059           0.727273   \n",
       "\n",
       "   split2_test_score  mean_test_score  std_test_score  rank_test_score  \\\n",
       "0           0.878788         0.890969        0.084491                1   \n",
       "1           0.787879         0.850564        0.084278                2   \n",
       "2           0.666667         0.759952        0.074303                3   \n",
       "3           0.606061         0.680036        0.061907                4   \n",
       "4           0.575758         0.650030        0.061891                5   \n",
       "\n",
       "   split0_train_score  split1_train_score  split2_train_score  \\\n",
       "0            0.863636            0.895522            0.940299   \n",
       "1            0.787879            0.865672            0.850746   \n",
       "2            0.681818            0.776119            0.820896   \n",
       "3            0.651515            0.701493            0.731343   \n",
       "4            0.606061            0.641791            0.686567   \n",
       "\n",
       "   mean_train_score  std_train_score  \n",
       "0          0.899819         0.031444  \n",
       "1          0.834766         0.033709  \n",
       "2          0.759611         0.057966  \n",
       "3          0.694784         0.032933  \n",
       "4          0.644806         0.032936  "
      ]
     },
     "execution_count": 357,
     "metadata": {},
     "output_type": "execute_result"
    }
   ],
   "source": [
    "df.head()"
   ]
  },
  {
   "cell_type": "code",
   "execution_count": 358,
   "metadata": {
    "ExecuteTime": {
     "end_time": "2020-06-12T06:43:05.148822Z",
     "start_time": "2020-06-12T06:43:04.937195Z"
    }
   },
   "outputs": [
    {
     "data": {
      "image/png": "[encoded data removed]",
      "text/plain": [
       "<Figure size 720x720 with 1 Axes>"
      ]
     },
     "metadata": {
      "needs_background": "light"
     },
     "output_type": "display_data"
    }
   ],
   "source": [
    "_,ax = plt.subplots(1,1,figsize=(10,10))\n",
    "ax.plot(df['param_alpha'], df['mean_train_score'])\n",
    "ax.scatter(df['param_alpha'], df['mean_train_score'],label='Train')\n",
    "ax.plot(df['param_alpha'], df['mean_test_score'])\n",
    "ax.scatter(df['param_alpha'], df['mean_test_score'], label='Test')\n",
    "ax.legend()\n",
    "ax.grid()"
   ]
  },
  {
   "cell_type": "code",
   "execution_count": 359,
   "metadata": {
    "ExecuteTime": {
     "end_time": "2020-06-12T06:43:05.155865Z",
     "start_time": "2020-06-12T06:43:05.150583Z"
    }
   },
   "outputs": [
    {
     "name": "stdout",
     "output_type": "stream",
     "text": [
      "Best Alpha 4.0\n"
     ]
    }
   ],
   "source": [
    "best_alpha = df['param_alpha'].iloc[np.argmax(df[df['mean_test_score']<1]['mean_test_score'])]\n",
    "print('Best Alpha {}'.format(best_alpha))"
   ]
  },
  {
   "cell_type": "code",
   "execution_count": 360,
   "metadata": {
    "ExecuteTime": {
     "end_time": "2020-06-12T06:43:05.165966Z",
     "start_time": "2020-06-12T06:43:05.157360Z"
    }
   },
   "outputs": [
    {
     "name": "stdout",
     "output_type": "stream",
     "text": [
      "[ 0.06930855 -0.07125635  0.09677754  0.06824302 -0.07125635  0.07312498\n",
      "  0.06103127]\n"
     ]
    }
   ],
   "source": [
    "best_model = SGDClassifier(loss='log',alpha=best_alpha, random_state=42)\n",
    "best_model.fit(x_train,y_train)\n",
    "print(best_model.coef_[0])\n",
    "y_pred = best_model.predict(x_train)\n",
    "model_weights.append(best_model.coef_[0])"
   ]
  },
  {
   "cell_type": "code",
   "execution_count": 361,
   "metadata": {
    "ExecuteTime": {
     "end_time": "2020-06-12T06:43:05.170915Z",
     "start_time": "2020-06-12T06:43:05.167419Z"
    }
   },
   "outputs": [],
   "source": [
    "accuracy = accuracy_score(y_train, y_pred)\n",
    "accuracy_list.append(accuracy)"
   ]
  },
  {
   "cell_type": "markdown",
   "metadata": {
    "colab": {},
    "colab_type": "code",
    "id": "Lai8wXU1pmSb"
   },
   "source": [
    "### Task 2 : Implementing Linear SVM\n",
    "\n",
    "<pre>\n",
    "1. Do the same steps (2, 3, 4, 5) we have done in the above task 1.\n",
    "</pre>\n",
    "\n",
    "<strong><font color='red'>Do write the observations based on the results you get from the deviations of weights in both Logistic Regression and linear SVM</font></strong>"
   ]
  },
  {
   "cell_type": "markdown",
   "metadata": {},
   "source": [
    "#### B: Linear SVM  With Hyperparameter Tuning"
   ]
  },
  {
   "cell_type": "code",
   "execution_count": 362,
   "metadata": {
    "ExecuteTime": {
     "end_time": "2020-06-12T06:43:05.177312Z",
     "start_time": "2020-06-12T06:43:05.173019Z"
    }
   },
   "outputs": [],
   "source": [
    "x_train = data.drop(['target'], axis=1).values\n",
    "y_train = data['target'].values"
   ]
  },
  {
   "cell_type": "code",
   "execution_count": 363,
   "metadata": {
    "ExecuteTime": {
     "end_time": "2020-06-12T06:43:05.295593Z",
     "start_time": "2020-06-12T06:43:05.178878Z"
    }
   },
   "outputs": [],
   "source": [
    "clf = SGDClassifier(loss='hinge', random_state=42)\n",
    "# chossing value in logspace\n",
    "parameters = {'alpha':np.logspace(2,5,10,base=2,endpoint=True)}\n",
    "# Since the task is of classfication and there are only two classes \n",
    "grid = GridSearchCV(clf, parameters,scoring='accuracy', cv=7,return_train_score=True,n_jobs=-1)\n",
    "grid.fit(x_train,y_train)\n",
    "# Converting the CV resutls into a dataframe for easy plotting\n",
    "df = pd.DataFrame(grid.cv_results_)"
   ]
  },
  {
   "cell_type": "code",
   "execution_count": 364,
   "metadata": {
    "ExecuteTime": {
     "end_time": "2020-06-12T06:43:05.324607Z",
     "start_time": "2020-06-12T06:43:05.297563Z"
    }
   },
   "outputs": [
    {
     "data": {
      "text/html": [
       "<div>\n",
       "<style scoped>\n",
       "    .dataframe tbody tr th:only-of-type {\n",
       "        vertical-align: middle;\n",
       "    }\n",
       "\n",
       "    .dataframe tbody tr th {\n",
       "        vertical-align: top;\n",
       "    }\n",
       "\n",
       "    .dataframe thead th {\n",
       "        text-align: right;\n",
       "    }\n",
       "</style>\n",
       "<table border=\"1\" class=\"dataframe\">\n",
       "  <thead>\n",
       "    <tr style=\"text-align: right;\">\n",
       "      <th></th>\n",
       "      <th>mean_fit_time</th>\n",
       "      <th>std_fit_time</th>\n",
       "      <th>mean_score_time</th>\n",
       "      <th>std_score_time</th>\n",
       "      <th>param_alpha</th>\n",
       "      <th>params</th>\n",
       "      <th>split0_test_score</th>\n",
       "      <th>split1_test_score</th>\n",
       "      <th>split2_test_score</th>\n",
       "      <th>split3_test_score</th>\n",
       "      <th>...</th>\n",
       "      <th>rank_test_score</th>\n",
       "      <th>split0_train_score</th>\n",
       "      <th>split1_train_score</th>\n",
       "      <th>split2_train_score</th>\n",
       "      <th>split3_train_score</th>\n",
       "      <th>split4_train_score</th>\n",
       "      <th>split5_train_score</th>\n",
       "      <th>split6_train_score</th>\n",
       "      <th>mean_train_score</th>\n",
       "      <th>std_train_score</th>\n",
       "    </tr>\n",
       "  </thead>\n",
       "  <tbody>\n",
       "    <tr>\n",
       "      <th>0</th>\n",
       "      <td>0.001307</td>\n",
       "      <td>0.000399</td>\n",
       "      <td>0.000419</td>\n",
       "      <td>0.000088</td>\n",
       "      <td>4</td>\n",
       "      <td>{'alpha': 4.0}</td>\n",
       "      <td>1.000000</td>\n",
       "      <td>1.000000</td>\n",
       "      <td>1.000000</td>\n",
       "      <td>1.000000</td>\n",
       "      <td>...</td>\n",
       "      <td>1</td>\n",
       "      <td>0.988235</td>\n",
       "      <td>0.988235</td>\n",
       "      <td>0.965116</td>\n",
       "      <td>1.000000</td>\n",
       "      <td>0.965116</td>\n",
       "      <td>0.976744</td>\n",
       "      <td>0.976744</td>\n",
       "      <td>0.980027</td>\n",
       "      <td>0.011952</td>\n",
       "    </tr>\n",
       "    <tr>\n",
       "      <th>1</th>\n",
       "      <td>0.001313</td>\n",
       "      <td>0.000312</td>\n",
       "      <td>0.000414</td>\n",
       "      <td>0.000104</td>\n",
       "      <td>5.03968</td>\n",
       "      <td>{'alpha': 5.039684199579493}</td>\n",
       "      <td>1.000000</td>\n",
       "      <td>1.000000</td>\n",
       "      <td>1.000000</td>\n",
       "      <td>1.000000</td>\n",
       "      <td>...</td>\n",
       "      <td>2</td>\n",
       "      <td>0.976471</td>\n",
       "      <td>0.988235</td>\n",
       "      <td>0.941860</td>\n",
       "      <td>0.941860</td>\n",
       "      <td>0.953488</td>\n",
       "      <td>0.941860</td>\n",
       "      <td>0.953488</td>\n",
       "      <td>0.956752</td>\n",
       "      <td>0.017182</td>\n",
       "    </tr>\n",
       "    <tr>\n",
       "      <th>2</th>\n",
       "      <td>0.001439</td>\n",
       "      <td>0.000262</td>\n",
       "      <td>0.000481</td>\n",
       "      <td>0.000043</td>\n",
       "      <td>6.3496</td>\n",
       "      <td>{'alpha': 6.3496042078727974}</td>\n",
       "      <td>0.933333</td>\n",
       "      <td>0.933333</td>\n",
       "      <td>1.000000</td>\n",
       "      <td>1.000000</td>\n",
       "      <td>...</td>\n",
       "      <td>3</td>\n",
       "      <td>0.835294</td>\n",
       "      <td>0.882353</td>\n",
       "      <td>0.895349</td>\n",
       "      <td>0.906977</td>\n",
       "      <td>0.918605</td>\n",
       "      <td>0.906977</td>\n",
       "      <td>0.918605</td>\n",
       "      <td>0.894880</td>\n",
       "      <td>0.027061</td>\n",
       "    </tr>\n",
       "    <tr>\n",
       "      <th>3</th>\n",
       "      <td>0.001251</td>\n",
       "      <td>0.000388</td>\n",
       "      <td>0.000378</td>\n",
       "      <td>0.000096</td>\n",
       "      <td>8</td>\n",
       "      <td>{'alpha': 8.0}</td>\n",
       "      <td>0.466667</td>\n",
       "      <td>0.666667</td>\n",
       "      <td>0.785714</td>\n",
       "      <td>1.000000</td>\n",
       "      <td>...</td>\n",
       "      <td>4</td>\n",
       "      <td>0.635294</td>\n",
       "      <td>0.588235</td>\n",
       "      <td>0.767442</td>\n",
       "      <td>0.720930</td>\n",
       "      <td>0.790698</td>\n",
       "      <td>0.779070</td>\n",
       "      <td>0.802326</td>\n",
       "      <td>0.726285</td>\n",
       "      <td>0.077254</td>\n",
       "    </tr>\n",
       "    <tr>\n",
       "      <th>4</th>\n",
       "      <td>0.001293</td>\n",
       "      <td>0.000330</td>\n",
       "      <td>0.000407</td>\n",
       "      <td>0.000093</td>\n",
       "      <td>10.0794</td>\n",
       "      <td>{'alpha': 10.079368399158984}</td>\n",
       "      <td>0.466667</td>\n",
       "      <td>0.533333</td>\n",
       "      <td>0.642857</td>\n",
       "      <td>0.928571</td>\n",
       "      <td>...</td>\n",
       "      <td>5</td>\n",
       "      <td>0.529412</td>\n",
       "      <td>0.517647</td>\n",
       "      <td>0.686047</td>\n",
       "      <td>0.627907</td>\n",
       "      <td>0.697674</td>\n",
       "      <td>0.674419</td>\n",
       "      <td>0.697674</td>\n",
       "      <td>0.632969</td>\n",
       "      <td>0.072661</td>\n",
       "    </tr>\n",
       "  </tbody>\n",
       "</table>\n",
       "<p>5 rows × 25 columns</p>\n",
       "</div>"
      ],
      "text/plain": [
       "   mean_fit_time  std_fit_time  mean_score_time  std_score_time param_alpha  \\\n",
       "0       0.001307      0.000399         0.000419        0.000088           4   \n",
       "1       0.001313      0.000312         0.000414        0.000104     5.03968   \n",
       "2       0.001439      0.000262         0.000481        0.000043      6.3496   \n",
       "3       0.001251      0.000388         0.000378        0.000096           8   \n",
       "4       0.001293      0.000330         0.000407        0.000093     10.0794   \n",
       "\n",
       "                          params  split0_test_score  split1_test_score  \\\n",
       "0                 {'alpha': 4.0}           1.000000           1.000000   \n",
       "1   {'alpha': 5.039684199579493}           1.000000           1.000000   \n",
       "2  {'alpha': 6.3496042078727974}           0.933333           0.933333   \n",
       "3                 {'alpha': 8.0}           0.466667           0.666667   \n",
       "4  {'alpha': 10.079368399158984}           0.466667           0.533333   \n",
       "\n",
       "   split2_test_score  split3_test_score  ...  rank_test_score  \\\n",
       "0           1.000000           1.000000  ...                1   \n",
       "1           1.000000           1.000000  ...                2   \n",
       "2           1.000000           1.000000  ...                3   \n",
       "3           0.785714           1.000000  ...                4   \n",
       "4           0.642857           0.928571  ...                5   \n",
       "\n",
       "   split0_train_score  split1_train_score  split2_train_score  \\\n",
       "0            0.988235            0.988235            0.965116   \n",
       "1            0.976471            0.988235            0.941860   \n",
       "2            0.835294            0.882353            0.895349   \n",
       "3            0.635294            0.588235            0.767442   \n",
       "4            0.529412            0.517647            0.686047   \n",
       "\n",
       "   split3_train_score  split4_train_score  split5_train_score  \\\n",
       "0            1.000000            0.965116            0.976744   \n",
       "1            0.941860            0.953488            0.941860   \n",
       "2            0.906977            0.918605            0.906977   \n",
       "3            0.720930            0.790698            0.779070   \n",
       "4            0.627907            0.697674            0.674419   \n",
       "\n",
       "   split6_train_score  mean_train_score  std_train_score  \n",
       "0            0.976744          0.980027         0.011952  \n",
       "1            0.953488          0.956752         0.017182  \n",
       "2            0.918605          0.894880         0.027061  \n",
       "3            0.802326          0.726285         0.077254  \n",
       "4            0.697674          0.632969         0.072661  \n",
       "\n",
       "[5 rows x 25 columns]"
      ]
     },
     "execution_count": 364,
     "metadata": {},
     "output_type": "execute_result"
    }
   ],
   "source": [
    "df.head()"
   ]
  },
  {
   "cell_type": "code",
   "execution_count": 365,
   "metadata": {
    "ExecuteTime": {
     "end_time": "2020-06-12T06:43:05.530737Z",
     "start_time": "2020-06-12T06:43:05.327014Z"
    }
   },
   "outputs": [
    {
     "data": {
      "image/png": "[encoded data removed]",
      "text/plain": [
       "<Figure size 720x720 with 1 Axes>"
      ]
     },
     "metadata": {
      "needs_background": "light"
     },
     "output_type": "display_data"
    }
   ],
   "source": [
    "_,ax = plt.subplots(1,1,figsize=(10,10))\n",
    "ax.plot(df['param_alpha'], df['mean_train_score'])\n",
    "ax.scatter(df['param_alpha'], df['mean_train_score'],label='Train')\n",
    "ax.plot(df['param_alpha'], df['mean_test_score'])\n",
    "ax.scatter(df['param_alpha'], df['mean_test_score'], label='Test')\n",
    "ax.legend()\n",
    "ax.grid()"
   ]
  },
  {
   "cell_type": "code",
   "execution_count": 366,
   "metadata": {
    "ExecuteTime": {
     "end_time": "2020-06-12T06:43:05.535887Z",
     "start_time": "2020-06-12T06:43:05.532296Z"
    }
   },
   "outputs": [
    {
     "name": "stdout",
     "output_type": "stream",
     "text": [
      "Best Alpha 4.0\n"
     ]
    }
   ],
   "source": [
    "best_alpha = df['param_alpha'].iloc[np.argmax(df['mean_test_score'])]\n",
    "print('Best Alpha {}'.format(best_alpha))"
   ]
  },
  {
   "cell_type": "code",
   "execution_count": 367,
   "metadata": {
    "ExecuteTime": {
     "end_time": "2020-06-12T06:43:05.543870Z",
     "start_time": "2020-06-12T06:43:05.537540Z"
    }
   },
   "outputs": [
    {
     "name": "stdout",
     "output_type": "stream",
     "text": [
      "[ 0.11199595 -0.14155372  0.18549634  0.10759647 -0.14155372  0.1192332\n",
      "  0.1097006 ]\n"
     ]
    }
   ],
   "source": [
    "best_model = SGDClassifier(loss='hinge',alpha=best_alpha, random_state=42)\n",
    "best_model.fit(x_train,y_train)\n",
    "print(best_model.coef_[0])\n",
    "y_pred = best_model.predict(x_train)\n",
    "model_weights.append(best_model.coef_[0])"
   ]
  },
  {
   "cell_type": "code",
   "execution_count": 368,
   "metadata": {
    "ExecuteTime": {
     "end_time": "2020-06-12T06:43:05.548685Z",
     "start_time": "2020-06-12T06:43:05.545634Z"
    }
   },
   "outputs": [],
   "source": [
    "acccuracy = accuracy_score(y_train,y_pred )\n",
    "accuracy_list.append(accuracy)"
   ]
  },
  {
   "cell_type": "markdown",
   "metadata": {},
   "source": [
    "#### C: Linear Regression With Hyperparameter Tuning On Noisy Data"
   ]
  },
  {
   "cell_type": "code",
   "execution_count": 369,
   "metadata": {
    "ExecuteTime": {
     "end_time": "2020-06-12T06:43:05.553103Z",
     "start_time": "2020-06-12T06:43:05.550104Z"
    }
   },
   "outputs": [],
   "source": [
    "x_train = x_train + 5 * 10**-2"
   ]
  },
  {
   "cell_type": "code",
   "execution_count": 370,
   "metadata": {
    "ExecuteTime": {
     "end_time": "2020-06-12T06:43:05.656160Z",
     "start_time": "2020-06-12T06:43:05.556746Z"
    }
   },
   "outputs": [],
   "source": [
    "clf = SGDClassifier(loss='hinge', random_state=42)\n",
    "# Since the task is of classfication and there are only two classes \n",
    "grid = GridSearchCV(clf, parameters,scoring='accuracy', cv=3,return_train_score=True,n_jobs=-1)\n",
    "grid.fit(x_train,y_train)\n",
    "# Converting the CV resutls into a dataframe for easy plotting\n",
    "df = pd.DataFrame(grid.cv_results_)"
   ]
  },
  {
   "cell_type": "code",
   "execution_count": 371,
   "metadata": {
    "ExecuteTime": {
     "end_time": "2020-06-12T06:43:05.680832Z",
     "start_time": "2020-06-12T06:43:05.658734Z"
    }
   },
   "outputs": [
    {
     "data": {
      "text/html": [
       "<div>\n",
       "<style scoped>\n",
       "    .dataframe tbody tr th:only-of-type {\n",
       "        vertical-align: middle;\n",
       "    }\n",
       "\n",
       "    .dataframe tbody tr th {\n",
       "        vertical-align: top;\n",
       "    }\n",
       "\n",
       "    .dataframe thead th {\n",
       "        text-align: right;\n",
       "    }\n",
       "</style>\n",
       "<table border=\"1\" class=\"dataframe\">\n",
       "  <thead>\n",
       "    <tr style=\"text-align: right;\">\n",
       "      <th></th>\n",
       "      <th>mean_fit_time</th>\n",
       "      <th>std_fit_time</th>\n",
       "      <th>mean_score_time</th>\n",
       "      <th>std_score_time</th>\n",
       "      <th>param_alpha</th>\n",
       "      <th>params</th>\n",
       "      <th>split0_test_score</th>\n",
       "      <th>split1_test_score</th>\n",
       "      <th>split2_test_score</th>\n",
       "      <th>mean_test_score</th>\n",
       "      <th>std_test_score</th>\n",
       "      <th>rank_test_score</th>\n",
       "      <th>split0_train_score</th>\n",
       "      <th>split1_train_score</th>\n",
       "      <th>split2_train_score</th>\n",
       "      <th>mean_train_score</th>\n",
       "      <th>std_train_score</th>\n",
       "    </tr>\n",
       "  </thead>\n",
       "  <tbody>\n",
       "    <tr>\n",
       "      <th>0</th>\n",
       "      <td>0.001291</td>\n",
       "      <td>0.000307</td>\n",
       "      <td>0.000391</td>\n",
       "      <td>0.000068</td>\n",
       "      <td>4</td>\n",
       "      <td>{'alpha': 4.0}</td>\n",
       "      <td>0.911765</td>\n",
       "      <td>1.000000</td>\n",
       "      <td>0.939394</td>\n",
       "      <td>0.950386</td>\n",
       "      <td>0.036851</td>\n",
       "      <td>1</td>\n",
       "      <td>0.969697</td>\n",
       "      <td>0.970149</td>\n",
       "      <td>0.970149</td>\n",
       "      <td>0.969998</td>\n",
       "      <td>0.000213</td>\n",
       "    </tr>\n",
       "    <tr>\n",
       "      <th>1</th>\n",
       "      <td>0.002150</td>\n",
       "      <td>0.000464</td>\n",
       "      <td>0.000684</td>\n",
       "      <td>0.000048</td>\n",
       "      <td>5.03968</td>\n",
       "      <td>{'alpha': 5.039684199579493}</td>\n",
       "      <td>0.882353</td>\n",
       "      <td>1.000000</td>\n",
       "      <td>0.909091</td>\n",
       "      <td>0.930481</td>\n",
       "      <td>0.050355</td>\n",
       "      <td>2</td>\n",
       "      <td>0.878788</td>\n",
       "      <td>0.925373</td>\n",
       "      <td>0.955224</td>\n",
       "      <td>0.919795</td>\n",
       "      <td>0.031453</td>\n",
       "    </tr>\n",
       "    <tr>\n",
       "      <th>2</th>\n",
       "      <td>0.002176</td>\n",
       "      <td>0.000128</td>\n",
       "      <td>0.000664</td>\n",
       "      <td>0.000090</td>\n",
       "      <td>6.3496</td>\n",
       "      <td>{'alpha': 6.3496042078727974}</td>\n",
       "      <td>0.735294</td>\n",
       "      <td>0.969697</td>\n",
       "      <td>0.818182</td>\n",
       "      <td>0.841058</td>\n",
       "      <td>0.097052</td>\n",
       "      <td>3</td>\n",
       "      <td>0.696970</td>\n",
       "      <td>0.880597</td>\n",
       "      <td>0.910448</td>\n",
       "      <td>0.829338</td>\n",
       "      <td>0.094389</td>\n",
       "    </tr>\n",
       "    <tr>\n",
       "      <th>3</th>\n",
       "      <td>0.001869</td>\n",
       "      <td>0.000196</td>\n",
       "      <td>0.000683</td>\n",
       "      <td>0.000157</td>\n",
       "      <td>8</td>\n",
       "      <td>{'alpha': 8.0}</td>\n",
       "      <td>0.647059</td>\n",
       "      <td>0.848485</td>\n",
       "      <td>0.666667</td>\n",
       "      <td>0.720737</td>\n",
       "      <td>0.090686</td>\n",
       "      <td>4</td>\n",
       "      <td>0.621212</td>\n",
       "      <td>0.716418</td>\n",
       "      <td>0.820896</td>\n",
       "      <td>0.719509</td>\n",
       "      <td>0.081550</td>\n",
       "    </tr>\n",
       "    <tr>\n",
       "      <th>4</th>\n",
       "      <td>0.001962</td>\n",
       "      <td>0.000423</td>\n",
       "      <td>0.000616</td>\n",
       "      <td>0.000127</td>\n",
       "      <td>10.0794</td>\n",
       "      <td>{'alpha': 10.079368399158984}</td>\n",
       "      <td>0.558824</td>\n",
       "      <td>0.727273</td>\n",
       "      <td>0.575758</td>\n",
       "      <td>0.620618</td>\n",
       "      <td>0.075733</td>\n",
       "      <td>5</td>\n",
       "      <td>0.560606</td>\n",
       "      <td>0.656716</td>\n",
       "      <td>0.716418</td>\n",
       "      <td>0.644580</td>\n",
       "      <td>0.064186</td>\n",
       "    </tr>\n",
       "  </tbody>\n",
       "</table>\n",
       "</div>"
      ],
      "text/plain": [
       "   mean_fit_time  std_fit_time  mean_score_time  std_score_time param_alpha  \\\n",
       "0       0.001291      0.000307         0.000391        0.000068           4   \n",
       "1       0.002150      0.000464         0.000684        0.000048     5.03968   \n",
       "2       0.002176      0.000128         0.000664        0.000090      6.3496   \n",
       "3       0.001869      0.000196         0.000683        0.000157           8   \n",
       "4       0.001962      0.000423         0.000616        0.000127     10.0794   \n",
       "\n",
       "                          params  split0_test_score  split1_test_score  \\\n",
       "0                 {'alpha': 4.0}           0.911765           1.000000   \n",
       "1   {'alpha': 5.039684199579493}           0.882353           1.000000   \n",
       "2  {'alpha': 6.3496042078727974}           0.735294           0.969697   \n",
       "3                 {'alpha': 8.0}           0.647059           0.848485   \n",
       "4  {'alpha': 10.079368399158984}           0.558824           0.727273   \n",
       "\n",
       "   split2_test_score  mean_test_score  std_test_score  rank_test_score  \\\n",
       "0           0.939394         0.950386        0.036851                1   \n",
       "1           0.909091         0.930481        0.050355                2   \n",
       "2           0.818182         0.841058        0.097052                3   \n",
       "3           0.666667         0.720737        0.090686                4   \n",
       "4           0.575758         0.620618        0.075733                5   \n",
       "\n",
       "   split0_train_score  split1_train_score  split2_train_score  \\\n",
       "0            0.969697            0.970149            0.970149   \n",
       "1            0.878788            0.925373            0.955224   \n",
       "2            0.696970            0.880597            0.910448   \n",
       "3            0.621212            0.716418            0.820896   \n",
       "4            0.560606            0.656716            0.716418   \n",
       "\n",
       "   mean_train_score  std_train_score  \n",
       "0          0.969998         0.000213  \n",
       "1          0.919795         0.031453  \n",
       "2          0.829338         0.094389  \n",
       "3          0.719509         0.081550  \n",
       "4          0.644580         0.064186  "
      ]
     },
     "execution_count": 371,
     "metadata": {},
     "output_type": "execute_result"
    }
   ],
   "source": [
    "df.head()"
   ]
  },
  {
   "cell_type": "code",
   "execution_count": 372,
   "metadata": {
    "ExecuteTime": {
     "end_time": "2020-06-12T06:43:05.931202Z",
     "start_time": "2020-06-12T06:43:05.682497Z"
    }
   },
   "outputs": [
    {
     "data": {
      "image/png": "[encoded data removed]",
      "text/plain": [
       "<Figure size 720x720 with 1 Axes>"
      ]
     },
     "metadata": {
      "needs_background": "light"
     },
     "output_type": "display_data"
    }
   ],
   "source": [
    "_,ax = plt.subplots(1,1,figsize=(10,10))\n",
    "ax.plot(df['param_alpha'], df['mean_train_score'])\n",
    "ax.scatter(df['param_alpha'], df['mean_train_score'],label='Train')\n",
    "ax.plot(df['param_alpha'], df['mean_test_score'])\n",
    "ax.scatter(df['param_alpha'], df['mean_test_score'], label='Test')\n",
    "ax.legend()\n",
    "ax.grid()"
   ]
  },
  {
   "cell_type": "code",
   "execution_count": 373,
   "metadata": {
    "ExecuteTime": {
     "end_time": "2020-06-12T06:43:05.936563Z",
     "start_time": "2020-06-12T06:43:05.932975Z"
    }
   },
   "outputs": [
    {
     "name": "stdout",
     "output_type": "stream",
     "text": [
      "Best Alpha 4.0\n"
     ]
    }
   ],
   "source": [
    "best_alpha = df['param_alpha'].iloc[np.argmax(df['mean_test_score'])]\n",
    "print('Best Alpha {}'.format(best_alpha))"
   ]
  },
  {
   "cell_type": "code",
   "execution_count": 374,
   "metadata": {
    "ExecuteTime": {
     "end_time": "2020-06-12T06:43:05.945423Z",
     "start_time": "2020-06-12T06:43:05.938084Z"
    }
   },
   "outputs": [
    {
     "name": "stdout",
     "output_type": "stream",
     "text": [
      "[ 0.10972406 -0.14385874  0.18320427  0.10532797 -0.14385874  0.11696468\n",
      "  0.10734983]\n"
     ]
    }
   ],
   "source": [
    "best_model = SGDClassifier(loss='hinge',alpha=best_alpha, random_state=42)\n",
    "best_model.fit(x_train,y_train)\n",
    "print(best_model.coef_[0])\n",
    "y_pred = best_model.predict(x_train)\n",
    "model_weights.append(best_model.coef_[0])"
   ]
  },
  {
   "cell_type": "code",
   "execution_count": 375,
   "metadata": {
    "ExecuteTime": {
     "end_time": "2020-06-12T06:43:05.950222Z",
     "start_time": "2020-06-12T06:43:05.946959Z"
    },
    "scrolled": true
   },
   "outputs": [],
   "source": [
    "accuracy = accuracy_score(y_train,y_pred )\n",
    "accuracy_list.append(accuracy)"
   ]
  },
  {
   "cell_type": "markdown",
   "metadata": {},
   "source": [
    "## Observations"
   ]
  },
  {
   "cell_type": "code",
   "execution_count": 376,
   "metadata": {
    "ExecuteTime": {
     "end_time": "2020-06-12T06:43:05.958240Z",
     "start_time": "2020-06-12T06:43:05.951665Z"
    }
   },
   "outputs": [
    {
     "name": "stdout",
     "output_type": "stream",
     "text": [
      "Model Accuracy\n",
      "+-------------------------------------------+----------+\n",
      "|                Model Type                 | Accuracy |\n",
      "+-------------------------------------------+----------+\n",
      "|  Logistic Classification + Original Data  |   0.89   |\n",
      "+-------------------------------------------+----------+\n",
      "|  Logistic Classification + Modified Data  |   0.88   |\n",
      "+-------------------------------------------+----------+\n",
      "| Linear SVM Classification + Original Data |   0.88   |\n",
      "+-------------------------------------------+----------+\n",
      "|   Linear Classification + Modified Data   |   0.99   |\n",
      "+-------------------------------------------+----------+\n"
     ]
    }
   ],
   "source": [
    "table = BeautifulTable()\n",
    "table.column_headers =['Model Type', 'Accuracy']\n",
    "table.append_row(['Logistic Classification + Original Data', accuracy_list[0]])\n",
    "table.append_row(['Logistic Classification + Modified Data', accuracy_list[1]])\n",
    "table.append_row(['Linear SVM Classification + Original Data', accuracy_list[2]])\n",
    "table.append_row(['Linear Classification + Modified Data', accuracy_list[3]])\n",
    "print('Model Accuracy')\n",
    "print(table)"
   ]
  },
  {
   "cell_type": "code",
   "execution_count": 377,
   "metadata": {
    "ExecuteTime": {
     "end_time": "2020-06-12T06:43:05.967795Z",
     "start_time": "2020-06-12T06:43:05.959528Z"
    }
   },
   "outputs": [
    {
     "name": "stdout",
     "output_type": "stream",
     "text": [
      "Model Accuracy Difference\n",
      "+----------------------------------+----------------+\n",
      "|            Model Type            | Delta Accuracy |\n",
      "+----------------------------------+----------------+\n",
      "|       Logistic Regression        |      0.01      |\n",
      "+----------------------------------+----------------+\n",
      "| Linear SVM Model + Modified Data |      0.11      |\n",
      "+----------------------------------+----------------+\n"
     ]
    }
   ],
   "source": [
    "table = BeautifulTable()\n",
    "table.column_headers =['Model Type', 'Delta Accuracy']\n",
    "table.append_row(['Logistic Regression ', np.absolute(accuracy_list[0] - accuracy_list[1])])\n",
    "table.append_row(['Linear SVM Model + Modified Data', np.absolute(accuracy_list[2] - accuracy_list[3])])\n",
    "print('Model Accuracy Difference')\n",
    "print(table)"
   ]
  },
  {
   "cell_type": "code",
   "execution_count": 378,
   "metadata": {
    "ExecuteTime": {
     "end_time": "2020-06-12T06:43:05.983157Z",
     "start_time": "2020-06-12T06:43:05.969029Z"
    }
   },
   "outputs": [
    {
     "name": "stdout",
     "output_type": "stream",
     "text": [
      "Model Weigths Difference\n",
      "+--------------------+-------+-------+-------+-------+-------+---------+-------+\n",
      "|     Model Type     |   x   |   y   |   z   |  x*x  |  2*y  | 2*z+3*x |   w   |\n",
      "|                    |       |       |       |       |       |   *x    |       |\n",
      "+--------------------+-------+-------+-------+-------+-------+---------+-------+\n",
      "| Logistic Regressio | 0.001 | 0.001 | 0.001 | 0.001 | 0.001 |  0.001  | 0.001 |\n",
      "|         n          |       |       |       |       |       |         |       |\n",
      "+--------------------+-------+-------+-------+-------+-------+---------+-------+\n",
      "| Linear SVM Model   | 0.002 | 0.002 | 0.002 | 0.002 | 0.002 |  0.002  | 0.002 |\n",
      "+--------------------+-------+-------+-------+-------+-------+---------+-------+\n"
     ]
    }
   ],
   "source": [
    "table = BeautifulTable()\n",
    "lr =  np.round(np.absolute(model_weights[0] - model_weights[1]),4)\n",
    "svm =  np.round(np.absolute(model_weights[2] - model_weights[3]),4)\n",
    "col = ['Model Type']\n",
    "col.extend(data.columns[:-1].tolist())\n",
    "table.column_headers = col\n",
    "table.append_row(['Logistic Regression ',lr[0], lr[1], lr[2], lr[3], lr[4], lr[5], lr[6]])\n",
    "table.append_row(['Linear SVM Model ', svm[0], svm[1], svm[2], svm[3], svm[4], svm[5], svm[6]])\n",
    "print('Model Weigths Difference')\n",
    "print(table)"
   ]
  },
  {
   "cell_type": "code",
   "execution_count": 379,
   "metadata": {
    "ExecuteTime": {
     "end_time": "2020-06-12T06:43:06.010100Z",
     "start_time": "2020-06-12T06:43:05.985029Z"
    }
   },
   "outputs": [
    {
     "name": "stdout",
     "output_type": "stream",
     "text": [
      "\n",
      "Top 4 changes in weights in Logistic Regression Model\n",
      "+-----------+----------------------------------+\n",
      "|  Feature  | Absoulte Percent Change in Value |\n",
      "+-----------+----------------------------------+\n",
      "|     x     |              1.141               |\n",
      "+-----------+----------------------------------+\n",
      "|    x*x    |              1.141               |\n",
      "+-----------+----------------------------------+\n",
      "| 2*z+3*x*x |              1.141               |\n",
      "+-----------+----------------------------------+\n",
      "|     z     |              1.283               |\n",
      "+-----------+----------------------------------+\n",
      "\n",
      "Top 4 changes in weights in Linear SVM Model\n",
      "+---------+----------------------------------+\n",
      "| Feature | Absoulte Percent Change in Value |\n",
      "+---------+----------------------------------+\n",
      "|    x    |              2.054               |\n",
      "+---------+----------------------------------+\n",
      "|    y    |              2.054               |\n",
      "+---------+----------------------------------+\n",
      "|    z    |              2.054               |\n",
      "+---------+----------------------------------+\n",
      "|   x*x   |              2.054               |\n",
      "+---------+----------------------------------+\n"
     ]
    }
   ],
   "source": [
    "ele_dict = {}\n",
    "\n",
    "ind = 0\n",
    "for ele,val in zip(lr,data.columns[:-1].tolist()):\n",
    "    ele_dict[val] = (ele/model_weights[0][ind]) * 100\n",
    "    \n",
    "lr_dict = {k:v for k,v in sorted(ele_dict.items() , key=lambda x: x[1])}\n",
    "\n",
    "ele_dict = {}\n",
    "\n",
    "ind = 0\n",
    "for ele,val in zip(svm,data.columns[:-1].tolist()):\n",
    "    ele_dict[val] = (ele/model_weights[2][ind]) * 100\n",
    "\n",
    "svm_dict = {k:v for k,v in sorted(ele_dict.items() , key=lambda x: x[1])}\n",
    "\n",
    "table = BeautifulTable()\n",
    "print('\\nTop 4 changes in weights in Logistic Regression Model')\n",
    "table.column_headers = ['Feature', 'Absoulte Percent Change in Value']\n",
    "for key in list(lr_dict.keys())[:4]:\n",
    "    table.append_row([key, lr_dict[key]])\n",
    "print(table)    \n",
    "\n",
    "table = BeautifulTable()\n",
    "table.column_headers = ['Feature', 'Absoulte Percent Change in Value']\n",
    "print('\\nTop 4 changes in weights in Linear SVM Model')\n",
    "for key in list(svm_dict.keys())[:4]:\n",
    "    table.append_row([key, svm_dict[key]])\n",
    "    \n",
    "print(table)"
   ]
  }
 ],
 "metadata": {
  "colab": {
   "name": "8D_LR_SVM.ipynb",
   "provenance": []
  },
  "kernelspec": {
   "display_name": "Python 3",
   "language": "python",
   "name": "python3"
  },
  "language_info": {
   "codemirror_mode": {
    "name": "ipython",
    "version": 3
   },
   "file_extension": ".py",
   "mimetype": "text/x-python",
   "name": "python",
   "nbconvert_exporter": "python",
   "pygments_lexer": "ipython3",
   "version": "3.7.5"
  },
  "latex_envs": {
   "LaTeX_envs_menu_present": true,
   "autoclose": false,
   "autocomplete": true,
   "bibliofile": "biblio.bib",
   "cite_by": "apalike",
   "current_citInitial": 1,
   "eqLabelWithNumbers": true,
   "eqNumInitial": 1,
   "hotkeys": {
    "equation": "Ctrl-E",
    "itemize": "Ctrl-I"
   },
   "labels_anchors": false,
   "latex_user_defs": false,
   "report_style_numbering": false,
   "user_envs_cfg": false
  },
  "toc": {
   "base_numbering": 1,
   "nav_menu": {},
   "number_sections": true,
   "sideBar": true,
   "skip_h1_title": false,
   "title_cell": "Table of Contents",
   "title_sidebar": "Contents",
   "toc_cell": false,
   "toc_position": {},
   "toc_section_display": true,
   "toc_window_display": true
  },
  "varInspector": {
   "cols": {
    "lenName": 16,
    "lenType": 16,
    "lenVar": 40
   },
   "kernels_config": {
    "python": {
     "delete_cmd_postfix": "",
     "delete_cmd_prefix": "del ",
     "library": "var_list.py",
     "varRefreshCmd": "print(var_dic_list())"
    },
    "r": {
     "delete_cmd_postfix": ") ",
     "delete_cmd_prefix": "rm(",
     "library": "var_list.r",
     "varRefreshCmd": "cat(var_dic_list()) "
    }
   },
   "types_to_exclude": [
    "module",
    "function",
    "builtin_function_or_method",
    "instance",
    "_Feature"
   ],
   "window_display": false
  }
 },
 "nbformat": 4,
 "nbformat_minor": 1
}
