{
 "cells": [
  {
   "cell_type": "markdown",
   "metadata": {
    "colab_type": "text",
    "id": "y871RZtRhCEH"
   },
   "source": [
    "# <font color='red'>BackPropagation</font>"
   ]
  },
  {
   "cell_type": "markdown",
   "metadata": {
    "colab_type": "text",
    "id": "LqePYi-4mFvK"
   },
   "source": [
    "**There will be some functions that start with the word \"grader\" ex: grader_sigmoid(), grader_forwardprop(), grader_backprop() etc, you should not change those function definition.<br><br>Every Grader function has to return True.**"
   ]
  },
  {
   "cell_type": "markdown",
   "metadata": {
    "colab_type": "text",
    "id": "0huUQ0byiI0I"
   },
   "source": [
    "## <font color='red'>Loading data </font>"
   ]
  },
  {
   "cell_type": "code",
   "execution_count": 1,
   "metadata": {
    "ExecuteTime": {
     "end_time": "2020-09-01T06:39:15.882276Z",
     "start_time": "2020-09-01T06:39:15.611189Z"
    },
    "colab": {
     "base_uri": "https://localhost:8080/",
     "height": 50
    },
    "colab_type": "code",
    "id": "1hSje5CBgcUb",
    "outputId": "66535fa5-f8a2-4792-bc62-7842c93480f7"
   },
   "outputs": [
    {
     "name": "stdout",
     "output_type": "stream",
     "text": [
      "(506, 6)\n",
      "(506, 5) (506,)\n"
     ]
    }
   ],
   "source": [
    "import pickle\n",
    "import numpy as np\n",
    "from tqdm import tqdm\n",
    "import matplotlib.pyplot as plt\n",
    "\n",
    "with open('data.pkl', 'rb') as f:\n",
    "    data = pickle.load(f)\n",
    "print(data.shape)\n",
    "X = data[:, :5]\n",
    "y = data[:, -1]\n",
    "print(X.shape, y.shape)"
   ]
  },
  {
   "cell_type": "markdown",
   "metadata": {
    "colab_type": "text",
    "id": "5JL-0soQistC"
   },
   "source": [
    "# <font color='red'>Computational graph</font>"
   ]
  },
  {
   "cell_type": "markdown",
   "metadata": {
    "colab_type": "text",
    "id": "nREnTTJ3i0Vd"
   },
   "source": [
    "<img src='https://i.imgur.com/seSGbNS.png'>"
   ]
  },
  {
   "cell_type": "markdown",
   "metadata": {
    "colab_type": "text",
    "id": "DSPX_H_4i_HT"
   },
   "source": [
    "\n",
    "*  **If you observe the graph, we are having input features [f1, f2, f3, f4, f5] and 9 weights [w1, w2, w3, w4, w5, w6,    w7, w8, w9]**.<br><br>\n",
    "*  **The final output of this graph is a value L which is computed as (Y-Y')^2** "
   ]
  },
  {
   "cell_type": "markdown",
   "metadata": {
    "colab_type": "text",
    "id": "D54eDEv6jkO4"
   },
   "source": [
    "# <font color='red'>Task 1: Implementing backpropagation and Gradient checking </font>"
   ]
  },
  {
   "cell_type": "markdown",
   "metadata": {
    "colab_type": "text",
    "id": "qocI1Vzqkod9"
   },
   "source": [
    "<font color='blue'><b>Check this video for better understanding of the computational graphs and back propagation</font>"
   ]
  },
  {
   "cell_type": "code",
   "execution_count": 2,
   "metadata": {
    "ExecuteTime": {
     "end_time": "2020-09-01T06:39:18.707352Z",
     "start_time": "2020-09-01T06:39:18.518212Z"
    },
    "colab": {
     "base_uri": "https://localhost:8080/",
     "height": 521
    },
    "colab_type": "code",
    "id": "Wb5WMdwJinlX",
    "outputId": "b10489ec-890a-445a-c6a4-a3e0ea2a66be"
   },
   "outputs": [
    {
     "data": {
      "image/jpeg": "[encoded data removed]",
      "text/html": [
       "\n",
       "        <iframe\n",
       "            width=\"1000\"\n",
       "            height=\"500\"\n",
       "            src=\"https://www.youtube.com/embed/i94OvYb6noo\"\n",
       "            frameborder=\"0\"\n",
       "            allowfullscreen\n",
       "        ></iframe>\n",
       "        "
      ],
      "text/plain": [
       "<IPython.lib.display.YouTubeVideo at 0x7f9e30786ac0>"
      ]
     },
     "execution_count": 2,
     "metadata": {},
     "output_type": "execute_result"
    }
   ],
   "source": [
    "from IPython.display import YouTubeVideo\n",
    "YouTubeVideo('i94OvYb6noo',width=\"1000\",height=\"500\")"
   ]
  },
  {
   "cell_type": "markdown",
   "metadata": {
    "colab_type": "text",
    "id": "2jecTyVRlh-6"
   },
   "source": [
    "\n",
    "*  <b>Write two functions<br>\n",
    "    *  Forward propagation</b>(Write your code in<font color='blue'> def forward_propagation()</b></font>)<br><br>\n",
    "    For easy debugging, we will break the computational graph into 3 parts.\n",
    "\n",
    "    <font color='green'><b>Part 1</b></font></b>\n",
    "    <img src='https://i.imgur.com/0xUaxy6.png'><br><br>\n",
    "    <font color='green'><b>Part 2</b></font></b><br>\n",
    "    <img src='https://i.imgur.com/J29pAJL.png'><br><br>\n",
    "    <font color='green'><b>Part 3</b></font></b>\n",
    "    <img src='https://i.imgur.com/vMyCsd9.png'>\n",
    "\n",
    "    <pre>\n",
    "    <font color='green'>\n",
    "def forward_propagation(X, y, W):\n",
    "        <font color='grey'>\n",
    "        # X: input data point, note that in this assignment you are having 5-d data points\n",
    "        # y: output varible\n",
    "        # W: weight array, its of length 9, W[0] corresponds to w1 in graph, W[1] corresponds to w2 in graph, <br>         ..., W[8] corresponds to w9 in graph.  \n",
    "        # you have to return the following variables\n",
    "        # exp= part1 (compute the forward propagation until exp and then store the values in exp)\n",
    "        # tanh =part2(compute the forward propagation until tanh and then store the values in tanh)\n",
    "        # sig = part3(compute the forward propagation until sigmoid and then store the values in sig)\n",
    "        # now compute remaining values from computional graph and get y'\n",
    "        # write code to compute the value of L=(y-y')^2\n",
    "        # compute derivative of L  w.r.to Y' and store it in dl\n",
    "        # Create a dictionary to store all the intermediate values\n",
    "        # store L, exp,tanh,sig,dl variables\n",
    "        </font>\n",
    "        return (dictionary, which you might need to use for back propagation)\n",
    "        <font color='grey'>\n",
    "        </font>\n",
    "</font>\n",
    "</pre>\n",
    "    *  <b>Backward propagation</b>(Write your code in<font color='blue'> def backward_propagation()</b></font>)\n",
    "    </b>\n",
    "    <pre>\n",
    "    <font color='green'>\n",
    "    def backward_propagation(L, W,dictionary):\n",
    "        <font color='grey'>\n",
    "        # L: the loss we calculated for the current point\n",
    "        # dictionary: the outputs of the forward_propagation() function\n",
    "        # write code to compute the gradients of each weight [w1,w2,w3,...,w9]\n",
    "        # Hint: you can use dict type to store the required variables \n",
    "        # return dW, dW is a dictionary with gradients of all the weights\n",
    "        </font>\n",
    "        return dW\n",
    "        </font>\n",
    "</font>\n",
    "</pre>"
   ]
  },
  {
   "cell_type": "markdown",
   "metadata": {
    "colab_type": "text",
    "id": "STS4NrQQc6OH"
   },
   "source": [
    " ## <font color='red'>Gradient clipping</font>"
   ]
  },
  {
   "cell_type": "markdown",
   "metadata": {
    "colab_type": "text",
    "id": "XY7ivRNzdPok"
   },
   "source": [
    "<b> Check this  <a href='https://towardsdatascience.com/how-to-debug-a-neural-network-with-gradient-checking-41deec0357a9'>blog link</a> for more details on Gradient clipping"
   ]
  },
  {
   "cell_type": "markdown",
   "metadata": {
    "colab_type": "text",
    "id": "GqpfA3AqfJba"
   },
   "source": [
    "**Algorithm** \n",
    "\n"
   ]
  },
  {
   "cell_type": "markdown",
   "metadata": {
    "colab_type": "text",
    "id": "FL39KeRFfNoD"
   },
   "source": [
    "<pre>\n",
    "<font color='darkblue'>\n",
    "W = initilize_randomly\n",
    "def gradient_checking(data_point, W):<font color='grey'>\n",
    "    # compute the L value using forward_propagation()\n",
    "    # compute the gradients of W using backword_propagation()</font>\n",
    "    approx_gradients = []\n",
    "    for each wi weight value in W:<font color='grey'>\n",
    "        # add a small value to weight wi, and then find the values of L with the updated weights\n",
    "        # subtract a small value to weight wi, and then find the values of L with the updated weights\n",
    "        # compute the approximation gradients of weight wi</font>\n",
    "        approx_gradients.append(approximation gradients of weight wi)<font color='grey'>\n",
    "    # compare the gradient of weights W from backword_propagation() with the aproximation gradients of weights with <br>  gradient_check formula</font>\n",
    "    return gradient_check</font>\n",
    "<b>NOTE: you can do sanity check by checking all the return values of gradient_checking(),<br> they have to be zero. if not you have bug in your code\n",
    "</pre></b>"
   ]
  },
  {
   "cell_type": "markdown",
   "metadata": {
    "colab_type": "text",
    "id": "0ufbFBFfhgL0"
   },
   "source": [
    "# <font color='red'> Task 2 : Optimizers </font>"
   ]
  },
  {
   "cell_type": "markdown",
   "metadata": {
    "colab_type": "text",
    "id": "7zt05soYh1RM"
   },
   "source": [
    "* As a part of this task, you will be implementing 3 type of optimizers(methods to update weight)\n",
    "* Use the same computational graph that was mentioned above to do this task\n",
    "* Initilze the 9 weights from normal distribution with mean=0 and std=0.01"
   ]
  },
  {
   "cell_type": "markdown",
   "metadata": {
    "colab_type": "text",
    "id": "CAyi7aSAicbr"
   },
   "source": [
    "**Check below video and <a href='https://cs231n.github.io/neural-networks-3/'>this</a> blog**"
   ]
  },
  {
   "cell_type": "code",
   "execution_count": 3,
   "metadata": {
    "ExecuteTime": {
     "end_time": "2020-09-01T06:39:26.064208Z",
     "start_time": "2020-09-01T06:39:25.887852Z"
    },
    "colab": {
     "base_uri": "https://localhost:8080/",
     "height": 521
    },
    "colab_type": "code",
    "id": "ZogcxiegkQpz",
    "outputId": "9b4e0235-e638-4f20-d9c1-ac3ca4fb3ce8",
    "scrolled": false
   },
   "outputs": [
    {
     "data": {
      "image/jpeg": "[encoded data removed]",
      "text/html": [
       "\n",
       "        <iframe\n",
       "            width=\"1000\"\n",
       "            height=\"500\"\n",
       "            src=\"https://www.youtube.com/embed/gYpoJMlgyXA\"\n",
       "            frameborder=\"0\"\n",
       "            allowfullscreen\n",
       "        ></iframe>\n",
       "        "
      ],
      "text/plain": [
       "<IPython.lib.display.YouTubeVideo at 0x7f9e211b2fa0>"
      ]
     },
     "execution_count": 3,
     "metadata": {},
     "output_type": "execute_result"
    }
   ],
   "source": [
    "from IPython.display import YouTubeVideo\n",
    "YouTubeVideo('gYpoJMlgyXA',width=\"1000\",height=\"500\")"
   ]
  },
  {
   "cell_type": "markdown",
   "metadata": {
    "colab_type": "text",
    "id": "jmefh7ktjbaR"
   },
   "source": [
    "<font color='blue'><b>Algorithm</b>"
   ]
  },
  {
   "cell_type": "markdown",
   "metadata": {
    "colab_type": "text",
    "id": "nAc4NudkjdNa"
   },
   "source": [
    "<pre>\n",
    "    for each epoch(1-100):\n",
    "        for each data point in your data:\n",
    "            using the functions forward_propagation() and backword_propagation() compute the gradients of weights\n",
    "            update the weigts with help of gradients  ex: w1 = w1-learning_rate*dw1\n",
    "</pre>"
   ]
  },
  {
   "cell_type": "markdown",
   "metadata": {
    "colab_type": "text",
    "id": "_fdmPNqtjm3X"
   },
   "source": [
    "## <font color='red'> Implement below tasks</b>"
   ]
  },
  {
   "cell_type": "markdown",
   "metadata": {
    "colab_type": "text",
    "id": "Ll9-CRsLjx_D"
   },
   "source": [
    "\n",
    "*  <b>Task 2.1</b>: you will be implementing the above algorithm with <b>Vanilla update</b> of weights<br><br>\n",
    "*  <b>Task 2.2</b>: you will be implementing the above algorithm with <b>Momentum update</b> of weights<br><br>\n",
    "*  <b>Task 2.3</b>: you will be implementing the above algorithm with <b>Adam update</b> of weights\n"
   ]
  },
  {
   "cell_type": "markdown",
   "metadata": {
    "colab_type": "text",
    "id": "atp082demrUR"
   },
   "source": [
    "**Note : If you get any assertion error while running grader functions, please print the variables in grader functions and check which variable is returning False .Recheck your logic for that variable .**"
   ]
  },
  {
   "cell_type": "markdown",
   "metadata": {
    "colab_type": "text",
    "id": "phG2WDkjkuIL"
   },
   "source": [
    "<br>\n",
    "<br>\n",
    "<br>"
   ]
  },
  {
   "cell_type": "markdown",
   "metadata": {
    "colab_type": "text",
    "id": "CBaPzHP63grG"
   },
   "source": [
    "# <font color='red'>Task 1 </font>"
   ]
  },
  {
   "cell_type": "markdown",
   "metadata": {
    "colab_type": "text",
    "id": "QfmV3FUgSrBo"
   },
   "source": [
    "## <font color='blue'>Forward propagation </font>"
   ]
  },
  {
   "cell_type": "code",
   "execution_count": 4,
   "metadata": {
    "ExecuteTime": {
     "end_time": "2020-09-01T06:39:30.321660Z",
     "start_time": "2020-09-01T06:39:30.306253Z"
    },
    "colab": {},
    "colab_type": "code",
    "id": "5_pBivcY30qf"
   },
   "outputs": [],
   "source": [
    "def sigmoid(z):\n",
    "    '''In this function, we will compute the sigmoid(z)'''\n",
    "    # we can use this function in forward and backward propagation\n",
    "    return 1 / (1 + np.exp(-z))\n",
    "    \n",
    "def forward_propagation(x, y, w):\n",
    "    '''In this function, we will compute the forward propagation '''\n",
    "    # X: input data point, note that in this assignment you are having 5-d data points\n",
    "    # y: output varible\n",
    "    # W: weight array, its of length 9, W[0] corresponds to w1 in graph, W[1] corresponds to w2 in graph,..., W[8] corresponds to w9 in graph.  \n",
    "    # you have to return the following variables\n",
    "    # exp= part1 (compute the forward propagation until exp and then store the values in exp)\n",
    "    # tanh =part2(compute the forward propagation until tanh and then store the values in tanh)\n",
    "    # sig = part3(compute the forward propagation until sigmoid and then store the values in sig)\n",
    "    # now compute remaining values from computional graph and get y'\n",
    "    # write code to compute the value of L=(y-y')^2\n",
    "    # compute derivative of L  w.r.to Y' and store it in dl\n",
    "    # Create a dictionary to store all the intermediate values\n",
    "    # store L, exp,tanh,sig variables\n",
    "    t     = np.dot(w[0], x[ 0]) +  np.dot(w[1], x[ 1])\n",
    "    exp   = np.exp(np.dot(t,t) + w[5])\n",
    "    tanh  = np.tanh(exp + w[6])\n",
    "    sig   = sigmoid(w[7] + (np.dot(np.sin(np.dot(w[2], x[ 2])) , np.dot(w[3], x[ 3]) + np.dot(w[4], x[ 4]) )))\n",
    "    y_hat = np.dot(sig, w[8]) + tanh\n",
    "    l     = (y-y_hat) ** 2  \n",
    "    dl    =  -2 * (y - y_hat)\n",
    "    return {'dl':dl,'loss':l, 'exp':exp, 'tanh':tanh, 'sigmoid':sig, 'x':x}"
   ]
  },
  {
   "cell_type": "markdown",
   "metadata": {
    "colab_type": "text",
    "id": "z-z1rGKqCHNN"
   },
   "source": [
    "<font color='cyan'>Grader function - 1</font>"
   ]
  },
  {
   "cell_type": "code",
   "execution_count": 5,
   "metadata": {
    "ExecuteTime": {
     "end_time": "2020-09-01T06:39:32.152096Z",
     "start_time": "2020-09-01T06:39:32.147620Z"
    },
    "colab": {},
    "colab_type": "code",
    "id": "6ZxFF00zBmx1"
   },
   "outputs": [
    {
     "data": {
      "text/plain": [
       "True"
      ]
     },
     "execution_count": 5,
     "metadata": {},
     "output_type": "execute_result"
    }
   ],
   "source": [
    "def grader_sigmoid(z):\n",
    "    val=sigmoid(z)\n",
    "    assert(val==0.8807970779778823)\n",
    "    return True\n",
    "grader_sigmoid(2)"
   ]
  },
  {
   "cell_type": "markdown",
   "metadata": {
    "colab_type": "text",
    "id": "KgAUXq_aChey"
   },
   "source": [
    "<font color='cyan'>Grader function - 2 </font>"
   ]
  },
  {
   "cell_type": "code",
   "execution_count": 8,
   "metadata": {
    "ExecuteTime": {
     "end_time": "2020-09-01T06:40:06.320754Z",
     "start_time": "2020-09-01T06:40:06.303294Z"
    },
    "colab": {},
    "colab_type": "code",
    "id": "3uzsUqcjCorN"
   },
   "outputs": [
    {
     "data": {
      "text/plain": [
       "True"
      ]
     },
     "execution_count": 8,
     "metadata": {},
     "output_type": "execute_result"
    }
   ],
   "source": [
    "def grader_forwardprop(data):\n",
    "    dl = (np.round(data['dl'],4)==-1.9285)\n",
    "    loss=(np.round(data['loss'],4)==0.9298)\n",
    "    part1=(np.round(data['exp'],4)==1.1273)\n",
    "    part2=(np.round(data['tanh'],4)==0.8418)\n",
    "    part3=(np.round(data['sigmoid'],4)==0.5279)\n",
    "    assert(dl and loss and part1 and part2 and part3)\n",
    "    return True\n",
    "w=np.ones(9)*0.1\n",
    "d1=forward_propagation(X[0],y[0],w)\n",
    "grader_forwardprop(d1)"
   ]
  },
  {
   "cell_type": "markdown",
   "metadata": {
    "colab_type": "text",
    "id": "obOaAqj3Sxvb"
   },
   "source": [
    "## <font color='blue'>Backward propagation</font>"
   ]
  },
  {
   "cell_type": "code",
   "execution_count": 9,
   "metadata": {
    "ExecuteTime": {
     "end_time": "2020-09-01T06:40:08.411827Z",
     "start_time": "2020-09-01T06:40:08.388744Z"
    },
    "colab": {},
    "colab_type": "code",
    "id": "dS49ykcOGhIv"
   },
   "outputs": [],
   "source": [
    "def backward_propagation(L,W,dicts):\n",
    "    '''In this function, we will compute the backward propagation '''\n",
    "    # L: the loss we calculated for the current point\n",
    "    # dictionary: the outputs of the forward_propagation() function\n",
    "    # write code to compute the gradients of each weight [w1,w2,w3,...,w9]\n",
    "    # Hint: you can use dict type to store the required variables \n",
    "    # dw1 = # in dw1 compute derivative of L w.r.to w1\n",
    "    # dw2 = # in dw2 compute derivative of L w.r.to w2\n",
    "    # dw3 = # in dw3 compute derivative of L w.r.to w3\n",
    "    # dw4 = # in dw4 compute derivative of L w.r.to w4\n",
    "    # dw5 = # in dw5 compute derivative of L w.r.to w5\n",
    "    # dw6 = # in dw6 compute derivative of L w.r.to w6\n",
    "    # dw7 = # in dw7 compute derivative of L w.r.to w7\n",
    "    # dw8 = # in dw8 compute derivative of L w.r.to w8\n",
    "    # dw9 = # in dw9 compute derivative of L w.r.to w9\n",
    "    \n",
    "    dw = {}\n",
    "    dw['dw1'] = dicts['dl'] * 2 * dicts['x'][0] * dicts['exp'] * (np.dot(W[0], dicts['x'][0]) + np.dot(W[1], dicts['x'][1])) * (1 - (dicts['tanh']**2))\n",
    "    dw['dw2'] = dicts['dl'] * 2 * dicts['x'][1] * dicts['exp'] * (np.dot(W[0], dicts['x'][0]) + np.dot(W[1], dicts['x'][1])) * (1 - (dicts['tanh']**2))\n",
    "    dw['dw3'] = dicts['dl'] * dicts['x'][2] * W[8] * np.cos(np.dot(W[2], dicts['x'][2])) * (np.dot(W[4], dicts['x'][4]) + np.dot(W[3], dicts['x'][3])) * dicts['sigmoid'] * (1 - dicts['sigmoid'])\n",
    "    dw['dw4'] = dicts['dl'] * dicts['x'][3] * W[8] * np.sin(np.dot(W[2], dicts['x'][2])) * dicts['sigmoid'] * (1 - dicts['sigmoid'])\n",
    "    dw['dw5'] = dicts['dl'] * dicts['x'][4] * W[8] * np.sin(np.dot(W[2], dicts['x'][2])) * dicts['sigmoid'] * (1 - dicts['sigmoid'])\n",
    "    dw['dw6'] = dicts['dl'] * dicts['exp'] * (1 - (dicts['tanh']**2))\n",
    "    dw['dw7'] = dicts['dl'] * (1 - (dicts['tanh']**2))\n",
    "    dw['dw8'] = dicts['dl'] * W[8] * dicts['sigmoid'] * (1 - dicts['sigmoid'])\n",
    "    dw['dw9'] = dicts['dl'] * dicts['sigmoid']\n",
    "\n",
    "    return dw\n",
    "    # return dW, dW is a dictionary with gradients of all the weights"
   ]
  },
  {
   "cell_type": "markdown",
   "metadata": {
    "colab_type": "text",
    "id": "2NpZWAVlS4jb"
   },
   "source": [
    "<font color='cyan'>Grader function - 3 </font>"
   ]
  },
  {
   "cell_type": "code",
   "execution_count": 10,
   "metadata": {
    "ExecuteTime": {
     "end_time": "2020-09-01T06:40:10.647512Z",
     "start_time": "2020-09-01T06:40:10.622089Z"
    },
    "colab": {},
    "colab_type": "code",
    "id": "1a8Kll2xGhMJ"
   },
   "outputs": [
    {
     "data": {
      "text/plain": [
       "True"
      ]
     },
     "execution_count": 10,
     "metadata": {},
     "output_type": "execute_result"
    }
   ],
   "source": [
    "def grader_backprop(data):\n",
    "    dw1=(np.round(data['dw1'],8)==-0.22973323)\n",
    "    dw2=(np.round(data['dw2'],8)==-0.02140761)\n",
    "    dw3=(np.round(data['dw3'],8)==-0.00562541)\n",
    "    dw4=(np.round(data['dw4'],8)==-0.00465794)\n",
    "    dw5=(np.round(data['dw5'],8)==-0.00100772)\n",
    "    dw6=(np.round(data['dw6'],8)==-0.63347519)\n",
    "    dw7=(np.round(data['dw7'],8)==-0.56194184)\n",
    "    dw8=(np.round(data['dw8'],8)==-0.04806288)\n",
    "    dw9=(np.round(data['dw9'],8)==-1.01810444)\n",
    "    assert(dw1 and dw2 and dw3 and dw4 and dw5 and dw6 and dw7 and dw8 and dw9)\n",
    "    return True \n",
    "w=np.ones(9)*0.1\n",
    "d1=forward_propagation(X[0],y[0],w)\n",
    "d1=backward_propagation(X[0],w,d1)\n",
    "grader_backprop(d1)"
   ]
  },
  {
   "cell_type": "markdown",
   "metadata": {
    "colab_type": "text",
    "id": "1rfHHXZwgwo6"
   },
   "source": [
    "## <font color='blue'> Implement gradient checking</font>"
   ]
  },
  {
   "cell_type": "code",
   "execution_count": 18,
   "metadata": {
    "ExecuteTime": {
     "end_time": "2020-09-01T06:41:21.399956Z",
     "start_time": "2020-09-01T06:41:21.386560Z"
    },
    "colab": {},
    "colab_type": "code",
    "id": "oh8wj1yjGhOi"
   },
   "outputs": [
    {
     "name": "stdout",
     "output_type": "stream",
     "text": [
      "{'dw1': -4.918867403857781e-10, 'dw2': 4.313072065448279e-07, 'dw3': -5.96991379072821e-08, 'dw4': 5.328311462684123e-07, 'dw5': 5.785228848348613e-07, 'dw6': -2.4944672635960616e-08, 'dw7': -1.5675493248917714e-07, 'dw8': -3.6260816099250785e-08, 'dw9': -1.1321577367826861e-08}\n"
     ]
    }
   ],
   "source": [
    "W = np.ones(9)*0.1\n",
    "def gradient_checking(data_point, W):   \n",
    "    x_train = data_point[:5]\n",
    "    y_train = data_point[-1]\n",
    "    \n",
    "    forward_result = forward_propagation(x_train, y_train, W)\n",
    "    backward_result = backward_propagation(x_train, W, forward_result)\n",
    "    delta = 10 ** -7 \n",
    "    \n",
    "    approx_gradient = {}\n",
    "    gradient_checking = {}\n",
    "    for ind in range(W.shape[0]):\n",
    "        temp_w_i = temp_w_ii = W\n",
    "        temp = W[ind]\n",
    "        temp_w_i[ind] = temp  + delta\n",
    "        forward_result_i  = forward_propagation(x_train, y_train, temp_w_i)\n",
    "        backward_result_i = backward_propagation(x_train, temp_w_i, forward_result_i)\n",
    "        \n",
    "        temp_w_ii[ind] = temp  - delta\n",
    "        forward_result_ii  = forward_propagation(x_train, y_train, temp_w_ii)\n",
    "        backward_result_ii = backward_propagation(x_train, temp_w_i, forward_result_ii)\n",
    "        approx_gradient['dw{}'.format(ind+1)] = (forward_result_i['loss'] - forward_result_ii['loss'])/( 2 * delta)\n",
    "    for key in backward_result.keys():\n",
    "        gradient_checking[key] = (backward_result[key] - approx_gradient[key]) /  (backward_result[key] + approx_gradient[key])\n",
    "    return gradient_checking\n",
    "\n",
    "\n",
    "\n",
    "grad = gradient_checking(data[0], W)\n",
    "print(grad)"
   ]
  },
  {
   "cell_type": "markdown",
   "metadata": {
    "colab_type": "text",
    "id": "MhwDSe99kJ32"
   },
   "source": [
    "# <font color='red'>Task 2: Optimizers"
   ]
  },
  {
   "cell_type": "markdown",
   "metadata": {
    "colab_type": "text",
    "id": "jJzI-vnPk1dB"
   },
   "source": [
    "### <font color='blue'>Algorithm with Vanilla update of weights</font>"
   ]
  },
  {
   "cell_type": "code",
   "execution_count": 67,
   "metadata": {
    "ExecuteTime": {
     "end_time": "2020-09-01T10:43:49.234770Z",
     "start_time": "2020-09-01T10:43:39.864468Z"
    },
    "colab": {},
    "colab_type": "code",
    "id": "xJspU6ZuGhRQ",
    "scrolled": false
   },
   "outputs": [
    {
     "name": "stdout",
     "output_type": "stream",
     "text": [
      "Executing Epoch 0\n",
      "Executing Epoch 1\n",
      "Executing Epoch 2\n",
      "Executing Epoch 3\n",
      "Executing Epoch 4\n",
      "Executing Epoch 5\n",
      "Executing Epoch 6\n",
      "Executing Epoch 7\n",
      "Executing Epoch 8\n",
      "Executing Epoch 9\n",
      "Executing Epoch 10\n",
      "Executing Epoch 11\n",
      "Executing Epoch 12\n",
      "Executing Epoch 13\n",
      "Executing Epoch 14\n",
      "Executing Epoch 15\n",
      "Executing Epoch 16\n",
      "Executing Epoch 17\n",
      "Executing Epoch 18\n",
      "Executing Epoch 19\n",
      "Executing Epoch 20\n",
      "Executing Epoch 21\n",
      "Executing Epoch 22\n",
      "Executing Epoch 23\n",
      "Executing Epoch 24\n",
      "Executing Epoch 25\n",
      "Executing Epoch 26\n",
      "Executing Epoch 27\n",
      "Executing Epoch 28\n",
      "Executing Epoch 29\n",
      "Executing Epoch 30\n",
      "Executing Epoch 31\n",
      "Executing Epoch 32\n",
      "Executing Epoch 33\n",
      "Executing Epoch 34\n",
      "Executing Epoch 35\n",
      "Executing Epoch 36\n",
      "Executing Epoch 37\n",
      "Executing Epoch 38\n",
      "Executing Epoch 39\n",
      "Executing Epoch 40\n",
      "Executing Epoch 41\n",
      "Executing Epoch 42\n",
      "Executing Epoch 43\n",
      "Executing Epoch 44\n",
      "Executing Epoch 45\n",
      "Executing Epoch 46\n",
      "Executing Epoch 47\n",
      "Executing Epoch 48\n",
      "Executing Epoch 49\n",
      "Executing Epoch 50\n",
      "Executing Epoch 51\n",
      "Executing Epoch 52\n",
      "Executing Epoch 53\n",
      "Executing Epoch 54\n",
      "Executing Epoch 55\n",
      "Executing Epoch 56\n",
      "Executing Epoch 57\n",
      "Executing Epoch 58\n",
      "Executing Epoch 59\n",
      "Executing Epoch 60\n",
      "Executing Epoch 61\n",
      "Executing Epoch 62\n",
      "\n",
      "\n",
      "----------------------------------------------------------------------------------------------------\n",
      "Weigths Have Converged\n",
      "----------------------------------------------------------------------------------------------------\n"
     ]
    }
   ],
   "source": [
    "# Setting Up Constants\n",
    "# Setting Fixed Seeding for better and replicable results\n",
    "np.random.seed(42) \n",
    "\n",
    "# Mean of Normal Distribution of weights\n",
    "mu = 0 \n",
    "\n",
    "# Variance of Normal Distribution of weights\n",
    "sigma = 0.1\n",
    "\n",
    "# Learning Rate \n",
    "eta = 0.1\n",
    "\n",
    "# Creating a Normal Distribution of Weights\n",
    "W = sigma * np.random.randn(9) + mu \n",
    "\n",
    "# Creating list to capture loss\n",
    "loss = []\n",
    "\n",
    "# For Each Epoch\n",
    "for epoch in range(0,100):\n",
    "    \n",
    "    # Copying Weights to calculate convergence\n",
    "    temp = np.copy(W)\n",
    "    # Creating list to capture at each datapoint loss\n",
    "    temp_loss = []\n",
    "    \n",
    "    print('Executing Epoch {}'.format(epoch))\n",
    "    \n",
    "    # Looping over each datapoint\n",
    "    for x_train, y_train in zip(data[:, :5], data[:, -1]):\n",
    "        # Calculate Forward Propagation         \n",
    "        forward_result  = forward_propagation(x_train, y_train, W)\n",
    "        # Calculate Backward Propagation\n",
    "        backward_result = backward_propagation(x_train, W, forward_result)\n",
    "        # Capturing Loss\n",
    "        temp_loss.append(forward_result['loss'])\n",
    "        \n",
    "        # Updating Each Set of Weights\n",
    "        for ind, key in enumerate(backward_result.keys()):\n",
    "            W[ind] = W[ind] - eta * backward_result[key]\n",
    "    \n",
    "    # Checking for convergence     \n",
    "    if np.where(W - temp > 10 ** -3)[0].shape[0] == 0:\n",
    "        print('\\n')\n",
    "        print(\"-\"*100)\n",
    "        print('Weigths Have Converged')\n",
    "        print(\"-\"*100)\n",
    "        break\n",
    "    \n",
    "    # Calculating mean loss for each epoch \n",
    "    loss.append(np.mean(temp_loss))"
   ]
  },
  {
   "cell_type": "markdown",
   "metadata": {
    "colab_type": "text",
    "id": "UlTLXrvmlR26"
   },
   "source": [
    "<font color='blue'>Plot between epochs and loss</font>"
   ]
  },
  {
   "cell_type": "code",
   "execution_count": 68,
   "metadata": {
    "ExecuteTime": {
     "end_time": "2020-09-01T10:43:49.800602Z",
     "start_time": "2020-09-01T10:43:49.240905Z"
    },
    "colab": {},
    "colab_type": "code",
    "id": "CjTCVUIoGhTo"
   },
   "outputs": [
    {
     "data": {
      "image/png": "[encoded data removed]",
      "text/plain": [
       "<Figure size 1080x360 with 1 Axes>"
      ]
     },
     "metadata": {
      "needs_background": "light"
     },
     "output_type": "display_data"
    }
   ],
   "source": [
    "_, ax = plt.subplots(1, 1, figsize=(15,5))\n",
    "ax.plot(loss)\n",
    "ax.set_title('Vanilla Weights Upgrade')\n",
    "plt.show()\n",
    "\n",
    "vanilla_loss = loss"
   ]
  },
  {
   "cell_type": "markdown",
   "metadata": {
    "colab_type": "text",
    "id": "cv_hZFWalS2z"
   },
   "source": [
    "### <font color='blue'>Algorithm with Momrentum update of weights</font>"
   ]
  },
  {
   "cell_type": "code",
   "execution_count": 69,
   "metadata": {
    "ExecuteTime": {
     "end_time": "2020-09-01T10:43:54.554956Z",
     "start_time": "2020-09-01T10:43:49.809362Z"
    },
    "colab": {},
    "colab_type": "code",
    "id": "uucCdyQrGhZt"
   },
   "outputs": [
    {
     "name": "stdout",
     "output_type": "stream",
     "text": [
      "Executing Epoch 0\n",
      "Executing Epoch 1\n",
      "Executing Epoch 2\n",
      "Executing Epoch 3\n",
      "Executing Epoch 4\n",
      "Executing Epoch 5\n",
      "Executing Epoch 6\n",
      "Executing Epoch 7\n",
      "Executing Epoch 8\n",
      "Executing Epoch 9\n",
      "Executing Epoch 10\n",
      "Executing Epoch 11\n",
      "Executing Epoch 12\n",
      "Executing Epoch 13\n",
      "Executing Epoch 14\n",
      "Executing Epoch 15\n",
      "Executing Epoch 16\n",
      "Executing Epoch 17\n",
      "Executing Epoch 18\n",
      "Executing Epoch 19\n",
      "Executing Epoch 20\n",
      "Executing Epoch 21\n",
      "Executing Epoch 22\n",
      "Executing Epoch 23\n",
      "Executing Epoch 24\n",
      "Executing Epoch 25\n",
      "Executing Epoch 26\n",
      "Executing Epoch 27\n",
      "\n",
      "\n",
      "----------------------------------------------------------------------------------------------------\n",
      "Weigths Have Converged\n",
      "----------------------------------------------------------------------------------------------------\n"
     ]
    }
   ],
   "source": [
    "# Setting Up Constants\n",
    "# Setting Fixed Seeding for better and replicable results\n",
    "np.random.seed(42)\n",
    "# Mean \n",
    "mu = 0\n",
    "\n",
    "#  Standard Deviation\n",
    "sigma = 0.1\n",
    "\n",
    "# Learning Rate\n",
    "eta = 0.1\n",
    "# Gamma for momentum\n",
    "gamma = 0.9\n",
    "\n",
    "# Calculating weighs from a Normal Distribution\n",
    "W = sigma * np.random.randn(9) + mu\n",
    "\n",
    "loss = []\n",
    "\n",
    "for epoch in range(0,100):\n",
    "    # Copy Weigts for convergence evaluation\n",
    "    temp = np.copy(W)\n",
    "    temp_loss = []\n",
    "    print('Executing Epoch {}'.format(epoch))\n",
    "    \n",
    "    # Place holder for capturing all the momentum values\n",
    "    v = {}\n",
    "    for t, points in enumerate(zip(data[:, :5], data[:, -1])):\n",
    "        x_train = points[0]\n",
    "        y_train = points[1]\n",
    "        # Forward Propagation \n",
    "        forward_result  = forward_propagation(x_train, y_train, W)\n",
    "        # Backward Propagation\n",
    "        backward_result = backward_propagation(x_train, W, forward_result)\n",
    "        # Calculating loss for each data point\n",
    "        temp_loss.append(forward_result['loss'])\n",
    "        # Weights Updation         \n",
    "        for ind, key in enumerate(backward_result.keys()):\n",
    "            if t not in v.keys():\n",
    "                v[t] = {}\n",
    "            if t == 0:\n",
    "                # Storing values of momentum to be used for the next iteration\n",
    "                v[t][key] = eta * backward_result[key]\n",
    "            else:\n",
    "                # Storing values of momentum to be used for the next iteration\n",
    "                v[t][key] = gamma * v[t-1][key] + eta * backward_result[key]\n",
    "            \n",
    "            # Updating Weights Using Momentum\n",
    "            W[ind] = W[ind] - v[t][key]\n",
    "    # Checking for convergence    \n",
    "    if np.where(W - temp > 10 ** -3)[0].shape[0] == 0:\n",
    "        print('\\n')\n",
    "        print(\"-\"*100)\n",
    "        print('Weigths Have Converged')\n",
    "        print(\"-\"*100)\n",
    "        break\n",
    "    loss.append(np.mean(temp_loss))"
   ]
  },
  {
   "cell_type": "markdown",
   "metadata": {
    "colab_type": "text",
    "id": "Ow20azfKlVhn"
   },
   "source": [
    "<font color='blue'>Plot between epochs and loss</font>"
   ]
  },
  {
   "cell_type": "code",
   "execution_count": 70,
   "metadata": {
    "ExecuteTime": {
     "end_time": "2020-09-01T10:43:54.813145Z",
     "start_time": "2020-09-01T10:43:54.557830Z"
    },
    "colab": {},
    "colab_type": "code",
    "id": "u-m90Sq_Ghce"
   },
   "outputs": [
    {
     "data": {
      "image/png": "[encoded data removed]",
      "text/plain": [
       "<Figure size 1080x360 with 1 Axes>"
      ]
     },
     "metadata": {
      "needs_background": "light"
     },
     "output_type": "display_data"
    }
   ],
   "source": [
    "_, ax = plt.subplots(1, 1, figsize=(15,5))\n",
    "ax.plot(loss)\n",
    "ax.set_title('Loss Per Epoch')\n",
    "plt.show()\n",
    "\n",
    "momentum_loss = loss"
   ]
  },
  {
   "cell_type": "markdown",
   "metadata": {
    "colab_type": "text",
    "id": "V4RWWrZ7lWap"
   },
   "source": [
    "### <font color='blue'>Algorithm with Adam update of weights</font>"
   ]
  },
  {
   "cell_type": "code",
   "execution_count": 100,
   "metadata": {
    "ExecuteTime": {
     "end_time": "2020-09-01T11:09:41.654159Z",
     "start_time": "2020-09-01T11:09:37.576331Z"
    },
    "colab": {},
    "colab_type": "code",
    "id": "72rRC8rJGhf5",
    "scrolled": false
   },
   "outputs": [
    {
     "name": "stdout",
     "output_type": "stream",
     "text": [
      "Executing Epoch 0\n",
      "[ 0.04967142 -0.01382643  0.06476885  0.15230299 -0.02341534 -0.0234137\n",
      "  0.15792128  0.07674347 -0.04694744]\n",
      "Executing Epoch 1\n",
      "[ 0.67253833  0.26039121 -0.75599003 -0.71208851 -0.68629166  0.45414311\n",
      "  0.55713967  1.14462593  0.99733857]\n",
      "Executing Epoch 2\n",
      "[ 0.71668682  0.17841498 -1.02483006 -0.99369323 -1.02768891  0.56922\n",
      "  0.67514454  1.05145805  1.00588215]\n",
      "Executing Epoch 3\n",
      "[ 0.7550966   0.02637095 -0.99341282 -1.00774675 -1.02183591  0.70730048\n",
      "  0.81646929  1.02196702  1.00079792]\n",
      "Executing Epoch 4\n",
      "[ 0.77917404  0.04504284 -1.00756625 -1.0060123  -1.00276255  0.76285014\n",
      "  0.87641409  1.01920124  1.0039031 ]\n",
      "Executing Epoch 5\n",
      "[ 0.78590844  0.0109296  -0.99752301 -1.00920052 -1.00810754  0.81650671\n",
      "  0.9364778   1.00893415  1.00518362]\n",
      "Executing Epoch 6\n",
      "[ 0.83864996 -0.02488791 -1.00604472 -1.00327221 -1.01813819  0.86066361\n",
      "  0.9801075   0.99788298  1.00469309]\n",
      "Executing Epoch 7\n",
      "[ 0.76945744  0.09907162 -1.0015239  -0.97801338 -0.99057862  0.84961851\n",
      "  0.97591525  0.99822687  0.99491219]\n",
      "Executing Epoch 8\n",
      "[ 0.78804747  0.05971815 -0.9954287  -0.98496291 -0.99042389  0.93409867\n",
      "  1.06430289  1.00797372  0.99303475]\n",
      "Executing Epoch 9\n",
      "[ 0.83044854  0.00498609 -0.98802779 -0.99203005 -0.98973555  1.00405851\n",
      "  1.13621376  1.0081935   0.99321198]\n",
      "Executing Epoch 10\n",
      "[ 0.84444874 -0.08258764 -0.99111715 -1.01333547 -1.00622727  1.07466253\n",
      "  1.21035964  1.00168986  1.00513244]\n",
      "Executing Epoch 11\n",
      "[ 0.86169512 -0.00676612 -1.00983749 -0.99743721 -1.01252626  1.07432873\n",
      "  1.21170406  0.9945281   1.00506031]\n",
      "Executing Epoch 12\n",
      "[ 0.77033157  0.12153459 -0.99978128 -0.97937329 -0.98369266  1.00213066\n",
      "  1.14647618  0.99626377  0.99457395]\n",
      "Executing Epoch 13\n",
      "[ 0.77084417  0.13924806 -0.99634589 -0.98611454 -0.99775518  1.07109095\n",
      "  1.21797124  0.99729933  0.99587703]\n",
      "Executing Epoch 14\n",
      "[ 0.82173543  0.05704928 -0.99703526 -1.00887589 -1.00844963  1.15469229\n",
      "  1.30100296  0.99852061  1.00523302]\n",
      "Executing Epoch 15\n",
      "[ 0.74931144  0.17215015 -1.0016885  -0.98738652 -1.00938991  1.07021286\n",
      "  1.2218226   0.98918239  1.00024171]\n",
      "Executing Epoch 16\n",
      "[ 0.67383647  0.23124916 -1.00147594 -0.97676052 -1.00144209  1.08360021\n",
      "  1.24359972  0.99854341  0.99046523]\n",
      "Executing Epoch 17\n",
      "[ 0.68000747  0.2736527  -0.99784945 -0.98954408 -0.98758955  1.01216643\n",
      "  1.17207433  1.00225757  0.99728205]\n",
      "Executing Epoch 18\n",
      "[ 0.77085062  0.27078706 -0.9891589  -1.03216815 -1.00572212  0.98663016\n",
      "  1.14020926  0.99583706  1.01323832]\n",
      "Executing Epoch 19\n",
      "[ 0.75729412  0.22981133 -0.99967699 -1.00246993 -1.00516742  1.08804358\n",
      "  1.24445934  1.00092418  1.00279731]\n",
      "Executing Epoch 20\n",
      "[ 0.65149453  0.33777049 -0.99749012 -0.97903998 -0.99352689  1.05879668\n",
      "  1.22092954  1.00438909  0.98912044]\n",
      "Executing Epoch 21\n",
      "[ 0.67197697  0.32703883 -0.99760148 -0.99064119 -0.98876448  0.99431126\n",
      "  1.15634226  1.00444471  0.99665757]\n",
      "Executing Epoch 22\n",
      "[ 0.73066255  0.29802711 -1.00054944 -1.01525391 -1.00898512  1.03315039\n",
      "  1.19296808  0.99718589  1.00841679]\n",
      "Executing Epoch 23\n",
      "[ 0.70153758  0.3237949  -1.00238696 -0.99941285 -1.01068756  1.05289133\n",
      "  1.21580877  0.9921103   1.00252318]\n",
      "Executing Epoch 24\n",
      "[ 0.75061486  0.35352831 -0.99195797 -1.01200741 -1.00214524  1.15048566\n",
      "  1.30734705  0.99751855  1.00657222]\n",
      "Executing Epoch 25\n",
      "[ 0.74244418  0.37994618 -1.01306386 -1.00514252 -1.0159127   1.10347808\n",
      "  1.26130887  0.98980567  1.00815956]\n",
      "\n",
      "\n",
      "----------------------------------------------------------------------------------------------------\n",
      "Weigths Have Converged\n",
      "----------------------------------------------------------------------------------------------------\n"
     ]
    }
   ],
   "source": [
    "# Setting Up Constants\n",
    "# Setting Fixed Seeding for better and replicable results\n",
    "np.random.seed(42)\n",
    "# Mean \n",
    "mu = 0\n",
    "\n",
    "#  Standard Deviation\n",
    "sigma = 0.1\n",
    "\n",
    "# Learning Rate\n",
    "eta = 0.1\n",
    "\n",
    "# Calculating weights from a Normal Distribution\n",
    "W = sigma * np.random.randn(9) + mu\n",
    "\n",
    "loss = []\n",
    "\n",
    "beta={1:0.9, 2:0.99}\n",
    "\n",
    "alpha = 0.001\n",
    "epsilon = 10 ** -7\n",
    "\n",
    "for epoch in range(0,100):\n",
    "    # Copy Weigts for convergence evaluation\n",
    "    temp = np.copy(W)\n",
    "    temp_loss = []\n",
    "    print('Executing Epoch {}'.format(epoch))\n",
    "    print(W)\n",
    "    # Place holder for capturing all the momentum values\n",
    "    v = {}\n",
    "    m = {}\n",
    "    for t, points in enumerate(zip(data[:, :5], data[:, -1])):\n",
    "        x_train = points[0]\n",
    "        y_train = points[1]\n",
    "        # Forward Propagation \n",
    "        forward_result  = forward_propagation(x_train, y_train, W)\n",
    "        # Backward Propagation\n",
    "        backward_result = backward_propagation(x_train, W, forward_result)\n",
    "        # Calculating loss for each data point\n",
    "        temp_loss.append(forward_result['loss'])\n",
    "        # Weights Updation\n",
    "        m_cap = {}\n",
    "        v_cap = {}\n",
    "        m[t] = {}\n",
    "        v[t] = {}\n",
    "        for ind, key in enumerate(backward_result.keys()):\n",
    "            \n",
    "            if key not in m.keys():\n",
    "                m[t][key] = {}\n",
    "                v[t][key] = {}\n",
    "            # Exponential Decaying Average\n",
    "            if t == 0:\n",
    "                m[t][key] = (1-beta[1]) * backward_result[key]\n",
    "                v[t][key] = (1-beta[2]) * (backward_result[key] ** 2)\n",
    "                \n",
    "            else:\n",
    "                m[t][key] = (beta[1] * m[t-1][key]) + ((1-beta[1]) * backward_result[key])\n",
    "                v[t][key] = (beta[2] * v[t-1][key]) + ((1-beta[2]) * (backward_result[key] ** 2))\n",
    "            \n",
    "            # Bias Correction \n",
    "            m_cap[key] = m[t][key]/(1-(beta[1] ** 2))\n",
    "            v_cap[key] = v[t][key]/(1-(beta[1] ** 2))\n",
    "            \n",
    "            # Updating Weights Using Momentum\n",
    "            \n",
    "            W[ind] = W[ind] - ((alpha * m_cap[key])/((np.sqrt(v_cap[key]))+epsilon))\n",
    "  \n",
    "    # Checking for convergence    \n",
    "    if np.where(W - temp > 10 ** -2)[0].shape[0] == 0:\n",
    "        print('\\n')\n",
    "        print(\"-\"*100)\n",
    "        print('Weigths Have Converged')\n",
    "        print(\"-\"*100)\n",
    "        break\n",
    "\n",
    "    loss.append(np.mean(temp_loss))"
   ]
  },
  {
   "cell_type": "markdown",
   "metadata": {
    "colab_type": "text",
    "id": "MMy0nBw-lXml"
   },
   "source": [
    "<font color='blue'>Plot between epochs and loss</font>"
   ]
  },
  {
   "cell_type": "code",
   "execution_count": 101,
   "metadata": {
    "ExecuteTime": {
     "end_time": "2020-09-01T11:09:47.839335Z",
     "start_time": "2020-09-01T11:09:47.628862Z"
    },
    "colab": {},
    "colab_type": "code",
    "id": "aiFRk_uFlm2V"
   },
   "outputs": [
    {
     "data": {
      "image/png": "[encoded data removed]",
      "text/plain": [
       "<Figure size 1080x360 with 1 Axes>"
      ]
     },
     "metadata": {
      "needs_background": "light"
     },
     "output_type": "display_data"
    }
   ],
   "source": [
    "_, ax = plt.subplots(1, 1, figsize=(15,5))\n",
    "ax.plot(loss)\n",
    "ax.set_title('Loss Per Epoch')\n",
    "plt.show()\n",
    "\n",
    "adam_loss = loss"
   ]
  },
  {
   "cell_type": "markdown",
   "metadata": {
    "colab_type": "text",
    "id": "7627cy8YlnYO"
   },
   "source": [
    "<font color='blue'>Comparision plot between epochs and loss with different optimizers</font>"
   ]
  },
  {
   "cell_type": "code",
   "execution_count": 102,
   "metadata": {
    "ExecuteTime": {
     "end_time": "2020-09-01T11:09:50.446633Z",
     "start_time": "2020-09-01T11:09:50.148624Z"
    },
    "colab": {},
    "colab_type": "code",
    "id": "scleSfIXl_bC"
   },
   "outputs": [
    {
     "data": {
      "image/png": "[encoded data removed]",
      "text/plain": [
       "<Figure size 1440x720 with 1 Axes>"
      ]
     },
     "metadata": {
      "needs_background": "light"
     },
     "output_type": "display_data"
    }
   ],
   "source": [
    "_, ax = plt.subplots(1, 1, figsize=(20,10))\n",
    "ax.plot(vanilla_loss, label='Vanilla',color='Green', alpha=0.7)\n",
    "ax.plot(momentum_loss, label='Momentum',color='Blue', alpha=0.9)\n",
    "ax.plot(adam_loss, label='Adam',color='Red')\n",
    "ax.set_title('Loss Comparison')\n",
    "ax.legend()\n",
    "plt.show()\n",
    "\n"
   ]
  }
 ],
 "metadata": {
  "colab": {
   "collapsed_sections": [],
   "name": "Backpropagation_assignment.ipynb",
   "provenance": []
  },
  "kernelspec": {
   "display_name": "Python 3",
   "language": "python",
   "name": "python3"
  },
  "language_info": {
   "codemirror_mode": {
    "name": "ipython",
    "version": 3
   },
   "file_extension": ".py",
   "mimetype": "text/x-python",
   "name": "python",
   "nbconvert_exporter": "python",
   "pygments_lexer": "ipython3",
   "version": "3.8.3"
  },
  "latex_envs": {
   "LaTeX_envs_menu_present": true,
   "autoclose": false,
   "autocomplete": true,
   "bibliofile": "biblio.bib",
   "cite_by": "apalike",
   "current_citInitial": 1,
   "eqLabelWithNumbers": true,
   "eqNumInitial": 1,
   "hotkeys": {
    "equation": "Ctrl-E",
    "itemize": "Ctrl-I"
   },
   "labels_anchors": false,
   "latex_user_defs": false,
   "report_style_numbering": false,
   "user_envs_cfg": false
  },
  "toc": {
   "base_numbering": 1,
   "nav_menu": {},
   "number_sections": true,
   "sideBar": true,
   "skip_h1_title": false,
   "title_cell": "Table of Contents",
   "title_sidebar": "Contents",
   "toc_cell": false,
   "toc_position": {
    "height": "763px",
    "left": "114px",
    "top": "34.5667px",
    "width": "360px"
   },
   "toc_section_display": true,
   "toc_window_display": true
  },
  "varInspector": {
   "cols": {
    "lenName": 16,
    "lenType": 16,
    "lenVar": 40
   },
   "kernels_config": {
    "python": {
     "delete_cmd_postfix": "",
     "delete_cmd_prefix": "del ",
     "library": "var_list.py",
     "varRefreshCmd": "print(var_dic_list())"
    },
    "r": {
     "delete_cmd_postfix": ") ",
     "delete_cmd_prefix": "rm(",
     "library": "var_list.r",
     "varRefreshCmd": "cat(var_dic_list()) "
    }
   },
   "types_to_exclude": [
    "module",
    "function",
    "builtin_function_or_method",
    "instance",
    "_Feature"
   ],
   "window_display": false
  }
 },
 "nbformat": 4,
 "nbformat_minor": 1
}
