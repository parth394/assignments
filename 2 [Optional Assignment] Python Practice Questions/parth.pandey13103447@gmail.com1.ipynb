{
 "cells": [
  {
   "cell_type": "markdown",
   "metadata": {},
   "source": [
    "# Assignment 1 Notebook"
   ]
  },
  {
   "cell_type": "markdown",
   "metadata": {},
   "source": [
    "## Question 1"
   ]
  },
  {
   "cell_type": "code",
   "execution_count": 1,
   "metadata": {
    "ExecuteTime": {
     "end_time": "2019-09-02T18:56:12.404194Z",
     "start_time": "2019-09-02T18:56:04.844061Z"
    }
   },
   "outputs": [
    {
     "name": "stdout",
     "output_type": "stream",
     "text": [
      "Enter a number for which the table needs to be printed= 1000\n",
      "1000 * 1 = 1000\n",
      "1000 * 2 = 2000\n",
      "1000 * 3 = 3000\n",
      "1000 * 4 = 4000\n",
      "1000 * 5 = 5000\n",
      "1000 * 6 = 6000\n",
      "1000 * 7 = 7000\n",
      "1000 * 8 = 8000\n",
      "1000 * 9 = 9000\n",
      "1000 * 10 = 10000\n"
     ]
    }
   ],
   "source": [
    "def multiplication_table():\n",
    "    number =int(input('Enter a number for which the table needs to be printed = '))\n",
    "    for i in range(1,11):\n",
    "        print('{} * {} = {}'.format(number, i, number * i))\n",
    "\n",
    "multiplication_table()"
   ]
  },
  {
   "cell_type": "markdown",
   "metadata": {},
   "source": [
    "## Question 2"
   ]
  },
  {
   "cell_type": "code",
   "execution_count": 13,
   "metadata": {
    "ExecuteTime": {
     "end_time": "2019-09-02T19:09:11.656497Z",
     "start_time": "2019-09-02T19:09:11.612956Z"
    },
    "scrolled": false
   },
   "outputs": [
    {
     "name": "stdout",
     "output_type": "stream",
     "text": [
      "3 5\n",
      "5 7\n",
      "11 13\n",
      "17 19\n",
      "29 31\n",
      "41 43\n",
      "59 61\n",
      "71 73\n",
      "101 103\n",
      "107 109\n",
      "137 139\n",
      "149 151\n",
      "179 181\n",
      "191 193\n",
      "197 199\n",
      "227 229\n",
      "239 241\n",
      "269 271\n",
      "281 283\n",
      "311 313\n",
      "347 349\n",
      "419 421\n",
      "431 433\n",
      "461 463\n",
      "521 523\n",
      "569 571\n",
      "599 601\n",
      "617 619\n",
      "641 643\n",
      "659 661\n",
      "809 811\n",
      "821 823\n",
      "827 829\n",
      "857 859\n",
      "881 883\n"
     ]
    }
   ],
   "source": [
    "temp = []\n",
    "# Calculates and appends all the odd prime numbers\n",
    "for i in range(2,1001):\n",
    "    count = 0\n",
    "    if i % 2 == 0:\n",
    "        continue\n",
    "    for j in range(1,i+1):\n",
    "        if i % j == 0:\n",
    "            count += 1\n",
    "    if count == 2:\n",
    "        temp.append(i)\n",
    "# Finds the consecutive pairs and prints them\n",
    "for ind in range(len(temp)-1):\n",
    "    if temp[ind] + 2 == temp[ind+1] :\n",
    "        print(temp[ind],temp[ind+1])"
   ]
  },
  {
   "cell_type": "markdown",
   "metadata": {},
   "source": [
    "## Question 3"
   ]
  },
  {
   "cell_type": "code",
   "execution_count": 3,
   "metadata": {
    "ExecuteTime": {
     "end_time": "2019-09-02T22:23:44.403436Z",
     "start_time": "2019-09-02T22:23:44.394682Z"
    }
   },
   "outputs": [
    {
     "name": "stdout",
     "output_type": "stream",
     "text": [
      "Prime Factors of 56\n",
      "2\n",
      "2\n",
      "2\n",
      "7\n"
     ]
    }
   ],
   "source": [
    "x = 56\n",
    "factors = []\n",
    "# Finds the prime factors and appends it factors list\n",
    "for i in range(2, x):\n",
    "    if x % i == 0 and sum([1 for j in range(1,i+1) if i % j == 0 ]) == 2:\n",
    "        factors.append(i)\n",
    "residue = x\n",
    "i = 0\n",
    "print('Prime Factors of {}'.format(x))\n",
    "# Find\n",
    "while(i < len(factors)):\n",
    "    if residue % factors[i] == 0:\n",
    "        residue = residue / factors[i]\n",
    "        print(factors[i])\n",
    "        i -= 1\n",
    "    i += 1  "
   ]
  },
  {
   "cell_type": "markdown",
   "metadata": {},
   "source": [
    "## Question 4"
   ]
  },
  {
   "cell_type": "code",
   "execution_count": 3,
   "metadata": {
    "ExecuteTime": {
     "end_time": "2019-09-03T17:22:14.103889Z",
     "start_time": "2019-09-03T17:22:14.094422Z"
    }
   },
   "outputs": [
    {
     "name": "stdout",
     "output_type": "stream",
     "text": [
      "3628800\n",
      "90.0\n",
      "6.0\n"
     ]
    }
   ],
   "source": [
    "# calculates factorial recursion\n",
    "def factorial(n):\n",
    "    if n == 0:\n",
    "        return 1\n",
    "    return n * factorial(n-1)\n",
    "print(factorial(10))\n",
    "# calculates permutation by using the factorial function\n",
    "def permutation(n,r):\n",
    "    return factorial(n)/factorial(n-r)\n",
    "print(permutation(10,2))\n",
    "# Calculates the combinations by using the permiutation function\n",
    "def combinations(n,r):\n",
    "    return permutation(n,r) / factorial(r)\n",
    "print(combinations(4,2))"
   ]
  },
  {
   "cell_type": "markdown",
   "metadata": {},
   "source": [
    "## Question 5"
   ]
  },
  {
   "cell_type": "code",
   "execution_count": 2,
   "metadata": {
    "ExecuteTime": {
     "end_time": "2019-09-02T22:23:38.268216Z",
     "start_time": "2019-09-02T22:23:38.263059Z"
    }
   },
   "outputs": [
    {
     "name": "stdout",
     "output_type": "stream",
     "text": [
      "[1, 0, 1, 0]\n"
     ]
    }
   ],
   "source": [
    "x = 10\n",
    "# calculates the binary of representation of x and prints in actual order\n",
    "binary = []\n",
    "remainder = 0\n",
    "while(x > 0):\n",
    "    remainder = x % 2\n",
    "    x = x // 2\n",
    "    binary.append(remainder)\n",
    "print(binary[::-1])"
   ]
  },
  {
   "cell_type": "markdown",
   "metadata": {},
   "source": [
    "## Question 6"
   ]
  },
  {
   "cell_type": "code",
   "execution_count": 117,
   "metadata": {
    "ExecuteTime": {
     "end_time": "2019-09-02T20:21:57.268688Z",
     "start_time": "2019-09-02T20:21:57.260558Z"
    }
   },
   "outputs": [
    {
     "name": "stdout",
     "output_type": "stream",
     "text": [
      "153\n"
     ]
    }
   ],
   "source": [
    "# finds the cubesum of the given number\n",
    "def cubesum(number):\n",
    "    digit = []\n",
    "    while(number>0):\n",
    "        temp = number % 10\n",
    "        number = (number - temp) // 10\n",
    "        digit.append(temp)\n",
    "    return sum([i ** 3 for i in digit])\n",
    "\n",
    "# finds if a 3 digit number is an armstrong number \n",
    "def isArmstrong(number):\n",
    "    return number == cubesum(number)\n",
    "# Checks if a 3 digit number is armstrong then prints it\n",
    "def printArmstrong(number):\n",
    "    if isArmstrong(number):\n",
    "        print(number)\n",
    "\n",
    "printArmstrong(153)"
   ]
  },
  {
   "cell_type": "markdown",
   "metadata": {},
   "source": [
    "## Question 7"
   ]
  },
  {
   "cell_type": "code",
   "execution_count": 121,
   "metadata": {
    "ExecuteTime": {
     "end_time": "2019-09-02T20:27:36.824180Z",
     "start_time": "2019-09-02T20:27:36.816253Z"
    }
   },
   "outputs": [
    {
     "data": {
      "text/plain": [
       "9"
      ]
     },
     "execution_count": 121,
     "metadata": {},
     "output_type": "execute_result"
    }
   ],
   "source": [
    "# function to find the product of the digits of given number\n",
    "def prodDigits(number):\n",
    "    digit = 1\n",
    "    while(number > 0):\n",
    "        temp = number % 10\n",
    "        number = number // 10\n",
    "        digit = digit * temp\n",
    "    return digit\n",
    "prodDigits(33)"
   ]
  },
  {
   "cell_type": "markdown",
   "metadata": {},
   "source": [
    "## Question 8"
   ]
  },
  {
   "cell_type": "code",
   "execution_count": 138,
   "metadata": {
    "ExecuteTime": {
     "end_time": "2019-09-02T20:43:00.852573Z",
     "start_time": "2019-09-02T20:43:00.838142Z"
    }
   },
   "outputs": [
    {
     "name": "stdout",
     "output_type": "stream",
     "text": [
      "2\n"
     ]
    },
    {
     "data": {
      "text/plain": [
       "2"
      ]
     },
     "execution_count": 138,
     "metadata": {},
     "output_type": "execute_result"
    }
   ],
   "source": [
    "# finds the MDR of a number via recursion\n",
    "def MDR(number):\n",
    "    number = prodDigits(number)\n",
    "    if number >= 0 and number < 10:\n",
    "        print(number)\n",
    "    else:\n",
    "        return MDR(number)\n",
    "MDR(341)\n",
    "# Finds the persistence of a number \n",
    "def MPersistence(number):\n",
    "    count = 0\n",
    "    while(number > 10):\n",
    "        number = prodDigits(number)\n",
    "        count += 1\n",
    "    return count\n",
    "MPersistence(341)"
   ]
  },
  {
   "cell_type": "markdown",
   "metadata": {},
   "source": [
    "## Question 9"
   ]
  },
  {
   "cell_type": "code",
   "execution_count": 142,
   "metadata": {
    "ExecuteTime": {
     "end_time": "2019-09-02T20:47:57.195591Z",
     "start_time": "2019-09-02T20:47:57.187182Z"
    }
   },
   "outputs": [
    {
     "data": {
      "text/plain": [
       "55"
      ]
     },
     "execution_count": 142,
     "metadata": {},
     "output_type": "execute_result"
    }
   ],
   "source": [
    "# finds the sum of the proper divisor of a number \n",
    "def sumPDivisors(number):\n",
    "    temp = 0\n",
    "    for i in range(1,number):\n",
    "        if number % i == 0:\n",
    "            temp += i\n",
    "    return temp\n",
    "sumPDivisors(36)"
   ]
  },
  {
   "cell_type": "markdown",
   "metadata": {},
   "source": [
    "## Question 10"
   ]
  },
  {
   "cell_type": "code",
   "execution_count": 144,
   "metadata": {
    "ExecuteTime": {
     "end_time": "2019-09-02T20:49:04.745663Z",
     "start_time": "2019-09-02T20:49:04.739712Z"
    }
   },
   "outputs": [
    {
     "data": {
      "text/plain": [
       "True"
      ]
     },
     "execution_count": 144,
     "metadata": {},
     "output_type": "execute_result"
    }
   ],
   "source": [
    "# finds the sum of proper divisors and then checks if the number is equal to the sum\n",
    "def perfectNumbers(number):\n",
    "    temp = 0 \n",
    "    for i in range(1,number):\n",
    "        if number % i == 0:\n",
    "            temp += i\n",
    "    return temp == number\n",
    "perfectNumbers(28)"
   ]
  },
  {
   "cell_type": "markdown",
   "metadata": {},
   "source": [
    "## Question 11"
   ]
  },
  {
   "cell_type": "code",
   "execution_count": 155,
   "metadata": {
    "ExecuteTime": {
     "end_time": "2019-09-02T20:58:48.490374Z",
     "start_time": "2019-09-02T20:58:48.211461Z"
    }
   },
   "outputs": [
    {
     "name": "stdout",
     "output_type": "stream",
     "text": [
      "284 220\n"
     ]
    }
   ],
   "source": [
    "# finds the two numbers which amicable to each other \n",
    "def amicableNumbers(n):\n",
    "    for i in range(1, n+1):\n",
    "        for j in  range(1,i):\n",
    "            if sumPDivisors(i) == j and sumPDivisors(j) == i:\n",
    "                print(i,j)\n",
    "amicableNumbers(284)"
   ]
  },
  {
   "cell_type": "markdown",
   "metadata": {},
   "source": [
    "## Question 12"
   ]
  },
  {
   "cell_type": "code",
   "execution_count": 160,
   "metadata": {
    "ExecuteTime": {
     "end_time": "2019-09-02T21:01:44.966161Z",
     "start_time": "2019-09-02T21:01:44.956043Z"
    }
   },
   "outputs": [
    {
     "name": "stdout",
     "output_type": "stream",
     "text": [
      "[0, 2, 4, 6, 8, 10, 12, 14, 16, 18, 20, 22, 24, 26, 28, 30, 32, 34, 36, 38, 40, 42, 44, 46, 48, 50, 52, 54, 56, 58, 60, 62, 64, 66, 68, 70, 72, 74, 76, 78, 80, 82, 84, 86, 88, 90, 92, 94, 96, 98, 100, 102, 104, 106, 108, 110, 112, 114, 116, 118, 120, 122, 124, 126, 128, 130, 132, 134, 136, 138, 140, 142, 144, 146, 148, 150, 152, 154, 156, 158, 160, 162, 164, 166, 168, 170, 172, 174, 176, 178, 180, 182, 184, 186, 188, 190, 192, 194, 196, 198, 200, 202, 204, 206, 208, 210, 212, 214, 216, 218, 220, 222, 224, 226, 228, 230, 232, 234, 236, 238, 240, 242, 244, 246, 248, 250, 252, 254, 256, 258, 260, 262, 264, 266, 268, 270, 272, 274, 276, 278, 280, 282, 284, 286, 288, 290, 292, 294, 296, 298, 300, 302, 304, 306, 308, 310, 312, 314, 316, 318, 320, 322, 324, 326, 328, 330, 332, 334, 336, 338, 340, 342, 344, 346, 348, 350, 352, 354, 356, 358, 360, 362, 364, 366, 368, 370, 372, 374, 376, 378, 380, 382, 384, 386, 388, 390, 392, 394, 396, 398, 400, 402, 404, 406, 408, 410, 412, 414, 416, 418, 420, 422, 424, 426, 428, 430, 432, 434, 436, 438, 440, 442, 444, 446, 448, 450, 452, 454, 456, 458, 460, 462, 464, 466, 468, 470, 472, 474, 476, 478, 480, 482, 484, 486, 488, 490, 492, 494, 496, 498, 500, 502, 504, 506, 508, 510, 512, 514, 516, 518, 520, 522, 524, 526, 528, 530, 532, 534, 536, 538, 540, 542, 544, 546, 548, 550, 552, 554, 556, 558, 560, 562, 564, 566, 568, 570, 572, 574, 576, 578, 580, 582, 584, 586, 588, 590, 592, 594, 596, 598, 600, 602, 604, 606, 608, 610, 612, 614, 616, 618, 620, 622, 624, 626, 628, 630, 632, 634, 636, 638, 640, 642, 644, 646, 648, 650, 652, 654, 656, 658, 660, 662, 664, 666, 668, 670, 672, 674, 676, 678, 680, 682, 684, 686, 688, 690, 692, 694, 696, 698, 700, 702, 704, 706, 708, 710, 712, 714, 716, 718, 720, 722, 724, 726, 728, 730, 732, 734, 736, 738, 740, 742, 744, 746, 748, 750, 752, 754, 756, 758, 760, 762, 764, 766, 768, 770, 772, 774, 776, 778, 780, 782, 784, 786, 788, 790, 792, 794, 796, 798, 800, 802, 804, 806, 808, 810, 812, 814, 816, 818, 820, 822, 824, 826, 828, 830, 832, 834, 836, 838, 840, 842, 844, 846, 848, 850, 852, 854, 856, 858, 860, 862, 864, 866, 868, 870, 872, 874, 876, 878, 880, 882, 884, 886, 888, 890, 892, 894, 896, 898, 900, 902, 904, 906, 908, 910, 912, 914, 916, 918, 920, 922, 924, 926, 928, 930, 932, 934, 936, 938, 940, 942, 944, 946, 948, 950, 952, 954, 956, 958, 960, 962, 964, 966, 968, 970, 972, 974, 976, 978, 980, 982, 984, 986, 988, 990, 992, 994, 996, 998]\n"
     ]
    }
   ],
   "source": [
    "# Creates a list of 1000 numbers \n",
    "x = [i for i in range(1000)]\n",
    "# filters out odd numbers\n",
    "x = list(filter(lambda z : z % 2 == 0 , x))\n",
    "print(x)"
   ]
  },
  {
   "cell_type": "markdown",
   "metadata": {},
   "source": [
    "## Question 13"
   ]
  },
  {
   "cell_type": "code",
   "execution_count": 163,
   "metadata": {
    "ExecuteTime": {
     "end_time": "2019-09-02T21:04:13.599354Z",
     "start_time": "2019-09-02T21:04:13.587139Z"
    }
   },
   "outputs": [
    {
     "name": "stdout",
     "output_type": "stream",
     "text": [
      "[0, 1, 8, 27, 64, 125, 216, 343, 512, 729, 1000, 1331, 1728, 2197, 2744, 3375, 4096, 4913, 5832, 6859, 8000, 9261, 10648, 12167, 13824, 15625, 17576, 19683, 21952, 24389, 27000, 29791, 32768, 35937, 39304, 42875, 46656, 50653, 54872, 59319, 64000, 68921, 74088, 79507, 85184, 91125, 97336, 103823, 110592, 117649, 125000, 132651, 140608, 148877, 157464, 166375, 175616, 185193, 195112, 205379, 216000, 226981, 238328, 250047, 262144, 274625, 287496, 300763, 314432, 328509, 343000, 357911, 373248, 389017, 405224, 421875, 438976, 456533, 474552, 493039, 512000, 531441, 551368, 571787, 592704, 614125, 636056, 658503, 681472, 704969, 729000, 753571, 778688, 804357, 830584, 857375, 884736, 912673, 941192, 970299]\n"
     ]
    }
   ],
   "source": [
    "# Create a list of 100 numbers \n",
    "x = [i for i in range(100)]\n",
    "# Find the cube of those numbers\n",
    "x = list(map(lambda z : z **3,x))\n",
    "print(x)"
   ]
  },
  {
   "cell_type": "markdown",
   "metadata": {},
   "source": [
    "## Question 14"
   ]
  },
  {
   "cell_type": "code",
   "execution_count": 166,
   "metadata": {
    "ExecuteTime": {
     "end_time": "2019-09-02T21:08:49.520199Z",
     "start_time": "2019-09-02T21:08:49.515511Z"
    }
   },
   "outputs": [
    {
     "name": "stdout",
     "output_type": "stream",
     "text": [
      "[0, 8, 64, 216, 512, 1000, 1728, 2744, 4096, 5832, 8000, 10648, 13824, 17576, 21952, 27000, 32768, 39304, 46656, 54872, 64000, 74088, 85184, 97336, 110592, 125000, 140608, 157464, 175616, 195112, 216000, 238328, 262144, 287496, 314432, 343000, 373248, 405224, 438976, 474552, 512000, 551368, 592704, 636056, 681472, 729000, 778688, 830584, 884736, 941192]\n"
     ]
    }
   ],
   "source": [
    "# Create a list of 100 numbers \n",
    "x = [i for i in range(100)]\n",
    "# Filter the odd numbers and find the cube of the remaining numbers\n",
    "x = list(map(lambda x: x ** 3 , filter(lambda x: x % 2 == 0 , x )))\n",
    "print(x)"
   ]
  }
 ],
 "metadata": {
  "kernelspec": {
   "display_name": "Python 3",
   "language": "python",
   "name": "python3"
  },
  "language_info": {
   "codemirror_mode": {
    "name": "ipython",
    "version": 3
   },
   "file_extension": ".py",
   "mimetype": "text/x-python",
   "name": "python",
   "nbconvert_exporter": "python",
   "pygments_lexer": "ipython3",
   "version": "3.6.8"
  },
  "latex_envs": {
   "LaTeX_envs_menu_present": true,
   "autoclose": false,
   "autocomplete": true,
   "bibliofile": "biblio.bib",
   "cite_by": "apalike",
   "current_citInitial": 1,
   "eqLabelWithNumbers": true,
   "eqNumInitial": 1,
   "hotkeys": {
    "equation": "Ctrl-E",
    "itemize": "Ctrl-I"
   },
   "labels_anchors": false,
   "latex_user_defs": false,
   "report_style_numbering": false,
   "user_envs_cfg": false
  },
  "toc": {
   "base_numbering": 1,
   "nav_menu": {},
   "number_sections": true,
   "sideBar": true,
   "skip_h1_title": false,
   "title_cell": "Table of Contents",
   "title_sidebar": "Contents",
   "toc_cell": false,
   "toc_position": {
    "height": "calc(100% - 180px)",
    "left": "10px",
    "top": "150px",
    "width": "384px"
   },
   "toc_section_display": true,
   "toc_window_display": true
  },
  "varInspector": {
   "cols": {
    "lenName": 16,
    "lenType": 16,
    "lenVar": 40
   },
   "kernels_config": {
    "python": {
     "delete_cmd_postfix": "",
     "delete_cmd_prefix": "del ",
     "library": "var_list.py",
     "varRefreshCmd": "print(var_dic_list())"
    },
    "r": {
     "delete_cmd_postfix": ") ",
     "delete_cmd_prefix": "rm(",
     "library": "var_list.r",
     "varRefreshCmd": "cat(var_dic_list()) "
    }
   },
   "types_to_exclude": [
    "module",
    "function",
    "builtin_function_or_method",
    "instance",
    "_Feature"
   ],
   "window_display": false
  }
 },
 "nbformat": 4,
 "nbformat_minor": 2
}
