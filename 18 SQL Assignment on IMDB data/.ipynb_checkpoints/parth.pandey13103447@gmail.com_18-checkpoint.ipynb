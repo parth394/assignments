{
 "cells": [
  {
   "cell_type": "markdown",
   "metadata": {
    "id": "hmzI5oZ6E_Hp"
   },
   "source": [
    "# SQL Assignment"
   ]
  },
  {
   "cell_type": "markdown",
   "metadata": {},
   "source": [
    "## Imports"
   ]
  },
  {
   "cell_type": "code",
   "execution_count": 1,
   "metadata": {
    "ExecuteTime": {
     "end_time": "2021-05-29T14:02:53.718009Z",
     "start_time": "2021-05-29T14:02:53.500453Z"
    },
    "executionInfo": {
     "elapsed": 5267,
     "status": "ok",
     "timestamp": 1621343497192,
     "user": {
      "displayName": "Kaushiki Cunductors",
      "photoUrl": "",
      "userId": "10657809218464400202"
     },
     "user_tz": -330
    },
    "id": "wso5pGwnE_Ht"
   },
   "outputs": [],
   "source": [
    "import pandas as pd\n",
    "import sqlite3, os\n",
    "from IPython.display import display, HTML"
   ]
  },
  {
   "cell_type": "code",
   "execution_count": 2,
   "metadata": {
    "ExecuteTime": {
     "end_time": "2021-05-29T14:02:53.778675Z",
     "start_time": "2021-05-29T14:02:53.767923Z"
    },
    "colab": {
     "base_uri": "https://localhost:8080/",
     "height": 35
    },
    "executionInfo": {
     "elapsed": 5248,
     "status": "ok",
     "timestamp": 1621343497195,
     "user": {
      "displayName": "Kaushiki Cunductors",
      "photoUrl": "",
      "userId": "10657809218464400202"
     },
     "user_tz": -330
    },
    "id": "0SoIVRA9qE-E",
    "outputId": "74eadd2c-8d54-4157-fa94-9f127dad578a"
   },
   "outputs": [
    {
     "data": {
      "text/plain": [
       "'/home/parth/AppliedAI/assignments/18 SQL Assignment on IMDB data'"
      ]
     },
     "execution_count": 2,
     "metadata": {},
     "output_type": "execute_result"
    }
   ],
   "source": [
    "os.getcwd()"
   ]
  },
  {
   "cell_type": "code",
   "execution_count": 3,
   "metadata": {
    "ExecuteTime": {
     "end_time": "2021-05-29T14:02:54.027838Z",
     "start_time": "2021-05-29T14:02:54.022472Z"
    },
    "executionInfo": {
     "elapsed": 45205,
     "status": "ok",
     "timestamp": 1621343537177,
     "user": {
      "displayName": "Kaushiki Cunductors",
      "photoUrl": "",
      "userId": "10657809218464400202"
     },
     "user_tz": -330
    },
    "id": "xrUl9ShkE_H0"
   },
   "outputs": [],
   "source": [
    "conn = sqlite3.connect(\"Db-IMDB-Assignment.db\",  check_same_thread=False)"
   ]
  },
  {
   "cell_type": "markdown",
   "metadata": {
    "id": "Z_ADQl2BE_H6"
   },
   "source": [
    "## Overview of all tables"
   ]
  },
  {
   "cell_type": "code",
   "execution_count": 4,
   "metadata": {
    "ExecuteTime": {
     "end_time": "2021-05-29T13:57:57.714738Z",
     "start_time": "2021-05-29T13:57:57.577108Z"
    },
    "executionInfo": {
     "elapsed": 45204,
     "status": "ok",
     "timestamp": 1621343537178,
     "user": {
      "displayName": "Kaushiki Cunductors",
      "photoUrl": "",
      "userId": "10657809218464400202"
     },
     "user_tz": -330
    },
    "id": "7ZfheusYE_H7",
    "scrolled": true
   },
   "outputs": [],
   "source": [
    "tables = pd.read_sql_query(\"SELECT NAME AS 'Table_Name' FROM sqlite_master WHERE type='table'\",conn)\n",
    "tables = tables[\"Table_Name\"].values.tolist()"
   ]
  },
  {
   "cell_type": "code",
   "execution_count": 5,
   "metadata": {
    "ExecuteTime": {
     "end_time": "2021-05-29T13:57:59.102451Z",
     "start_time": "2021-05-29T13:57:58.891123Z"
    },
    "colab": {
     "base_uri": "https://localhost:8080/",
     "height": 1000
    },
    "executionInfo": {
     "elapsed": 46034,
     "status": "ok",
     "timestamp": 1621343538019,
     "user": {
      "displayName": "Kaushiki Cunductors",
      "photoUrl": "",
      "userId": "10657809218464400202"
     },
     "user_tz": -330
    },
    "id": "f3zLh5FGE_H_",
    "outputId": "b6f95c21-99f0-4fa4-bd0d-0ac4dd4f2ce2",
    "scrolled": true
   },
   "outputs": [
    {
     "name": "stdout",
     "output_type": "stream",
     "text": [
      "Schema of Movie\n"
     ]
    },
    {
     "data": {
      "text/html": [
       "<div>\n",
       "<style scoped>\n",
       "    .dataframe tbody tr th:only-of-type {\n",
       "        vertical-align: middle;\n",
       "    }\n",
       "\n",
       "    .dataframe tbody tr th {\n",
       "        vertical-align: top;\n",
       "    }\n",
       "\n",
       "    .dataframe thead th {\n",
       "        text-align: right;\n",
       "    }\n",
       "</style>\n",
       "<table border=\"1\" class=\"dataframe\">\n",
       "  <thead>\n",
       "    <tr style=\"text-align: right;\">\n",
       "      <th></th>\n",
       "      <th>cid</th>\n",
       "      <th>name</th>\n",
       "      <th>type</th>\n",
       "      <th>notnull</th>\n",
       "      <th>dflt_value</th>\n",
       "      <th>pk</th>\n",
       "    </tr>\n",
       "  </thead>\n",
       "  <tbody>\n",
       "    <tr>\n",
       "      <th>0</th>\n",
       "      <td>0</td>\n",
       "      <td>index</td>\n",
       "      <td>INTEGER</td>\n",
       "      <td>0</td>\n",
       "      <td>None</td>\n",
       "      <td>0</td>\n",
       "    </tr>\n",
       "    <tr>\n",
       "      <th>1</th>\n",
       "      <td>1</td>\n",
       "      <td>MID</td>\n",
       "      <td>TEXT</td>\n",
       "      <td>0</td>\n",
       "      <td>None</td>\n",
       "      <td>0</td>\n",
       "    </tr>\n",
       "    <tr>\n",
       "      <th>2</th>\n",
       "      <td>2</td>\n",
       "      <td>title</td>\n",
       "      <td>TEXT</td>\n",
       "      <td>0</td>\n",
       "      <td>None</td>\n",
       "      <td>0</td>\n",
       "    </tr>\n",
       "    <tr>\n",
       "      <th>3</th>\n",
       "      <td>3</td>\n",
       "      <td>year</td>\n",
       "      <td>TEXT</td>\n",
       "      <td>0</td>\n",
       "      <td>None</td>\n",
       "      <td>0</td>\n",
       "    </tr>\n",
       "    <tr>\n",
       "      <th>4</th>\n",
       "      <td>4</td>\n",
       "      <td>rating</td>\n",
       "      <td>REAL</td>\n",
       "      <td>0</td>\n",
       "      <td>None</td>\n",
       "      <td>0</td>\n",
       "    </tr>\n",
       "    <tr>\n",
       "      <th>5</th>\n",
       "      <td>5</td>\n",
       "      <td>num_votes</td>\n",
       "      <td>INTEGER</td>\n",
       "      <td>0</td>\n",
       "      <td>None</td>\n",
       "      <td>0</td>\n",
       "    </tr>\n",
       "  </tbody>\n",
       "</table>\n",
       "</div>"
      ],
      "text/plain": [
       "   cid       name     type  notnull dflt_value  pk\n",
       "0    0      index  INTEGER        0       None   0\n",
       "1    1        MID     TEXT        0       None   0\n",
       "2    2      title     TEXT        0       None   0\n",
       "3    3       year     TEXT        0       None   0\n",
       "4    4     rating     REAL        0       None   0\n",
       "5    5  num_votes  INTEGER        0       None   0"
      ]
     },
     "metadata": {},
     "output_type": "display_data"
    },
    {
     "name": "stdout",
     "output_type": "stream",
     "text": [
      "----------------------------------------------------------------------------------------------------\n",
      "\n",
      "\n",
      "Schema of Genre\n"
     ]
    },
    {
     "data": {
      "text/html": [
       "<div>\n",
       "<style scoped>\n",
       "    .dataframe tbody tr th:only-of-type {\n",
       "        vertical-align: middle;\n",
       "    }\n",
       "\n",
       "    .dataframe tbody tr th {\n",
       "        vertical-align: top;\n",
       "    }\n",
       "\n",
       "    .dataframe thead th {\n",
       "        text-align: right;\n",
       "    }\n",
       "</style>\n",
       "<table border=\"1\" class=\"dataframe\">\n",
       "  <thead>\n",
       "    <tr style=\"text-align: right;\">\n",
       "      <th></th>\n",
       "      <th>cid</th>\n",
       "      <th>name</th>\n",
       "      <th>type</th>\n",
       "      <th>notnull</th>\n",
       "      <th>dflt_value</th>\n",
       "      <th>pk</th>\n",
       "    </tr>\n",
       "  </thead>\n",
       "  <tbody>\n",
       "    <tr>\n",
       "      <th>0</th>\n",
       "      <td>0</td>\n",
       "      <td>index</td>\n",
       "      <td>INTEGER</td>\n",
       "      <td>0</td>\n",
       "      <td>None</td>\n",
       "      <td>0</td>\n",
       "    </tr>\n",
       "    <tr>\n",
       "      <th>1</th>\n",
       "      <td>1</td>\n",
       "      <td>Name</td>\n",
       "      <td>TEXT</td>\n",
       "      <td>0</td>\n",
       "      <td>None</td>\n",
       "      <td>0</td>\n",
       "    </tr>\n",
       "    <tr>\n",
       "      <th>2</th>\n",
       "      <td>2</td>\n",
       "      <td>GID</td>\n",
       "      <td>INTEGER</td>\n",
       "      <td>0</td>\n",
       "      <td>None</td>\n",
       "      <td>0</td>\n",
       "    </tr>\n",
       "  </tbody>\n",
       "</table>\n",
       "</div>"
      ],
      "text/plain": [
       "   cid   name     type  notnull dflt_value  pk\n",
       "0    0  index  INTEGER        0       None   0\n",
       "1    1   Name     TEXT        0       None   0\n",
       "2    2    GID  INTEGER        0       None   0"
      ]
     },
     "metadata": {},
     "output_type": "display_data"
    },
    {
     "name": "stdout",
     "output_type": "stream",
     "text": [
      "----------------------------------------------------------------------------------------------------\n",
      "\n",
      "\n",
      "Schema of Language\n"
     ]
    },
    {
     "data": {
      "text/html": [
       "<div>\n",
       "<style scoped>\n",
       "    .dataframe tbody tr th:only-of-type {\n",
       "        vertical-align: middle;\n",
       "    }\n",
       "\n",
       "    .dataframe tbody tr th {\n",
       "        vertical-align: top;\n",
       "    }\n",
       "\n",
       "    .dataframe thead th {\n",
       "        text-align: right;\n",
       "    }\n",
       "</style>\n",
       "<table border=\"1\" class=\"dataframe\">\n",
       "  <thead>\n",
       "    <tr style=\"text-align: right;\">\n",
       "      <th></th>\n",
       "      <th>cid</th>\n",
       "      <th>name</th>\n",
       "      <th>type</th>\n",
       "      <th>notnull</th>\n",
       "      <th>dflt_value</th>\n",
       "      <th>pk</th>\n",
       "    </tr>\n",
       "  </thead>\n",
       "  <tbody>\n",
       "    <tr>\n",
       "      <th>0</th>\n",
       "      <td>0</td>\n",
       "      <td>index</td>\n",
       "      <td>INTEGER</td>\n",
       "      <td>0</td>\n",
       "      <td>None</td>\n",
       "      <td>0</td>\n",
       "    </tr>\n",
       "    <tr>\n",
       "      <th>1</th>\n",
       "      <td>1</td>\n",
       "      <td>Name</td>\n",
       "      <td>TEXT</td>\n",
       "      <td>0</td>\n",
       "      <td>None</td>\n",
       "      <td>0</td>\n",
       "    </tr>\n",
       "    <tr>\n",
       "      <th>2</th>\n",
       "      <td>2</td>\n",
       "      <td>LAID</td>\n",
       "      <td>INTEGER</td>\n",
       "      <td>0</td>\n",
       "      <td>None</td>\n",
       "      <td>0</td>\n",
       "    </tr>\n",
       "  </tbody>\n",
       "</table>\n",
       "</div>"
      ],
      "text/plain": [
       "   cid   name     type  notnull dflt_value  pk\n",
       "0    0  index  INTEGER        0       None   0\n",
       "1    1   Name     TEXT        0       None   0\n",
       "2    2   LAID  INTEGER        0       None   0"
      ]
     },
     "metadata": {},
     "output_type": "display_data"
    },
    {
     "name": "stdout",
     "output_type": "stream",
     "text": [
      "----------------------------------------------------------------------------------------------------\n",
      "\n",
      "\n",
      "Schema of Country\n"
     ]
    },
    {
     "data": {
      "text/html": [
       "<div>\n",
       "<style scoped>\n",
       "    .dataframe tbody tr th:only-of-type {\n",
       "        vertical-align: middle;\n",
       "    }\n",
       "\n",
       "    .dataframe tbody tr th {\n",
       "        vertical-align: top;\n",
       "    }\n",
       "\n",
       "    .dataframe thead th {\n",
       "        text-align: right;\n",
       "    }\n",
       "</style>\n",
       "<table border=\"1\" class=\"dataframe\">\n",
       "  <thead>\n",
       "    <tr style=\"text-align: right;\">\n",
       "      <th></th>\n",
       "      <th>cid</th>\n",
       "      <th>name</th>\n",
       "      <th>type</th>\n",
       "      <th>notnull</th>\n",
       "      <th>dflt_value</th>\n",
       "      <th>pk</th>\n",
       "    </tr>\n",
       "  </thead>\n",
       "  <tbody>\n",
       "    <tr>\n",
       "      <th>0</th>\n",
       "      <td>0</td>\n",
       "      <td>index</td>\n",
       "      <td>INTEGER</td>\n",
       "      <td>0</td>\n",
       "      <td>None</td>\n",
       "      <td>0</td>\n",
       "    </tr>\n",
       "    <tr>\n",
       "      <th>1</th>\n",
       "      <td>1</td>\n",
       "      <td>Name</td>\n",
       "      <td>TEXT</td>\n",
       "      <td>0</td>\n",
       "      <td>None</td>\n",
       "      <td>0</td>\n",
       "    </tr>\n",
       "    <tr>\n",
       "      <th>2</th>\n",
       "      <td>2</td>\n",
       "      <td>CID</td>\n",
       "      <td>INTEGER</td>\n",
       "      <td>0</td>\n",
       "      <td>None</td>\n",
       "      <td>0</td>\n",
       "    </tr>\n",
       "  </tbody>\n",
       "</table>\n",
       "</div>"
      ],
      "text/plain": [
       "   cid   name     type  notnull dflt_value  pk\n",
       "0    0  index  INTEGER        0       None   0\n",
       "1    1   Name     TEXT        0       None   0\n",
       "2    2    CID  INTEGER        0       None   0"
      ]
     },
     "metadata": {},
     "output_type": "display_data"
    },
    {
     "name": "stdout",
     "output_type": "stream",
     "text": [
      "----------------------------------------------------------------------------------------------------\n",
      "\n",
      "\n",
      "Schema of Location\n"
     ]
    },
    {
     "data": {
      "text/html": [
       "<div>\n",
       "<style scoped>\n",
       "    .dataframe tbody tr th:only-of-type {\n",
       "        vertical-align: middle;\n",
       "    }\n",
       "\n",
       "    .dataframe tbody tr th {\n",
       "        vertical-align: top;\n",
       "    }\n",
       "\n",
       "    .dataframe thead th {\n",
       "        text-align: right;\n",
       "    }\n",
       "</style>\n",
       "<table border=\"1\" class=\"dataframe\">\n",
       "  <thead>\n",
       "    <tr style=\"text-align: right;\">\n",
       "      <th></th>\n",
       "      <th>cid</th>\n",
       "      <th>name</th>\n",
       "      <th>type</th>\n",
       "      <th>notnull</th>\n",
       "      <th>dflt_value</th>\n",
       "      <th>pk</th>\n",
       "    </tr>\n",
       "  </thead>\n",
       "  <tbody>\n",
       "    <tr>\n",
       "      <th>0</th>\n",
       "      <td>0</td>\n",
       "      <td>index</td>\n",
       "      <td>INTEGER</td>\n",
       "      <td>0</td>\n",
       "      <td>None</td>\n",
       "      <td>0</td>\n",
       "    </tr>\n",
       "    <tr>\n",
       "      <th>1</th>\n",
       "      <td>1</td>\n",
       "      <td>Name</td>\n",
       "      <td>TEXT</td>\n",
       "      <td>0</td>\n",
       "      <td>None</td>\n",
       "      <td>0</td>\n",
       "    </tr>\n",
       "    <tr>\n",
       "      <th>2</th>\n",
       "      <td>2</td>\n",
       "      <td>LID</td>\n",
       "      <td>INTEGER</td>\n",
       "      <td>0</td>\n",
       "      <td>None</td>\n",
       "      <td>0</td>\n",
       "    </tr>\n",
       "  </tbody>\n",
       "</table>\n",
       "</div>"
      ],
      "text/plain": [
       "   cid   name     type  notnull dflt_value  pk\n",
       "0    0  index  INTEGER        0       None   0\n",
       "1    1   Name     TEXT        0       None   0\n",
       "2    2    LID  INTEGER        0       None   0"
      ]
     },
     "metadata": {},
     "output_type": "display_data"
    },
    {
     "name": "stdout",
     "output_type": "stream",
     "text": [
      "----------------------------------------------------------------------------------------------------\n",
      "\n",
      "\n",
      "Schema of M_Location\n"
     ]
    },
    {
     "data": {
      "text/html": [
       "<div>\n",
       "<style scoped>\n",
       "    .dataframe tbody tr th:only-of-type {\n",
       "        vertical-align: middle;\n",
       "    }\n",
       "\n",
       "    .dataframe tbody tr th {\n",
       "        vertical-align: top;\n",
       "    }\n",
       "\n",
       "    .dataframe thead th {\n",
       "        text-align: right;\n",
       "    }\n",
       "</style>\n",
       "<table border=\"1\" class=\"dataframe\">\n",
       "  <thead>\n",
       "    <tr style=\"text-align: right;\">\n",
       "      <th></th>\n",
       "      <th>cid</th>\n",
       "      <th>name</th>\n",
       "      <th>type</th>\n",
       "      <th>notnull</th>\n",
       "      <th>dflt_value</th>\n",
       "      <th>pk</th>\n",
       "    </tr>\n",
       "  </thead>\n",
       "  <tbody>\n",
       "    <tr>\n",
       "      <th>0</th>\n",
       "      <td>0</td>\n",
       "      <td>index</td>\n",
       "      <td>INTEGER</td>\n",
       "      <td>0</td>\n",
       "      <td>None</td>\n",
       "      <td>0</td>\n",
       "    </tr>\n",
       "    <tr>\n",
       "      <th>1</th>\n",
       "      <td>1</td>\n",
       "      <td>MID</td>\n",
       "      <td>TEXT</td>\n",
       "      <td>0</td>\n",
       "      <td>None</td>\n",
       "      <td>0</td>\n",
       "    </tr>\n",
       "    <tr>\n",
       "      <th>2</th>\n",
       "      <td>2</td>\n",
       "      <td>LID</td>\n",
       "      <td>REAL</td>\n",
       "      <td>0</td>\n",
       "      <td>None</td>\n",
       "      <td>0</td>\n",
       "    </tr>\n",
       "    <tr>\n",
       "      <th>3</th>\n",
       "      <td>3</td>\n",
       "      <td>ID</td>\n",
       "      <td>INTEGER</td>\n",
       "      <td>0</td>\n",
       "      <td>None</td>\n",
       "      <td>0</td>\n",
       "    </tr>\n",
       "  </tbody>\n",
       "</table>\n",
       "</div>"
      ],
      "text/plain": [
       "   cid   name     type  notnull dflt_value  pk\n",
       "0    0  index  INTEGER        0       None   0\n",
       "1    1    MID     TEXT        0       None   0\n",
       "2    2    LID     REAL        0       None   0\n",
       "3    3     ID  INTEGER        0       None   0"
      ]
     },
     "metadata": {},
     "output_type": "display_data"
    },
    {
     "name": "stdout",
     "output_type": "stream",
     "text": [
      "----------------------------------------------------------------------------------------------------\n",
      "\n",
      "\n",
      "Schema of M_Country\n"
     ]
    },
    {
     "data": {
      "text/html": [
       "<div>\n",
       "<style scoped>\n",
       "    .dataframe tbody tr th:only-of-type {\n",
       "        vertical-align: middle;\n",
       "    }\n",
       "\n",
       "    .dataframe tbody tr th {\n",
       "        vertical-align: top;\n",
       "    }\n",
       "\n",
       "    .dataframe thead th {\n",
       "        text-align: right;\n",
       "    }\n",
       "</style>\n",
       "<table border=\"1\" class=\"dataframe\">\n",
       "  <thead>\n",
       "    <tr style=\"text-align: right;\">\n",
       "      <th></th>\n",
       "      <th>cid</th>\n",
       "      <th>name</th>\n",
       "      <th>type</th>\n",
       "      <th>notnull</th>\n",
       "      <th>dflt_value</th>\n",
       "      <th>pk</th>\n",
       "    </tr>\n",
       "  </thead>\n",
       "  <tbody>\n",
       "    <tr>\n",
       "      <th>0</th>\n",
       "      <td>0</td>\n",
       "      <td>index</td>\n",
       "      <td>INTEGER</td>\n",
       "      <td>0</td>\n",
       "      <td>None</td>\n",
       "      <td>0</td>\n",
       "    </tr>\n",
       "    <tr>\n",
       "      <th>1</th>\n",
       "      <td>1</td>\n",
       "      <td>MID</td>\n",
       "      <td>TEXT</td>\n",
       "      <td>0</td>\n",
       "      <td>None</td>\n",
       "      <td>0</td>\n",
       "    </tr>\n",
       "    <tr>\n",
       "      <th>2</th>\n",
       "      <td>2</td>\n",
       "      <td>CID</td>\n",
       "      <td>REAL</td>\n",
       "      <td>0</td>\n",
       "      <td>None</td>\n",
       "      <td>0</td>\n",
       "    </tr>\n",
       "    <tr>\n",
       "      <th>3</th>\n",
       "      <td>3</td>\n",
       "      <td>ID</td>\n",
       "      <td>INTEGER</td>\n",
       "      <td>0</td>\n",
       "      <td>None</td>\n",
       "      <td>0</td>\n",
       "    </tr>\n",
       "  </tbody>\n",
       "</table>\n",
       "</div>"
      ],
      "text/plain": [
       "   cid   name     type  notnull dflt_value  pk\n",
       "0    0  index  INTEGER        0       None   0\n",
       "1    1    MID     TEXT        0       None   0\n",
       "2    2    CID     REAL        0       None   0\n",
       "3    3     ID  INTEGER        0       None   0"
      ]
     },
     "metadata": {},
     "output_type": "display_data"
    },
    {
     "name": "stdout",
     "output_type": "stream",
     "text": [
      "----------------------------------------------------------------------------------------------------\n",
      "\n",
      "\n",
      "Schema of M_Language\n"
     ]
    },
    {
     "data": {
      "text/html": [
       "<div>\n",
       "<style scoped>\n",
       "    .dataframe tbody tr th:only-of-type {\n",
       "        vertical-align: middle;\n",
       "    }\n",
       "\n",
       "    .dataframe tbody tr th {\n",
       "        vertical-align: top;\n",
       "    }\n",
       "\n",
       "    .dataframe thead th {\n",
       "        text-align: right;\n",
       "    }\n",
       "</style>\n",
       "<table border=\"1\" class=\"dataframe\">\n",
       "  <thead>\n",
       "    <tr style=\"text-align: right;\">\n",
       "      <th></th>\n",
       "      <th>cid</th>\n",
       "      <th>name</th>\n",
       "      <th>type</th>\n",
       "      <th>notnull</th>\n",
       "      <th>dflt_value</th>\n",
       "      <th>pk</th>\n",
       "    </tr>\n",
       "  </thead>\n",
       "  <tbody>\n",
       "    <tr>\n",
       "      <th>0</th>\n",
       "      <td>0</td>\n",
       "      <td>index</td>\n",
       "      <td>INTEGER</td>\n",
       "      <td>0</td>\n",
       "      <td>None</td>\n",
       "      <td>0</td>\n",
       "    </tr>\n",
       "    <tr>\n",
       "      <th>1</th>\n",
       "      <td>1</td>\n",
       "      <td>MID</td>\n",
       "      <td>TEXT</td>\n",
       "      <td>0</td>\n",
       "      <td>None</td>\n",
       "      <td>0</td>\n",
       "    </tr>\n",
       "    <tr>\n",
       "      <th>2</th>\n",
       "      <td>2</td>\n",
       "      <td>LAID</td>\n",
       "      <td>INTEGER</td>\n",
       "      <td>0</td>\n",
       "      <td>None</td>\n",
       "      <td>0</td>\n",
       "    </tr>\n",
       "    <tr>\n",
       "      <th>3</th>\n",
       "      <td>3</td>\n",
       "      <td>ID</td>\n",
       "      <td>INTEGER</td>\n",
       "      <td>0</td>\n",
       "      <td>None</td>\n",
       "      <td>0</td>\n",
       "    </tr>\n",
       "  </tbody>\n",
       "</table>\n",
       "</div>"
      ],
      "text/plain": [
       "   cid   name     type  notnull dflt_value  pk\n",
       "0    0  index  INTEGER        0       None   0\n",
       "1    1    MID     TEXT        0       None   0\n",
       "2    2   LAID  INTEGER        0       None   0\n",
       "3    3     ID  INTEGER        0       None   0"
      ]
     },
     "metadata": {},
     "output_type": "display_data"
    },
    {
     "name": "stdout",
     "output_type": "stream",
     "text": [
      "----------------------------------------------------------------------------------------------------\n",
      "\n",
      "\n",
      "Schema of M_Genre\n"
     ]
    },
    {
     "data": {
      "text/html": [
       "<div>\n",
       "<style scoped>\n",
       "    .dataframe tbody tr th:only-of-type {\n",
       "        vertical-align: middle;\n",
       "    }\n",
       "\n",
       "    .dataframe tbody tr th {\n",
       "        vertical-align: top;\n",
       "    }\n",
       "\n",
       "    .dataframe thead th {\n",
       "        text-align: right;\n",
       "    }\n",
       "</style>\n",
       "<table border=\"1\" class=\"dataframe\">\n",
       "  <thead>\n",
       "    <tr style=\"text-align: right;\">\n",
       "      <th></th>\n",
       "      <th>cid</th>\n",
       "      <th>name</th>\n",
       "      <th>type</th>\n",
       "      <th>notnull</th>\n",
       "      <th>dflt_value</th>\n",
       "      <th>pk</th>\n",
       "    </tr>\n",
       "  </thead>\n",
       "  <tbody>\n",
       "    <tr>\n",
       "      <th>0</th>\n",
       "      <td>0</td>\n",
       "      <td>index</td>\n",
       "      <td>INTEGER</td>\n",
       "      <td>0</td>\n",
       "      <td>None</td>\n",
       "      <td>0</td>\n",
       "    </tr>\n",
       "    <tr>\n",
       "      <th>1</th>\n",
       "      <td>1</td>\n",
       "      <td>MID</td>\n",
       "      <td>TEXT</td>\n",
       "      <td>0</td>\n",
       "      <td>None</td>\n",
       "      <td>0</td>\n",
       "    </tr>\n",
       "    <tr>\n",
       "      <th>2</th>\n",
       "      <td>2</td>\n",
       "      <td>GID</td>\n",
       "      <td>INTEGER</td>\n",
       "      <td>0</td>\n",
       "      <td>None</td>\n",
       "      <td>0</td>\n",
       "    </tr>\n",
       "    <tr>\n",
       "      <th>3</th>\n",
       "      <td>3</td>\n",
       "      <td>ID</td>\n",
       "      <td>INTEGER</td>\n",
       "      <td>0</td>\n",
       "      <td>None</td>\n",
       "      <td>0</td>\n",
       "    </tr>\n",
       "  </tbody>\n",
       "</table>\n",
       "</div>"
      ],
      "text/plain": [
       "   cid   name     type  notnull dflt_value  pk\n",
       "0    0  index  INTEGER        0       None   0\n",
       "1    1    MID     TEXT        0       None   0\n",
       "2    2    GID  INTEGER        0       None   0\n",
       "3    3     ID  INTEGER        0       None   0"
      ]
     },
     "metadata": {},
     "output_type": "display_data"
    },
    {
     "name": "stdout",
     "output_type": "stream",
     "text": [
      "----------------------------------------------------------------------------------------------------\n",
      "\n",
      "\n",
      "Schema of Person\n"
     ]
    },
    {
     "data": {
      "text/html": [
       "<div>\n",
       "<style scoped>\n",
       "    .dataframe tbody tr th:only-of-type {\n",
       "        vertical-align: middle;\n",
       "    }\n",
       "\n",
       "    .dataframe tbody tr th {\n",
       "        vertical-align: top;\n",
       "    }\n",
       "\n",
       "    .dataframe thead th {\n",
       "        text-align: right;\n",
       "    }\n",
       "</style>\n",
       "<table border=\"1\" class=\"dataframe\">\n",
       "  <thead>\n",
       "    <tr style=\"text-align: right;\">\n",
       "      <th></th>\n",
       "      <th>cid</th>\n",
       "      <th>name</th>\n",
       "      <th>type</th>\n",
       "      <th>notnull</th>\n",
       "      <th>dflt_value</th>\n",
       "      <th>pk</th>\n",
       "    </tr>\n",
       "  </thead>\n",
       "  <tbody>\n",
       "    <tr>\n",
       "      <th>0</th>\n",
       "      <td>0</td>\n",
       "      <td>index</td>\n",
       "      <td>INTEGER</td>\n",
       "      <td>0</td>\n",
       "      <td>None</td>\n",
       "      <td>0</td>\n",
       "    </tr>\n",
       "    <tr>\n",
       "      <th>1</th>\n",
       "      <td>1</td>\n",
       "      <td>PID</td>\n",
       "      <td>TEXT</td>\n",
       "      <td>0</td>\n",
       "      <td>None</td>\n",
       "      <td>0</td>\n",
       "    </tr>\n",
       "    <tr>\n",
       "      <th>2</th>\n",
       "      <td>2</td>\n",
       "      <td>Name</td>\n",
       "      <td>TEXT</td>\n",
       "      <td>0</td>\n",
       "      <td>None</td>\n",
       "      <td>0</td>\n",
       "    </tr>\n",
       "    <tr>\n",
       "      <th>3</th>\n",
       "      <td>3</td>\n",
       "      <td>Gender</td>\n",
       "      <td>TEXT</td>\n",
       "      <td>0</td>\n",
       "      <td>None</td>\n",
       "      <td>0</td>\n",
       "    </tr>\n",
       "  </tbody>\n",
       "</table>\n",
       "</div>"
      ],
      "text/plain": [
       "   cid    name     type  notnull dflt_value  pk\n",
       "0    0   index  INTEGER        0       None   0\n",
       "1    1     PID     TEXT        0       None   0\n",
       "2    2    Name     TEXT        0       None   0\n",
       "3    3  Gender     TEXT        0       None   0"
      ]
     },
     "metadata": {},
     "output_type": "display_data"
    },
    {
     "name": "stdout",
     "output_type": "stream",
     "text": [
      "----------------------------------------------------------------------------------------------------\n",
      "\n",
      "\n",
      "Schema of M_Producer\n"
     ]
    },
    {
     "data": {
      "text/html": [
       "<div>\n",
       "<style scoped>\n",
       "    .dataframe tbody tr th:only-of-type {\n",
       "        vertical-align: middle;\n",
       "    }\n",
       "\n",
       "    .dataframe tbody tr th {\n",
       "        vertical-align: top;\n",
       "    }\n",
       "\n",
       "    .dataframe thead th {\n",
       "        text-align: right;\n",
       "    }\n",
       "</style>\n",
       "<table border=\"1\" class=\"dataframe\">\n",
       "  <thead>\n",
       "    <tr style=\"text-align: right;\">\n",
       "      <th></th>\n",
       "      <th>cid</th>\n",
       "      <th>name</th>\n",
       "      <th>type</th>\n",
       "      <th>notnull</th>\n",
       "      <th>dflt_value</th>\n",
       "      <th>pk</th>\n",
       "    </tr>\n",
       "  </thead>\n",
       "  <tbody>\n",
       "    <tr>\n",
       "      <th>0</th>\n",
       "      <td>0</td>\n",
       "      <td>index</td>\n",
       "      <td>INTEGER</td>\n",
       "      <td>0</td>\n",
       "      <td>None</td>\n",
       "      <td>0</td>\n",
       "    </tr>\n",
       "    <tr>\n",
       "      <th>1</th>\n",
       "      <td>1</td>\n",
       "      <td>MID</td>\n",
       "      <td>TEXT</td>\n",
       "      <td>0</td>\n",
       "      <td>None</td>\n",
       "      <td>0</td>\n",
       "    </tr>\n",
       "    <tr>\n",
       "      <th>2</th>\n",
       "      <td>2</td>\n",
       "      <td>PID</td>\n",
       "      <td>TEXT</td>\n",
       "      <td>0</td>\n",
       "      <td>None</td>\n",
       "      <td>0</td>\n",
       "    </tr>\n",
       "    <tr>\n",
       "      <th>3</th>\n",
       "      <td>3</td>\n",
       "      <td>ID</td>\n",
       "      <td>INTEGER</td>\n",
       "      <td>0</td>\n",
       "      <td>None</td>\n",
       "      <td>0</td>\n",
       "    </tr>\n",
       "  </tbody>\n",
       "</table>\n",
       "</div>"
      ],
      "text/plain": [
       "   cid   name     type  notnull dflt_value  pk\n",
       "0    0  index  INTEGER        0       None   0\n",
       "1    1    MID     TEXT        0       None   0\n",
       "2    2    PID     TEXT        0       None   0\n",
       "3    3     ID  INTEGER        0       None   0"
      ]
     },
     "metadata": {},
     "output_type": "display_data"
    },
    {
     "name": "stdout",
     "output_type": "stream",
     "text": [
      "----------------------------------------------------------------------------------------------------\n",
      "\n",
      "\n",
      "Schema of M_Director\n"
     ]
    },
    {
     "data": {
      "text/html": [
       "<div>\n",
       "<style scoped>\n",
       "    .dataframe tbody tr th:only-of-type {\n",
       "        vertical-align: middle;\n",
       "    }\n",
       "\n",
       "    .dataframe tbody tr th {\n",
       "        vertical-align: top;\n",
       "    }\n",
       "\n",
       "    .dataframe thead th {\n",
       "        text-align: right;\n",
       "    }\n",
       "</style>\n",
       "<table border=\"1\" class=\"dataframe\">\n",
       "  <thead>\n",
       "    <tr style=\"text-align: right;\">\n",
       "      <th></th>\n",
       "      <th>cid</th>\n",
       "      <th>name</th>\n",
       "      <th>type</th>\n",
       "      <th>notnull</th>\n",
       "      <th>dflt_value</th>\n",
       "      <th>pk</th>\n",
       "    </tr>\n",
       "  </thead>\n",
       "  <tbody>\n",
       "    <tr>\n",
       "      <th>0</th>\n",
       "      <td>0</td>\n",
       "      <td>index</td>\n",
       "      <td>INTEGER</td>\n",
       "      <td>0</td>\n",
       "      <td>None</td>\n",
       "      <td>0</td>\n",
       "    </tr>\n",
       "    <tr>\n",
       "      <th>1</th>\n",
       "      <td>1</td>\n",
       "      <td>MID</td>\n",
       "      <td>TEXT</td>\n",
       "      <td>0</td>\n",
       "      <td>None</td>\n",
       "      <td>0</td>\n",
       "    </tr>\n",
       "    <tr>\n",
       "      <th>2</th>\n",
       "      <td>2</td>\n",
       "      <td>PID</td>\n",
       "      <td>TEXT</td>\n",
       "      <td>0</td>\n",
       "      <td>None</td>\n",
       "      <td>0</td>\n",
       "    </tr>\n",
       "    <tr>\n",
       "      <th>3</th>\n",
       "      <td>3</td>\n",
       "      <td>ID</td>\n",
       "      <td>INTEGER</td>\n",
       "      <td>0</td>\n",
       "      <td>None</td>\n",
       "      <td>0</td>\n",
       "    </tr>\n",
       "  </tbody>\n",
       "</table>\n",
       "</div>"
      ],
      "text/plain": [
       "   cid   name     type  notnull dflt_value  pk\n",
       "0    0  index  INTEGER        0       None   0\n",
       "1    1    MID     TEXT        0       None   0\n",
       "2    2    PID     TEXT        0       None   0\n",
       "3    3     ID  INTEGER        0       None   0"
      ]
     },
     "metadata": {},
     "output_type": "display_data"
    },
    {
     "name": "stdout",
     "output_type": "stream",
     "text": [
      "----------------------------------------------------------------------------------------------------\n",
      "\n",
      "\n",
      "Schema of M_Cast\n"
     ]
    },
    {
     "data": {
      "text/html": [
       "<div>\n",
       "<style scoped>\n",
       "    .dataframe tbody tr th:only-of-type {\n",
       "        vertical-align: middle;\n",
       "    }\n",
       "\n",
       "    .dataframe tbody tr th {\n",
       "        vertical-align: top;\n",
       "    }\n",
       "\n",
       "    .dataframe thead th {\n",
       "        text-align: right;\n",
       "    }\n",
       "</style>\n",
       "<table border=\"1\" class=\"dataframe\">\n",
       "  <thead>\n",
       "    <tr style=\"text-align: right;\">\n",
       "      <th></th>\n",
       "      <th>cid</th>\n",
       "      <th>name</th>\n",
       "      <th>type</th>\n",
       "      <th>notnull</th>\n",
       "      <th>dflt_value</th>\n",
       "      <th>pk</th>\n",
       "    </tr>\n",
       "  </thead>\n",
       "  <tbody>\n",
       "    <tr>\n",
       "      <th>0</th>\n",
       "      <td>0</td>\n",
       "      <td>index</td>\n",
       "      <td>INTEGER</td>\n",
       "      <td>0</td>\n",
       "      <td>None</td>\n",
       "      <td>0</td>\n",
       "    </tr>\n",
       "    <tr>\n",
       "      <th>1</th>\n",
       "      <td>1</td>\n",
       "      <td>MID</td>\n",
       "      <td>TEXT</td>\n",
       "      <td>0</td>\n",
       "      <td>None</td>\n",
       "      <td>0</td>\n",
       "    </tr>\n",
       "    <tr>\n",
       "      <th>2</th>\n",
       "      <td>2</td>\n",
       "      <td>PID</td>\n",
       "      <td>TEXT</td>\n",
       "      <td>0</td>\n",
       "      <td>None</td>\n",
       "      <td>0</td>\n",
       "    </tr>\n",
       "    <tr>\n",
       "      <th>3</th>\n",
       "      <td>3</td>\n",
       "      <td>ID</td>\n",
       "      <td>INTEGER</td>\n",
       "      <td>0</td>\n",
       "      <td>None</td>\n",
       "      <td>0</td>\n",
       "    </tr>\n",
       "  </tbody>\n",
       "</table>\n",
       "</div>"
      ],
      "text/plain": [
       "   cid   name     type  notnull dflt_value  pk\n",
       "0    0  index  INTEGER        0       None   0\n",
       "1    1    MID     TEXT        0       None   0\n",
       "2    2    PID     TEXT        0       None   0\n",
       "3    3     ID  INTEGER        0       None   0"
      ]
     },
     "metadata": {},
     "output_type": "display_data"
    },
    {
     "name": "stdout",
     "output_type": "stream",
     "text": [
      "----------------------------------------------------------------------------------------------------\n",
      "\n",
      "\n"
     ]
    }
   ],
   "source": [
    "for table in tables:\n",
    "    query = \"PRAGMA TABLE_INFO({})\".format(table)\n",
    "    schema = pd.read_sql_query(query,conn)\n",
    "    print(\"Schema of\",table)\n",
    "    display(schema)\n",
    "    print(\"-\"*100)\n",
    "    print(\"\\n\")"
   ]
  },
  {
   "cell_type": "markdown",
   "metadata": {
    "id": "O4Cj0Wdz23tA"
   },
   "source": [
    "## Useful tips:\n",
    "\n",
    "1. the year column in 'Movie' table, will have few chracters other than numbers which you need to be preprocessed, you need to get a substring of last 4 characters, its better if you convert it as int type, ex: CAST(SUBSTR(TRIM(m.year),-4) AS INTEGER)\n",
    "\n",
    "2. For almost all the TEXT columns we have show, please try to remove trailing spaces, you need to use TRIM() function\n",
    "\n",
    "3. When you are doing count(coulmn) it won't consider the \"NULL\" values, you might need to explore other alternatives like Count(*)"
   ]
  },
  {
   "cell_type": "markdown",
   "metadata": {},
   "source": [
    "## Questions"
   ]
  },
  {
   "cell_type": "markdown",
   "metadata": {
    "id": "jL9AmM3oE_IZ"
   },
   "source": [
    "### Q1 --- List all the directors who directed a 'Comedy' movie in a leap year. (You need to check that the genre is 'Comedy’ and year is a leap year) Your query should return director name, the movie name, and the year."
   ]
  },
  {
   "cell_type": "markdown",
   "metadata": {
    "id": "1jglmxDuE_Ib"
   },
   "source": [
    "**Hint**\n",
    "\n",
    "To determine whether a year is a leap year, follow these steps:\n",
    "\n",
    "<ul>\n",
    "    <li><b>STEP-1:</b> If the year is evenly divisible by 4, go to step 2. Otherwise, go to step 5.</li>\n",
    "    <li><b>STEP-2:</b> If the year is evenly divisible by 100, go to step 3. Otherwise, go to step 4.</li>\n",
    "    <li><b>STEP-3:</b> If the year is evenly divisible by 400, go to step 4. Otherwise, go to step 5.</li>\n",
    "    <li><b>STEP-4:</b> The year is a leap year (it has 366 days).</li>\n",
    "    <li><b>STEP-5:</b> The year is not a leap year (it has 365 days).</li>\n",
    "</ul>\n",
    "\n",
    "Year 1900 is divisible by 4 and 100 but it is not divisible by 400, so it is not a leap year."
   ]
  },
  {
   "cell_type": "code",
   "execution_count": 6,
   "metadata": {
    "ExecuteTime": {
     "end_time": "2021-05-20T08:24:27.653559Z",
     "start_time": "2021-05-20T08:24:27.575405Z"
    },
    "colab": {
     "base_uri": "https://localhost:8080/"
    },
    "executionInfo": {
     "elapsed": 1851,
     "status": "ok",
     "timestamp": 1621005027533,
     "user": {
      "displayName": "Kaushiki Cunductors",
      "photoUrl": "",
      "userId": "10657809218464400202"
     },
     "user_tz": -330
    },
    "id": "yBo_pMrH23tD",
    "outputId": "d221df59-54a7-465d-851e-ae02523124b1"
   },
   "outputs": [
    {
     "name": "stdout",
     "output_type": "stream",
     "text": [
      "                Name                         Movie_Name  Year\n",
      "0       MILAP ZAVERI                         MASTIZAADE  2016\n",
      "1       DANNY LEINER  HAROLD & KUMAR GO TO WHITE CASTLE  2004\n",
      "2     ANURAG KASHYAP                 GANGS OF WASSEYPUR  2012\n",
      "3       FRANK CORACI        AROUND THE WORLD IN 80 DAYS  2004\n",
      "4      GRIFFIN DUNNE             THE ACCIDENTAL HUSBAND  2008\n",
      "5        ANURAG BASU                             BARFI!  2012\n",
      "6    GURINDER CHADHA                  BRIDE & PREJUDICE  2004\n",
      "7         MIKE JUDGE    BEAVIS AND BUTT-HEAD DO AMERICA  1996\n",
      "8   TARUN MANSUKHANI                            DOSTANA  2008\n",
      "9       SHAKUN BATRA                      KAPOOR & SONS  2016\n",
      "CPU times: user 62.3 ms, sys: 7.01 ms, total: 69.3 ms\n",
      "Wall time: 73.6 ms\n"
     ]
    }
   ],
   "source": [
    "%%time\n",
    "def grader_1(q1):\n",
    "    q1_results  = pd.read_sql_query(q1,conn)\n",
    "    print(q1_results.head(10))\n",
    "    assert (q1_results.shape == (232,3))\n",
    "\n",
    "query1 = \"\"\" \n",
    "with  genre_table AS (\n",
    "  SELECT\n",
    "    mid\n",
    "  FROM M_GENRE mg\n",
    "  JOIN (\n",
    "    SELECT \n",
    "      gid \n",
    "    FROM GENRE\n",
    "    WHERE LOWER(name) LIKE '%comedy%'\n",
    "  ) g\n",
    "  ON g.gid = mg.gid\n",
    "),\n",
    "movie_table AS ( \n",
    "  SELECT \n",
    "    m.mid,\n",
    "    TRIM(title) movie_name,\n",
    "    CAST(SUBSTR(TRIM(year),-4) AS INTEGER) as year\n",
    "  FROM MOVIE m\n",
    "  JOIN genre_table gt \n",
    "  ON gt.mid = m.mid\n",
    "  WHERE (\n",
    "  CAST(SUBSTR(TRIM(year),-4) AS INTEGER) % 4 = 0 OR (CAST(SUBSTR(TRIM(year),-4) AS INTEGER) % 100 = 0 \n",
    "  OR CAST(SUBSTR(TRIM(year),-4) AS INTEGER) % 400 = 0 \n",
    ")\n",
    "      )\n",
    ")\n",
    "SELECT\n",
    "  UPPER(p.name) AS Name,\n",
    "  UPPER(mt.movie_name) AS Movie_Name,\n",
    "  mt.year as Year\n",
    "FROM movie_table mt\n",
    "JOIN M_Director md\n",
    "ON md.mid = mt.mid\n",
    "JOIN PERSON p \n",
    "ON p.pid=md.pid\n",
    "\"\"\"\n",
    "grader_1(query1)"
   ]
  },
  {
   "cell_type": "markdown",
   "metadata": {
    "id": "LHFSrIJlE_Ih"
   },
   "source": [
    "### Q2 --- List the names of all the actors who played in the movie 'Anand' (1971)"
   ]
  },
  {
   "cell_type": "code",
   "execution_count": 7,
   "metadata": {
    "ExecuteTime": {
     "end_time": "2021-05-20T08:24:27.974376Z",
     "start_time": "2021-05-20T08:24:27.656562Z"
    },
    "colab": {
     "base_uri": "https://localhost:8080/"
    },
    "executionInfo": {
     "elapsed": 1576,
     "status": "ok",
     "timestamp": 1621005032399,
     "user": {
      "displayName": "Kaushiki Cunductors",
      "photoUrl": "",
      "userId": "10657809218464400202"
     },
     "user_tz": -330
    },
    "id": "5BSQOVlk23tS",
    "outputId": "82596fc8-7cad-4777-c951-7ae322b21bb7"
   },
   "outputs": [
    {
     "name": "stdout",
     "output_type": "stream",
     "text": [
      "       UPPER(p.name)\n",
      "0   AMITABH BACHCHAN\n",
      "1      RAJESH KHANNA\n",
      "2      SUMITA SANYAL\n",
      "3         RAMESH DEO\n",
      "4          SEEMA DEO\n",
      "5     ASIT KUMAR SEN\n",
      "6         DEV KISHAN\n",
      "7       ATAM PRAKASH\n",
      "8      LALITA KUMARI\n",
      "9             SAVITA\n",
      "CPU times: user 312 ms, sys: 3.57 ms, total: 316 ms\n",
      "Wall time: 314 ms\n"
     ]
    }
   ],
   "source": [
    "%%time\n",
    "def grader_2(q2):\n",
    "    q2_results  = pd.read_sql_query(q2,conn)\n",
    "    print(q2_results.head(10))\n",
    "    assert (q2_results.shape == (17,1))\n",
    "\n",
    "\n",
    "query2 = \"\"\" \n",
    "SELECT\n",
    "    UPPER(p.name)\n",
    "FROM MOVIE m\n",
    "JOIN M_CAST mc\n",
    "ON m.mid = mc.mid\n",
    "JOIN PERSON p\n",
    "ON TRIM(mc.pid)  =TRIM(p.pid)\n",
    "WHERE LOWER(TRIM(m.title)) = 'anand'\n",
    "  AND CAST(SUBSTR(TRIM(m.year),-4) AS INTEGER) = 1971\n",
    "\n",
    "\"\"\"\n",
    "grader_2(query2)"
   ]
  },
  {
   "cell_type": "markdown",
   "metadata": {
    "id": "bJ-mAUMmE_Il"
   },
   "source": [
    "### Q3 --- List all the actors who acted in a film before 1970 and in a film after 1990. (That is: < 1970 and > 1990.)"
   ]
  },
  {
   "cell_type": "code",
   "execution_count": 8,
   "metadata": {
    "ExecuteTime": {
     "end_time": "2021-05-20T08:32:08.983251Z",
     "start_time": "2021-05-20T08:24:27.978955Z"
    },
    "colab": {
     "base_uri": "https://localhost:8080/"
    },
    "executionInfo": {
     "elapsed": 561329,
     "status": "ok",
     "timestamp": 1621095554910,
     "user": {
      "displayName": "Kaushiki Cunductors",
      "photoUrl": "",
      "userId": "10657809218464400202"
     },
     "user_tz": -330
    },
    "id": "HARXLaJ623tY",
    "outputId": "95dcc7dc-cc8e-4774-ae25-c23ef97f01e0",
    "run_control": {
     "marked": false
    }
   },
   "outputs": [
    {
     "name": "stdout",
     "output_type": "stream",
     "text": [
      "(4942, 1) (62570, 1)\n",
      "True\n",
      "CPU times: user 7min 40s, sys: 49.8 ms, total: 7min 40s\n",
      "Wall time: 7min 41s\n"
     ]
    }
   ],
   "source": [
    "%%time\n",
    "\n",
    "def grader_3a(query_less_1970, query_more_1990):\n",
    "    q3_a = pd.read_sql_query(query_less_1970,conn)\n",
    "    q3_b = pd.read_sql_query(query_more_1990,conn)\n",
    "    print(q3_a.shape, q3_b.shape)\n",
    "    return (q3_a.shape == (4942,1)) and (q3_b.shape == (62570,1))\n",
    "\n",
    "query_less_1970 =\"\"\" \n",
    "SELECT\n",
    "    LOWER(TRIM(p.name)) name\n",
    "FROM M_CAST mc\n",
    "JOIN MOVIE m\n",
    "ON m.mid = mc.mid\n",
    "JOIN PERSON p\n",
    "ON TRIM(mc.pid)  =TRIM(p.pid)\n",
    "WHERE CAST(SUBSTR(TRIM(m.year),-4) AS INTEGER) < 1970\n",
    " \"\"\"\n",
    "query_more_1990 =\"\"\" SELECT\n",
    "     LOWER(TRIM(p.name)) name\n",
    "FROM MOVIE m\n",
    "JOIN M_CAST mc\n",
    "ON m.mid = mc.mid\n",
    "JOIN PERSON p\n",
    "ON TRIM(mc.pid)  =TRIM(p.pid)\n",
    "WHERE CAST(SUBSTR(TRIM(m.year),-4) AS INTEGER) > 1990\n",
    " \"\"\"\n",
    "print(grader_3a(query_less_1970, query_more_1990))\n",
    "\n",
    "# using the above two queries, you can find the answer to the given question "
   ]
  },
  {
   "cell_type": "code",
   "execution_count": 9,
   "metadata": {
    "ExecuteTime": {
     "end_time": "2021-05-20T08:39:54.205821Z",
     "start_time": "2021-05-20T08:32:08.984579Z"
    },
    "id": "sbzv0UZZ23td"
   },
   "outputs": [
    {
     "name": "stdout",
     "output_type": "stream",
     "text": [
      "             name\n",
      "0  waheeda rehman\n",
      "1   johnny walker\n",
      "2         mehmood\n",
      "3           ratna\n",
      "4    lalita pawar\n",
      "5  achala sachdev\n",
      "6        iftekhar\n",
      "7  rajendra kumar\n",
      "8       raj mehra\n",
      "9      sunil dutt\n",
      "(300, 1)\n",
      "CPU times: user 7min 44s, sys: 316 ms, total: 7min 45s\n",
      "Wall time: 7min 45s\n"
     ]
    }
   ],
   "source": [
    "%%time\n",
    "def grader_3(q3):\n",
    "    q3_results  = pd.read_sql_query(q3,conn)\n",
    "    print(q3_results.head(10))\n",
    "    print(q3_results.shape)\n",
    "    assert (q3_results.shape == (300,1))\n",
    "\n",
    "query3 =\"\"\"\n",
    "with table1 as (\n",
    "    SELECT\n",
    "        LOWER(TRIM(p.name)) name,\n",
    "        TRIM(p.pid) pid\n",
    "    FROM M_CAST mc\n",
    "    JOIN MOVIE m ON m.mid = mc.mid\n",
    "    JOIN PERSON p ON TRIM(mc.pid)  =TRIM(p.pid)\n",
    "    WHERE CAST(SUBSTR(TRIM(m.year),-4) AS INTEGER) < 1970\n",
    "    limit 100000\n",
    "),\n",
    "table2 as (\n",
    "    SELECT\n",
    "     LOWER(TRIM(p.name)) name,\n",
    "     TRIM(p.pid) pid\n",
    "    FROM MOVIE m\n",
    "    JOIN M_CAST mc ON m.mid = mc.mid\n",
    "    JOIN PERSON p  ON TRIM(mc.pid)  =TRIM(p.pid)\n",
    "    WHERE CAST(SUBSTR(TRIM(m.year),-4) AS INTEGER) > 1990\n",
    "    limit 100000\n",
    ")\n",
    "\n",
    " select\n",
    "    distinct t1.name \n",
    " from table1 as t1 \n",
    " join table2  t2 on TRIM(t1.pid) = TRIM(t2.pid) \n",
    " --limit 1000\n",
    "\"\"\"\n",
    "\n",
    "#  \"\"\" \n",
    "# WITH temp_table AS (\n",
    "# SELECT\n",
    "#      LOWER(TRIM(p.name)) name,\n",
    "#     CAST(SUBSTR(TRIM(m.year),-4) AS INTEGER) year\n",
    "# FROM MOVIE m\n",
    "# JOIN M_CAST mc\n",
    "# ON m.mid = mc.mid\n",
    "# JOIN PERSON p\n",
    "# ON TRIM(mc.pid)  =TRIM(p.pid)\n",
    "# WHERE CAST(SUBSTR(TRIM(m.year),-4) AS INTEGER) < 1970 OR CAST(SUBSTR(TRIM(m.year),-4) AS INTEGER) > 1990\n",
    "# )\n",
    "\n",
    "# SELECT  name \n",
    "# FROM temp_table\n",
    "# WHERE year < 1970\n",
    "#  and name in \n",
    "#     (\n",
    "#     SELECT  name \n",
    "# FROM temp_table\n",
    "# WHERE year > 1990\n",
    "#     )\n",
    "\n",
    "#  \"\"\"\n",
    "grader_3(query3)"
   ]
  },
  {
   "cell_type": "markdown",
   "metadata": {
    "id": "wd3tqFxaE_Ir"
   },
   "source": [
    "### Q4 --- List all directors who directed 10 movies or more, in descending order of the number of movies they directed. Return the directors' names and the number of movies each of them directed."
   ]
  },
  {
   "cell_type": "code",
   "execution_count": 10,
   "metadata": {
    "ExecuteTime": {
     "end_time": "2021-05-20T08:40:52.849098Z",
     "start_time": "2021-05-20T08:39:54.207350Z"
    },
    "colab": {
     "base_uri": "https://localhost:8080/"
    },
    "executionInfo": {
     "elapsed": 1719,
     "status": "ok",
     "timestamp": 1621005783552,
     "user": {
      "displayName": "Kaushiki Cunductors",
      "photoUrl": "",
      "userId": "10657809218464400202"
     },
     "user_tz": -330
    },
    "id": "aGgqAYk723th",
    "outputId": "505e54cd-0db4-4a62-a7ad-9ee2b8d4ab7a",
    "run_control": {
     "marked": false
    }
   },
   "outputs": [
    {
     "name": "stdout",
     "output_type": "stream",
     "text": [
      "           Director_Name  Movie_Count\n",
      "0           David Dhawan           39\n",
      "1           Mahesh Bhatt           36\n",
      "2           Priyadarshan           30\n",
      "3        Ram Gopal Varma           30\n",
      "4           Vikram Bhatt           29\n",
      "5   Hrishikesh Mukherjee           27\n",
      "6            Yash Chopra           21\n",
      "7         Shakti Samanta           19\n",
      "8        Basu Chatterjee           19\n",
      "9           Subhash Ghai           18\n",
      "(1457, 2)\n",
      "False\n",
      "CPU times: user 58.6 s, sys: 4 ms, total: 58.6 s\n",
      "Wall time: 58.6 s\n"
     ]
    }
   ],
   "source": [
    "%%time\n",
    "\n",
    "def grader_4a(query_4a):\n",
    "    query_4a = pd.read_sql_query(query_4a,conn)\n",
    "    print(query_4a.head(10))\n",
    "    print(query_4a.shape) \n",
    "    return (query_4a.shape == (1462,2))\n",
    "\n",
    "query_4a =\"\"\" \n",
    "SELECT \n",
    "    p.name Director_Name , \n",
    "    count(md.mid) Movie_Count\n",
    "FROM person p\n",
    "JOIN m_director md ON lower(trim(p.pid)) = lower(trim(md.pid))\n",
    "GROUP BY Director_Name\n",
    "ORDER BY Movie_Count DESC\"\"\"\n",
    "print(grader_4a(query_4a))\n",
    "\n",
    "# using the above query, you can write the answer to the given question"
   ]
  },
  {
   "cell_type": "code",
   "execution_count": 11,
   "metadata": {
    "ExecuteTime": {
     "end_time": "2021-05-20T08:40:52.874755Z",
     "start_time": "2021-05-20T08:40:52.850405Z"
    },
    "colab": {
     "base_uri": "https://localhost:8080/"
    },
    "executionInfo": {
     "elapsed": 1315,
     "status": "ok",
     "timestamp": 1621005805938,
     "user": {
      "displayName": "Kaushiki Cunductors",
      "photoUrl": "",
      "userId": "10657809218464400202"
     },
     "user_tz": -330
    },
    "id": "xROoSzcF23tn",
    "outputId": "8a78b4cd-d193-455b-ea4f-65f59437faaa"
   },
   "outputs": [
    {
     "name": "stdout",
     "output_type": "stream",
     "text": [
      "           Director_Name  Movie_Count\n",
      "0           David Dhawan           39\n",
      "1           Mahesh Bhatt           36\n",
      "2           Priyadarshan           30\n",
      "3        Ram Gopal Varma           30\n",
      "4           Vikram Bhatt           29\n",
      "5   Hrishikesh Mukherjee           27\n",
      "6            Yash Chopra           21\n",
      "7         Shakti Samanta           19\n",
      "8        Basu Chatterjee           19\n",
      "9           Subhash Ghai           18\n",
      "CPU times: user 22.3 ms, sys: 0 ns, total: 22.3 ms\n",
      "Wall time: 21.3 ms\n"
     ]
    }
   ],
   "source": [
    "%%time\n",
    "def grader_4(q4):\n",
    "    q4_results  = pd.read_sql_query(q4,conn)\n",
    "    print(q4_results.head(10))\n",
    "    assert (q4_results.shape == (58,2))\n",
    "\n",
    "query4 = \"\"\" \n",
    "SELECT p.name Director_Name , count(md.mid) Movie_Count\n",
    "FROM person p\n",
    "JOIN m_director md\n",
    "ON p.pid = md.pid\n",
    "GROUP BY Director_Name\n",
    "HAVING Movie_Count >= 10\n",
    "ORDER BY Movie_Count DESC\n",
    " \"\"\"\n",
    "grader_4(query4)"
   ]
  },
  {
   "cell_type": "markdown",
   "metadata": {},
   "source": [
    "### Q5"
   ]
  },
  {
   "cell_type": "markdown",
   "metadata": {
    "id": "OnulNpiOE_Iw"
   },
   "source": [
    "#### Q5.a --- For each year, count the number of movies in that year that had only female actors."
   ]
  },
  {
   "cell_type": "code",
   "execution_count": 12,
   "metadata": {
    "ExecuteTime": {
     "end_time": "2021-05-20T08:40:52.879206Z",
     "start_time": "2021-05-20T08:40:52.876715Z"
    },
    "id": "ES-gGiNG23tr"
   },
   "outputs": [],
   "source": [
    "# %%time\n",
    "\n",
    "# # note that you don't need TRIM for person table\n",
    "\n",
    "# def grader_5aa(query_5aa):\n",
    "#     query_5aa = pd.read_sql_query(query_5aa,conn)\n",
    "#     print(query_5aa.head(10)) \n",
    "#     print(query_5aa.shape)\n",
    "#     return (query_5aa.shape == (8846,3))\n",
    "\n",
    "# # query_5aa =\"\"\" \n",
    "# # with temp_table AS (\n",
    "# # \"\"\"\n",
    "# query_5aa = \"\"\"\n",
    "# SELECT  CAST(SUBSTR(TRIM(m.year),-4) AS INTEGER) year, FEMALE_COUNT \n",
    "# FROM ( \n",
    "# SELECT MID, SUM(MALES) AS MALE_COUNT, SUM(FEMALES) AS FEMALE_COUNT\n",
    "# FROM (\n",
    "# SELECT \n",
    "#   MC.MID , \n",
    "#   (CASE WHEN LOWER(TRIM(P.GENDER )) ='male' THEN 1 ELSE 0 END) MALES,\n",
    "#   (CASE WHEN LOWER(TRIM(P.GENDER )) ='female' THEN 1 ELSE 0 END) FEMALES\n",
    "# FROM M_CAST MC\n",
    "# JOIN PERSON P  ON  LOWER(TRIM(P.PID)) =  LOWER(TRIM(MC.PID))\n",
    "# )\n",
    "# GROUP BY 1\n",
    "# ) a\n",
    "# JOIN movie m on a.mid = m.mid\n",
    "# WHERE MALE_COUNT = 0\n",
    "# \"\"\"\n",
    "\n",
    "# print(grader_5aa(query_5aa))\n",
    "\n",
    "# def grader_5ab(query_5ab):\n",
    "#     query_5ab = pd.read_sql_query(query_5ab,conn)\n",
    "#     print(query_5ab.head(10)) \n",
    "#     return (query_5ab.shape == (3469, 3))\n",
    "\n",
    "# query_5ab =\"\"\" *** Write your query that will have at least one male actor try to use query that you have written above *** \"\"\"\n",
    "\n",
    "# print(grader_5ab(query_5ab))\n",
    "\n",
    "\n",
    "# # using the above queries, you can write the answer to the given question"
   ]
  },
  {
   "cell_type": "code",
   "execution_count": 13,
   "metadata": {
    "ExecuteTime": {
     "end_time": "2021-05-20T09:06:22.013397Z",
     "start_time": "2021-05-20T08:40:52.880630Z"
    },
    "colab": {
     "base_uri": "https://localhost:8080/"
    },
    "executionInfo": {
     "elapsed": 1516728,
     "status": "ok",
     "timestamp": 1615136596528,
     "user": {
      "displayName": "Kaushiki Cunductors",
      "photoUrl": "",
      "userId": "10657809218464400202"
     },
     "user_tz": -330
    },
    "id": "zQOIawPME_Ix",
    "outputId": "7d7e0ea3-b4b4-4838-94e7-344eb49b35bd"
   },
   "outputs": [
    {
     "name": "stdout",
     "output_type": "stream",
     "text": [
      "   year  FEMALE_COUNT\n",
      "0  2018             2\n",
      "1  2000            10\n",
      "2  1999            11\n",
      "3  1939             1\n",
      "CPU times: user 25min 29s, sys: 60 ms, total: 25min 29s\n",
      "Wall time: 25min 29s\n"
     ]
    }
   ],
   "source": [
    "%%time\n",
    "def grader_5a(q5a):\n",
    "    q5a_results  = pd.read_sql_query(q5a,conn)\n",
    "    print(q5a_results.head(100))\n",
    "    assert (q5a_results.shape == (4,2))\n",
    "\n",
    "query5a = \"\"\"SELECT  CAST(SUBSTR(TRIM(m.year),-4) AS INTEGER) year, FEMALE_COUNT \n",
    "FROM ( \n",
    "SELECT MID, SUM(MALES) AS MALE_COUNT, SUM(FEMALES) AS FEMALE_COUNT\n",
    "FROM (\n",
    "SELECT \n",
    "  MC.MID , \n",
    "  (CASE WHEN LOWER(TRIM(P.GENDER )) ='male' THEN 1 ELSE 0 END) MALES,\n",
    "  (CASE WHEN LOWER(TRIM(P.GENDER )) ='female' THEN 1 ELSE 0 END) FEMALES\n",
    "FROM M_CAST MC\n",
    "JOIN PERSON P  ON  LOWER(TRIM(P.PID)) =  LOWER(TRIM(MC.PID))\n",
    ")\n",
    "GROUP BY 1\n",
    ") a\n",
    "JOIN movie m on a.mid = m.mid\n",
    "WHERE MALE_COUNT = 0 \"\"\"\n",
    "grader_5a(query5a)"
   ]
  },
  {
   "cell_type": "markdown",
   "metadata": {
    "id": "cTiKejUfE_I1"
   },
   "source": [
    "#### Q5.b --- Now include a small change: report for each year the percentage of movies in that year with only female actors, and the total number of movies made that year. For example, one answer will be: 1990 31.81 13522 meaning that in 1990 there were 13,522 movies, and 31.81% had only female actors. You do not need to round your answer."
   ]
  },
  {
   "cell_type": "code",
   "execution_count": 14,
   "metadata": {
    "ExecuteTime": {
     "end_time": "2021-05-20T09:31:21.170734Z",
     "start_time": "2021-05-20T09:06:22.016030Z"
    },
    "colab": {
     "base_uri": "https://localhost:8080/"
    },
    "executionInfo": {
     "elapsed": 1507578,
     "status": "ok",
     "timestamp": 1615138348129,
     "user": {
      "displayName": "Kaushiki Cunductors",
      "photoUrl": "",
      "userId": "10657809218464400202"
     },
     "user_tz": -330
    },
    "id": "Xv6iXvcZE_I2",
    "outputId": "6f698d4b-d744-49f8-b33e-bacf212fd1e1"
   },
   "outputs": [
    {
     "name": "stdout",
     "output_type": "stream",
     "text": [
      "   year  female_count/movies_per_year  female_count\n",
      "0  1939                      0.500000           1.0\n",
      "1  1999                      0.166667          11.0\n",
      "2  2000                      0.156250          10.0\n",
      "3  2018                      0.019231           2.0\n",
      "CPU times: user 24min 58s, sys: 76 ms, total: 24min 59s\n",
      "Wall time: 24min 59s\n"
     ]
    }
   ],
   "source": [
    "%%time\n",
    "def grader_5b(q5b):\n",
    "    q5b_results  = pd.read_sql_query(q5b,conn)\n",
    "    print(q5b_results.head(10))\n",
    "    assert (q5b_results.shape == (4,3))\n",
    "\n",
    "query5b = \"\"\"\n",
    "SELECT year , female_count/movies_per_year, female_count\n",
    "FROM(\n",
    " SELECT p.year, p.female_count, q.movies_per_year\n",
    "FROM \n",
    "(SELECT  CAST(SUBSTR(TRIM(m.year),-4) AS INTEGER) year, FEMALE_COUNT \n",
    "FROM ( \n",
    "SELECT MID, SUM(MALES) AS MALE_COUNT, SUM(FEMALES) AS FEMALE_COUNT\n",
    "FROM (\n",
    "SELECT \n",
    "  MC.MID , \n",
    "  (CASE WHEN LOWER(TRIM(P.GENDER )) ='male' THEN 1.0 ELSE 0 END) MALES,\n",
    "  (CASE WHEN LOWER(TRIM(P.GENDER )) ='female' THEN 1.0 ELSE 0 END) FEMALES\n",
    "FROM M_CAST MC\n",
    "JOIN PERSON P  ON  LOWER(TRIM(P.PID)) =  LOWER(TRIM(MC.PID))\n",
    ")\n",
    "GROUP BY 1\n",
    ") a\n",
    "JOIN movie m on a.mid = m.mid\n",
    "WHERE MALE_COUNT = 0\n",
    ") p\n",
    "JOIN\n",
    "(\n",
    "SELECT CAST(SUBSTR(TRIM(year),-4) AS INTEGER) year, count(*) movies_per_year\n",
    "from movie group by 1\n",
    ") q ON p.year = q.year\n",
    ") \"\"\"\n",
    "grader_5b(query5b)"
   ]
  },
  {
   "cell_type": "markdown",
   "metadata": {
    "id": "d5mvJcHDE_I6"
   },
   "source": [
    "### Q6 --- Find the film(s) with the largest cast. Return the movie title and the size of the cast. By \"cast size\" we mean the number of distinct actors that played in that movie: if an actor played multiple roles, or if it simply occurs multiple times in casts, we still count her/him only once."
   ]
  },
  {
   "cell_type": "code",
   "execution_count": 15,
   "metadata": {
    "ExecuteTime": {
     "end_time": "2021-05-20T09:31:21.237397Z",
     "start_time": "2021-05-20T09:31:21.172103Z"
    },
    "colab": {
     "base_uri": "https://localhost:8080/"
    },
    "executionInfo": {
     "elapsed": 1127,
     "status": "ok",
     "timestamp": 1615139259042,
     "user": {
      "displayName": "Kaushiki Cunductors",
      "photoUrl": "",
      "userId": "10657809218464400202"
     },
     "user_tz": -330
    },
    "id": "vpr9gGg6E_I7",
    "outputId": "4993d786-5f23-4dad-edac-1da184e1f121"
   },
   "outputs": [
    {
     "name": "stdout",
     "output_type": "stream",
     "text": [
      "                        title  cast_size\n",
      "0               Ocean's Eight        238\n",
      "1                    Apaharan        233\n",
      "2                        Gold        215\n",
      "3             My Name Is Khan        213\n",
      "4  Captain America: Civil War        191\n",
      "5                    Geostorm        170\n",
      "6                     Striker        165\n",
      "7                        2012        154\n",
      "8                      Pixels        144\n",
      "9       Yamla Pagla Deewana 2        140\n",
      "CPU times: user 59.2 ms, sys: 4 ms, total: 63.2 ms\n",
      "Wall time: 62.2 ms\n"
     ]
    }
   ],
   "source": [
    "%%time\n",
    "def grader_6(q6):\n",
    "    q6_results  = pd.read_sql_query(q6,conn)\n",
    "    print(q6_results.head(10))\n",
    "    assert (q6_results.shape == (3473, 2))\n",
    "\n",
    "query6 = \"\"\" \n",
    "SELECT m.title, a.cast_size\n",
    "FROM \n",
    "(\n",
    "SELECT mid, count ( distinct (pid )) cast_size\n",
    "FROM m_cast \n",
    "group by 1\n",
    ") a\n",
    "left join movie m ON a.mid = m.mid\n",
    "order by a.cast_size desc\n",
    " \"\"\"\n",
    "grader_6(query6)"
   ]
  },
  {
   "cell_type": "markdown",
   "metadata": {
    "id": "I9CKkrWYE_I_"
   },
   "source": [
    "### Q7 --- A decade is a sequence of 10 consecutive years. \n",
    "**For example, say in your database you have movie information starting from 1931.**\n",
    "\n",
    "**the first decade is 1931, 1932, ..., 1940,**\n",
    "\n",
    "**the second decade is 1932, 1933, ..., 1941 and so on.**\n",
    "\n",
    "**Find the decade D with the largest number of films and the total number of films in D.**"
   ]
  },
  {
   "cell_type": "code",
   "execution_count": 16,
   "metadata": {
    "ExecuteTime": {
     "end_time": "2021-05-20T09:31:21.250708Z",
     "start_time": "2021-05-20T09:31:21.238981Z"
    },
    "colab": {
     "base_uri": "https://localhost:8080/"
    },
    "executionInfo": {
     "elapsed": 2166,
     "status": "ok",
     "timestamp": 1615216995715,
     "user": {
      "displayName": "Kaushiki Cunductors",
      "photoUrl": "",
      "userId": "10657809218464400202"
     },
     "user_tz": -330
    },
    "id": "ZfOWt8IW23uE",
    "outputId": "d99191b0-e2a8-40ff-93c0-6a83ff3c1c37"
   },
   "outputs": [
    {
     "name": "stdout",
     "output_type": "stream",
     "text": [
      "         grp  count\n",
      "0  2013-2022    136\n",
      "1  2016-2025    129\n",
      "2  2005-2014    129\n",
      "3  2017-2026    126\n",
      "4  2014-2023    126\n",
      "5  2010-2019    125\n",
      "6  2015-2024    119\n",
      "7  2011-2020    116\n",
      "8  2012-2021    110\n",
      "9  2009-2018    109\n",
      "(78, 2)\n",
      "CPU times: user 9.25 ms, sys: 1e+03 ns, total: 9.25 ms\n",
      "Wall time: 7.93 ms\n"
     ]
    }
   ],
   "source": [
    "%%time\n",
    "def grader_7a(q7a):\n",
    "    q7a_results  = pd.read_sql_query(q7a,conn)\n",
    "    print(q7a_results.head(10))\n",
    "    print(q7a_results.shape)\n",
    "    assert (q7a_results.shape == (78, 2))\n",
    "\n",
    "query7a = \"\"\"\n",
    "\n",
    "select start || \"-\"  || end grp, count(*) count\n",
    "from (\n",
    "select CAST(SUBSTR(TRIM(year),-4) AS STRING) start, CAST(CAST(SUBSTR(TRIM(year),-4) AS INTEGER) + 9 AS STRING) end , CAST(SUBSTR(TRIM(year),-4) AS INTEGER) year\n",
    "\n",
    "from movie\n",
    ")\n",
    "group by 1 \n",
    "order by count desc\n",
    " \"\"\"\n",
    "grader_7a(query7a)\n",
    "\n",
    "# using the above query, you can write the answer to the given question"
   ]
  },
  {
   "cell_type": "code",
   "execution_count": 17,
   "metadata": {
    "ExecuteTime": {
     "end_time": "2021-05-20T09:31:21.400884Z",
     "start_time": "2021-05-20T09:31:21.252889Z"
    },
    "id": "sBMzLrIY23uJ",
    "outputId": "6f40ad73-684a-44f9-a7ce-c0ec253df7e7",
    "scrolled": true
   },
   "outputs": [
    {
     "ename": "DatabaseError",
     "evalue": "Execution failed on sql '   \n    *** \n    Write a query that will do joining of the above table(7a) with itself \n    such that you will join with only rows if the second tables year is <= current_year+9 and more than or equal current_year\n    *** \n          ': near \"*\": syntax error",
     "output_type": "error",
     "traceback": [
      "\u001b[0;31m---------------------------------------------------------------------------\u001b[0m",
      "\u001b[0;31mOperationalError\u001b[0m                          Traceback (most recent call last)",
      "\u001b[0;32m~/anaconda3/lib/python3.8/site-packages/pandas/io/sql.py\u001b[0m in \u001b[0;36mexecute\u001b[0;34m(self, *args, **kwargs)\u001b[0m\n\u001b[1;32m   1430\u001b[0m             \u001b[0;32melse\u001b[0m\u001b[0;34m:\u001b[0m\u001b[0;34m\u001b[0m\u001b[0;34m\u001b[0m\u001b[0m\n\u001b[0;32m-> 1431\u001b[0;31m                 \u001b[0mcur\u001b[0m\u001b[0;34m.\u001b[0m\u001b[0mexecute\u001b[0m\u001b[0;34m(\u001b[0m\u001b[0;34m*\u001b[0m\u001b[0margs\u001b[0m\u001b[0;34m)\u001b[0m\u001b[0;34m\u001b[0m\u001b[0;34m\u001b[0m\u001b[0m\n\u001b[0m\u001b[1;32m   1432\u001b[0m             \u001b[0;32mreturn\u001b[0m \u001b[0mcur\u001b[0m\u001b[0;34m\u001b[0m\u001b[0;34m\u001b[0m\u001b[0m\n",
      "\u001b[0;31mOperationalError\u001b[0m: near \"*\": syntax error",
      "\nDuring handling of the above exception, another exception occurred:\n",
      "\u001b[0;31mDatabaseError\u001b[0m                             Traceback (most recent call last)",
      "\u001b[0;32m<timed exec>\u001b[0m in \u001b[0;36m<module>\u001b[0;34m\u001b[0m\n",
      "\u001b[0;32m<timed exec>\u001b[0m in \u001b[0;36mgrader_7b\u001b[0;34m(q7b)\u001b[0m\n",
      "\u001b[0;32m~/anaconda3/lib/python3.8/site-packages/pandas/io/sql.py\u001b[0m in \u001b[0;36mread_sql_query\u001b[0;34m(sql, con, index_col, coerce_float, params, parse_dates, chunksize)\u001b[0m\n\u001b[1;32m    310\u001b[0m     \"\"\"\n\u001b[1;32m    311\u001b[0m     \u001b[0mpandas_sql\u001b[0m \u001b[0;34m=\u001b[0m \u001b[0mpandasSQL_builder\u001b[0m\u001b[0;34m(\u001b[0m\u001b[0mcon\u001b[0m\u001b[0;34m)\u001b[0m\u001b[0;34m\u001b[0m\u001b[0;34m\u001b[0m\u001b[0m\n\u001b[0;32m--> 312\u001b[0;31m     return pandas_sql.read_query(\n\u001b[0m\u001b[1;32m    313\u001b[0m         \u001b[0msql\u001b[0m\u001b[0;34m,\u001b[0m \u001b[0mindex_col\u001b[0m\u001b[0;34m=\u001b[0m\u001b[0mindex_col\u001b[0m\u001b[0;34m,\u001b[0m \u001b[0mparams\u001b[0m\u001b[0;34m=\u001b[0m\u001b[0mparams\u001b[0m\u001b[0;34m,\u001b[0m \u001b[0mcoerce_float\u001b[0m\u001b[0;34m=\u001b[0m\u001b[0mcoerce_float\u001b[0m\u001b[0;34m,\u001b[0m\u001b[0;34m\u001b[0m\u001b[0;34m\u001b[0m\u001b[0m\n\u001b[1;32m    314\u001b[0m         parse_dates=parse_dates, chunksize=chunksize)\n",
      "\u001b[0;32m~/anaconda3/lib/python3.8/site-packages/pandas/io/sql.py\u001b[0m in \u001b[0;36mread_query\u001b[0;34m(self, sql, index_col, coerce_float, params, parse_dates, chunksize)\u001b[0m\n\u001b[1;32m   1466\u001b[0m \u001b[0;34m\u001b[0m\u001b[0m\n\u001b[1;32m   1467\u001b[0m         \u001b[0margs\u001b[0m \u001b[0;34m=\u001b[0m \u001b[0m_convert_params\u001b[0m\u001b[0;34m(\u001b[0m\u001b[0msql\u001b[0m\u001b[0;34m,\u001b[0m \u001b[0mparams\u001b[0m\u001b[0;34m)\u001b[0m\u001b[0;34m\u001b[0m\u001b[0;34m\u001b[0m\u001b[0m\n\u001b[0;32m-> 1468\u001b[0;31m         \u001b[0mcursor\u001b[0m \u001b[0;34m=\u001b[0m \u001b[0mself\u001b[0m\u001b[0;34m.\u001b[0m\u001b[0mexecute\u001b[0m\u001b[0;34m(\u001b[0m\u001b[0;34m*\u001b[0m\u001b[0margs\u001b[0m\u001b[0;34m)\u001b[0m\u001b[0;34m\u001b[0m\u001b[0;34m\u001b[0m\u001b[0m\n\u001b[0m\u001b[1;32m   1469\u001b[0m         \u001b[0mcolumns\u001b[0m \u001b[0;34m=\u001b[0m \u001b[0;34m[\u001b[0m\u001b[0mcol_desc\u001b[0m\u001b[0;34m[\u001b[0m\u001b[0;36m0\u001b[0m\u001b[0;34m]\u001b[0m \u001b[0;32mfor\u001b[0m \u001b[0mcol_desc\u001b[0m \u001b[0;32min\u001b[0m \u001b[0mcursor\u001b[0m\u001b[0;34m.\u001b[0m\u001b[0mdescription\u001b[0m\u001b[0;34m]\u001b[0m\u001b[0;34m\u001b[0m\u001b[0;34m\u001b[0m\u001b[0m\n\u001b[1;32m   1470\u001b[0m \u001b[0;34m\u001b[0m\u001b[0m\n",
      "\u001b[0;32m~/anaconda3/lib/python3.8/site-packages/pandas/io/sql.py\u001b[0m in \u001b[0;36mexecute\u001b[0;34m(self, *args, **kwargs)\u001b[0m\n\u001b[1;32m   1443\u001b[0m                 \"Execution failed on sql '{sql}': {exc}\".format(\n\u001b[1;32m   1444\u001b[0m                     sql=args[0], exc=exc))\n\u001b[0;32m-> 1445\u001b[0;31m             \u001b[0mraise_with_traceback\u001b[0m\u001b[0;34m(\u001b[0m\u001b[0mex\u001b[0m\u001b[0;34m)\u001b[0m\u001b[0;34m\u001b[0m\u001b[0;34m\u001b[0m\u001b[0m\n\u001b[0m\u001b[1;32m   1446\u001b[0m \u001b[0;34m\u001b[0m\u001b[0m\n\u001b[1;32m   1447\u001b[0m     \u001b[0;34m@\u001b[0m\u001b[0mstaticmethod\u001b[0m\u001b[0;34m\u001b[0m\u001b[0;34m\u001b[0m\u001b[0m\n",
      "\u001b[0;32m~/anaconda3/lib/python3.8/site-packages/pandas/compat/__init__.py\u001b[0m in \u001b[0;36mraise_with_traceback\u001b[0;34m(exc, traceback)\u001b[0m\n\u001b[1;32m    418\u001b[0m         \u001b[0;32mif\u001b[0m \u001b[0mtraceback\u001b[0m \u001b[0;34m==\u001b[0m \u001b[0mEllipsis\u001b[0m\u001b[0;34m:\u001b[0m\u001b[0;34m\u001b[0m\u001b[0;34m\u001b[0m\u001b[0m\n\u001b[1;32m    419\u001b[0m             \u001b[0m_\u001b[0m\u001b[0;34m,\u001b[0m \u001b[0m_\u001b[0m\u001b[0;34m,\u001b[0m \u001b[0mtraceback\u001b[0m \u001b[0;34m=\u001b[0m \u001b[0msys\u001b[0m\u001b[0;34m.\u001b[0m\u001b[0mexc_info\u001b[0m\u001b[0;34m(\u001b[0m\u001b[0;34m)\u001b[0m\u001b[0;34m\u001b[0m\u001b[0;34m\u001b[0m\u001b[0m\n\u001b[0;32m--> 420\u001b[0;31m         \u001b[0;32mraise\u001b[0m \u001b[0mexc\u001b[0m\u001b[0;34m.\u001b[0m\u001b[0mwith_traceback\u001b[0m\u001b[0;34m(\u001b[0m\u001b[0mtraceback\u001b[0m\u001b[0;34m)\u001b[0m\u001b[0;34m\u001b[0m\u001b[0;34m\u001b[0m\u001b[0m\n\u001b[0m\u001b[1;32m    421\u001b[0m \u001b[0;32melse\u001b[0m\u001b[0;34m:\u001b[0m\u001b[0;34m\u001b[0m\u001b[0;34m\u001b[0m\u001b[0m\n\u001b[1;32m    422\u001b[0m     \u001b[0;31m# this version of raise is a syntax error in Python 3\u001b[0m\u001b[0;34m\u001b[0m\u001b[0;34m\u001b[0m\u001b[0;34m\u001b[0m\u001b[0m\n",
      "\u001b[0;32m~/anaconda3/lib/python3.8/site-packages/pandas/io/sql.py\u001b[0m in \u001b[0;36mexecute\u001b[0;34m(self, *args, **kwargs)\u001b[0m\n\u001b[1;32m   1429\u001b[0m                 \u001b[0mcur\u001b[0m\u001b[0;34m.\u001b[0m\u001b[0mexecute\u001b[0m\u001b[0;34m(\u001b[0m\u001b[0;34m*\u001b[0m\u001b[0margs\u001b[0m\u001b[0;34m,\u001b[0m \u001b[0;34m**\u001b[0m\u001b[0mkwargs\u001b[0m\u001b[0;34m)\u001b[0m\u001b[0;34m\u001b[0m\u001b[0;34m\u001b[0m\u001b[0m\n\u001b[1;32m   1430\u001b[0m             \u001b[0;32melse\u001b[0m\u001b[0;34m:\u001b[0m\u001b[0;34m\u001b[0m\u001b[0;34m\u001b[0m\u001b[0m\n\u001b[0;32m-> 1431\u001b[0;31m                 \u001b[0mcur\u001b[0m\u001b[0;34m.\u001b[0m\u001b[0mexecute\u001b[0m\u001b[0;34m(\u001b[0m\u001b[0;34m*\u001b[0m\u001b[0margs\u001b[0m\u001b[0;34m)\u001b[0m\u001b[0;34m\u001b[0m\u001b[0;34m\u001b[0m\u001b[0m\n\u001b[0m\u001b[1;32m   1432\u001b[0m             \u001b[0;32mreturn\u001b[0m \u001b[0mcur\u001b[0m\u001b[0;34m\u001b[0m\u001b[0;34m\u001b[0m\u001b[0m\n\u001b[1;32m   1433\u001b[0m         \u001b[0;32mexcept\u001b[0m \u001b[0mException\u001b[0m \u001b[0;32mas\u001b[0m \u001b[0mexc\u001b[0m\u001b[0;34m:\u001b[0m\u001b[0;34m\u001b[0m\u001b[0;34m\u001b[0m\u001b[0m\n",
      "\u001b[0;31mDatabaseError\u001b[0m: Execution failed on sql '   \n    *** \n    Write a query that will do joining of the above table(7a) with itself \n    such that you will join with only rows if the second tables year is <= current_year+9 and more than or equal current_year\n    *** \n          ': near \"*\": syntax error"
     ]
    }
   ],
   "source": [
    "%%time\n",
    "def grader_7b(q7b):\n",
    "    q7b_results  = pd.read_sql_query(q7b,conn)\n",
    "    print(q7b_results.head(10))\n",
    "    assert (q7b_results.shape == (713, 4))\n",
    "\n",
    "query7b = \"\"\"   \n",
    "    *** \n",
    "    Write a query that will do joining of the above table(7a) with itself \n",
    "    such that you will join with only rows if the second tables year is <= current_year+9 and more than or equal current_year\n",
    "    *** \n",
    "          \"\"\"\n",
    "grader_7b(query7b)\n",
    "# if you see the below results the first movie year is less than 2nd movie year and \n",
    "# 2nd movie year is less or equal to the first movie year+9\n",
    "\n",
    "# using the above query, you can write the answer to the given question"
   ]
  },
  {
   "cell_type": "code",
   "execution_count": 23,
   "metadata": {
    "ExecuteTime": {
     "end_time": "2021-05-20T14:08:23.779149Z",
     "start_time": "2021-05-20T14:08:23.765521Z"
    },
    "colab": {
     "base_uri": "https://localhost:8080/"
    },
    "executionInfo": {
     "elapsed": 2766,
     "status": "ok",
     "timestamp": 1615216961187,
     "user": {
      "displayName": "Kaushiki Cunductors",
      "photoUrl": "",
      "userId": "10657809218464400202"
     },
     "user_tz": -330
    },
    "id": "NKqbguuqE_JA",
    "outputId": "8e26419e-9679-4589-d158-26ef75198556"
   },
   "outputs": [
    {
     "name": "stdout",
     "output_type": "stream",
     "text": [
      "         grp  count\n",
      "0  2013-2022    136\n",
      "CPU times: user 10.6 ms, sys: 0 ns, total: 10.6 ms\n",
      "Wall time: 9.46 ms\n"
     ]
    }
   ],
   "source": [
    "%%time\n",
    "def grader_7(q7):\n",
    "    q7_results  = pd.read_sql_query(q7,conn)\n",
    "    print(q7_results.head(10))\n",
    "    assert (q7_results.shape == (1, 2))\n",
    "\n",
    "query7 = \"\"\" \n",
    "select start || \"-\"  || end grp, count(*) count\n",
    "from (\n",
    "select CAST(SUBSTR(TRIM(year),-4) AS STRING) start, CAST(CAST(SUBSTR(TRIM(year),-4) AS INTEGER) + 9 AS STRING) end , CAST(SUBSTR(TRIM(year),-4) AS INTEGER) year\n",
    "\n",
    "from movie\n",
    ")\n",
    "group by 1 \n",
    "order by count desc\n",
    "limit 1\n",
    "\"\"\"\n",
    "grader_7(query7)\n",
    "# if you check the output we are printinng all the year in that decade, its fine you can print 2008 or 2008-2017"
   ]
  },
  {
   "cell_type": "markdown",
   "metadata": {
    "id": "6NP-GyTaE_JF"
   },
   "source": [
    "### Q8 --- Find all the actors that made more movies with Yash Chopra than any other director."
   ]
  },
  {
   "cell_type": "code",
   "execution_count": 4,
   "metadata": {
    "ExecuteTime": {
     "end_time": "2021-05-29T14:05:57.652529Z",
     "start_time": "2021-05-29T14:05:57.297260Z"
    },
    "colab": {
     "base_uri": "https://localhost:8080/"
    },
    "executionInfo": {
     "elapsed": 1184,
     "status": "ok",
     "timestamp": 1615225919284,
     "user": {
      "displayName": "Kaushiki Cunductors",
      "photoUrl": "",
      "userId": "10657809218464400202"
     },
     "user_tz": -330
    },
    "id": "DZJ7WMrk23uR",
    "outputId": "520f614b-32cb-459a-b74f-863f33b50937"
   },
   "outputs": [
    {
     "name": "stdout",
     "output_type": "stream",
     "text": [
      "    director       actor  count\n",
      "0  nm0000180   nm0000027      1\n",
      "1  nm0000180   nm0001114      1\n",
      "2  nm0000180   nm0001919      1\n",
      "3  nm0000180   nm0006762      1\n",
      "4  nm0000180   nm0030062      1\n",
      "5  nm0000180   nm0038970      1\n",
      "6  nm0000180   nm0051856      1\n",
      "7  nm0000180   nm0085966      1\n",
      "8  nm0000180   nm0097889      1\n",
      "9  nm0000180   nm0125497      1\n",
      "(73408, 3)\n",
      "CPU times: user 323 ms, sys: 27.4 ms, total: 350 ms\n",
      "Wall time: 351 ms\n"
     ]
    }
   ],
   "source": [
    "%%time\n",
    "def grader_8a(q8a):\n",
    "    q8a_results  = pd.read_sql_query(q8a,conn)\n",
    "    print(q8a_results.head(10))\n",
    "    print(q8a_results.shape)\n",
    "    assert (q8a_results.shape == (73408, 3))\n",
    "\n",
    "query8a = \"\"\" \n",
    "select md.pid director, mc.pid actor, count(m.mid) as count\n",
    "from Movie m \n",
    "join m_director md\n",
    "on m.mid = md.mid\n",
    "join m_cast mc\n",
    "on mc.mid = m.mid\n",
    "group by 1,2\n",
    "order by 3 \n",
    "\"\"\"\n",
    "grader_8a(query8a)\n",
    "\n",
    "# using the above query, you can write the answer to the given question"
   ]
  },
  {
   "cell_type": "code",
   "execution_count": 21,
   "metadata": {
    "ExecuteTime": {
     "end_time": "2021-05-29T14:17:11.618059Z",
     "start_time": "2021-05-29T14:17:11.274018Z"
    },
    "colab": {
     "base_uri": "https://localhost:8080/",
     "height": 764
    },
    "executionInfo": {
     "elapsed": 1053,
     "status": "error",
     "timestamp": 1615360205958,
     "user": {
      "displayName": "Kaushiki Cunductors",
      "photoUrl": "",
      "userId": "10657809218464400202"
     },
     "user_tz": -330
    },
    "id": "SYMTcHixE_JH",
    "outputId": "ac74ad92-7e0a-40e9-90c7-cd7eec747a14"
   },
   "outputs": [
    {
     "name": "stdout",
     "output_type": "stream",
     "text": [
      "        actor  num_movies       actor  num_o_mov\n",
      "0   nm0000821           6   nm0000821        198\n",
      "1   nm0002043           1   nm0002043         68\n",
      "2   nm0004109           2   nm0004109        198\n",
      "3   nm0004334           1   nm0004334         72\n",
      "4   nm0004429           1   nm0004429        115\n",
      "5   nm0004434           7   nm0004434         52\n",
      "6   nm0004435           3   nm0004435         66\n",
      "7   nm0004437           2   nm0004437         56\n",
      "8   nm0004487           2   nm0004487         77\n",
      "9   nm0004564           4   nm0004564         78\n",
      "(295, 4)\n"
     ]
    },
    {
     "ename": "AssertionError",
     "evalue": "",
     "output_type": "error",
     "traceback": [
      "\u001b[0;31m---------------------------------------------------------------------------\u001b[0m",
      "\u001b[0;31mAssertionError\u001b[0m                            Traceback (most recent call last)",
      "\u001b[0;32m<timed exec>\u001b[0m in \u001b[0;36m<module>\u001b[0;34m\u001b[0m\n",
      "\u001b[0;32m<timed exec>\u001b[0m in \u001b[0;36mgrader_8\u001b[0;34m(q8)\u001b[0m\n",
      "\u001b[0;31mAssertionError\u001b[0m: "
     ]
    }
   ],
   "source": [
    "%%time\n",
    "\n",
    "def grader_8(q8):\n",
    "    q8_results  = pd.read_sql_query(q8,conn)\n",
    "    print(q8_results.head(10\n",
    "                         ))\n",
    "    print(q8_results.shape)\n",
    "    assert (q8_results.shape == (245, 2))\n",
    "\n",
    "# Yash chopra nm0007181\n",
    "query8 = \"\"\"\n",
    "with temp as (\n",
    "select md.pid director, mc.pid actor, count(m.mid) as count\n",
    "from Movie m \n",
    "join m_director md\n",
    "on m.mid = md.mid\n",
    "join m_cast mc\n",
    "on mc.mid = m.mid\n",
    "group by 1,2\n",
    "),\n",
    "temp2 as(\n",
    "select actor, sum(count) num_movies\n",
    "from temp \n",
    "where director = 'nm0007181'\n",
    "group by actor\n",
    "),\n",
    "temp3 as (\n",
    "select \n",
    "actor, sum(count) num_o_mov from temp\n",
    "where actor in ( select actor from temp2 )\n",
    "and director != 'nm0007181'\n",
    "group by actor\n",
    ")\n",
    "select *\n",
    "from temp2 t2\n",
    "join temp3 t3 on t2.actor=t3.actor \n",
    "where t2.num_movies < t3.num_o_mov\n",
    "\"\"\"\n",
    "# with dir_tbl as (\n",
    "#     select md.pid director, m.mid  ,p.name dir_name\n",
    "#     from Movie m \n",
    "#     join m_director md\n",
    "#         on m.mid = md.mid\n",
    "#     join Person p\n",
    "#         on p.pid = md.pid\n",
    "# ),\n",
    "# act_tbl as (\n",
    "#     select mc.pid actor, m.mid\n",
    "#     from Movie m \n",
    "#     join m_cast mc\n",
    "#         on m.mid = mc.mid\n",
    "\n",
    "# ),\n",
    "# y_tbl as (\n",
    "# select actor, count( a.mid) as count\n",
    "# from act_tbl a\n",
    "# join dir_tbl d\n",
    "#     on a.mid = d.mid\n",
    "# where lower(dir_name) like '%yash%'\n",
    "# group by 1 \n",
    "# order by count desc\n",
    "# ),\n",
    "# mv_cnt as(\n",
    "#     select actor, count( a.mid) as count\n",
    "#     from act_tbl a\n",
    "#     join dir_tbl d\n",
    "#         on a.mid = d.mid\n",
    "#     where lower(dir_name) like '%yash%'\n",
    "#     group by 1 \n",
    "#     order by count desc\n",
    "# )\n",
    "# select  mv.count , y.count count_yash\n",
    "# from  y_tbl y\n",
    "# join  mv_cnt mv\n",
    "#     on y.actor = mv.actor\n",
    "# order by count_yash desc\n",
    "# \"\"\"\n",
    "grader_8(query8)"
   ]
  },
  {
   "cell_type": "code",
   "execution_count": null,
   "metadata": {},
   "outputs": [],
   "source": [
    "q  = \"\"\"\n",
    "select name, pid \n",
    "from person where lower(trim(name)) like '%yash%'\n",
    "and pid in ( )\n",
    "\"\"\""
   ]
  },
  {
   "cell_type": "markdown",
   "metadata": {
    "id": "VHwJ75_qE_JQ"
   },
   "source": [
    "### Q9 --- The Shahrukh number of an actor is the length of the shortest path between the actor and Shahrukh Khan in the \"co-acting\" graph. That is, Shahrukh Khan has Shahrukh number 0; all actors who acted in the same film as Shahrukh have Shahrukh number 1; all actors who acted in the same film as some actor with Shahrukh number 1 have Shahrukh number 2, etc. Return all actors whose Shahrukh number is 2."
   ]
  },
  {
   "cell_type": "code",
   "execution_count": null,
   "metadata": {
    "ExecuteTime": {
     "end_time": "2021-05-25T17:59:14.749210Z",
     "start_time": "2021-05-25T17:58:18.411059Z"
    },
    "id": "3FnJ_19z23ub",
    "outputId": "c63ac439-ad2b-4aa4-8aeb-dc0245670f34"
   },
   "outputs": [],
   "source": [
    "%%time\n",
    "def grader_9a(q9a):\n",
    "    q9a_results  = pd.read_sql_query(q9a,conn)\n",
    "    print(q9a_results.head(10))\n",
    "    print(q9a_results.shape)\n",
    "    assert (q9a_results.shape == (2382, 1))\n",
    "\n",
    "query9a = \"\"\" \n",
    "-- All movies with shahrukh\n",
    "with temp as (\n",
    "    select\n",
    "        distinct trim(m.mid) mid\n",
    "    from movie m\n",
    "    join m_cast mc on m.mid = mc.mid\n",
    "    where lower(trim(pid)) = 'nm0451321'\n",
    "),\n",
    "-- all actors in the movies except shahrukh\n",
    "temp2 as (\n",
    "    select\n",
    "        distinct trim(mc.pid) pid\n",
    "    from temp t\n",
    "    join m_cast mc on trim(t.mid) = trim(mc.mid)\n",
    "    join person p on trim(p.pid)  = trim(mc.pid)\n",
    "    where lower(trim(mc.pid)) != 'nm0451321'\n",
    "),\n",
    "temp3 as(\n",
    "select\n",
    "    distinct trim(mc.mid) mid\n",
    "from m_cast mc\n",
    "join temp2 as t on trim(mc.pid) = t.pid\n",
    "where trim(mc.mid) not in ( select mid from temp )\n",
    ")\n",
    "-- selecting actors from that movies expect the ones\n",
    "-- who worked with shahrukh\n",
    "select \n",
    "    distinct pid\n",
    "from m_cast mc\n",
    "join temp3 t on trim(mc.mid) = trim(t.mid)\n",
    "where trim(mc.pid) not in ( select pid from temp2 )\n",
    "\"\"\"\n",
    "grader_9a(query9a)\n",
    "# using the above query, you can write the answer to the given question\n",
    "\n",
    "# selecting actors who acted with srk (S1)\n",
    "# selecting all movies where S1 actors acted, this forms S2 movies list\n",
    "# selecting all actors who acted in S2 movies, this gives us S2 actors along with S1 actors\n",
    "# removing S1 actors from the combined list of S1 & S2 actors, so that we get only S2 actors"
   ]
  },
  {
   "cell_type": "code",
   "execution_count": 15,
   "metadata": {
    "ExecuteTime": {
     "end_time": "2021-05-25T19:27:00.677310Z",
     "start_time": "2021-05-25T19:25:46.066066Z"
    },
    "colab": {
     "base_uri": "https://localhost:8080/",
     "height": 255
    },
    "id": "5o6imc82E_JS",
    "outputId": "29de4fa8-ddbb-44ba-ad8f-12d2e48d278f"
   },
   "outputs": [
    {
     "name": "stdout",
     "output_type": "stream",
     "text": [
      "          PID\n",
      "0   nm2539953\n",
      "1   nm0922035\n",
      "2   nm0324658\n",
      "3   nm0943079\n",
      "4   nm0000218\n",
      "5   nm0001394\n",
      "6   nm0929654\n",
      "7   nm3116102\n",
      "8   nm3248891\n",
      "9   nm2418809\n",
      "(25698, 1)\n",
      "CPU times: user 1min 14s, sys: 103 ms, total: 1min 14s\n",
      "Wall time: 1min 14s\n"
     ]
    }
   ],
   "source": [
    "%%time\n",
    "def grader_9(q9):\n",
    "    q9_results  = pd.read_sql_query(q9,conn)\n",
    "    print(q9_results.head(10))\n",
    "    print(q9_results.shape)\n",
    "    assert (q9_results.shape == (25698, 1))\n",
    "query9 = \"\"\" \n",
    "with temp as (\n",
    "    select\n",
    "        distinct trim(m.mid) mid\n",
    "    from movie m\n",
    "    join m_cast mc on m.mid = mc.mid\n",
    "    where lower(trim(pid)) = 'nm0451321'\n",
    "),\n",
    "-- all actors in the movies except shahrukh\n",
    "temp2 as (\n",
    "    select\n",
    "        distinct trim(mc.pid) pid\n",
    "    from temp t\n",
    "    join m_cast mc on trim(t.mid) = trim(mc.mid)\n",
    "    join person p on trim(p.pid)  = trim(mc.pid)\n",
    "    where lower(trim(mc.pid)) != 'nm0451321'\n",
    "),\n",
    "temp3 as(\n",
    "select\n",
    "    distinct trim(mc.mid) mid\n",
    "from m_cast mc\n",
    "join temp2 as t on trim(mc.pid) = t.pid\n",
    "where trim(mc.mid) not in ( select mid from temp )\n",
    ")\n",
    "-- selecting actors from that movies expect the ones\n",
    "-- who worked with shahrukh\n",
    "select \n",
    "    distinct pid\n",
    "from m_cast mc\n",
    "join temp3 t on trim(mc.mid) = trim(t.mid)\n",
    "where trim(mc.pid) not in ( select pid from temp2 )\n",
    "\"\"\"\n",
    "grader_9(query9)"
   ]
  }
 ],
 "metadata": {
  "colab": {
   "collapsed_sections": [],
   "name": "parth.pandey13103447@gmail.com_18.ipynb",
   "provenance": []
  },
  "kernelspec": {
   "display_name": "Python 3",
   "language": "python",
   "name": "python3"
  },
  "language_info": {
   "codemirror_mode": {
    "name": "ipython",
    "version": 3
   },
   "file_extension": ".py",
   "mimetype": "text/x-python",
   "name": "python",
   "nbconvert_exporter": "python",
   "pygments_lexer": "ipython3",
   "version": "3.8.3"
  },
  "latex_envs": {
   "LaTeX_envs_menu_present": true,
   "autoclose": false,
   "autocomplete": true,
   "bibliofile": "biblio.bib",
   "cite_by": "apalike",
   "current_citInitial": 1,
   "eqLabelWithNumbers": true,
   "eqNumInitial": 1,
   "hotkeys": {
    "equation": "Ctrl-E",
    "itemize": "Ctrl-I"
   },
   "labels_anchors": false,
   "latex_user_defs": false,
   "report_style_numbering": false,
   "user_envs_cfg": false
  },
  "toc": {
   "base_numbering": 1,
   "nav_menu": {},
   "number_sections": true,
   "sideBar": true,
   "skip_h1_title": false,
   "title_cell": "Table of Contents",
   "title_sidebar": "Contents",
   "toc_cell": false,
   "toc_position": {
    "height": "1123px",
    "left": "35px",
    "top": "34.5667px",
    "width": "342px"
   },
   "toc_section_display": true,
   "toc_window_display": false
  },
  "varInspector": {
   "cols": {
    "lenName": 16,
    "lenType": 16,
    "lenVar": 40
   },
   "kernels_config": {
    "python": {
     "delete_cmd_postfix": "",
     "delete_cmd_prefix": "del ",
     "library": "var_list.py",
     "varRefreshCmd": "print(var_dic_list())"
    },
    "r": {
     "delete_cmd_postfix": ") ",
     "delete_cmd_prefix": "rm(",
     "library": "var_list.r",
     "varRefreshCmd": "cat(var_dic_list()) "
    }
   },
   "types_to_exclude": [
    "module",
    "function",
    "builtin_function_or_method",
    "instance",
    "_Feature"
   ],
   "window_display": false
  }
 },
 "nbformat": 4,
 "nbformat_minor": 1
}
