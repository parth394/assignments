{
 "cells": [
  {
   "cell_type": "markdown",
   "metadata": {},
   "source": [
    "<h1>Python: without numpy or sklearn </h1>"
   ]
  },
  {
   "cell_type": "markdown",
   "metadata": {},
   "source": [
    "<h3> Q1: Given two matrices please print the product of those two matrices </h3>\n",
    "<pre>\n",
    "\n",
    "Ex 1: A   = [[1 3 4]\n",
    "             [2 5 7]\n",
    "             [5 9 6]]\n",
    "      B   = [[1 0 0]\n",
    "             [0 1 0]\n",
    "             [0 0 1]]\n",
    "      A*B = [[1 3 4]\n",
    "             [2 5 7]\n",
    "             [5 9 6]]\n",
    "\n",
    "     \n",
    "Ex 2: A   = [[1 2]\n",
    "             [3 4]]\n",
    "      B   = [[1 2 3 4 5]\n",
    "             [5 6 7 8 9]]\n",
    "      A*B = [[11 14 17 20 23]\n",
    "             [18 24 30 36 42]]\n",
    "             \n",
    "Ex 3: A   = [[1 2]\n",
    "             [3 4]]\n",
    "      B   = [[1 4]\n",
    "             [5 6]\n",
    "             [7 8]\n",
    "             [9 6]]\n",
    "      A*B =Not possible\n",
    "</pre>"
   ]
  },
  {
   "cell_type": "code",
   "execution_count": 1,
   "metadata": {
    "ExecuteTime": {
     "end_time": "2019-12-09T09:04:21.903329Z",
     "start_time": "2019-12-09T09:04:21.888679Z"
    },
    "scrolled": false
   },
   "outputs": [
    {
     "data": {
      "text/plain": [
       "'Not Possible'"
      ]
     },
     "execution_count": 1,
     "metadata": {},
     "output_type": "execute_result"
    }
   ],
   "source": [
    "# write your python code here\n",
    "# you can take the above example as sample input for your program to test\n",
    "# it should work for any general input try not to hard code for only given input examples\n",
    "\n",
    "\n",
    "# you can free to change all these codes/structure\n",
    "# here A and B are list of lists\n",
    "def matrix_mul(A, B):\n",
    "    # write your code\n",
    "    if  len(A[0]) != len(B):\n",
    "        return 'Not Possible'\n",
    "    p = len(A)\n",
    "    q = len(A[0])\n",
    "    r = len(B[0])\n",
    "    fm = []\n",
    "    for i in range(p):\n",
    "        mat = []\n",
    "        for k in range(r):\n",
    "            temp = 0\n",
    "            for j in range(q):\n",
    "                temp = temp + A[i][j]*B[j][k]\n",
    "            mat.append(temp)\n",
    "        fm.append(mat)\n",
    "    return fm\n",
    "A = [[1,2],\n",
    "     [3,4]]\n",
    "\n",
    "B = [[1 ,4],\n",
    "             [5, 6],\n",
    "             [7 ,8],\n",
    "             [9 ,6]]\n",
    "matrix_mul(A, B)"
   ]
  },
  {
   "cell_type": "markdown",
   "metadata": {},
   "source": [
    "<h3> Q2: Select a number randomly with probability proportional to its magnitude from the given array of n elements</h3>\n",
    "\n",
    "consider an experiment, selecting an element from the list A randomly with probability proportional to its magnitude.\n",
    "assume we are doing the same experiment for 100 times with replacement, in each experiment you will print a number that is selected randomly from A.\n",
    "\n",
    "<pre>\n",
    "Ex 1: A = [0 5 27 6 13 28 100 45 10 79]\n",
    "let f(x) denote the number of times x getting selected in 100 experiments.\n",
    "f(100) > f(79) > f(45) > f(28) > f(27) > f(13) > f(10) > f(6) > f(5) > f(0)\n",
    "</pre>"
   ]
  },
  {
   "cell_type": "code",
   "execution_count": 2,
   "metadata": {
    "ExecuteTime": {
     "end_time": "2019-12-09T09:04:23.323589Z",
     "start_time": "2019-12-09T09:04:23.311896Z"
    },
    "scrolled": false
   },
   "outputs": [
    {
     "name": "stdout",
     "output_type": "stream",
     "text": [
      "This shows the number of times a number if selected at random \n",
      "    is based upon the magnitude\n",
      "This is also called the propotional sampling\n",
      "100 24\n",
      "79 26\n",
      "45 12\n",
      "28 10\n",
      "27 11\n",
      "13 7\n",
      "10 4\n",
      "5 5\n"
     ]
    }
   ],
   "source": [
    "from random import uniform\n",
    "# write your python code here\n",
    "# you can take the above example as sample input for your program to test\n",
    "# it should work for any general input try not to hard code for only given input examples\n",
    "\n",
    "\n",
    "# you can free to change all these codes/structure\n",
    "def pick_a_number_from_list(A):\n",
    "    S = sum(A)\n",
    "    normal_A = [a/S for a in A]\n",
    "    temp = 0\n",
    "    cum_sum = []\n",
    "    for i in normal_A:\n",
    "        temp = temp + i\n",
    "        cum_sum.append(temp)\n",
    "    random_number = uniform(0,1)\n",
    "    for i in range(len(cum_sum)):\n",
    "        if random_number < cum_sum[i]:\n",
    "            index = i\n",
    "            break\n",
    "    \n",
    "    return A[index]\n",
    "\n",
    "            \n",
    "    # your code here for picking an element from with the probability propotional to its magnitude\n",
    "    #.\n",
    "    #.\n",
    "    #.\n",
    "#     return #selected_random_number\n",
    "A = [0 ,5, 27, 6, 13, 28, 100, 45, 10, 79]\n",
    "d = {}\n",
    "def sampling_based_on_magnitued():\n",
    "    for i in range(1,100):\n",
    "        number = pick_a_number_from_list(A)\n",
    "        if number in d.keys():\n",
    "            d[number] = d[number] + 1\n",
    "        else:\n",
    "            d[number] = 1\n",
    "    print('''This shows the number of times a number if selected at random \n",
    "    is based upon the magnitude''')\n",
    "    print('This is also called the propotional sampling')\n",
    "    for key in sorted(d.keys(),reverse=True):\n",
    "        print(key,d[key])\n",
    "    \n",
    "\n",
    "sampling_based_on_magnitued()"
   ]
  },
  {
   "cell_type": "markdown",
   "metadata": {},
   "source": [
    "<h3> Q3: Replace the digits in the string with #</h3>\n",
    "\n",
    "Consider a string that will have digits in that, we need to remove all the characters which are not digits and replace the digits with #\n",
    "<pre>\n",
    "Ex 1: A = 234                Output: ###\n",
    "Ex 2: A = a2b3c4             Output: ###\n",
    "Ex 3: A = abc                Output:   (empty string)\n",
    "Ex 5: A = #2a$#b%c%561#      Output: ####\n",
    "</pre>"
   ]
  },
  {
   "cell_type": "code",
   "execution_count": 3,
   "metadata": {
    "ExecuteTime": {
     "end_time": "2019-12-09T09:04:24.641698Z",
     "start_time": "2019-12-09T09:04:24.635152Z"
    }
   },
   "outputs": [
    {
     "data": {
      "text/plain": [
       "'####'"
      ]
     },
     "execution_count": 3,
     "metadata": {},
     "output_type": "execute_result"
    }
   ],
   "source": [
    "import re\n",
    "# write your python code here\n",
    "# you can take the above example as sample input for your program to test\n",
    "# it should work for any general input try not to hard code for only given input examples\n",
    "\n",
    "# you can free to change all these codes/structure\n",
    "# String: it will be the input to your program\n",
    "def replace_digits(String):\n",
    "    # write your code\n",
    "    # \n",
    "    temp = []\n",
    "    for i in String:\n",
    "        if re.match(r'[a-zA-Z]',i) or not re.match(r'[a-zA-Z0-9]',i):\n",
    "            continue\n",
    "        else:\n",
    "            temp.append('#')\n",
    "            \n",
    "            \n",
    "    return ''.join(temp) # modified string which is after replacing the # with digits\n",
    "String = '#2a$#b%c%561#'\n",
    "replace_digits(String)"
   ]
  },
  {
   "cell_type": "markdown",
   "metadata": {},
   "source": [
    "<h3> Q4: Students marks dashboard</h3>\n",
    "\n",
    "Consider the marks list of class students given in two lists <br>\n",
    "Students = ['student1','student2','student3','student4','student5','student6','student7','student8','student9','student10'] <br>\n",
    "Marks = [45, 78, 12, 14, 48, 43, 45, 98, 35, 80] <br>\n",
    "from the above two lists the Student[0] got Marks[0],  Student[1] got Marks[1] and so on. <br><br>\n",
    "\n",
    "Your task is to print the name of students\n",
    "\n",
    "<strong>a. Who got top 5 ranks, in the descending order of marks</strong> <br>\n",
    "<strong>b. Who got least 5 ranks, in the increasing order of marks</strong><br>\n",
    "<strong>d. Who got marks between  &gt;25th percentile &lt;75th percentile, in the increasing order of marks.</strong>\n",
    "\n",
    "<pre>\n",
    "Ex 1: \n",
    "Students=['student1','student2','student3','student4','student5','student6','student7','student8','student9','student10'] \n",
    "Marks = [45, 78, 12, 14, 48, 43, 47, 98, 35, 80]\n",
    "\n",
    "a. \n",
    "student8  98\n",
    "student10 80\n",
    "student2  78\n",
    "student5  48\n",
    "student7  47\n",
    "\n",
    "b.\n",
    "student3 12\n",
    "student4 14\n",
    "student9 35\n",
    "student6 43\n",
    "student1 45\n",
    "\n",
    "c.\n",
    "student9 35\n",
    "student6 43\n",
    "student1 45\n",
    "student7 47\n",
    "student5 48\n",
    "</pre>"
   ]
  },
  {
   "cell_type": "code",
   "execution_count": 32,
   "metadata": {
    "ExecuteTime": {
     "end_time": "2019-12-09T09:13:39.784984Z",
     "start_time": "2019-12-09T09:13:39.757324Z"
    }
   },
   "outputs": [
    {
     "name": "stdout",
     "output_type": "stream",
     "text": [
      "\n",
      "Top 5 Students\n",
      "\n",
      "student8 98\n",
      "student10 80\n",
      "student2 78\n",
      "student5 48\n",
      "student7 47\n",
      "\n",
      "Last 5 Students\n",
      "\n",
      "student3 12\n",
      "student4 14\n",
      "student9 35\n",
      "student6 43\n",
      "student1 45\n",
      "\n",
      "Students within 25 and 75\n",
      "\n",
      "student9 35\n",
      "student6 43\n",
      "student1 45\n",
      "student7 47\n",
      "student5 48\n"
     ]
    }
   ],
   "source": [
    "# write your python code here\n",
    "# you can take the above example as sample input for your program to test\n",
    "# it should work for any general input try not to hard code for only given input examples\n",
    "\n",
    "# you can free to change all these codes/structure\n",
    "def display_dash_board(students, marks):\n",
    "    # write code for computing top top 5 students\n",
    "    \n",
    "    x = list(zip(students,marks))\n",
    "    x.sort(key = lambda z : z[1])\n",
    "    x\n",
    "    marks.sort(reverse=True)\n",
    "    top_5 = []\n",
    "    for m in marks[:5]:\n",
    "        for k ,v in x:\n",
    "            if v == m:\n",
    "                top_5.append((k,v))\n",
    "    marks.sort()\n",
    "    last_5 = []\n",
    "    for m in marks[:5]:\n",
    "        for k ,v in x:\n",
    "            if v == m:\n",
    "                last_5.append((k,v))\n",
    "    no_students = len(marks)\n",
    "    first_percentile = int(round((no_students * 0.25),0))-1\n",
    "    third_percentile = int(round((no_students * 0.75),0))-1\n",
    "    percentile = []\n",
    "    for m in marks[first_percentile+1 : third_percentile]:\n",
    "        for k,v in x:\n",
    "            if v == m:\n",
    "                percentile.append((k,v))\n",
    "    return (top_5, last_5 , percentile)\n",
    "\n",
    "    \n",
    "    #     top_5_students = # compute this\n",
    "    # write code for computing top least 5 students\n",
    "#     least_5_students = # compute this\n",
    "    # write code for computing top least 5 students\n",
    "#     students_within_25_and_75 = # compute this\n",
    "    \n",
    "#     return top_5_students, least_5_students, students_within_25_and_75\n",
    "students = ['student1','student2','student3','student4','student5','student6','student7','student8','student9','student10'] \n",
    "marks = [45, 78, 12, 14, 48, 43, 47, 98, 35, 80]\n",
    "top_5_students, least_5_students, students_within_25_and_75 = display_dash_board(students, marks)\n",
    "print('\\nTop 5 Students\\n')\n",
    "for student,marks in top_5_students:\n",
    "    print(student,marks)\n",
    "print('\\nLast 5 Students\\n')\n",
    "for student,marks in least_5_students:\n",
    "    print(student,marks)\n",
    "print('\\nStudents within 25 and 75\\n')\n",
    "for student,marks in students_within_25_and_75:\n",
    "    print(student,marks)"
   ]
  },
  {
   "cell_type": "markdown",
   "metadata": {},
   "source": [
    "<h3> Q5: Find the closest points</h3>\n",
    "\n",
    "Consider you are given n data points in the form of list of tuples like S=[(x1,y1),(x2,y2),(x3,y3),(x4,y4),(x5,y5),..,(xn,yn)] and a point P=(p,q) <br> your task is to find 5 closest points(based on cosine distance) in S from P\n",
    "\n",
    "<br>Cosine distance between two points (x,y) and (p,q) is defined as $cos^{-1}(\\frac{(x\\cdot p+y\\cdot q)}{\\sqrt(x^2+y^2)\\cdot\\sqrt(p^2+q^2)})$\n",
    "<pre>\n",
    "Ex:\n",
    "\n",
    "S= [(1,2),(3,4),(-1,1),(6,-7),(0, 6),(-5,-8),(-1,-1)(6,0),(1,-1)]\n",
    "P= (3,-4)\n",
    "<img src='https://i.imgur.com/vIFPOcG.jpg', width=300>\n",
    "Output:\n",
    "(6,-7)\n",
    "(1,-1)\n",
    "(6,0)\n",
    "(-5,-8)\n",
    "(-1,-1)\n",
    "</pre>"
   ]
  },
  {
   "cell_type": "code",
   "execution_count": 38,
   "metadata": {
    "ExecuteTime": {
     "end_time": "2019-12-09T09:14:42.863707Z",
     "start_time": "2019-12-09T09:14:42.854567Z"
    }
   },
   "outputs": [
    {
     "name": "stdout",
     "output_type": "stream",
     "text": [
      "(-1, -1)\n",
      "(-5, -8)\n",
      "(0, 6)\n",
      "(1, 2)\n",
      "(3, 4)\n"
     ]
    }
   ],
   "source": [
    "import math\n",
    "\n",
    "# write your python code here\n",
    "# you can take the above example as sample input for your program to test\n",
    "# it should work for any general input try not to hard code for only given input examples\n",
    "# you can free to change all these codes/structure\n",
    "\n",
    "\n",
    "# here S is list of tuples and P is a tuple ot len=2\n",
    "def closest_points_to_p(S, P):\n",
    "    # write your code here\n",
    "    temp = {}\n",
    "    for x,y in S:\n",
    "        num = x*P[0] + x*P[1]\n",
    "        den = math.sqrt(x**2 + y**2 ) * math.sqrt(P[0]**2+ P[1]**2)\n",
    "        temp[math.acos(num/den)] = (x,y)\n",
    "    points = []\n",
    "    for i in sorted(temp.keys())[:5]:\n",
    "        points.append(temp[i])   \n",
    "    return points  # its list of tuples\n",
    "\n",
    "S= [(1,2),(3,4),(-1,1),(6,-7),(0, 6),(-5,-8),(-1,-1), (6,0),(1,-1)]\n",
    "P= (3,-4)\n",
    "points = closest_points_to_p(S, P)\n",
    "for pts in points:\n",
    "    print(pts) #print the returned values"
   ]
  },
  {
   "cell_type": "markdown",
   "metadata": {},
   "source": [
    "<h3> Q6: Find which line separates oranges and apples</h3>\n",
    "\n",
    "Consider you are given two set of data points in the form of list of tuples like \n",
    "<pre>\n",
    "Red =[(R11,R12),(R21,R22),(R31,R32),(R41,R42),(R51,R52),..,(Rn1,Rn2)]\n",
    "Blue=[(B11,B12),(B21,B22),(B31,B32),(B41,B42),(B51,B52),..,(Bm1,Bm2)]\n",
    "</pre>\n",
    "and set of line equations(in the string format, i.e list of strings)\n",
    "<pre>\n",
    "Lines = [a1x+b1y+c1,a2x+b2y+c2,a3x+b3y+c3,a4x+b4y+c4,..,K lines]\n",
    "Note: You need to do string parsing here and get the coefficients of x,y and intercept.\n",
    "</pre>\n",
    "Your task here is to print \"YES\"/\"NO\" for each line given. You should print YES, if all the red points are one side of the line and blue points are on other side of the line, otherwise you should print NO.\n",
    "<pre>\n",
    "Ex:\n",
    "Red= [(1,1),(2,1),(4,2),(2,4), (-1,4)]\n",
    "Blue= [(-2,-1),(-1,-2),(-3,-2),(-3,-1),(1,-3)]\n",
    "Lines=[\"1x+1y+0\",\"1x-1y+0\",\"1x+0y-3\",\"0x+1y-0.5\"]\n",
    "<img src='https://i.imgur.com/DoQf7mE.jpg' width=400>\n",
    "Output:\n",
    "YES\n",
    "NO\n",
    "NO\n",
    "YES\n",
    "</pre>"
   ]
  },
  {
   "cell_type": "code",
   "execution_count": 6,
   "metadata": {
    "ExecuteTime": {
     "end_time": "2019-12-09T09:04:35.952152Z",
     "start_time": "2019-12-09T09:04:35.941294Z"
    }
   },
   "outputs": [
    {
     "name": "stdout",
     "output_type": "stream",
     "text": [
      "YES\n",
      "NO\n",
      "NO\n",
      "YES\n"
     ]
    }
   ],
   "source": [
    "import math\n",
    "# write your python code here\n",
    "# you can take the above example as sample input for your program to test\n",
    "# it should work for any general input try not to hard code for only given input strings\n",
    "\n",
    "\n",
    "# you can free to change all these codes/structure\n",
    "def i_am_the_one(red,blue,line):\n",
    "#     EXTRACTING COEFFICIENTS\n",
    "    x_coff = line.split('x')[0]\n",
    "    y_coff = line.split('x')[1].split('y')[0]\n",
    "    c_coff = line.split('y')[1]\n",
    "#     CONVERTING COEFFICIENTS TO FLOAT\n",
    "    if len(x_coff) > 0 and x_coff[0] == '-':\n",
    "        x_coff = -1 * float(x_coff[1])\n",
    "    else:\n",
    "        x_coff = float(x_coff)\n",
    "    \n",
    "    if y_coff[0] == '-':\n",
    "        y_coff = -1 * float(y_coff[1])\n",
    "    else:\n",
    "        y_coff = float(y_coff[1])\n",
    "    \n",
    "    if c_coff[0] == '-':\n",
    "        c_coff = -1 * float(c_coff[1:])\n",
    "    else:\n",
    "        c_coff = float(c_coff[1:])    \n",
    "#     CALCULATING THE  DIRECTION OF EACH POINT\n",
    "    dist = {'red':[],'blue':[]}\n",
    "    \n",
    "    for r,b in zip(red,blue):\n",
    "        temp = r\n",
    "        dist_r = x_coff * temp[0] + y_coff * temp[1] + c_coff\n",
    "        temp = b\n",
    "        dist_b = x_coff * temp[0] + y_coff * temp[1] + c_coff\n",
    "        dist['red'].append(dist_r)\n",
    "        dist['blue'].append(dist_b)\n",
    "#     IF ALL POINTS FOR EITHER OF THE COLOR ARE IN SAME DIREACTION  \n",
    "#     THEN THE LINE SEPERATES THEM PERFECTLY\n",
    "    temp_r = list(filter(lambda x: x > 0 , dist['red']))\n",
    "    temp_b = list(filter(lambda x: x < 0 , dist['blue']))\n",
    "    return len(temp_r) == len(temp_b)\n",
    "    \n",
    "    \n",
    "Red= [(1,1),(2,1),(4,2),(2,4), (-1,4)]\n",
    "Blue= [(-2,-1),(-1,-2),(-3,-2),(-3,-1),(1,-3)]\n",
    "Lines=[\"1x+1y+0\",\"1x-1y+0\",\"1x+0y-3\",\"0x+1y-0.5\"]\n",
    "\n",
    "for i in Lines:\n",
    "    if i_am_the_one(Red, Blue, i) == True: yes_or_no = 'YES' \n",
    "    else: yes_or_no = 'NO'\n",
    "    print(yes_or_no) # the returned value"
   ]
  },
  {
   "cell_type": "markdown",
   "metadata": {},
   "source": [
    "<h3> Q7: Filling the missing values in the specified format</h3>\n",
    "\n",
    "You will be given a string with digits and '\\_'(missing value) symbols you have to replace the '\\_' symbols as explained \n",
    "\n",
    "<pre>\n",
    "Ex 1: _, _, _, 24 ==> 24/4, 24/4, 24/4, 24/4 i.e we. have distributed the 24 equally to all 4 places <br>\n",
    "Ex 2: 40, _, _, _, 60 ==> (60+40)/5,(60+40)/5,(60+40)/5,(60+40)/5,(60+40)/5 ==> 20, 20, 20, 20, 20 i.e. the sum of (60+40) is distributed qually to all 5 places<br>\n",
    "Ex 3: 80, _, _, _, _  ==> 80/5,80/5,80/5,80/5,80/5 ==> 16, 16, 16, 16, 16 i.e. the 80 is distributed qually to all 5 missing values that are right to it<br>\n",
    "Ex 4: _, _, 30, _, _, _, 50, _, _  \n",
    "==> we will fill the missing values from left to right \n",
    "    a. first we will distribute the 30 to left two missing values (10, 10, 10, _, _, _, 50, _, _)\n",
    "    b. now distribute the sum (10+50) missing values in between (10, 10, 12, 12, 12, 12, 12, _, _) \n",
    "    c. now we will distribute 12 to right side missing values (10, 10, 12, 12, 12, 12, 4, 4, 4)\n",
    "</pre>\n",
    "for a given string with comma seprate values, which will have both missing values numbers like ex: \"_, _, x, _, _, _\"\n",
    "you need fill the missing values\n",
    "\n",
    "Q: your program reads a string like ex: \"_, _, x, _, _, _\" and returns the filled sequence\n",
    "\n",
    "Ex: \n",
    "<pre>\n",
    "Input1: \"_,_,_,24\"\n",
    "Output1: 6,6,6,6\n",
    "\n",
    "Input2: \"40,_,_,_,60\"\n",
    "Output2: 20,20,20,20,20\n",
    "\n",
    "Input3: \"80,_,_,_,_\"\n",
    "Output3: 16,16,16,16,16\n",
    "\n",
    "Input4: \"_,_,30,_,_,_,50,_,_\"\n",
    "Output4: 10,10,12,12,12,12,4,4,4\n",
    "</pre>\n",
    "\n"
   ]
  },
  {
   "cell_type": "code",
   "execution_count": 10,
   "metadata": {
    "ExecuteTime": {
     "end_time": "2019-12-09T09:06:47.321779Z",
     "start_time": "2019-12-09T09:06:47.310293Z"
    }
   },
   "outputs": [
    {
     "name": "stdout",
     "output_type": "stream",
     "text": [
      "10,10,12,12,12,12,4,4,4\n"
     ]
    }
   ],
   "source": [
    "# write your python code here\n",
    "# you can take the above example as sample input for your program to test\n",
    "# it should work for any general input try not to hard code for only given input strings\n",
    "\n",
    "\n",
    "# you can free to change all these codes/structure\n",
    "def curve_smoothing(string):\n",
    "    # your code\n",
    "    count = 1\n",
    "    temp_num = 0\n",
    "    temp = string.split(',')\n",
    "    no_of_blanks = len(list(filter(lambda x: x == '_' , temp)))\n",
    "    dist_num = []\n",
    "    for x in temp:\n",
    "        if x!= '_' and count > 0:\n",
    "            num = int(x) + temp_num\n",
    "            dist_num.append(num//count)\n",
    "            temp_num = num//count\n",
    "            count = 1\n",
    "            count+=1\n",
    "        else:\n",
    "            count += 1\n",
    "        if len(dist_num) > 0:\n",
    "            final_dist = temp_num//(count-1)\n",
    "    dist_num.append(final_dist)\n",
    "    i =0 \n",
    "    for j in range(len(temp)):\n",
    "        if temp[j] == '_':\n",
    "            temp[j] = dist_num[i]\n",
    "        else:\n",
    "            i+=1\n",
    "            temp[j] = dist_num[i]\n",
    "    return temp\n",
    "\n",
    "S=  \"_,_,30,_,_,_,50,_,_\"\n",
    "# S = \"_,_,_,24\"\n",
    "# S = \"40,_,_,_,60\"\n",
    "# S = \"80,_,_,_,_\"\n",
    "smoothed_values= curve_smoothing(S)\n",
    "print(','.join(list(map(str,smoothed_values))))"
   ]
  },
  {
   "cell_type": "markdown",
   "metadata": {},
   "source": [
    "<h3> Q8: Find the probabilities</h3>\n",
    "\n",
    "You will be given a list of lists, each sublist will be of length 2 i.e. [[x,y],[p,q],[l,m]..[r,s]]\n",
    "consider its like a martrix of n rows and two columns\n",
    "1. The first column F will contain only 5 uniques values (F1, F2, F3, F4, F5)\n",
    "2. The second column S will contain only 3 uniques values (S1, S2, S3)\n",
    "<pre>\n",
    "your task is to find\n",
    "a. Probability of P(F=F1|S==S1), P(F=F1|S==S2), P(F=F1|S==S3)\n",
    "b. Probability of P(F=F2|S==S1), P(F=F2|S==S2), P(F=F2|S==S3)\n",
    "c. Probability of P(F=F3|S==S1), P(F=F3|S==S2), P(F=F3|S==S3)\n",
    "d. Probability of P(F=F4|S==S1), P(F=F4|S==S2), P(F=F4|S==S3)\n",
    "e. Probability of P(F=F5|S==S1), P(F=F5|S==S2), P(F=F5|S==S3)\n",
    "</pre>\n",
    "Ex:\n",
    "\n",
    "<pre>\n",
    "[[F1,S1],[F2,S2],[F3,S3],[F1,S2],[F2,S3],[F3,S2],[F2,S1],[F4,S1],[F4,S3],[F5,S1]]\n",
    "\n",
    "a. P(F=F1|S==S1)=1/4, P(F=F1|S==S2)=1/3, P(F=F1|S==S3)=0/3\n",
    "b. P(F=F2|S==S1)=1/4, P(F=F2|S==S2)=1/3, P(F=F2|S==S3)=1/3\n",
    "c. P(F=F3|S==S1)=0/4, P(F=F3|S==S2)=1/3, P(F=F3|S==S3)=1/3\n",
    "d. P(F=F4|S==S1)=1/4, P(F=F4|S==S2)=0/3, P(F=F4|S==S3)=1/3\n",
    "e. P(F=F5|S==S1)=1/4, P(F=F5|S==S2)=0/3, P(F=F5|S==S3)=0/3\n",
    "</pre>\n",
    "\n"
   ]
  },
  {
   "cell_type": "code",
   "execution_count": 11,
   "metadata": {
    "ExecuteTime": {
     "end_time": "2019-12-09T09:06:58.570279Z",
     "start_time": "2019-12-09T09:06:58.551659Z"
    }
   },
   "outputs": [
    {
     "name": "stdout",
     "output_type": "stream",
     "text": [
      "[['F1', 'S1'], ['F2', 'S2'], ['F3', 'S3'], ['F1', 'S2'], ['F2', 'S3'], ['F3', 'S2'], ['F2', 'S1'], ['F4', 'S1'], ['F4', 'S3'], ['F5', 'S1']]\n",
      "P(F=F1|S==S1)=1/4, P(F=F1|S==S2)=1/3, P(F=F1|S==S3)=0/3\n",
      "P(F=F2|S==S1)=1/4, P(F=F2|S==S2)=1/3, P(F=F2|S==S3)=1/3\n",
      "P(F=F3|S==S1)=0/4, P(F=F3|S==S2)=1/3, P(F=F3|S==S3)=1/3\n",
      "P(F=F4|S==S1)=1/4, P(F=F4|S==S2)=0/3, P(F=F4|S==S3)=1/3\n",
      "P(F=F5|S==S1)=1/4, P(F=F5|S==S2)=0/3, P(F=F5|S==S3)=0/3\n"
     ]
    }
   ],
   "source": [
    "# write your python code here\n",
    "# you can take the above example as sample input for your program to test\n",
    "# it should work for any general input try not to hard code for only given input strings\n",
    "\n",
    "\n",
    "\n",
    "# you can free to change all these codes/structure\n",
    "def compute_conditional_probabilites(A):\n",
    "    # your code\n",
    "    # print the output as per the instructions\n",
    "    condition = ['S1','S2','S3']\n",
    "    probables = ['F1','F2','F3','F4','F5']\n",
    "    final_ans = []\n",
    "    for prob in probables:\n",
    "        temp = []\n",
    "        for cond in condition:            \n",
    "            total = 0\n",
    "            fav = 0\n",
    "            for element in A:\n",
    "                if element[1] == cond:\n",
    "                    total+=1\n",
    "                    if element[0] == prob:\n",
    "                        fav+=1\n",
    "            temp.append('P(F={}|S=={})={}/{}'.format(prob,cond,fav,total))\n",
    "        final_ans.append(temp)\n",
    "    print(A)\n",
    "    for i in final_ans:\n",
    "        print(', '.join(i))\n",
    "A = [['F1','S1'],['F2','S2'],['F3','S3'],['F1','S2'],['F2','S3'],['F3','S2'],['F2','S1'],['F4','S1'],['F4','S3'],['F5','S1']]\n",
    "compute_conditional_probabilites(A)"
   ]
  },
  {
   "cell_type": "markdown",
   "metadata": {},
   "source": [
    "<h3> Q9: Operations on sentences </h3>\n",
    "\n",
    "You will be given two sentances S1, S2 your task is to find \n",
    "<pre>\n",
    "a. Number of common words between S1, S2\n",
    "b. Words in S1 but not in S2\n",
    "c. Words in S2 but not in S1\n",
    "</pre>\n",
    "\n",
    "Ex: \n",
    "<pre>\n",
    "S1= \"the first column F will contain only 5 unique values\"\n",
    "S2= \"the second column S will contain only 3 unique values\"\n",
    "Output:\n",
    "a. 7\n",
    "b. ['first','F','5']\n",
    "c. ['second','S','3']\n",
    "</pre>"
   ]
  },
  {
   "cell_type": "code",
   "execution_count": 12,
   "metadata": {
    "ExecuteTime": {
     "end_time": "2019-12-09T09:07:00.606554Z",
     "start_time": "2019-12-09T09:07:00.601012Z"
    }
   },
   "outputs": [
    {
     "name": "stdout",
     "output_type": "stream",
     "text": [
      "7\n",
      "['first', 'F', '5']\n",
      "['second', 'S', '3']\n"
     ]
    }
   ],
   "source": [
    "# write your python code here\n",
    "# you can take the above example as sample input for your program to test\n",
    "# it should work for any general input try not to hard code for only given input strings\n",
    "\n",
    "# you can free to change all these codes/structure\n",
    "def string_features(S1, S2):\n",
    "    # your code\n",
    "    count = 0\n",
    "    diff_word = []\n",
    "    diff_word1 = []\n",
    "    for word in S1.split(' '):\n",
    "        if word in S2.split(' '):\n",
    "            count+=1\n",
    "        if word not in S2.split(' '):\n",
    "            diff_word.append(word)\n",
    "    \n",
    "    for word in S2.split(' '):\n",
    "        if word not in S1.split(' '):\n",
    "            diff_word1.append(word)\n",
    "    return count , diff_word , diff_word1\n",
    "\n",
    "S1= \"the first column F will contain only 5 uniques values\"\n",
    "S2= \"the second column S will contain only 3 uniques values\"\n",
    "a,b,c = string_features(S1, S2)\n",
    "print(a)\n",
    "print(b)\n",
    "print(c)"
   ]
  },
  {
   "cell_type": "markdown",
   "metadata": {},
   "source": [
    "<h3> Q10: Error Function</h3>\n",
    "\n",
    "You will be given a list of lists, each sublist will be of length 2 i.e. [[x,y],[p,q],[l,m]..[r,s]]\n",
    "consider its like a martrix of n rows and two columns\n",
    "\n",
    "a. the first column Y will contain interger values <br>\n",
    "b. the second column $Y_{score}$ will be having float values <br>\n",
    "Your task is to find the value of $f(Y,Y_{score}) = -1*\\frac{1}{n}\\Sigma_{for each Y,Y_{score} pair}(Ylog10(Y_{score})+(1-Y)log10(1-Y_{score}))$ here n is the number of rows in the matrix\n",
    "<pre>\n",
    "Ex:\n",
    "[[1, 0.4], [0, 0.5], [0, 0.9], [0, 0.3], [0, 0.6], [1, 0.1], [1, 0.9], [1, 0.8]]\n",
    "output:\n",
    "0.44982\n",
    "</pre>\n",
    "$\\frac{-1}{8}\\cdot((1\\cdot log_{10}(0.4)+0\\cdot log_{10}(0.6))+(0\\cdot log_{10}(0.5)+1\\cdot log_{10}(0.5)) + ... + (1\\cdot log_{10}(0.8)+0\\cdot log_{10}(0.2)) )$"
   ]
  },
  {
   "cell_type": "code",
   "execution_count": 13,
   "metadata": {
    "ExecuteTime": {
     "end_time": "2019-12-09T09:07:02.108209Z",
     "start_time": "2019-12-09T09:07:02.100566Z"
    }
   },
   "outputs": [
    {
     "name": "stdout",
     "output_type": "stream",
     "text": [
      "0.42430993457031635\n"
     ]
    }
   ],
   "source": [
    "# write your python code here\n",
    "# you can take the above example as sample input for your program to test\n",
    "# it should work for any general input try not to hard code for only given input strings\n",
    "# IMPORTING MATH FOR LOG\n",
    "from math import log\n",
    "# you can free to change all these codes/structure\n",
    "def compute_log_loss(A):\n",
    "    # your code\n",
    "    loss = 0\n",
    "    for pair in A:\n",
    "        loss = loss  + ( pair[0] * log(pair[1],10) + (1- pair[0]) * log((1-pair[1]),10))\n",
    "    return loss * (-1/len(A))\n",
    "\n",
    "A = [[1, 0.4], [0, 0.5], [0, 0.9], [0, 0.3], [0, 0.6], [1, 0.1], [1, 0.9], [1, 0.8]]\n",
    "loss = compute_log_loss(A)\n",
    "print(loss)"
   ]
  }
 ],
 "metadata": {
  "kernelspec": {
   "display_name": "Python 3",
   "language": "python",
   "name": "python3"
  },
  "language_info": {
   "codemirror_mode": {
    "name": "ipython",
    "version": 3
   },
   "file_extension": ".py",
   "mimetype": "text/x-python",
   "name": "python",
   "nbconvert_exporter": "python",
   "pygments_lexer": "ipython3",
   "version": "3.6.8"
  },
  "latex_envs": {
   "LaTeX_envs_menu_present": true,
   "autoclose": false,
   "autocomplete": true,
   "bibliofile": "biblio.bib",
   "cite_by": "apalike",
   "current_citInitial": 1,
   "eqLabelWithNumbers": true,
   "eqNumInitial": 1,
   "hotkeys": {
    "equation": "Ctrl-E",
    "itemize": "Ctrl-I"
   },
   "labels_anchors": false,
   "latex_user_defs": false,
   "report_style_numbering": false,
   "user_envs_cfg": false
  },
  "toc": {
   "base_numbering": 1,
   "nav_menu": {},
   "number_sections": true,
   "sideBar": true,
   "skip_h1_title": false,
   "title_cell": "Table of Contents",
   "title_sidebar": "Contents",
   "toc_cell": false,
   "toc_position": {
    "height": "calc(100% - 180px)",
    "left": "10px",
    "top": "150px",
    "width": "256px"
   },
   "toc_section_display": true,
   "toc_window_display": true
  },
  "varInspector": {
   "cols": {
    "lenName": 16,
    "lenType": 16,
    "lenVar": 40
   },
   "kernels_config": {
    "python": {
     "delete_cmd_postfix": "",
     "delete_cmd_prefix": "del ",
     "library": "var_list.py",
     "varRefreshCmd": "print(var_dic_list())"
    },
    "r": {
     "delete_cmd_postfix": ") ",
     "delete_cmd_prefix": "rm(",
     "library": "var_list.r",
     "varRefreshCmd": "cat(var_dic_list()) "
    }
   },
   "types_to_exclude": [
    "module",
    "function",
    "builtin_function_or_method",
    "instance",
    "_Feature"
   ],
   "window_display": false
  }
 },
 "nbformat": 4,
 "nbformat_minor": 2
}
