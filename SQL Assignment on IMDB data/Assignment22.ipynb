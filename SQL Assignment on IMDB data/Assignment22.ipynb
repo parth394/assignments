{
 "cells": [
  {
   "cell_type": "markdown",
   "metadata": {},
   "source": [
    "# Assginment 22"
   ]
  },
  {
   "cell_type": "markdown",
   "metadata": {},
   "source": [
    "## Imports"
   ]
  },
  {
   "cell_type": "code",
   "execution_count": 1,
   "metadata": {
    "ExecuteTime": {
     "end_time": "2019-09-08T14:16:56.930460Z",
     "start_time": "2019-09-08T14:16:56.653181Z"
    }
   },
   "outputs": [],
   "source": [
    "import pandas as pd \n",
    "import numpy as np\n",
    "import pysqlite3 as sql\n",
    "import re"
   ]
  },
  {
   "cell_type": "markdown",
   "metadata": {},
   "source": [
    "## Creating the connection "
   ]
  },
  {
   "cell_type": "code",
   "execution_count": 2,
   "metadata": {
    "ExecuteTime": {
     "end_time": "2019-09-08T14:16:58.129428Z",
     "start_time": "2019-09-08T14:16:58.124581Z"
    }
   },
   "outputs": [],
   "source": [
    "db = sql.connect(\"Db-IMDB.db\")"
   ]
  },
  {
   "cell_type": "markdown",
   "metadata": {},
   "source": [
    "## Question 1"
   ]
  },
  {
   "cell_type": "markdown",
   "metadata": {},
   "source": [
    "### Loading the director data"
   ]
  },
  {
   "cell_type": "code",
   "execution_count": 76,
   "metadata": {
    "ExecuteTime": {
     "end_time": "2019-09-08T14:59:59.969335Z",
     "start_time": "2019-09-08T14:59:59.928067Z"
    },
    "scrolled": false
   },
   "outputs": [],
   "source": [
    "director_query = '''\n",
    "select p.Name as director, m_d.MID as MID \n",
    "    from ((select Name,PID \n",
    "        from Person) p \n",
    "    join (select MID,PID \n",
    "            from M_Director) m_d \n",
    "    on ( m_d.PID = p.PID))\n",
    "'''\n",
    "df_dir = pd.read_sql_query(director_query,db)\n",
    "df_dir.drop_duplicates(subset=['MID','director'],keep=False,inplace=True)\n",
    "df_dir.set_index('MID',inplace=True)"
   ]
  },
  {
   "cell_type": "markdown",
   "metadata": {},
   "source": [
    "### Loading the movie data"
   ]
  },
  {
   "cell_type": "code",
   "execution_count": 77,
   "metadata": {
    "ExecuteTime": {
     "end_time": "2019-09-08T15:00:01.056647Z",
     "start_time": "2019-09-08T15:00:01.034458Z"
    }
   },
   "outputs": [
    {
     "data": {
      "text/html": [
       "<div>\n",
       "<style scoped>\n",
       "    .dataframe tbody tr th:only-of-type {\n",
       "        vertical-align: middle;\n",
       "    }\n",
       "\n",
       "    .dataframe tbody tr th {\n",
       "        vertical-align: top;\n",
       "    }\n",
       "\n",
       "    .dataframe thead th {\n",
       "        text-align: right;\n",
       "    }\n",
       "</style>\n",
       "<table border=\"1\" class=\"dataframe\">\n",
       "  <thead>\n",
       "    <tr style=\"text-align: right;\">\n",
       "      <th></th>\n",
       "      <th>year</th>\n",
       "    </tr>\n",
       "    <tr>\n",
       "      <th>MID</th>\n",
       "      <th></th>\n",
       "    </tr>\n",
       "  </thead>\n",
       "  <tbody>\n",
       "    <tr>\n",
       "      <td>tt3726012</td>\n",
       "      <td>2016</td>\n",
       "    </tr>\n",
       "    <tr>\n",
       "      <td>tt0366551</td>\n",
       "      <td>2004</td>\n",
       "    </tr>\n",
       "    <tr>\n",
       "      <td>tt1954470</td>\n",
       "      <td>2012</td>\n",
       "    </tr>\n",
       "    <tr>\n",
       "      <td>tt0327437</td>\n",
       "      <td>2004</td>\n",
       "    </tr>\n",
       "    <tr>\n",
       "      <td>tt0809504</td>\n",
       "      <td>2008</td>\n",
       "    </tr>\n",
       "  </tbody>\n",
       "</table>\n",
       "</div>"
      ],
      "text/plain": [
       "           year\n",
       "MID            \n",
       "tt3726012  2016\n",
       "tt0366551  2004\n",
       "tt1954470  2012\n",
       "tt0327437  2004\n",
       "tt0809504  2008"
      ]
     },
     "execution_count": 77,
     "metadata": {},
     "output_type": "execute_result"
    }
   ],
   "source": [
    "movie_query = '''\n",
    " select MID,year from Movie where MID in ( select MID from M_Genre where GID in (\n",
    " select GID from Genre where lower(Name) like '%comedy%'))\n",
    " '''\n",
    "movie_df = pd.read_sql_query(movie_query,db)\n",
    "movie_df.head()\n",
    "# Taking care of problematic date outside the db\n",
    "# Removing the special symbols from date\n",
    "movie_df['year'] = movie_df['year'].apply(lambda x : re.sub('^[A-z]+','',x))\n",
    "# Converting the string year to integer\n",
    "movie_df['year'] = movie_df['year'].apply(lambda x : int(x))\n",
    "# applying the condition for leap year\n",
    "movie_df = movie_df[(movie_df['year'] % 4 == 0 ) | (movie_df['year'] % 400 == 0)]\n",
    "movie_df.set_index('MID',inplace=True)\n",
    "movie_df.head()"
   ]
  },
  {
   "cell_type": "markdown",
   "metadata": {},
   "source": [
    "### Joining the two dataframes"
   ]
  },
  {
   "cell_type": "code",
   "execution_count": 78,
   "metadata": {
    "ExecuteTime": {
     "end_time": "2019-09-08T15:00:04.343615Z",
     "start_time": "2019-09-08T15:00:04.336647Z"
    }
   },
   "outputs": [],
   "source": [
    "ans_df = movie_df.join(df_dir,on='MID',how='inner')"
   ]
  },
  {
   "cell_type": "code",
   "execution_count": 80,
   "metadata": {
    "ExecuteTime": {
     "end_time": "2019-09-08T15:01:25.755538Z",
     "start_time": "2019-09-08T15:01:25.739702Z"
    },
    "scrolled": false
   },
   "outputs": [
    {
     "data": {
      "text/html": [
       "<div>\n",
       "<style scoped>\n",
       "    .dataframe tbody tr th:only-of-type {\n",
       "        vertical-align: middle;\n",
       "    }\n",
       "\n",
       "    .dataframe tbody tr th {\n",
       "        vertical-align: top;\n",
       "    }\n",
       "\n",
       "    .dataframe thead th {\n",
       "        text-align: right;\n",
       "    }\n",
       "</style>\n",
       "<table border=\"1\" class=\"dataframe\">\n",
       "  <thead>\n",
       "    <tr style=\"text-align: right;\">\n",
       "      <th></th>\n",
       "      <th>year</th>\n",
       "      <th>director</th>\n",
       "    </tr>\n",
       "    <tr>\n",
       "      <th>MID</th>\n",
       "      <th></th>\n",
       "      <th></th>\n",
       "    </tr>\n",
       "  </thead>\n",
       "  <tbody>\n",
       "    <tr>\n",
       "      <td>tt3726012</td>\n",
       "      <td>2016</td>\n",
       "      <td>Milap Zaveri</td>\n",
       "    </tr>\n",
       "    <tr>\n",
       "      <td>tt3726012</td>\n",
       "      <td>2016</td>\n",
       "      <td>Milap Zaveri</td>\n",
       "    </tr>\n",
       "    <tr>\n",
       "      <td>tt0366551</td>\n",
       "      <td>2004</td>\n",
       "      <td>Danny Leiner</td>\n",
       "    </tr>\n",
       "    <tr>\n",
       "      <td>tt0366551</td>\n",
       "      <td>2004</td>\n",
       "      <td>Danny Leiner</td>\n",
       "    </tr>\n",
       "    <tr>\n",
       "      <td>tt1954470</td>\n",
       "      <td>2012</td>\n",
       "      <td>Anurag Kashyap</td>\n",
       "    </tr>\n",
       "    <tr>\n",
       "      <td>...</td>\n",
       "      <td>...</td>\n",
       "      <td>...</td>\n",
       "    </tr>\n",
       "    <tr>\n",
       "      <td>tt0438153</td>\n",
       "      <td>2004</td>\n",
       "      <td>Siddharth Anand Kumar</td>\n",
       "    </tr>\n",
       "    <tr>\n",
       "      <td>tt1582597</td>\n",
       "      <td>2008</td>\n",
       "      <td>Amma Rajasekhar</td>\n",
       "    </tr>\n",
       "    <tr>\n",
       "      <td>tt1087526</td>\n",
       "      <td>2008</td>\n",
       "      <td>Oliver Paulus</td>\n",
       "    </tr>\n",
       "    <tr>\n",
       "      <td>tt2356426</td>\n",
       "      <td>2012</td>\n",
       "      <td>Raja Chanda</td>\n",
       "    </tr>\n",
       "    <tr>\n",
       "      <td>tt0363011</td>\n",
       "      <td>1996</td>\n",
       "      <td>K.S. Prakash Rao</td>\n",
       "    </tr>\n",
       "  </tbody>\n",
       "</table>\n",
       "<p>366 rows × 2 columns</p>\n",
       "</div>"
      ],
      "text/plain": [
       "           year               director\n",
       "MID                                   \n",
       "tt3726012  2016           Milap Zaveri\n",
       "tt3726012  2016           Milap Zaveri\n",
       "tt0366551  2004           Danny Leiner\n",
       "tt0366551  2004           Danny Leiner\n",
       "tt1954470  2012         Anurag Kashyap\n",
       "...         ...                    ...\n",
       "tt0438153  2004  Siddharth Anand Kumar\n",
       "tt1582597  2008        Amma Rajasekhar\n",
       "tt1087526  2008          Oliver Paulus\n",
       "tt2356426  2012            Raja Chanda\n",
       "tt0363011  1996       K.S. Prakash Rao\n",
       "\n",
       "[366 rows x 2 columns]"
      ]
     },
     "execution_count": 80,
     "metadata": {},
     "output_type": "execute_result"
    }
   ],
   "source": [
    "ans_df.drop_duplicates(subset=['year','director'],keep=False,inplace=True)\n",
    "ans_df"
   ]
  },
  {
   "cell_type": "code",
   "execution_count": null,
   "metadata": {},
   "outputs": [],
   "source": []
  }
 ],
 "metadata": {
  "kernelspec": {
   "display_name": "Python 3",
   "language": "python",
   "name": "python3"
  },
  "language_info": {
   "codemirror_mode": {
    "name": "ipython",
    "version": 3
   },
   "file_extension": ".py",
   "mimetype": "text/x-python",
   "name": "python",
   "nbconvert_exporter": "python",
   "pygments_lexer": "ipython3",
   "version": "3.6.8"
  },
  "latex_envs": {
   "LaTeX_envs_menu_present": true,
   "autoclose": false,
   "autocomplete": true,
   "bibliofile": "biblio.bib",
   "cite_by": "apalike",
   "current_citInitial": 1,
   "eqLabelWithNumbers": true,
   "eqNumInitial": 1,
   "hotkeys": {
    "equation": "Ctrl-E",
    "itemize": "Ctrl-I"
   },
   "labels_anchors": false,
   "latex_user_defs": false,
   "report_style_numbering": false,
   "user_envs_cfg": false
  },
  "toc": {
   "base_numbering": 1,
   "nav_menu": {},
   "number_sections": true,
   "sideBar": true,
   "skip_h1_title": false,
   "title_cell": "Table of Contents",
   "title_sidebar": "Contents",
   "toc_cell": false,
   "toc_position": {},
   "toc_section_display": true,
   "toc_window_display": true
  },
  "varInspector": {
   "cols": {
    "lenName": 16,
    "lenType": 16,
    "lenVar": 40
   },
   "kernels_config": {
    "python": {
     "delete_cmd_postfix": "",
     "delete_cmd_prefix": "del ",
     "library": "var_list.py",
     "varRefreshCmd": "print(var_dic_list())"
    },
    "r": {
     "delete_cmd_postfix": ") ",
     "delete_cmd_prefix": "rm(",
     "library": "var_list.r",
     "varRefreshCmd": "cat(var_dic_list()) "
    }
   },
   "types_to_exclude": [
    "module",
    "function",
    "builtin_function_or_method",
    "instance",
    "_Feature"
   ],
   "window_display": false
  }
 },
 "nbformat": 4,
 "nbformat_minor": 2
}
