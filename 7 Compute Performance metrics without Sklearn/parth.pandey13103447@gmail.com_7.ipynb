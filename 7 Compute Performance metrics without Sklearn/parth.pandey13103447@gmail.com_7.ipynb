{
 "cells": [
  {
   "cell_type": "markdown",
   "metadata": {
    "colab_type": "text",
    "id": "s0Ej_bXyQvnV"
   },
   "source": [
    "# Compute performance metrics for the given Y and Y_score without sklearn"
   ]
  },
  {
   "cell_type": "markdown",
   "metadata": {},
   "source": [
    "## Imports "
   ]
  },
  {
   "cell_type": "code",
   "execution_count": 1,
   "metadata": {
    "ExecuteTime": {
     "end_time": "2020-02-19T18:06:17.697708Z",
     "start_time": "2020-02-19T18:06:17.276074Z"
    },
    "colab": {},
    "colab_type": "code",
    "id": "4CHb6NE7Qvnc"
   },
   "outputs": [],
   "source": [
    "import numpy as np\n",
    "import pandas as pd\n",
    "# other than these two you should not import any other packages"
   ]
  },
  {
   "cell_type": "markdown",
   "metadata": {},
   "source": [
    "## Defining Reusable Function"
   ]
  },
  {
   "cell_type": "code",
   "execution_count": 25,
   "metadata": {
    "ExecuteTime": {
     "end_time": "2020-02-19T18:56:24.800158Z",
     "start_time": "2020-02-19T18:56:24.765658Z"
    }
   },
   "outputs": [],
   "source": [
    "def confusion_matrix(y_array,y_pred_array):\n",
    "    tp,tn,fp,fn = 0,0,0,0\n",
    "    for y, y_pred in zip(y_array,y_pred_array):\n",
    "        if y == y_pred:\n",
    "            if y_pred == 1:\n",
    "                tp += 1\n",
    "            else:\n",
    "                tn += 1\n",
    "        else:\n",
    "            if y_pred == 1:\n",
    "                fp += 1\n",
    "            else:\n",
    "                fn += 1\n",
    "    return [[tn,fn],[fp,tp]]\n",
    "\n",
    "def precision_func(conf):\n",
    "#   correctly predicted +ve points/ total predicted + ve points\n",
    "    tp = conf[1][1]\n",
    "    fp = conf[1][0]\n",
    "    return tp / (tp + fp)\n",
    "\n",
    "def recall_func(conf):\n",
    "#   Correctly predicted +ve points / total positive points\n",
    "    tp = conf[1][1]\n",
    "    fn = conf[0][1]\n",
    "    return tp / (fn+tp)    \n",
    "\n",
    "def f1_score(precision,recall):\n",
    "    return 2* ( (precision * recall) / (precision + recall) )\n",
    "\n",
    "def accuracy(conf):\n",
    "    correct = conf[1][1] + conf[0][0]\n",
    "    total = sum(conf[0]) + sum(conf[1])\n",
    "    return correct / total\n",
    "\n",
    "\n",
    "import matplotlib.pyplot as plt\n",
    "%matplotlib inline\n",
    "def auc_score(y,proba):\n",
    "    tau = 0\n",
    "    tpr =[]\n",
    "    fpr = []\n",
    "    for ele in proba:\n",
    "        y_pred = np.where(proba >= ele ,1,0)\n",
    "        conf = confusion_matrix(y,y_pred)\n",
    "        tpr.append(conf[1][1] / (conf[1][1] + conf[0][1]))\n",
    "        fpr.append(conf[1][0] / (conf[1][0] + conf[0][0]))\n",
    "    \n",
    "    fig,axes = plt.subplots(nrows=1,ncols=1)\n",
    "    axes.plot(np.array(fpr),np.array(tpr))\n",
    "    axes.set_xlabel('FPR')\n",
    "    axes.set_ylabel('TPR')\n",
    "    axes.set_title('AUC Score')\n",
    "    return np.trapz( np.array(tpr),np.array(fpr))"
   ]
  },
  {
   "cell_type": "markdown",
   "metadata": {},
   "source": [
    "# Solving the assignment"
   ]
  },
  {
   "cell_type": "markdown",
   "metadata": {},
   "source": [
    "## A"
   ]
  },
  {
   "cell_type": "markdown",
   "metadata": {},
   "source": [
    "### Question"
   ]
  },
  {
   "cell_type": "markdown",
   "metadata": {
    "colab_type": "text",
    "id": "KbsWXuDaQvnq"
   },
   "source": [
    "<pre>\n",
    "<font color='red'><b>A.</b></font> Compute performance metrics for the given data <strong>5_a.csv</strong>\n",
    "   <b>Note 1:</b> in this data you can see number of positive points >> number of negatives points\n",
    "   <b>Note 2:</b> use pandas or numpy to read the data from <b>5_a.csv</b>\n",
    "   <b>Note 3:</b> you need to derive the class labels from given score</pre> \n",
    "   \n",
    "   y_pred =  [0  if y_score < 0.5 else  1]\n",
    "\n",
    "<pre>\n",
    "<ol>\n",
    "<li> Compute Confusion Matrix </li>\n",
    "<li> Compute F1 Score </li>\n",
    "<li> Compute AUC Score, you need to compute different thresholds and for each threshold compute tpr,fpr and then use               numpy.trapz(tpr_array, fpr_array) <a href='https://stackoverflow.com/q/53603376/4084039'>https://stackoverflow.com/q/53603376/4084039</a>, <a href='https://stackoverflow.com/a/39678975/4084039'>https://stackoverflow.com/a/39678975/4084039</a> Note: it should be numpy.trapz(tpr_array, fpr_array) not numpy.trapz(fpr_array, tpr_array)</li>\n",
    "<li> Compute Accuracy Score </li>\n",
    "</ol>\n",
    "</pre>"
   ]
  },
  {
   "cell_type": "markdown",
   "metadata": {},
   "source": [
    "### Solution"
   ]
  },
  {
   "cell_type": "code",
   "execution_count": 26,
   "metadata": {
    "ExecuteTime": {
     "end_time": "2020-02-19T18:56:29.587047Z",
     "start_time": "2020-02-19T18:56:29.542766Z"
    },
    "colab": {},
    "colab_type": "code",
    "id": "WaFLW7oBQvnt"
   },
   "outputs": [
    {
     "data": {
      "text/html": [
       "<div>\n",
       "<style scoped>\n",
       "    .dataframe tbody tr th:only-of-type {\n",
       "        vertical-align: middle;\n",
       "    }\n",
       "\n",
       "    .dataframe tbody tr th {\n",
       "        vertical-align: top;\n",
       "    }\n",
       "\n",
       "    .dataframe thead th {\n",
       "        text-align: right;\n",
       "    }\n",
       "</style>\n",
       "<table border=\"1\" class=\"dataframe\">\n",
       "  <thead>\n",
       "    <tr style=\"text-align: right;\">\n",
       "      <th></th>\n",
       "      <th>1664</th>\n",
       "      <th>2099</th>\n",
       "      <th>1028</th>\n",
       "      <th>9592</th>\n",
       "      <th>8324</th>\n",
       "    </tr>\n",
       "  </thead>\n",
       "  <tbody>\n",
       "    <tr>\n",
       "      <th>y</th>\n",
       "      <td>1.000000</td>\n",
       "      <td>1.000000</td>\n",
       "      <td>1.000000</td>\n",
       "      <td>1.000000</td>\n",
       "      <td>1.000000</td>\n",
       "    </tr>\n",
       "    <tr>\n",
       "      <th>proba</th>\n",
       "      <td>0.899965</td>\n",
       "      <td>0.899828</td>\n",
       "      <td>0.899825</td>\n",
       "      <td>0.899812</td>\n",
       "      <td>0.899768</td>\n",
       "    </tr>\n",
       "    <tr>\n",
       "      <th>y_pred</th>\n",
       "      <td>1.000000</td>\n",
       "      <td>1.000000</td>\n",
       "      <td>1.000000</td>\n",
       "      <td>1.000000</td>\n",
       "      <td>1.000000</td>\n",
       "    </tr>\n",
       "  </tbody>\n",
       "</table>\n",
       "</div>"
      ],
      "text/plain": [
       "            1664      2099      1028      9592      8324\n",
       "y       1.000000  1.000000  1.000000  1.000000  1.000000\n",
       "proba   0.899965  0.899828  0.899825  0.899812  0.899768\n",
       "y_pred  1.000000  1.000000  1.000000  1.000000  1.000000"
      ]
     },
     "execution_count": 26,
     "metadata": {},
     "output_type": "execute_result"
    }
   ],
   "source": [
    "# write your code here\n",
    "df = pd.read_csv('/home/parth/AppliedAI/assignments/7 Compute Performance metrics without Sklearn/5_a.csv')\n",
    "df['y_pred'] = df['proba'].apply(lambda x: 1 if x > 0.5 else 0)\n",
    "df.sort_values(by=['proba'],ascending=False,inplace=True)\n",
    "df.head().transpose()"
   ]
  },
  {
   "cell_type": "code",
   "execution_count": 27,
   "metadata": {
    "ExecuteTime": {
     "end_time": "2020-02-19T18:57:21.260558Z",
     "start_time": "2020-02-19T18:56:30.192488Z"
    },
    "scrolled": true
   },
   "outputs": [
    {
     "data": {
      "image/png": "[encoded data removed]",
      "text/plain": [
       "<Figure size 432x288 with 1 Axes>"
      ]
     },
     "metadata": {
      "needs_background": "light"
     },
     "output_type": "display_data"
    }
   ],
   "source": [
    "conf = confusion_matrix(df['y'].values , df['y_pred'].values)\n",
    "pre = precision_func(conf)\n",
    "rec = recall_func(conf)\n",
    "f1 = f1_score(pre,rec)\n",
    "acc = accuracy(conf)\n",
    "auc = auc_score(df['y'].values,df['proba'].values)"
   ]
  },
  {
   "cell_type": "code",
   "execution_count": 28,
   "metadata": {
    "ExecuteTime": {
     "end_time": "2020-02-19T18:57:58.578925Z",
     "start_time": "2020-02-19T18:57:58.574271Z"
    }
   },
   "outputs": [
    {
     "name": "stdout",
     "output_type": "stream",
     "text": [
      "Confusion Matrix \n",
      " [[0, 0], [100, 10000]]\n",
      "\n",
      "Precision\n",
      " 0.9900990099009901\n",
      "\n",
      "Recall\n",
      " 1.0\n",
      "\n",
      "F1 Score\n",
      " 0.9950248756218906\n",
      "\n",
      "Accuracy \n",
      " 0.9900990099009901\n",
      "\n",
      "Auc Score \n",
      " 0.48829900000000004\n"
     ]
    }
   ],
   "source": [
    "print('Confusion Matrix \\n',conf)\n",
    "print('\\nPrecision\\n',pre)\n",
    "print('\\nRecall\\n',rec)\n",
    "print('\\nF1 Score\\n',f1)\n",
    "print('\\nAccuracy \\n', acc)\n",
    "print('\\nAuc Score \\n',auc)"
   ]
  },
  {
   "cell_type": "markdown",
   "metadata": {},
   "source": [
    "## B"
   ]
  },
  {
   "cell_type": "markdown",
   "metadata": {},
   "source": [
    "### Question"
   ]
  },
  {
   "cell_type": "markdown",
   "metadata": {
    "colab_type": "text",
    "id": "V5KZem1BQvn2"
   },
   "source": [
    "<pre>\n",
    "<font color='red'><b>B.</b></font> Compute performance metrics for the given data <strong>5_b.csv</strong>\n",
    "   <b>Note 1:</b> in this data you can see number of positive points << number of negatives points\n",
    "   <b>Note 2:</b> use pandas or numpy to read the data from <b>5_b.csv</b>\n",
    "   <b>Note 3:</b> you need to derive the class labels from given score</pre> \n",
    "      y_pred =  [0  if y_score < 0.5 else  1]\n",
    "\n",
    "<pre>\n",
    "<ol>\n",
    "<li> Compute Confusion Matrix </li>\n",
    "<li> Compute F1 Score </li>\n",
    "<li> Compute AUC Score, you need to compute different thresholds and for each threshold compute tpr,fpr and then use               numpy.trapz(tpr_array, fpr_array) <a href='https://stackoverflow.com/q/53603376/4084039'>https://stackoverflow.com/q/53603376/4084039</a>, <a href='https://stackoverflow.com/a/39678975/4084039'>https://stackoverflow.com/a/39678975/4084039</a></li>\n",
    "<li> Compute Accuracy Score </li>\n",
    "</ol>\n",
    "</pre>"
   ]
  },
  {
   "cell_type": "markdown",
   "metadata": {},
   "source": [
    "### Solution"
   ]
  },
  {
   "cell_type": "code",
   "execution_count": 29,
   "metadata": {
    "ExecuteTime": {
     "end_time": "2020-02-19T18:58:07.729774Z",
     "start_time": "2020-02-19T18:58:07.689193Z"
    },
    "scrolled": true
   },
   "outputs": [
    {
     "data": {
      "text/html": [
       "<div>\n",
       "<style scoped>\n",
       "    .dataframe tbody tr th:only-of-type {\n",
       "        vertical-align: middle;\n",
       "    }\n",
       "\n",
       "    .dataframe tbody tr th {\n",
       "        vertical-align: top;\n",
       "    }\n",
       "\n",
       "    .dataframe thead th {\n",
       "        text-align: right;\n",
       "    }\n",
       "</style>\n",
       "<table border=\"1\" class=\"dataframe\">\n",
       "  <thead>\n",
       "    <tr style=\"text-align: right;\">\n",
       "      <th></th>\n",
       "      <th>8446</th>\n",
       "      <th>1978</th>\n",
       "      <th>1657</th>\n",
       "      <th>110</th>\n",
       "      <th>8578</th>\n",
       "    </tr>\n",
       "  </thead>\n",
       "  <tbody>\n",
       "    <tr>\n",
       "      <th>y</th>\n",
       "      <td>1.000000</td>\n",
       "      <td>1.000000</td>\n",
       "      <td>1.000000</td>\n",
       "      <td>1.000000</td>\n",
       "      <td>1.000000</td>\n",
       "    </tr>\n",
       "    <tr>\n",
       "      <th>proba</th>\n",
       "      <td>0.595294</td>\n",
       "      <td>0.594808</td>\n",
       "      <td>0.592198</td>\n",
       "      <td>0.590171</td>\n",
       "      <td>0.588718</td>\n",
       "    </tr>\n",
       "    <tr>\n",
       "      <th>y_pred</th>\n",
       "      <td>1.000000</td>\n",
       "      <td>1.000000</td>\n",
       "      <td>1.000000</td>\n",
       "      <td>1.000000</td>\n",
       "      <td>1.000000</td>\n",
       "    </tr>\n",
       "  </tbody>\n",
       "</table>\n",
       "</div>"
      ],
      "text/plain": [
       "            8446      1978      1657      110       8578\n",
       "y       1.000000  1.000000  1.000000  1.000000  1.000000\n",
       "proba   0.595294  0.594808  0.592198  0.590171  0.588718\n",
       "y_pred  1.000000  1.000000  1.000000  1.000000  1.000000"
      ]
     },
     "execution_count": 29,
     "metadata": {},
     "output_type": "execute_result"
    }
   ],
   "source": [
    "df = pd.read_csv('/home/parth/AppliedAI/assignments/7 Compute Performance metrics without Sklearn/5_b.csv')\n",
    "df['y_pred'] = df['proba'].apply(lambda x: 1 if x > 0.5 else 0)\n",
    "df.sort_values(by=['proba'],ascending=False,inplace=True)\n",
    "df.head().transpose()"
   ]
  },
  {
   "cell_type": "code",
   "execution_count": 30,
   "metadata": {
    "ExecuteTime": {
     "end_time": "2020-02-19T18:59:12.862509Z",
     "start_time": "2020-02-19T18:58:08.568691Z"
    },
    "colab": {},
    "colab_type": "code",
    "id": "U2sKlq0YQvn5"
   },
   "outputs": [
    {
     "data": {
      "image/png": "[encoded data removed]",
      "text/plain": [
       "<Figure size 432x288 with 1 Axes>"
      ]
     },
     "metadata": {
      "needs_background": "light"
     },
     "output_type": "display_data"
    }
   ],
   "source": [
    "# write your code\n",
    "conf = confusion_matrix(df['y'].values,df['y_pred'].values)\n",
    "\n",
    "f1 = f1_score(precision_func(conf),recall_func(conf))\n",
    "\n",
    "auc = auc_score(df['y'].values,df['proba'].values)\n",
    "\n",
    "acc = accuracy(conf)"
   ]
  },
  {
   "cell_type": "code",
   "execution_count": 31,
   "metadata": {
    "ExecuteTime": {
     "end_time": "2020-02-19T18:59:23.496071Z",
     "start_time": "2020-02-19T18:59:23.486160Z"
    }
   },
   "outputs": [
    {
     "name": "stdout",
     "output_type": "stream",
     "text": [
      "Confsion Matrix\n",
      "[[9761, 45], [239, 55]]\n",
      "F1 Score\n",
      "0.2791878172588833\n",
      "Auc Score\n",
      "0.9377570000000001\n",
      "Accuracy\n",
      "0.9718811881188119\n"
     ]
    }
   ],
   "source": [
    "print('Confsion Matrix')\n",
    "print(conf)\n",
    "print('F1 Score')\n",
    "print(f1)\n",
    "print('Auc Score')\n",
    "print(auc)\n",
    "print('Accuracy')\n",
    "print(acc)"
   ]
  },
  {
   "cell_type": "markdown",
   "metadata": {},
   "source": [
    "## C\n",
    "\n",
    "### Question"
   ]
  },
  {
   "cell_type": "markdown",
   "metadata": {
    "colab_type": "text",
    "id": "GiPGonTzQvoB"
   },
   "source": [
    "<font color='red'><b>C.</b></font> Compute the best threshold (similarly to ROC curve computation) of probability which gives lowest values of metric <b>A</b> for the given data <strong>5_c.csv</strong>\n",
    "<br>\n",
    "\n",
    "you will be predicting label of a data points like this: \n",
    "   y_pred =  [0  if y_score < 0.5 else  1]\n",
    "\n",
    "  A = 500 x number of false negative + 100 x number of false positive\n",
    "\n",
    "<pre>\n",
    "   <b>Note 1:</b> in this data you can see number of negative points > number of positive points\n",
    "   <b>Note 2:</b> use pandas or numpy to read the data from <b>5_c.csv</b>\n",
    "</pre>"
   ]
  },
  {
   "cell_type": "markdown",
   "metadata": {},
   "source": [
    "### Solution"
   ]
  },
  {
   "cell_type": "code",
   "execution_count": 9,
   "metadata": {
    "ExecuteTime": {
     "end_time": "2020-02-19T18:07:54.642434Z",
     "start_time": "2020-02-19T18:07:54.612908Z"
    }
   },
   "outputs": [
    {
     "data": {
      "text/html": [
       "<div>\n",
       "<style scoped>\n",
       "    .dataframe tbody tr th:only-of-type {\n",
       "        vertical-align: middle;\n",
       "    }\n",
       "\n",
       "    .dataframe tbody tr th {\n",
       "        vertical-align: top;\n",
       "    }\n",
       "\n",
       "    .dataframe thead th {\n",
       "        text-align: right;\n",
       "    }\n",
       "</style>\n",
       "<table border=\"1\" class=\"dataframe\">\n",
       "  <thead>\n",
       "    <tr style=\"text-align: right;\">\n",
       "      <th></th>\n",
       "      <th>0</th>\n",
       "      <th>1</th>\n",
       "      <th>2</th>\n",
       "      <th>3</th>\n",
       "      <th>4</th>\n",
       "    </tr>\n",
       "  </thead>\n",
       "  <tbody>\n",
       "    <tr>\n",
       "      <th>index</th>\n",
       "      <td>2634.000000</td>\n",
       "      <td>2548.000000</td>\n",
       "      <td>2447.000000</td>\n",
       "      <td>2788.000000</td>\n",
       "      <td>2456.000000</td>\n",
       "    </tr>\n",
       "    <tr>\n",
       "      <th>y</th>\n",
       "      <td>1.000000</td>\n",
       "      <td>1.000000</td>\n",
       "      <td>1.000000</td>\n",
       "      <td>1.000000</td>\n",
       "      <td>1.000000</td>\n",
       "    </tr>\n",
       "    <tr>\n",
       "      <th>prob</th>\n",
       "      <td>0.957747</td>\n",
       "      <td>0.951437</td>\n",
       "      <td>0.948638</td>\n",
       "      <td>0.944094</td>\n",
       "      <td>0.941113</td>\n",
       "    </tr>\n",
       "    <tr>\n",
       "      <th>y_pred</th>\n",
       "      <td>1.000000</td>\n",
       "      <td>1.000000</td>\n",
       "      <td>1.000000</td>\n",
       "      <td>1.000000</td>\n",
       "      <td>1.000000</td>\n",
       "    </tr>\n",
       "  </tbody>\n",
       "</table>\n",
       "</div>"
      ],
      "text/plain": [
       "                  0            1            2            3            4\n",
       "index   2634.000000  2548.000000  2447.000000  2788.000000  2456.000000\n",
       "y          1.000000     1.000000     1.000000     1.000000     1.000000\n",
       "prob       0.957747     0.951437     0.948638     0.944094     0.941113\n",
       "y_pred     1.000000     1.000000     1.000000     1.000000     1.000000"
      ]
     },
     "execution_count": 9,
     "metadata": {},
     "output_type": "execute_result"
    }
   ],
   "source": [
    "df = pd.read_csv('/home/parth/AppliedAI/assignments/7 Compute Performance metrics without Sklearn/5_c.csv')\n",
    "df['y_pred'] = df['prob'].apply(lambda x: 1 if x > 0.5 else 0)\n",
    "df.sort_values(by=['prob'],ascending=False,inplace=True)\n",
    "df.reset_index(inplace=True)\n",
    "df.head().transpose()"
   ]
  },
  {
   "cell_type": "code",
   "execution_count": 10,
   "metadata": {
    "ExecuteTime": {
     "end_time": "2020-02-19T18:07:59.532648Z",
     "start_time": "2020-02-19T18:07:54.645500Z"
    },
    "colab": {},
    "colab_type": "code",
    "id": "x5HIJzq1QvoE"
   },
   "outputs": [],
   "source": [
    " # write your code\n",
    "def auc_score_conf(y,proba):\n",
    "    tau = 0\n",
    "    conf = []\n",
    "    for ele in proba:\n",
    "        y_pred = np.where(proba >= ele ,1,0)\n",
    "        conf.append(confusion_matrix(y,y_pred))\n",
    "    return conf\n",
    "\n",
    "conf_list = auc_score_conf(df['y'].values,df['prob'].values)"
   ]
  },
  {
   "cell_type": "code",
   "execution_count": 11,
   "metadata": {
    "ExecuteTime": {
     "end_time": "2020-02-19T18:07:59.548206Z",
     "start_time": "2020-02-19T18:07:59.534609Z"
    },
    "scrolled": true
   },
   "outputs": [
    {
     "name": "stdout",
     "output_type": "stream",
     "text": [
      "Lowest Value of A\n",
      "141000\n",
      "The threshold value is\n",
      "0.2300390278970873\n"
     ]
    }
   ],
   "source": [
    "A = []\n",
    "for conf in conf_list:\n",
    "    A.append((500 * conf[0][1]) + (100 * conf[1][0]) )\n",
    "x = np.array(A)\n",
    "print('Lowest Value of A')\n",
    "print(x.min())\n",
    "print('The threshold value is')\n",
    "print(df['prob'].loc[x.argmin()])"
   ]
  },
  {
   "cell_type": "markdown",
   "metadata": {},
   "source": [
    "## D"
   ]
  },
  {
   "cell_type": "markdown",
   "metadata": {},
   "source": [
    "### Question"
   ]
  },
  {
   "cell_type": "markdown",
   "metadata": {
    "colab_type": "text",
    "id": "sD4CcgjXQvoL"
   },
   "source": [
    "<pre>\n",
    "<font color='red'><b>D.</b></font> Compute performance metrics(for regression) for the given data <strong>5_d.csv</strong>\n",
    "    <b>Note 2:</b> use pandas or numpy to read the data from <b>5_d.csv</b>\n",
    "    <b>Note 1:</b> <b>5_d.csv</b> will having two columns Y and predicted_Y both are real valued features\n",
    "<ol>\n",
    "<li> Compute Mean Square Error </li>\n",
    "<li> Compute MAPE: https://www.youtube.com/watch?v=ly6ztgIkUxk</li>\n",
    "<li> Compute R^2 error: https://en.wikipedia.org/wiki/Coefficient_of_determination#Definitions </li>\n",
    "</ol>\n",
    "</pre>"
   ]
  },
  {
   "cell_type": "markdown",
   "metadata": {},
   "source": [
    "### Solution"
   ]
  },
  {
   "cell_type": "code",
   "execution_count": 12,
   "metadata": {
    "ExecuteTime": {
     "end_time": "2020-02-19T18:07:59.607926Z",
     "start_time": "2020-02-19T18:07:59.551495Z"
    }
   },
   "outputs": [
    {
     "data": {
      "text/html": [
       "<div>\n",
       "<style scoped>\n",
       "    .dataframe tbody tr th:only-of-type {\n",
       "        vertical-align: middle;\n",
       "    }\n",
       "\n",
       "    .dataframe tbody tr th {\n",
       "        vertical-align: top;\n",
       "    }\n",
       "\n",
       "    .dataframe thead th {\n",
       "        text-align: right;\n",
       "    }\n",
       "</style>\n",
       "<table border=\"1\" class=\"dataframe\">\n",
       "  <thead>\n",
       "    <tr style=\"text-align: right;\">\n",
       "      <th></th>\n",
       "      <th>0</th>\n",
       "      <th>1</th>\n",
       "      <th>2</th>\n",
       "      <th>3</th>\n",
       "      <th>4</th>\n",
       "    </tr>\n",
       "  </thead>\n",
       "  <tbody>\n",
       "    <tr>\n",
       "      <th>y</th>\n",
       "      <td>101.0</td>\n",
       "      <td>120.0</td>\n",
       "      <td>131.0</td>\n",
       "      <td>164.0</td>\n",
       "      <td>154.0</td>\n",
       "    </tr>\n",
       "    <tr>\n",
       "      <th>pred</th>\n",
       "      <td>100.0</td>\n",
       "      <td>100.0</td>\n",
       "      <td>113.0</td>\n",
       "      <td>125.0</td>\n",
       "      <td>152.0</td>\n",
       "    </tr>\n",
       "  </tbody>\n",
       "</table>\n",
       "</div>"
      ],
      "text/plain": [
       "          0      1      2      3      4\n",
       "y     101.0  120.0  131.0  164.0  154.0\n",
       "pred  100.0  100.0  113.0  125.0  152.0"
      ]
     },
     "execution_count": 12,
     "metadata": {},
     "output_type": "execute_result"
    }
   ],
   "source": [
    "df = pd.read_csv('/home/parth/AppliedAI/assignments/7 Compute Performance metrics without Sklearn/5_d.csv')\n",
    "df.head().transpose()"
   ]
  },
  {
   "cell_type": "code",
   "execution_count": 13,
   "metadata": {
    "ExecuteTime": {
     "end_time": "2020-02-19T18:07:59.617317Z",
     "start_time": "2020-02-19T18:07:59.610589Z"
    }
   },
   "outputs": [],
   "source": [
    "# Mean Square Error\n",
    "def mse(y,pred):\n",
    "    return sum(((y -pred )**2))/len(y)\n",
    "\n",
    "# MAPE\n",
    "def mape(y,pred):\n",
    "    return sum(np.absolute(y-pred))/sum(y)\n",
    "\n",
    "# R Squared\n",
    "def r_squared(y,pred):\n",
    "    mean = np.mean(y)\n",
    "    ss_t = sum((y-mean)**2)\n",
    "    ss_r = sum((y-pred)**2)\n",
    "    return 1- ((ss_r)/(ss_t))\n"
   ]
  },
  {
   "cell_type": "code",
   "execution_count": 14,
   "metadata": {
    "ExecuteTime": {
     "end_time": "2020-02-19T18:07:59.887465Z",
     "start_time": "2020-02-19T18:07:59.621645Z"
    }
   },
   "outputs": [
    {
     "name": "stdout",
     "output_type": "stream",
     "text": [
      "Mean Square Error\n",
      "177.16569974554707\n",
      "MAPE\n",
      "0.1291202994009687\n",
      "R Squared\n",
      "0.9563582786990964\n"
     ]
    }
   ],
   "source": [
    "print('Mean Square Error')\n",
    "print(mse(df['y'].values,df['pred'].values))\n",
    "\n",
    "print('MAPE')\n",
    "print(mape(df['y'].values,df['pred'].values))\n",
    "\n",
    "print('R Squared')\n",
    "print(r_squared(df['y'].values,df['pred'].values))"
   ]
  }
 ],
 "metadata": {
  "colab": {
   "collapsed_sections": [],
   "name": "5_Performance_metrics_Instructions.ipynb",
   "provenance": []
  },
  "kernelspec": {
   "display_name": "Python 3",
   "language": "python",
   "name": "python3"
  },
  "language_info": {
   "codemirror_mode": {
    "name": "ipython",
    "version": 3
   },
   "file_extension": ".py",
   "mimetype": "text/x-python",
   "name": "python",
   "nbconvert_exporter": "python",
   "pygments_lexer": "ipython3",
   "version": "3.6.8"
  },
  "latex_envs": {
   "LaTeX_envs_menu_present": true,
   "autoclose": false,
   "autocomplete": true,
   "bibliofile": "biblio.bib",
   "cite_by": "apalike",
   "current_citInitial": 1,
   "eqLabelWithNumbers": true,
   "eqNumInitial": 1,
   "hotkeys": {
    "equation": "Ctrl-E",
    "itemize": "Ctrl-I"
   },
   "labels_anchors": false,
   "latex_user_defs": false,
   "report_style_numbering": false,
   "user_envs_cfg": false
  },
  "toc": {
   "base_numbering": 1,
   "nav_menu": {},
   "number_sections": true,
   "sideBar": true,
   "skip_h1_title": false,
   "title_cell": "Table of Contents",
   "title_sidebar": "Contents",
   "toc_cell": false,
   "toc_position": {
    "height": "549.1px",
    "left": "55px",
    "top": "110.433px",
    "width": "294.4px"
   },
   "toc_section_display": true,
   "toc_window_display": true
  },
  "varInspector": {
   "cols": {
    "lenName": 16,
    "lenType": 16,
    "lenVar": 40
   },
   "kernels_config": {
    "python": {
     "delete_cmd_postfix": "",
     "delete_cmd_prefix": "del ",
     "library": "var_list.py",
     "varRefreshCmd": "print(var_dic_list())"
    },
    "r": {
     "delete_cmd_postfix": ") ",
     "delete_cmd_prefix": "rm(",
     "library": "var_list.r",
     "varRefreshCmd": "cat(var_dic_list()) "
    }
   },
   "position": {
    "height": "192.85px",
    "left": "1222.67px",
    "right": "20px",
    "top": "120px",
    "width": "347.333px"
   },
   "types_to_exclude": [
    "module",
    "function",
    "builtin_function_or_method",
    "instance",
    "_Feature"
   ],
   "window_display": false
  }
 },
 "nbformat": 4,
 "nbformat_minor": 1
}
