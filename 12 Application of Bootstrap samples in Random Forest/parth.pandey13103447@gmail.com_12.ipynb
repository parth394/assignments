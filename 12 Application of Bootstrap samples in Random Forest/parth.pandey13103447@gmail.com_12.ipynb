{
 "cells": [
  {
   "cell_type": "markdown",
   "metadata": {
    "colab_type": "text",
    "id": "3sNKZq4XrXQh"
   },
   "source": [
    "# <font color='red'><b>Bootstrap assignment</b> </font>"
   ]
  },
  {
   "cell_type": "markdown",
   "metadata": {
    "colab_type": "text",
    "id": "RAHap1Z3FZC-"
   },
   "source": [
    "<b>There will be some functions that start with the word \"grader\" ex: grader_sampples(), grader_30().. etc, you should not change those function definition.\n",
    "\n",
    "Every Grader function has to return True.</b>"
   ]
  },
  {
   "cell_type": "markdown",
   "metadata": {
    "colab_type": "text",
    "id": "cuxBq_bvrwh2"
   },
   "source": [
    "<font color='blue'> <b>Importing packages</b> </font>"
   ]
  },
  {
   "cell_type": "code",
   "execution_count": 43,
   "metadata": {
    "ExecuteTime": {
     "end_time": "2020-08-10T04:22:56.823228Z",
     "start_time": "2020-08-10T04:22:56.820582Z"
    },
    "colab": {},
    "colab_type": "code",
    "id": "m6ag91ijrQOs"
   },
   "outputs": [],
   "source": [
    "import numpy as np # importing numpy for numerical computation\n",
    "from sklearn.datasets import load_boston # here we are using sklearn's boston dataset\n",
    "from sklearn.metrics import mean_squared_error # importing mean_squared_error metric\n",
    "from sklearn.tree import DecisionTreeRegressor"
   ]
  },
  {
   "cell_type": "code",
   "execution_count": 44,
   "metadata": {
    "ExecuteTime": {
     "end_time": "2020-08-10T04:22:56.841013Z",
     "start_time": "2020-08-10T04:22:56.829090Z"
    },
    "colab": {},
    "colab_type": "code",
    "id": "CcHOsONTt1K_"
   },
   "outputs": [],
   "source": [
    "boston = load_boston()\n",
    "x=boston.data #independent variables\n",
    "y=boston.target #target variable"
   ]
  },
  {
   "cell_type": "code",
   "execution_count": 45,
   "metadata": {
    "ExecuteTime": {
     "end_time": "2020-08-10T04:22:56.845705Z",
     "start_time": "2020-08-10T04:22:56.842630Z"
    },
    "colab": {
     "base_uri": "https://localhost:8080/",
     "height": 34
    },
    "colab_type": "code",
    "id": "pc1htEFYuLRj",
    "outputId": "f5b60712-98b3-4cdc-b629-3546c1e3859c"
   },
   "outputs": [
    {
     "data": {
      "text/plain": [
       "(506, 13)"
      ]
     },
     "execution_count": 45,
     "metadata": {},
     "output_type": "execute_result"
    }
   ],
   "source": [
    "x.shape"
   ]
  },
  {
   "cell_type": "markdown",
   "metadata": {
    "colab_type": "text",
    "id": "AEa_HqRZloH4"
   },
   "source": [
    "## <font color='red'><b>Task 1</b></font>"
   ]
  },
  {
   "cell_type": "markdown",
   "metadata": {
    "colab_type": "text",
    "id": "YQ5q8IxHNRk3"
   },
   "source": [
    "<font color='red'> <b>Step - 1</b></font>"
   ]
  },
  {
   "cell_type": "markdown",
   "metadata": {
    "colab_type": "text",
    "id": "GJCFCaOzl7Mr"
   },
   "source": [
    "*  <font color='blue'><b>Creating samples</b></font><br>\n",
    "    <b> Randomly create 30 samples from the whole boston data points</b>\n",
    "    *  Creating each sample: Consider any random 303(60% of 506) data points from whole data set and then replicate any 203 points from the sampled points\n",
    "    \n",
    "     For better understanding of this procedure lets check this examples, assume we have 10 data points [1,2,3,4,5,6,7,8,9,10], first we take 6 data points randomly , consider we have selected [4, 5, 7, 8, 9, 3] now we will replicate 4 points from [4, 5, 7, 8, 9, 3], consder they are [5, 8, 3,7] so our final sample will be [4, 5, 7, 8, 9, 3, 5, 8, 3,7]\n",
    "* <font color='blue'><b> Create 30 samples </b></font>\n",
    "    *  Note that as a part of the Bagging when you are taking the random samples <b>make sure each of the sample will have different set of columns</b><br>\n",
    "Ex: Assume we have 10 columns[1 ,2 ,3 ,4 ,5 ,6 ,7 ,8 ,9 ,10] for the first sample we will select [3, 4, 5, 9, 1, 2] and for the second sample  [7, 9, 1, 4, 5, 6, 2] and so on...\n",
    "Make sure each sample will have atleast 3 feautres/columns/attributes"
   ]
  },
  {
   "cell_type": "markdown",
   "metadata": {
    "colab_type": "text",
    "id": "zUqFEBSvNjCa"
   },
   "source": [
    "<font color='red'><b>Step - 2 </b></font>"
   ]
  },
  {
   "cell_type": "markdown",
   "metadata": {
    "colab_type": "text",
    "id": "uqi9AhCYNq3Z"
   },
   "source": [
    "<font color='blue'><b>Building High Variance Models on each of the sample and finding train MSE value</b></font>"
   ]
  },
  {
   "cell_type": "markdown",
   "metadata": {
    "colab_type": "text",
    "id": "-lLBnZHXOFln"
   },
   "source": [
    "*  Build a regression trees on each of 30 samples.\n",
    "*  Computed the predicted values of each data point(506 data points) in your corpus.\n",
    "*  Predicted house price of $i^{th}$ data point $y^{i}_{pred} =  \\frac{1}{30}\\sum_{k=1}^{30}(\\text{predicted value of } x^{i} \\text{ with } k^{th} \\text{ model})$\n",
    "*  Now calculate the $MSE =  \\frac{1}{506}\\sum_{i=1}^{506}(y^{i} - y^{i}_{pred})^{2}$"
   ]
  },
  {
   "cell_type": "markdown",
   "metadata": {
    "colab_type": "text",
    "id": "Kls23JLnSN23"
   },
   "source": [
    "<font color='red'> <b>Step - 3 </b></font>"
   ]
  },
  {
   "cell_type": "markdown",
   "metadata": {
    "colab_type": "text",
    "id": "rz2GchkGSWnh"
   },
   "source": [
    "*  <font color='blue'><b>Calculating the OOB score </b></font>"
   ]
  },
  {
   "cell_type": "markdown",
   "metadata": {
    "colab_type": "text",
    "id": "DGHkVV2kSibm"
   },
   "source": [
    "*  Predicted house price of $i^{th}$ data point $y^{i}_{pred} =  \\frac{1}{k}\\sum_{\\text{k= model which was buit on samples not included } x^{i}}(\\text{predicted value of } x^{i} \\text{ with } k^{th} \\text{ model})$.\n",
    "*  Now calculate the $OOB Score =  \\frac{1}{506}\\sum_{i=1}^{506}(y^{i} - y^{i}_{pred})^{2}$."
   ]
  },
  {
   "cell_type": "markdown",
   "metadata": {
    "colab_type": "text",
    "id": "RK860ocxTyoz"
   },
   "source": [
    "# <font color='red'><b>Task 2</b></font>"
   ]
  },
  {
   "cell_type": "markdown",
   "metadata": {
    "colab_type": "text",
    "id": "1dme-N6TUCrY"
   },
   "source": [
    "*  <font color='blue'><b>Computing CI of OOB Score and Train MSE</b></font>\n",
    "  *   Repeat Task 1 for 35 times, and for each iteration store the Train MSE and OOB score </li>\n",
    "<li> After this we will have 35 Train MSE values and 35 OOB scores </li>\n",
    "<li> using these 35 values (assume like a sample) find the confidence intravels of MSE and OOB Score </li>\n",
    "<li> you need to report CI of MSE and CI of OOB Score </li>\n",
    "<li> Note: Refer the Central_Limit_theorem.ipynb to check how to find the confidence intravel</li>\n",
    "</ol>"
   ]
  },
  {
   "cell_type": "markdown",
   "metadata": {
    "colab_type": "text",
    "id": "O6UcH1x9Uwrj"
   },
   "source": [
    "# <font color='red'><b>Task 3</b></font>"
   ]
  },
  {
   "cell_type": "markdown",
   "metadata": {
    "colab_type": "text",
    "id": "bOC_AgsLU7OH"
   },
   "source": [
    "*  <font color='blue'><b>Given a single query point predict the price of house.</b></font>"
   ]
  },
  {
   "cell_type": "markdown",
   "metadata": {
    "colab_type": "text",
    "id": "HYs5jSFdVILe"
   },
   "source": [
    "Consider xq= [0.18,20.0,5.00,0.0,0.421,5.60,72.2,7.95,7.0,30.0,19.1,372.13,18.60] \n",
    "Predict the house price for this point as mentioned in the step 2 of Task 1."
   ]
  },
  {
   "cell_type": "markdown",
   "metadata": {
    "colab_type": "text",
    "id": "_6gxZEsFWm-8"
   },
   "source": [
    "<br><br><br>"
   ]
  },
  {
   "cell_type": "markdown",
   "metadata": {
    "colab_type": "text",
    "id": "V2fHTdS_zpgG"
   },
   "source": [
    "# <font color='blue'> <b>Task - 1</b></font>"
   ]
  },
  {
   "cell_type": "code",
   "execution_count": 46,
   "metadata": {
    "ExecuteTime": {
     "end_time": "2020-08-10T04:22:57.226371Z",
     "start_time": "2020-08-10T04:22:57.220200Z"
    },
    "colab": {},
    "colab_type": "code",
    "id": "Ph_6D2SDzz7F",
    "run_control": {
     "marked": false
    },
    "scrolled": false
   },
   "outputs": [],
   "source": [
    "def generating_samples(input_data, target_data):\n",
    "\n",
    "    '''In this function, we will write code for generating 30 samples '''\n",
    "    # you can use random.choice to generate random indices without replacement\n",
    "    # Please have a look at this link https://docs.scipy.org/doc/numpy-1.16.0/reference/generated/numpy.random.choice.html for more details\n",
    "    # Please follow above pseudo code for generating samples \n",
    "    \n",
    "\n",
    "    # return sampled_input_data , sampled_target_data,selected_rows,selected_columns\n",
    "    #note please return as lists\n",
    "    \n",
    "    # Random Rows Generation\n",
    "    rows, cols = input_data.shape\n",
    "    selecting_indices = np.random.choice(rows ,int(np.floor(rows *0.6)), replace=False)\n",
    "    replicating_indices = np.random.choice(selecting_indices, rows - selecting_indices.shape[0], replace=False)\n",
    "    \n",
    "    # Random Columns Generation\n",
    "    selecting_cols = np.random.choice(cols, np.random.randint(3,cols))\n",
    "    \n",
    "    sample_data = input_data[selecting_indices[:,None], selecting_cols]\n",
    "    sample_target_data = target_data[selecting_indices]\n",
    "    \n",
    "    replicated_data = input_data[replicating_indices[:,None], selecting_cols]\n",
    "    replicated_target_data = target_data[replicating_indices]\n",
    "    \n",
    "    final_sampled_data = np.vstack((sample_data, replicated_data))\n",
    "    final_target_data  = np.vstack((sample_target_data.reshape(-1,1), replicated_target_data.reshape(-1,1)))\n",
    "    \n",
    "    return final_sampled_data, final_target_data, selecting_indices, selecting_cols\n",
    "a,b,c,d=generating_samples(x,y)"
   ]
  },
  {
   "cell_type": "markdown",
   "metadata": {
    "colab_type": "text",
    "id": "MivEQFlm7iOg"
   },
   "source": [
    "<font color='cyan'> <b> Grader function - 1 </b> </fongt>"
   ]
  },
  {
   "cell_type": "code",
   "execution_count": 47,
   "metadata": {
    "ExecuteTime": {
     "end_time": "2020-08-10T04:22:57.313551Z",
     "start_time": "2020-08-10T04:22:57.245439Z"
    },
    "colab": {},
    "colab_type": "code",
    "id": "AVvuhNzm7uld",
    "scrolled": false
   },
   "outputs": [
    {
     "data": {
      "text/plain": [
       "True"
      ]
     },
     "execution_count": 47,
     "metadata": {},
     "output_type": "execute_result"
    }
   ],
   "source": [
    "def grader_samples(a,b,c,d):\n",
    "    length = (len(a)==506  and len(b)==506)\n",
    "    sampled = (len(a)-len(set([str(i) for i in a]))==203)\n",
    "    rows_length = (len(c)==303)\n",
    "    column_length= (len(d)>=3)\n",
    "    assert(length and sampled and rows_length and column_length)\n",
    "    return True\n",
    "a,b,c,d = generating_samples(x, y)\n",
    "grader_samples(a,b,c,d)"
   ]
  },
  {
   "cell_type": "markdown",
   "metadata": {
    "colab_type": "text",
    "id": "MXUz9VFiMQkh"
   },
   "source": [
    "<font color='cyan'> <b>Grader function - 2 </b></font>"
   ]
  },
  {
   "cell_type": "code",
   "execution_count": 48,
   "metadata": {
    "ExecuteTime": {
     "end_time": "2020-08-10T04:22:57.318412Z",
     "start_time": "2020-08-10T04:22:57.314883Z"
    },
    "colab": {},
    "colab_type": "code",
    "id": "hCvIq8NuMWOC"
   },
   "outputs": [
    {
     "data": {
      "text/plain": [
       "True"
      ]
     },
     "execution_count": 48,
     "metadata": {},
     "output_type": "execute_result"
    }
   ],
   "source": [
    "def grader_30(a):\n",
    "    assert(len(a)==30 and len(a[0])==506)\n",
    "    return True\n",
    "grader_30(list_input_data)"
   ]
  },
  {
   "cell_type": "markdown",
   "metadata": {
    "colab_type": "text",
    "id": "7Pv-mkZkO6dh"
   },
   "source": [
    "<br>"
   ]
  },
  {
   "cell_type": "markdown",
   "metadata": {
    "colab_type": "text",
    "id": "whaHCPB0O8qF"
   },
   "source": [
    "<font color='red'><b>Step - 2 </b></font>"
   ]
  },
  {
   "cell_type": "code",
   "execution_count": 49,
   "metadata": {
    "ExecuteTime": {
     "end_time": "2020-08-10T04:22:57.384032Z",
     "start_time": "2020-08-10T04:22:57.324765Z"
    },
    "colab": {},
    "colab_type": "code",
    "id": "YWQp6tRwMthq"
   },
   "outputs": [],
   "source": [
    "model = {}\n",
    "for ind, train_data in enumerate(zip(list_input_data,list_output_data)):\n",
    "    x_train = train_data[0]\n",
    "    y_train = train_data[1]\n",
    "    temp_model=DecisionTreeRegressor(max_depth=None)\n",
    "    temp_model.fit(x_train, y_train)\n",
    "    model[ind] = temp_model\n"
   ]
  },
  {
   "cell_type": "markdown",
   "metadata": {
    "colab_type": "text",
    "id": "TnIMT7_oR312"
   },
   "source": [
    "*  <font color='blue'><b> Write code for calculating MSE</b></font>"
   ]
  },
  {
   "cell_type": "code",
   "execution_count": 50,
   "metadata": {
    "ExecuteTime": {
     "end_time": "2020-08-10T04:22:57.394093Z",
     "start_time": "2020-08-10T04:22:57.385454Z"
    },
    "colab": {},
    "colab_type": "code",
    "id": "qWhcvMRWRA9b"
   },
   "outputs": [
    {
     "name": "stdout",
     "output_type": "stream",
     "text": [
      "MSE = 0.3072203818972466\n"
     ]
    }
   ],
   "source": [
    "pred = {}\n",
    "for key, val in model.items():\n",
    "    pred[key] = val.predict(x[:,list_selected_columns[key]])    \n",
    "\n",
    "y_pred = np.median(np.array(list(pred.values())).T, axis=1)\n",
    "\n",
    "mse = mean_squared_error(y, y_pred)\n",
    "print('MSE =',mse)"
   ]
  },
  {
   "cell_type": "markdown",
   "metadata": {
    "colab_type": "text",
    "id": "RuclPDMnSz8F"
   },
   "source": [
    "## <font color='blue'><b>Step - 3 </b></font>"
   ]
  },
  {
   "cell_type": "markdown",
   "metadata": {
    "colab_type": "text",
    "id": "zBqcS03pUYSZ"
   },
   "source": [
    "*  <font color='blue'><b> Write code for calculating OOB score </b></font>"
   ]
  },
  {
   "cell_type": "code",
   "execution_count": 51,
   "metadata": {
    "ExecuteTime": {
     "end_time": "2020-08-10T04:22:58.599291Z",
     "start_time": "2020-08-10T04:22:57.402294Z"
    },
    "colab": {},
    "colab_type": "code",
    "id": "Fog_6DNdS-h_"
   },
   "outputs": [
    {
     "name": "stdout",
     "output_type": "stream",
     "text": [
      "0.30721544118578414\n"
     ]
    }
   ],
   "source": [
    "oob_pred = {}\n",
    "for i, ele in enumerate(zip(x,y)):\n",
    "    x_train = ele[0]\n",
    "    y_train = ele[1]\n",
    "    temp = {}\n",
    "    for ind, sample in enumerate(list_input_data):\n",
    "        if x_train[list_selected_columns[ind]] in sample:\n",
    "            temp[ind] = model[ind].predict(x_train[list_selected_columns[ind]].reshape(1,-1))[0]\n",
    "    oob_pred[i] = np.median( np.array( list( temp.values())).reshape(-1,1))\n",
    "    \n",
    "oob_score = ( np.sum( np.square( y - np.array(list( oob_pred.values())))))/(x.shape[0])\n",
    "print(oob_score)"
   ]
  },
  {
   "cell_type": "markdown",
   "metadata": {
    "colab_type": "text",
    "id": "sbuiwX3OUjUI"
   },
   "source": [
    "# <font color='blue'><b>Task 2</b></font>"
   ]
  },
  {
   "cell_type": "code",
   "execution_count": 52,
   "metadata": {
    "ExecuteTime": {
     "end_time": "2020-08-10T04:23:38.397980Z",
     "start_time": "2020-08-10T04:22:58.600966Z"
    },
    "colab": {},
    "colab_type": "code",
    "id": "ceW5-D88Uswi",
    "scrolled": false
   },
   "outputs": [
    {
     "name": "stdout",
     "output_type": "stream",
     "text": [
      "Confidence Interval with 95% Confidence\n",
      "Confidence Interval for MSE\n",
      "[0.05825802621418374, 0.16447415855318834]\n",
      "Confidence Interval for OOB\n",
      "[0.04679047622597019, 0.11150099825003806]\n"
     ]
    }
   ],
   "source": [
    "train_mse = []\n",
    "oob_score = []\n",
    "\n",
    "for _ in range(35):\n",
    "    list_input_data =[]\n",
    "    list_output_data =[]\n",
    "    list_selected_row= []\n",
    "    list_selected_columns=[]\n",
    "    # Row and column sampling    \n",
    "    for _ in range(30):\n",
    "        a,b,c,d = generating_samples(x, y)\n",
    "        list_input_data.append(a)\n",
    "        list_output_data.append(b)\n",
    "        list_selected_row.append(c)\n",
    "        list_selected_columns.append(d)\n",
    "    # Creating Models\n",
    "    model = {}\n",
    "    for ind, train_data in enumerate(zip(list_input_data,list_output_data)):\n",
    "        x_train = train_data[0]\n",
    "        y_train = train_data[1]\n",
    "        temp_model=DecisionTreeRegressor(max_depth=None)\n",
    "        temp_model.fit(x_train, y_train)\n",
    "        model[ind] = temp_model\n",
    "        \n",
    "    # Calculating MSE\n",
    "    pred = {}\n",
    "    for key, val in model.items():\n",
    "        pred[key] = val.predict(x[:,list_selected_columns[key]])    \n",
    "\n",
    "    y_pred = np.median(np.array(list(pred.values())).T, axis=1)\n",
    "\n",
    "    train_mse.append(mean_squared_error(y, y_pred))\n",
    "    # Calculating OOB Score\n",
    "    oob_pred = {}\n",
    "    for i, ele in enumerate(zip(x,y)):\n",
    "        x_train = ele[0]\n",
    "        y_train = ele[1]\n",
    "        temp = {}\n",
    "        for ind, sample in enumerate(list_input_data):\n",
    "            if x_train[list_selected_columns[ind]] in sample:\n",
    "                temp[ind] = model[ind].predict(x_train[list_selected_columns[ind]].reshape(1,-1))[0]\n",
    "        oob_pred[i] = np.median( np.array( list( temp.values())).reshape(-1,1))\n",
    "\n",
    "    oob_score.append(( np.sum( np.square( y - np.array(list( oob_pred.values())))))/(x.shape[0]))\n",
    "\n",
    "\n",
    "# Calculating Confidence Interval\n",
    "    \n",
    "sample_size = 30\n",
    "mse_random_sample = np.random.choice(train_mse, sample_size)\n",
    "oob_random_sample = np.random.choice(oob_score, sample_size)\n",
    "\n",
    "mean_mse = np.mean(mse_random_sample)\n",
    "mean_oob = np.mean(oob_random_sample)\n",
    "\n",
    "std_mse = np.std(mse_random_sample)\n",
    "std_oob = np.std(oob_random_sample)\n",
    "\n",
    "print('Confidence Interval with 95% Confidence')\n",
    "print('Confidence Interval for MSE')\n",
    "mse_ci = (mean_mse-(2 * (std_mse))/np.sqrt(sample_size), mean_mse+(2 * (std_mse))/np.sqrt(sample_size))\n",
    "print('[{}, {}]'.format(mse_ci[0], mse_ci[1]))\n",
    "print('Confidence Interval for OOB')\n",
    "oob_ci = (mean_oob-(2 * (std_oob))/np.sqrt(sample_size), mean_oob+(2 * (std_oob))/np.sqrt(sample_size))\n",
    "print('[{}, {}]'.format(oob_ci[0], oob_ci[1]))"
   ]
  },
  {
   "cell_type": "markdown",
   "metadata": {
    "colab_type": "text",
    "id": "jKTnJdiBVS_e"
   },
   "source": [
    "# <font color='blue'><b>Task 3</b></font>"
   ]
  },
  {
   "cell_type": "markdown",
   "metadata": {
    "colab_type": "text",
    "id": "29hjwKlWWDfo"
   },
   "source": [
    "*  <font color='blue'><b> Write code for TASK 3 </b></font>"
   ]
  },
  {
   "cell_type": "code",
   "execution_count": 53,
   "metadata": {
    "ExecuteTime": {
     "end_time": "2020-08-10T04:23:38.488781Z",
     "start_time": "2020-08-10T04:23:38.399662Z"
    },
    "colab": {},
    "colab_type": "code",
    "id": "i_pUlSD-VYD1"
   },
   "outputs": [
    {
     "name": "stdout",
     "output_type": "stream",
     "text": [
      "For query point [1.8000e-01 2.0000e+01 5.0000e+00 0.0000e+00 4.2100e-01 5.6000e+00\n",
      " 7.2200e+01 7.9500e+00 7.0000e+00 3.0000e+01 1.9100e+01 3.7213e+02\n",
      " 1.8600e+01] model gave [18.5] as the regression output\n"
     ]
    }
   ],
   "source": [
    "query_point =  np.array([0.18,20.0,5.00,0.0,0.421,5.60,72.2,7.95,7.0,30.0,19.1,372.13,18.60] ).reshape(1,-1)\n",
    "\n",
    "list_input_data =[]\n",
    "list_output_data =[]\n",
    "list_selected_row= []\n",
    "list_selected_columns=[]\n",
    "# Row and column sampling    \n",
    "for _ in range(30):\n",
    "    a,b,c,d = generating_samples(x, y)\n",
    "    list_input_data.append(a)\n",
    "    list_output_data.append(b)\n",
    "    list_selected_row.append(c)\n",
    "    list_selected_columns.append(d)\n",
    "# Creating Models\n",
    "model = {}\n",
    "for ind, train_data in enumerate(zip(list_input_data,list_output_data)):\n",
    "    x_train = train_data[0]\n",
    "    y_train = train_data[1]\n",
    "    temp_model=DecisionTreeRegressor(max_depth=None)\n",
    "    temp_model.fit(x_train, y_train)\n",
    "    model[ind] = temp_model\n",
    "# Making Predictions    \n",
    "pred = {}\n",
    "for key, val in model.items():\n",
    "    \n",
    "    pred[key] = val.predict(query_point[:,list_selected_columns[key]])    \n",
    "\n",
    "y_pred = np.median(np.array(list(pred.values())).T, axis=1)\n",
    "print('For query point {} model gave {} as the regression output'.format(query_point[0], y_pred))"
   ]
  },
  {
   "cell_type": "markdown",
   "metadata": {
    "colab_type": "text",
    "id": "DJHTGEZgWJjR"
   },
   "source": [
    "<br><br><br>"
   ]
  },
  {
   "cell_type": "markdown",
   "metadata": {
    "colab_type": "text",
    "id": "IOdUi-0xWOJ9"
   },
   "source": [
    "<font color='red'><b>Write observations for task 1, task 2, task 3 indetail</b></font>"
   ]
  },
  {
   "cell_type": "markdown",
   "metadata": {
    "colab": {},
    "colab_type": "code",
    "id": "AIcax45hWKT-"
   },
   "source": [
    "- **Task 1**\n",
    "    \n",
    "    - The number of Rows and Columns are kept same of creating the model by randomly sampling some rows and columns and then repeating the sampled columns.\n",
    "    - The information about the sampled columns are kept and transfered in the algorithm for training and prediction of the model created for each set of sampled data.\n",
    "    - The OOB Score is like a CV score for the model\n",
    "    \n",
    "- **Task 2**\n",
    "\n",
    "    - Task 2 is simply repeating the Task 1 35 times.\n",
    "    - Observations are used to report 95% Confidence Interval\n",
    "    - Confidence Interval OOB and MSE should overlap as we want them as close as possible\n",
    "    \n",
    "- **Task 3**\n",
    "\n",
    "    - Simply check how model is performing and create a final ensemble model and get results"
   ]
  }
 ],
 "metadata": {
  "colab": {
   "collapsed_sections": [],
   "name": "Bootstrap_assignment.ipynb",
   "provenance": []
  },
  "kernelspec": {
   "display_name": "Python 3",
   "language": "python",
   "name": "python3"
  },
  "language_info": {
   "codemirror_mode": {
    "name": "ipython",
    "version": 3
   },
   "file_extension": ".py",
   "mimetype": "text/x-python",
   "name": "python",
   "nbconvert_exporter": "python",
   "pygments_lexer": "ipython3",
   "version": "3.7.5"
  },
  "latex_envs": {
   "LaTeX_envs_menu_present": true,
   "autoclose": false,
   "autocomplete": true,
   "bibliofile": "biblio.bib",
   "cite_by": "apalike",
   "current_citInitial": 1,
   "eqLabelWithNumbers": true,
   "eqNumInitial": 1,
   "hotkeys": {
    "equation": "Ctrl-E",
    "itemize": "Ctrl-I"
   },
   "labels_anchors": false,
   "latex_user_defs": false,
   "report_style_numbering": false,
   "user_envs_cfg": false
  },
  "notify_time": "0",
  "toc": {
   "base_numbering": 1,
   "nav_menu": {},
   "number_sections": true,
   "sideBar": true,
   "skip_h1_title": false,
   "title_cell": "Table of Contents",
   "title_sidebar": "Contents",
   "toc_cell": false,
   "toc_position": {},
   "toc_section_display": true,
   "toc_window_display": false
  },
  "varInspector": {
   "cols": {
    "lenName": 16,
    "lenType": 16,
    "lenVar": 40
   },
   "kernels_config": {
    "python": {
     "delete_cmd_postfix": "",
     "delete_cmd_prefix": "del ",
     "library": "var_list.py",
     "varRefreshCmd": "print(var_dic_list())"
    },
    "r": {
     "delete_cmd_postfix": ") ",
     "delete_cmd_prefix": "rm(",
     "library": "var_list.r",
     "varRefreshCmd": "cat(var_dic_list()) "
    }
   },
   "types_to_exclude": [
    "module",
    "function",
    "builtin_function_or_method",
    "instance",
    "_Feature"
   ],
   "window_display": false
  }
 },
 "nbformat": 4,
 "nbformat_minor": 1
}
