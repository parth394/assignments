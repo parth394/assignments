{
 "cells": [
  {
   "cell_type": "code",
   "execution_count": 1,
   "metadata": {
    "ExecuteTime": {
     "end_time": "2020-07-20T17:40:06.136722Z",
     "start_time": "2020-07-20T17:40:05.883914Z"
    }
   },
   "outputs": [],
   "source": [
    "import numpy as np # importing numpy for numerical computation\n",
    "from sklearn.datasets import load_boston # here we are using sklearn's boston dataset\n",
    "from sklearn.metrics import mean_squared_error # importing mean_squared_error metric"
   ]
  },
  {
   "cell_type": "code",
   "execution_count": 2,
   "metadata": {
    "ExecuteTime": {
     "end_time": "2020-07-20T17:40:19.831027Z",
     "start_time": "2020-07-20T17:40:19.818051Z"
    }
   },
   "outputs": [],
   "source": [
    "boston = load_boston()\n",
    "x=boston.data #independent variables\n",
    "y=boston.target #target variable"
   ]
  },
  {
   "cell_type": "code",
   "execution_count": 3,
   "metadata": {
    "ExecuteTime": {
     "end_time": "2020-07-20T17:40:26.398893Z",
     "start_time": "2020-07-20T17:40:26.379405Z"
    }
   },
   "outputs": [
    {
     "data": {
      "text/plain": [
       "(506, 13)"
      ]
     },
     "execution_count": 3,
     "metadata": {},
     "output_type": "execute_result"
    }
   ],
   "source": [
    "x.shape"
   ]
  },
  {
   "cell_type": "code",
   "execution_count": 57,
   "metadata": {
    "ExecuteTime": {
     "end_time": "2020-07-27T15:11:50.029572Z",
     "start_time": "2020-07-27T15:11:50.021378Z"
    }
   },
   "outputs": [
    {
     "data": {
      "text/plain": [
       "7"
      ]
     },
     "execution_count": 57,
     "metadata": {},
     "output_type": "execute_result"
    }
   ],
   "source": [
    "np.random.randint(6,10)"
   ]
  },
  {
   "cell_type": "code",
   "execution_count": 62,
   "metadata": {
    "ExecuteTime": {
     "end_time": "2020-07-27T15:15:28.002731Z",
     "start_time": "2020-07-27T15:15:27.997840Z"
    }
   },
   "outputs": [
    {
     "data": {
      "text/plain": [
       "303.0"
      ]
     },
     "execution_count": 62,
     "metadata": {},
     "output_type": "execute_result"
    }
   ],
   "source": [
    "np.floor(506 * 0.6)"
   ]
  },
  {
   "cell_type": "code",
   "execution_count": 58,
   "metadata": {
    "ExecuteTime": {
     "end_time": "2020-07-27T15:12:10.797640Z",
     "start_time": "2020-07-27T15:12:10.789044Z"
    }
   },
   "outputs": [
    {
     "data": {
      "text/plain": [
       "['BitGenerator',\n",
       " 'Generator',\n",
       " 'MT19937',\n",
       " 'PCG64',\n",
       " 'Philox',\n",
       " 'RandomState',\n",
       " 'SFC64',\n",
       " 'SeedSequence',\n",
       " '__RandomState_ctor',\n",
       " '__all__',\n",
       " '__builtins__',\n",
       " '__cached__',\n",
       " '__doc__',\n",
       " '__file__',\n",
       " '__loader__',\n",
       " '__name__',\n",
       " '__package__',\n",
       " '__path__',\n",
       " '__spec__',\n",
       " '_bit_generator',\n",
       " '_bounded_integers',\n",
       " '_common',\n",
       " '_generator',\n",
       " '_mt19937',\n",
       " '_pcg64',\n",
       " '_philox',\n",
       " '_pickle',\n",
       " '_sfc64',\n",
       " 'absolute_import',\n",
       " 'beta',\n",
       " 'binomial',\n",
       " 'bytes',\n",
       " 'chisquare',\n",
       " 'choice',\n",
       " 'default_rng',\n",
       " 'dirichlet',\n",
       " 'division',\n",
       " 'exponential',\n",
       " 'f',\n",
       " 'gamma',\n",
       " 'geometric',\n",
       " 'get_state',\n",
       " 'gumbel',\n",
       " 'hypergeometric',\n",
       " 'laplace',\n",
       " 'logistic',\n",
       " 'lognormal',\n",
       " 'logseries',\n",
       " 'mtrand',\n",
       " 'multinomial',\n",
       " 'multivariate_normal',\n",
       " 'negative_binomial',\n",
       " 'noncentral_chisquare',\n",
       " 'noncentral_f',\n",
       " 'normal',\n",
       " 'pareto',\n",
       " 'permutation',\n",
       " 'poisson',\n",
       " 'power',\n",
       " 'print_function',\n",
       " 'rand',\n",
       " 'randint',\n",
       " 'randn',\n",
       " 'random',\n",
       " 'random_integers',\n",
       " 'random_sample',\n",
       " 'ranf',\n",
       " 'rayleigh',\n",
       " 'sample',\n",
       " 'seed',\n",
       " 'set_state',\n",
       " 'shuffle',\n",
       " 'standard_cauchy',\n",
       " 'standard_exponential',\n",
       " 'standard_gamma',\n",
       " 'standard_normal',\n",
       " 'standard_t',\n",
       " 'test',\n",
       " 'triangular',\n",
       " 'uniform',\n",
       " 'vonmises',\n",
       " 'wald',\n",
       " 'weibull',\n",
       " 'zipf']"
      ]
     },
     "execution_count": 58,
     "metadata": {},
     "output_type": "execute_result"
    }
   ],
   "source": [
    "dir(np.random)"
   ]
  },
  {
   "cell_type": "code",
   "execution_count": 117,
   "metadata": {
    "ExecuteTime": {
     "end_time": "2020-07-30T16:50:25.876126Z",
     "start_time": "2020-07-30T16:50:25.864232Z"
    }
   },
   "outputs": [
    {
     "data": {
      "text/plain": [
       "9"
      ]
     },
     "execution_count": 117,
     "metadata": {},
     "output_type": "execute_result"
    }
   ],
   "source": [
    "np.random.randint(0,14)"
   ]
  },
  {
   "cell_type": "code",
   "execution_count": 52,
   "metadata": {
    "ExecuteTime": {
     "end_time": "2020-07-30T16:45:43.050176Z",
     "start_time": "2020-07-30T16:45:43.039597Z"
    }
   },
   "outputs": [
    {
     "data": {
      "text/plain": [
       "array([ 3, 11,  4,  8])"
      ]
     },
     "execution_count": 52,
     "metadata": {},
     "output_type": "execute_result"
    }
   ],
   "source": [
    "np.random.choice(13, 4)"
   ]
  },
  {
   "cell_type": "code",
   "execution_count": null,
   "metadata": {},
   "outputs": [],
   "source": []
  }
 ],
 "metadata": {
  "kernelspec": {
   "display_name": "Python 3",
   "language": "python",
   "name": "python3"
  },
  "language_info": {
   "codemirror_mode": {
    "name": "ipython",
    "version": 3
   },
   "file_extension": ".py",
   "mimetype": "text/x-python",
   "name": "python",
   "nbconvert_exporter": "python",
   "pygments_lexer": "ipython3",
   "version": "3.7.5"
  },
  "latex_envs": {
   "LaTeX_envs_menu_present": true,
   "autoclose": false,
   "autocomplete": true,
   "bibliofile": "biblio.bib",
   "cite_by": "apalike",
   "current_citInitial": 1,
   "eqLabelWithNumbers": true,
   "eqNumInitial": 1,
   "hotkeys": {
    "equation": "Ctrl-E",
    "itemize": "Ctrl-I"
   },
   "labels_anchors": false,
   "latex_user_defs": false,
   "report_style_numbering": false,
   "user_envs_cfg": false
  },
  "toc": {
   "base_numbering": 1,
   "nav_menu": {},
   "number_sections": true,
   "sideBar": true,
   "skip_h1_title": false,
   "title_cell": "Table of Contents",
   "title_sidebar": "Contents",
   "toc_cell": false,
   "toc_position": {},
   "toc_section_display": true,
   "toc_window_display": false
  },
  "varInspector": {
   "cols": {
    "lenName": 16,
    "lenType": 16,
    "lenVar": 40
   },
   "kernels_config": {
    "python": {
     "delete_cmd_postfix": "",
     "delete_cmd_prefix": "del ",
     "library": "var_list.py",
     "varRefreshCmd": "print(var_dic_list())"
    },
    "r": {
     "delete_cmd_postfix": ") ",
     "delete_cmd_prefix": "rm(",
     "library": "var_list.r",
     "varRefreshCmd": "cat(var_dic_list()) "
    }
   },
   "types_to_exclude": [
    "module",
    "function",
    "builtin_function_or_method",
    "instance",
    "_Feature"
   ],
   "window_display": false
  }
 },
 "nbformat": 4,
 "nbformat_minor": 4
}
