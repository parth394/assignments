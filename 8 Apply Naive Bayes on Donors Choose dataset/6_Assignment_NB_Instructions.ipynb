{
 "cells": [
  {
   "cell_type": "markdown",
   "metadata": {
    "colab_type": "text",
    "id": "Dnubs-Nnb3cw"
   },
   "source": [
    "# Assignment 6: Apply NB"
   ]
  },
  {
   "cell_type": "markdown",
   "metadata": {
    "colab_type": "text",
    "id": "12krXa2pb3c1"
   },
   "source": [
    "<ol>\n",
    "    <li><strong>Apply Multinomial NB on these feature sets</strong>\n",
    "        <ul>\n",
    "            <li><font color='red'>Set 1</font>: categorical, numerical features + preprocessed_eassay (BOW)</li>\n",
    "            <li><font color='red'>Set 2</font>: categorical, numerical features + preprocessed_eassay (TFIDF)</li>\n",
    "        </ul>\n",
    "    </li>\n",
    "    <li><strong>The hyper paramter tuning(find best alpha:smoothing parameter)</strong>\n",
    "        <ul>\n",
    "    <li>Find the best hyper parameter which will give the maximum <a href='https://www.appliedaicourse.com/course/applied-ai-course-online/lessons/receiver-operating-characteristic-curve-roc-curve-and-auc-1/'>AUC</a> value</li>\n",
    "    <li>find the best hyper paramter using k-fold cross validation(use GridsearchCV or RandomsearchCV)/simple cross validation data (write for loop to iterate over hyper parameter values)</li>\n",
    "    <li></li>\n",
    "        </ul>\n",
    "    </li>\n",
    "    <li>\n",
    "    <strong>Representation of results</strong>\n",
    "        <ul>\n",
    "    <li>You need to plot the performance of model both on train data and cross validation data for each hyper parameter, like shown in the figure\n",
    "    <img src='https://i.imgur.com/hUv6aEy.jpg' width=300px></li>\n",
    "    <li>Once after you found the best hyper parameter, you need to train your model with it, and find the AUC on test data and plot the ROC curve on both train and test.\n",
    "    <img src='https://i.imgur.com/wMQDTFe.jpg' width=300px></li>\n",
    "    <li>Along with plotting ROC curve, you need to print the <a href='https://www.appliedaicourse.com/course/applied-ai-course-online/lessons/confusion-matrix-tpr-fpr-fnr-tnr-1/'>confusion matrix</a> with predicted and original labels of test data points\n",
    "    <img src='https://i.imgur.com/IdN5Ctv.png' width=300px></li>\n",
    "        </ul>\n",
    "    </li>\n",
    "    <li>\n",
    "fine the top 20 features from either from feature <font color='red'>Set 1</font> or feature <font color='red'>Set 2</font> using absolute values of `feature_log_prob_ ` parameter of `MultinomialNB` \n",
    "(https://scikit-learn.org/stable/modules/generated/sklearn.naive_bayes.MultinomialNB.html) and print their corresponding feature names\n",
    "    </li>\n",
    "    <li>You need to summarize the results at the end of the notebook, summarize it in the table format\n",
    "        <img src='http://i.imgur.com/YVpIGGE.jpg' width=400px>\n",
    "    </li>\n",
    "</ol>"
   ]
  },
  {
   "cell_type": "markdown",
   "metadata": {
    "colab_type": "text",
    "id": "inzYCIaib3c3"
   },
   "source": [
    "<h1>2. Naive Bayes </h1>"
   ]
  },
  {
   "cell_type": "code",
   "execution_count": 1,
   "metadata": {
    "ExecuteTime": {
     "end_time": "2020-04-17T21:19:03.256391Z",
     "start_time": "2020-04-17T21:19:02.088957Z"
    }
   },
   "outputs": [],
   "source": [
    "import pandas as pd\n",
    "from sklearn.model_selection import train_test_split\n",
    "from sklearn.feature_extraction.text import CountVectorizer\n",
    "from sklearn.preprocessing import Normalizer,StandardScaler\n",
    "from sklearn.naive_bayes import MultinomialNB\n",
    "from sklearn.metrics import roc_curve , auc, confusion_matrix, roc_auc_score\n",
    "from scipy.sparse import hstack\n",
    "from sklearn.model_selection import GridSearchCV\n",
    "from sklearn.feature_extraction.text import TfidfVectorizer\n",
    "import numpy as np\n",
    "from tqdm import tqdm\n",
    "\n",
    "import matplotlib.pyplot as plt\n",
    "import seaborn as sns\n",
    "\n",
    "%matplotlib inline"
   ]
  },
  {
   "cell_type": "code",
   "execution_count": 2,
   "metadata": {
    "ExecuteTime": {
     "end_time": "2020-04-17T21:19:04.970517Z",
     "start_time": "2020-04-17T21:19:03.258575Z"
    }
   },
   "outputs": [
    {
     "name": "stdout",
     "output_type": "stream",
     "text": [
      "Index(['school_state', 'teacher_prefix', 'project_grade_category',\n",
      "       'teacher_number_of_previously_posted_projects', 'project_is_approved',\n",
      "       'clean_categories', 'clean_subcategories', 'essay', 'price'],\n",
      "      dtype='object')\n"
     ]
    }
   ],
   "source": [
    "df = pd.read_csv('preprocessed_data.csv')\n",
    "print(df.columns)\n",
    "df = df.sample(n=10000,random_state=0).reset_index()"
   ]
  },
  {
   "cell_type": "code",
   "execution_count": 3,
   "metadata": {
    "ExecuteTime": {
     "end_time": "2020-04-17T21:19:05.001992Z",
     "start_time": "2020-04-17T21:19:04.976119Z"
    }
   },
   "outputs": [
    {
     "data": {
      "text/html": [
       "<div>\n",
       "<style scoped>\n",
       "    .dataframe tbody tr th:only-of-type {\n",
       "        vertical-align: middle;\n",
       "    }\n",
       "\n",
       "    .dataframe tbody tr th {\n",
       "        vertical-align: top;\n",
       "    }\n",
       "\n",
       "    .dataframe thead th {\n",
       "        text-align: right;\n",
       "    }\n",
       "</style>\n",
       "<table border=\"1\" class=\"dataframe\">\n",
       "  <thead>\n",
       "    <tr style=\"text-align: right;\">\n",
       "      <th></th>\n",
       "      <th>school_state</th>\n",
       "      <th>teacher_prefix</th>\n",
       "      <th>project_grade_category</th>\n",
       "      <th>teacher_number_of_previously_posted_projects</th>\n",
       "      <th>project_is_approved</th>\n",
       "      <th>clean_categories</th>\n",
       "      <th>clean_subcategories</th>\n",
       "      <th>essay</th>\n",
       "      <th>price</th>\n",
       "    </tr>\n",
       "  </thead>\n",
       "  <tbody>\n",
       "    <tr>\n",
       "      <th>0</th>\n",
       "      <td>sc</td>\n",
       "      <td>ms</td>\n",
       "      <td>grades_6_8</td>\n",
       "      <td>4</td>\n",
       "      <td>1</td>\n",
       "      <td>music_arts</td>\n",
       "      <td>performingarts</td>\n",
       "      <td>it truly amazing arts integration school curri...</td>\n",
       "      <td>454.56</td>\n",
       "    </tr>\n",
       "    <tr>\n",
       "      <th>1</th>\n",
       "      <td>pa</td>\n",
       "      <td>ms</td>\n",
       "      <td>grades_3_5</td>\n",
       "      <td>1</td>\n",
       "      <td>1</td>\n",
       "      <td>math_science specialneeds</td>\n",
       "      <td>mathematics specialneeds</td>\n",
       "      <td>my students need chromebooks headphones utiliz...</td>\n",
       "      <td>67.27</td>\n",
       "    </tr>\n",
       "    <tr>\n",
       "      <th>2</th>\n",
       "      <td>ut</td>\n",
       "      <td>mrs</td>\n",
       "      <td>grades_3_5</td>\n",
       "      <td>3</td>\n",
       "      <td>1</td>\n",
       "      <td>music_arts</td>\n",
       "      <td>music performingarts</td>\n",
       "      <td>we 80 students every year third grade we schoo...</td>\n",
       "      <td>188.99</td>\n",
       "    </tr>\n",
       "    <tr>\n",
       "      <th>3</th>\n",
       "      <td>nc</td>\n",
       "      <td>mrs</td>\n",
       "      <td>grades_3_5</td>\n",
       "      <td>1</td>\n",
       "      <td>1</td>\n",
       "      <td>health_sports</td>\n",
       "      <td>gym_fitness health_wellness</td>\n",
       "      <td>i 20 amazing third graders eager learn our sch...</td>\n",
       "      <td>549.81</td>\n",
       "    </tr>\n",
       "    <tr>\n",
       "      <th>4</th>\n",
       "      <td>la</td>\n",
       "      <td>mrs</td>\n",
       "      <td>grades_prek_2</td>\n",
       "      <td>2</td>\n",
       "      <td>0</td>\n",
       "      <td>literacy_language</td>\n",
       "      <td>literacy</td>\n",
       "      <td>i teach 20 kindergarten children including esl...</td>\n",
       "      <td>1267.83</td>\n",
       "    </tr>\n",
       "  </tbody>\n",
       "</table>\n",
       "</div>"
      ],
      "text/plain": [
       "  school_state teacher_prefix project_grade_category  \\\n",
       "0           sc             ms             grades_6_8   \n",
       "1           pa             ms             grades_3_5   \n",
       "2           ut            mrs             grades_3_5   \n",
       "3           nc            mrs             grades_3_5   \n",
       "4           la            mrs          grades_prek_2   \n",
       "\n",
       "   teacher_number_of_previously_posted_projects  project_is_approved  \\\n",
       "0                                             4                    1   \n",
       "1                                             1                    1   \n",
       "2                                             3                    1   \n",
       "3                                             1                    1   \n",
       "4                                             2                    0   \n",
       "\n",
       "            clean_categories          clean_subcategories  \\\n",
       "0                 music_arts               performingarts   \n",
       "1  math_science specialneeds     mathematics specialneeds   \n",
       "2                 music_arts         music performingarts   \n",
       "3              health_sports  gym_fitness health_wellness   \n",
       "4          literacy_language                     literacy   \n",
       "\n",
       "                                               essay    price  \n",
       "0  it truly amazing arts integration school curri...   454.56  \n",
       "1  my students need chromebooks headphones utiliz...    67.27  \n",
       "2  we 80 students every year third grade we schoo...   188.99  \n",
       "3  i 20 amazing third graders eager learn our sch...   549.81  \n",
       "4  i teach 20 kindergarten children including esl...  1267.83  "
      ]
     },
     "execution_count": 3,
     "metadata": {},
     "output_type": "execute_result"
    }
   ],
   "source": [
    "df.drop('index',axis=1,inplace=True)\n",
    "df.head()"
   ]
  },
  {
   "cell_type": "code",
   "execution_count": 4,
   "metadata": {
    "ExecuteTime": {
     "end_time": "2020-04-17T21:19:05.008623Z",
     "start_time": "2020-04-17T21:19:05.004139Z"
    }
   },
   "outputs": [],
   "source": [
    "# Creating a reusable function\n",
    "def three_way_splitter(x,y,test,cv):\n",
    "#     First splitting train and test data\n",
    "    x_train, x_test, y_train, y_test = train_test_split(x,y,test_size=test,stratify=y)\n",
    "#     Splitting train data into train and cv\n",
    "    x_train, x_cv, y_train, y_cv = train_test_split(x_train,y_train, test_size=cv,stratify=y_train)  \n",
    "    return x_train, x_cv, x_test, y_train, y_cv, y_test"
   ]
  },
  {
   "cell_type": "code",
   "execution_count": 5,
   "metadata": {
    "ExecuteTime": {
     "end_time": "2020-04-17T21:19:05.026891Z",
     "start_time": "2020-04-17T21:19:05.010396Z"
    }
   },
   "outputs": [],
   "source": [
    "label = df['project_is_approved'].values\n",
    "df.drop('project_is_approved',axis=1,inplace=True)\n",
    "# x_train,x_test,x_cv,y_train,y_test,y_cv = three_way_splitter(df, label,test=0.2,cv=0.1)\n",
    "x_train, x_test, y_train, y_test = train_test_split(df,label,test_size=0.3,stratify=label)"
   ]
  },
  {
   "cell_type": "code",
   "execution_count": 6,
   "metadata": {
    "ExecuteTime": {
     "end_time": "2020-04-17T21:19:05.036114Z",
     "start_time": "2020-04-17T21:19:05.028860Z"
    }
   },
   "outputs": [],
   "source": [
    "# Defining reusable function\n",
    "\n",
    "def encoder_for_cat_columns(col,train,test):\n",
    "    if col == 'essay':\n",
    "        cnt_vec = CountVectorizer(ngram_range=(1,5),min_df=10,max_features=10000)\n",
    "    else:\n",
    "        cnt_vec = CountVectorizer()\n",
    "    \n",
    "    print(\"Fitting the {:5} data to the count_vectorizer\".format(col))\n",
    "    cnt_vec.fit(train[col].values)\n",
    "    print('Transforming the {:5} data'.format(col))\n",
    "    return cnt_vec.transform(train[col].values), cnt_vec.transform(test[col].values)\n",
    "# , cnt_vec.transform(cv[col].values)\n",
    "\n",
    "def encoder_for_num_columns(col, train, test):\n",
    "    normal = Normalizer()\n",
    "    print('Fitting the {} column data to the normalizer'.format(col))\n",
    "    normal.fit(train[col].values.reshape(-1,1))\n",
    "    print('Fitting the {} column data to the normalizer'.format(col))\n",
    "    return normal.transform(train[col].values.reshape(-1,1)) , normal.transform(test[col].values.reshape(-1,1))\n",
    "# , normal.transform(cv[col].values.reshape(-1,1))\n"
   ]
  },
  {
   "cell_type": "code",
   "execution_count": 7,
   "metadata": {
    "ExecuteTime": {
     "end_time": "2020-04-17T21:19:34.712510Z",
     "start_time": "2020-04-17T21:19:05.038389Z"
    }
   },
   "outputs": [
    {
     "name": "stderr",
     "output_type": "stream",
     "text": [
      "\r",
      "  0%|          | 0/8 [00:00<?, ?it/s]"
     ]
    },
    {
     "name": "stdout",
     "output_type": "stream",
     "text": [
      "Fitting the school_state data to the count_vectorizer\n",
      "Transforming the school_state data\n",
      "Fitting the teacher_prefix data to the count_vectorizer\n"
     ]
    },
    {
     "name": "stderr",
     "output_type": "stream",
     "text": [
      "\r",
      " 25%|██▌       | 2/8 [00:00<00:00, 12.57it/s]"
     ]
    },
    {
     "name": "stdout",
     "output_type": "stream",
     "text": [
      "Transforming the teacher_prefix data\n",
      "Fitting the project_grade_category data to the count_vectorizer\n",
      "Transforming the project_grade_category data\n",
      "Fitting the teacher_number_of_previously_posted_projects column data to the normalizer\n",
      "Fitting the teacher_number_of_previously_posted_projects column data to the normalizer\n",
      "Fitting the clean_categories data to the count_vectorizer\n",
      "Transforming the clean_categories data\n"
     ]
    },
    {
     "name": "stderr",
     "output_type": "stream",
     "text": [
      "\r",
      " 62%|██████▎   | 5/8 [00:00<00:00, 12.57it/s]"
     ]
    },
    {
     "name": "stdout",
     "output_type": "stream",
     "text": [
      "Fitting the clean_subcategories data to the count_vectorizer\n",
      "Transforming the clean_subcategories data\n",
      "Fitting the essay data to the count_vectorizer\n",
      "Transforming the essay data\n"
     ]
    },
    {
     "name": "stderr",
     "output_type": "stream",
     "text": [
      "100%|██████████| 8/8 [00:29<00:00,  3.71s/it]"
     ]
    },
    {
     "name": "stdout",
     "output_type": "stream",
     "text": [
      "Fitting the price column data to the normalizer\n",
      "Fitting the price column data to the normalizer\n"
     ]
    },
    {
     "name": "stderr",
     "output_type": "stream",
     "text": [
      "\n"
     ]
    }
   ],
   "source": [
    "# Storing all the bow transformations in single dictionary\n",
    "temp = {}\n",
    "for ele in tqdm(df.columns):\n",
    "    if type(df[ele][0] ) == str:\n",
    "        temp_train , temp_test = encoder_for_cat_columns(ele,x_train,x_test)\n",
    "        temp['x_train_{}_bow'.format(ele)] = temp_train\n",
    "        del temp_train\n",
    "        temp['x_test_{}_bow'.format(ele)]  = temp_test\n",
    "        del temp_test\n",
    "#         temp['x_cv_{}_bow'.format(ele)]    = temp_cv\n",
    "#         del temp_cv\n",
    "    else:\n",
    "        temp_train , temp_test = encoder_for_num_columns(ele, x_train, x_test)\n",
    "        temp['x_train_{}_norm '.format(ele)] = temp_train\n",
    "        del temp_train\n",
    "        temp['x_test_{}_norm'.format(ele)]  = temp_test\n",
    "        del temp_test\n",
    "#         temp['x_cv_{}_norm'.format(ele)]    = temp_cv\n",
    "#         del temp_cv\n"
   ]
  },
  {
   "cell_type": "code",
   "execution_count": 8,
   "metadata": {
    "ExecuteTime": {
     "end_time": "2020-04-17T21:19:34.719283Z",
     "start_time": "2020-04-17T21:19:34.714068Z"
    }
   },
   "outputs": [
    {
     "name": "stderr",
     "output_type": "stream",
     "text": [
      "100%|██████████| 2/2 [00:00<00:00, 14463.12it/s]\n"
     ]
    }
   ],
   "source": [
    "hstack_temp = {}\n",
    "for ele in tqdm(['train','test']):\n",
    "    hstack_temp[ele] = []\n",
    "    for key in temp.keys():\n",
    "        if key.find(ele) >=0:\n",
    "            hstack_temp[ele].append(temp[key])\n",
    "del temp"
   ]
  },
  {
   "cell_type": "code",
   "execution_count": 9,
   "metadata": {
    "ExecuteTime": {
     "end_time": "2020-04-17T21:19:34.782344Z",
     "start_time": "2020-04-17T21:19:34.720493Z"
    }
   },
   "outputs": [],
   "source": [
    "x_tr = hstack(hstack_temp['train']).tocsr()\n",
    "x_te = hstack(hstack_temp['test']).tocsr()\n",
    "# x_cv = hstack(hstack_temp['cv']).tocsr()\n",
    "del hstack_temp"
   ]
  },
  {
   "cell_type": "code",
   "execution_count": 10,
   "metadata": {
    "ExecuteTime": {
     "end_time": "2020-04-17T21:19:34.786917Z",
     "start_time": "2020-04-17T21:19:34.783802Z"
    }
   },
   "outputs": [
    {
     "data": {
      "text/plain": [
       "(7000, 10100)"
      ]
     },
     "execution_count": 10,
     "metadata": {},
     "output_type": "execute_result"
    }
   ],
   "source": [
    "x_tr.shape"
   ]
  },
  {
   "cell_type": "code",
   "execution_count": 11,
   "metadata": {
    "ExecuteTime": {
     "end_time": "2020-04-17T21:19:34.795317Z",
     "start_time": "2020-04-17T21:19:34.788319Z"
    }
   },
   "outputs": [
    {
     "data": {
      "text/plain": [
       "(3000, 10100)"
      ]
     },
     "execution_count": 11,
     "metadata": {},
     "output_type": "execute_result"
    }
   ],
   "source": [
    "x_te.shape"
   ]
  },
  {
   "cell_type": "code",
   "execution_count": 12,
   "metadata": {
    "ExecuteTime": {
     "end_time": "2020-04-17T21:20:11.550117Z",
     "start_time": "2020-04-17T21:19:34.796602Z"
    },
    "scrolled": false
   },
   "outputs": [],
   "source": [
    "mnb = MultinomialNB()\n",
    "parameters = {'alpha':[10**-5,10**-4 ,10**-3,10**-2,10**-1,1,1.5,2,5,10,15,20,40,80,100,120]}\n",
    "clf = GridSearchCV(mnb,parameters,cv=5,scoring='roc_auc',return_train_score=True)\n",
    "clf.fit(x_tr.toarray(),y_train)\n",
    "results = pd.DataFrame(clf.cv_results_)\n",
    "results.sort_values('param_alpha',inplace=True)"
   ]
  },
  {
   "cell_type": "code",
   "execution_count": 13,
   "metadata": {
    "ExecuteTime": {
     "end_time": "2020-04-17T21:20:11.593950Z",
     "start_time": "2020-04-17T21:20:11.552346Z"
    },
    "scrolled": false
   },
   "outputs": [
    {
     "data": {
      "text/html": [
       "<div>\n",
       "<style scoped>\n",
       "    .dataframe tbody tr th:only-of-type {\n",
       "        vertical-align: middle;\n",
       "    }\n",
       "\n",
       "    .dataframe tbody tr th {\n",
       "        vertical-align: top;\n",
       "    }\n",
       "\n",
       "    .dataframe thead th {\n",
       "        text-align: right;\n",
       "    }\n",
       "</style>\n",
       "<table border=\"1\" class=\"dataframe\">\n",
       "  <thead>\n",
       "    <tr style=\"text-align: right;\">\n",
       "      <th></th>\n",
       "      <th>mean_fit_time</th>\n",
       "      <th>std_fit_time</th>\n",
       "      <th>mean_score_time</th>\n",
       "      <th>std_score_time</th>\n",
       "      <th>param_alpha</th>\n",
       "      <th>params</th>\n",
       "      <th>split0_test_score</th>\n",
       "      <th>split1_test_score</th>\n",
       "      <th>split2_test_score</th>\n",
       "      <th>split3_test_score</th>\n",
       "      <th>...</th>\n",
       "      <th>mean_test_score</th>\n",
       "      <th>std_test_score</th>\n",
       "      <th>rank_test_score</th>\n",
       "      <th>split0_train_score</th>\n",
       "      <th>split1_train_score</th>\n",
       "      <th>split2_train_score</th>\n",
       "      <th>split3_train_score</th>\n",
       "      <th>split4_train_score</th>\n",
       "      <th>mean_train_score</th>\n",
       "      <th>std_train_score</th>\n",
       "    </tr>\n",
       "  </thead>\n",
       "  <tbody>\n",
       "    <tr>\n",
       "      <th>0</th>\n",
       "      <td>0.285558</td>\n",
       "      <td>0.013140</td>\n",
       "      <td>0.029250</td>\n",
       "      <td>0.000812</td>\n",
       "      <td>1e-05</td>\n",
       "      <td>{'alpha': 1e-05}</td>\n",
       "      <td>0.654408</td>\n",
       "      <td>0.618793</td>\n",
       "      <td>0.639399</td>\n",
       "      <td>0.637966</td>\n",
       "      <td>...</td>\n",
       "      <td>0.633919</td>\n",
       "      <td>0.013548</td>\n",
       "      <td>10</td>\n",
       "      <td>0.967961</td>\n",
       "      <td>0.964148</td>\n",
       "      <td>0.959545</td>\n",
       "      <td>0.961058</td>\n",
       "      <td>0.961996</td>\n",
       "      <td>0.962942</td>\n",
       "      <td>0.002920</td>\n",
       "    </tr>\n",
       "    <tr>\n",
       "      <th>1</th>\n",
       "      <td>0.282466</td>\n",
       "      <td>0.002287</td>\n",
       "      <td>0.029851</td>\n",
       "      <td>0.001509</td>\n",
       "      <td>0.0001</td>\n",
       "      <td>{'alpha': 0.0001}</td>\n",
       "      <td>0.665327</td>\n",
       "      <td>0.627061</td>\n",
       "      <td>0.650705</td>\n",
       "      <td>0.645884</td>\n",
       "      <td>...</td>\n",
       "      <td>0.644472</td>\n",
       "      <td>0.013436</td>\n",
       "      <td>8</td>\n",
       "      <td>0.966835</td>\n",
       "      <td>0.962704</td>\n",
       "      <td>0.958108</td>\n",
       "      <td>0.959612</td>\n",
       "      <td>0.960686</td>\n",
       "      <td>0.961589</td>\n",
       "      <td>0.003020</td>\n",
       "    </tr>\n",
       "    <tr>\n",
       "      <th>2</th>\n",
       "      <td>0.291983</td>\n",
       "      <td>0.010163</td>\n",
       "      <td>0.031579</td>\n",
       "      <td>0.005577</td>\n",
       "      <td>0.001</td>\n",
       "      <td>{'alpha': 0.001}</td>\n",
       "      <td>0.675610</td>\n",
       "      <td>0.639346</td>\n",
       "      <td>0.656506</td>\n",
       "      <td>0.656456</td>\n",
       "      <td>...</td>\n",
       "      <td>0.654141</td>\n",
       "      <td>0.012810</td>\n",
       "      <td>7</td>\n",
       "      <td>0.964952</td>\n",
       "      <td>0.960658</td>\n",
       "      <td>0.956025</td>\n",
       "      <td>0.957401</td>\n",
       "      <td>0.958678</td>\n",
       "      <td>0.959543</td>\n",
       "      <td>0.003105</td>\n",
       "    </tr>\n",
       "    <tr>\n",
       "      <th>3</th>\n",
       "      <td>0.283190</td>\n",
       "      <td>0.010033</td>\n",
       "      <td>0.029987</td>\n",
       "      <td>0.001462</td>\n",
       "      <td>0.01</td>\n",
       "      <td>{'alpha': 0.01}</td>\n",
       "      <td>0.685918</td>\n",
       "      <td>0.648767</td>\n",
       "      <td>0.664242</td>\n",
       "      <td>0.663564</td>\n",
       "      <td>...</td>\n",
       "      <td>0.663385</td>\n",
       "      <td>0.012673</td>\n",
       "      <td>5</td>\n",
       "      <td>0.961812</td>\n",
       "      <td>0.957548</td>\n",
       "      <td>0.952824</td>\n",
       "      <td>0.953977</td>\n",
       "      <td>0.955436</td>\n",
       "      <td>0.956319</td>\n",
       "      <td>0.003168</td>\n",
       "    </tr>\n",
       "    <tr>\n",
       "      <th>4</th>\n",
       "      <td>0.282840</td>\n",
       "      <td>0.001971</td>\n",
       "      <td>0.029388</td>\n",
       "      <td>0.000311</td>\n",
       "      <td>0.1</td>\n",
       "      <td>{'alpha': 0.1}</td>\n",
       "      <td>0.695336</td>\n",
       "      <td>0.659322</td>\n",
       "      <td>0.669738</td>\n",
       "      <td>0.669010</td>\n",
       "      <td>...</td>\n",
       "      <td>0.671855</td>\n",
       "      <td>0.012308</td>\n",
       "      <td>4</td>\n",
       "      <td>0.956041</td>\n",
       "      <td>0.952151</td>\n",
       "      <td>0.947182</td>\n",
       "      <td>0.947846</td>\n",
       "      <td>0.949611</td>\n",
       "      <td>0.950566</td>\n",
       "      <td>0.003233</td>\n",
       "    </tr>\n",
       "  </tbody>\n",
       "</table>\n",
       "<p>5 rows × 21 columns</p>\n",
       "</div>"
      ],
      "text/plain": [
       "   mean_fit_time  std_fit_time  mean_score_time  std_score_time param_alpha  \\\n",
       "0       0.285558      0.013140         0.029250        0.000812       1e-05   \n",
       "1       0.282466      0.002287         0.029851        0.001509      0.0001   \n",
       "2       0.291983      0.010163         0.031579        0.005577       0.001   \n",
       "3       0.283190      0.010033         0.029987        0.001462        0.01   \n",
       "4       0.282840      0.001971         0.029388        0.000311         0.1   \n",
       "\n",
       "              params  split0_test_score  split1_test_score  split2_test_score  \\\n",
       "0   {'alpha': 1e-05}           0.654408           0.618793           0.639399   \n",
       "1  {'alpha': 0.0001}           0.665327           0.627061           0.650705   \n",
       "2   {'alpha': 0.001}           0.675610           0.639346           0.656506   \n",
       "3    {'alpha': 0.01}           0.685918           0.648767           0.664242   \n",
       "4     {'alpha': 0.1}           0.695336           0.659322           0.669738   \n",
       "\n",
       "   split3_test_score  ...  mean_test_score  std_test_score  rank_test_score  \\\n",
       "0           0.637966  ...         0.633919        0.013548               10   \n",
       "1           0.645884  ...         0.644472        0.013436                8   \n",
       "2           0.656456  ...         0.654141        0.012810                7   \n",
       "3           0.663564  ...         0.663385        0.012673                5   \n",
       "4           0.669010  ...         0.671855        0.012308                4   \n",
       "\n",
       "   split0_train_score  split1_train_score  split2_train_score  \\\n",
       "0            0.967961            0.964148            0.959545   \n",
       "1            0.966835            0.962704            0.958108   \n",
       "2            0.964952            0.960658            0.956025   \n",
       "3            0.961812            0.957548            0.952824   \n",
       "4            0.956041            0.952151            0.947182   \n",
       "\n",
       "   split3_train_score  split4_train_score  mean_train_score  std_train_score  \n",
       "0            0.961058            0.961996          0.962942         0.002920  \n",
       "1            0.959612            0.960686          0.961589         0.003020  \n",
       "2            0.957401            0.958678          0.959543         0.003105  \n",
       "3            0.953977            0.955436          0.956319         0.003168  \n",
       "4            0.947846            0.949611          0.950566         0.003233  \n",
       "\n",
       "[5 rows x 21 columns]"
      ]
     },
     "execution_count": 13,
     "metadata": {},
     "output_type": "execute_result"
    }
   ],
   "source": [
    "results.head()"
   ]
  },
  {
   "cell_type": "code",
   "execution_count": 14,
   "metadata": {
    "ExecuteTime": {
     "end_time": "2020-04-17T21:20:11.840506Z",
     "start_time": "2020-04-17T21:20:11.596165Z"
    }
   },
   "outputs": [
    {
     "data": {
      "image/png": "[encoded data removed]",
      "text/plain": [
       "<Figure size 720x720 with 1 Axes>"
      ]
     },
     "metadata": {
      "needs_background": "light"
     },
     "output_type": "display_data"
    }
   ],
   "source": [
    "fig , ax = plt.subplots(1,1,figsize=(10,10))\n",
    "ax.plot(results['param_alpha'],results['mean_train_score'],label='Train Score')\n",
    "ax.scatter(results['param_alpha'],results['mean_train_score'],label='Train Score')\n",
    "ax.plot(results['param_alpha'],results['mean_test_score'],label='Test Score')\n",
    "ax.scatter(results['param_alpha'],results['mean_test_score'],label='Test Score')\n",
    "ax.set_ylabel('Auc Score')\n",
    "ax.set_xlabel('Laplace Smoothening')\n",
    "ax.legend()\n",
    "ax.grid()\n",
    "# ax.set_xticks(map(str,results['param_alpha']))\n",
    "ax.set_title('Auc Score for Train and Test')\n",
    "plt.show()"
   ]
  },
  {
   "cell_type": "code",
   "execution_count": 15,
   "metadata": {
    "ExecuteTime": {
     "end_time": "2020-04-17T21:20:11.854588Z",
     "start_time": "2020-04-17T21:20:11.842412Z"
    }
   },
   "outputs": [
    {
     "name": "stdout",
     "output_type": "stream",
     "text": [
      "Alpha ==> Train Score ==> Test Score ==> Distance\n",
      "1e-05 ==> 0.9629416059274025 ==> 0.6339185147479786 ==> 0.32902309117942397\n",
      "0.0001 ==> 0.961589240639835 ==> 0.6444718849580884 ==> 0.3171173556817466\n",
      "0.001 ==> 0.9595429162761915 ==> 0.6541405008927993 ==> 0.3054024153833922\n",
      "0.01 ==> 0.9563193161107751 ==> 0.663384531857187 ==> 0.2929347842535881\n",
      "0.1 ==> 0.9505661721087643 ==> 0.6718551773696393 ==> 0.278710994739125\n",
      "1 ==> 0.9344111347586999 ==> 0.6751302886403512 ==> 0.2592808461183487\n",
      "1.5 ==> 0.9278105751002208 ==> 0.674127679679204 ==> 0.25368289542101685\n",
      "2 ==> 0.9216266691410013 ==> 0.6729947565517246 ==> 0.24863191258927675\n",
      "5 ==> 0.8867315165048926 ==> 0.6625275052742371 ==> 0.22420401123065548\n",
      "10 ==> 0.8206032154977265 ==> 0.638738192136785 ==> 0.18186502336094157\n",
      "15 ==> 0.7103963205751476 ==> 0.5776152778406894 ==> 0.13278104273445812\n",
      "20 ==> 0.5822695285783884 ==> 0.526161494576872 ==> 0.05610803400151643\n",
      "40 ==> 0.5037153601772809 ==> 0.5019444859446021 ==> 0.001770874232678854\n",
      "80 ==> 0.5009794045618556 ==> 0.5011767299581231 ==> -0.00019732539626748924\n",
      "100 ==> 0.5008082920210246 ==> 0.50073761475078 ==> 7.067727024456794e-05\n",
      "120 ==> 0.5004400808657824 ==> 0.5001337463138844 ==> 0.00030633455189799097\n"
     ]
    }
   ],
   "source": [
    "print('Alpha','Train Score','Test Score','Distance',sep=' ==> ')\n",
    "for ind, row in results.iterrows():\n",
    "    print(row.param_alpha,row.mean_train_score,row.mean_test_score,row.mean_train_score-row.mean_test_score,sep=' ==> ')"
   ]
  },
  {
   "cell_type": "code",
   "execution_count": 16,
   "metadata": {
    "ExecuteTime": {
     "end_time": "2020-04-17T21:20:11.858647Z",
     "start_time": "2020-04-17T21:20:11.855902Z"
    }
   },
   "outputs": [],
   "source": [
    "# Taking the best alpha\n",
    "alpha = 0.01"
   ]
  },
  {
   "cell_type": "code",
   "execution_count": 17,
   "metadata": {
    "ExecuteTime": {
     "end_time": "2020-04-17T21:20:13.228683Z",
     "start_time": "2020-04-17T21:20:11.862554Z"
    }
   },
   "outputs": [],
   "source": [
    "mnb = MultinomialNB(alpha=alpha)\n",
    "mnb.fit(x_tr.toarray(),y_train)\n",
    "y_te_predict = mnb.predict(x_te.toarray())\n",
    "y_tr_predict = mnb.predict(x_tr.toarray())"
   ]
  },
  {
   "cell_type": "code",
   "execution_count": 18,
   "metadata": {
    "ExecuteTime": {
     "end_time": "2020-04-17T21:20:13.248158Z",
     "start_time": "2020-04-17T21:20:13.235756Z"
    }
   },
   "outputs": [
    {
     "name": "stdout",
     "output_type": "stream",
     "text": [
      "0.8455277344304155\n",
      "0.5808093346573981\n"
     ]
    }
   ],
   "source": [
    "print(roc_auc_score(y_train,y_tr_predict))\n",
    "print(roc_auc_score(y_test,y_te_predict))"
   ]
  },
  {
   "cell_type": "code",
   "execution_count": 19,
   "metadata": {
    "ExecuteTime": {
     "end_time": "2020-04-17T21:20:13.261117Z",
     "start_time": "2020-04-17T21:20:13.250909Z"
    }
   },
   "outputs": [],
   "source": [
    "train_fpr , train_tpr , tr_thresholds = roc_curve(y_train,y_tr_predict)\n",
    "test_fpr , test_tpr , te_threshokds = roc_curve(y_test,y_te_predict)"
   ]
  },
  {
   "cell_type": "code",
   "execution_count": 20,
   "metadata": {
    "ExecuteTime": {
     "end_time": "2020-04-17T21:20:13.418010Z",
     "start_time": "2020-04-17T21:20:13.265303Z"
    },
    "scrolled": true
   },
   "outputs": [
    {
     "data": {
      "image/png": "[encoded data removed]",
      "text/plain": [
       "<Figure size 432x288 with 1 Axes>"
      ]
     },
     "metadata": {
      "needs_background": "light"
     },
     "output_type": "display_data"
    }
   ],
   "source": [
    "plt.plot(train_fpr,train_tpr, label='Train AUC'+str(auc(train_fpr, train_tpr)))\n",
    "plt.plot(test_fpr,test_tpr, label='Test AUC'+str(auc(test_fpr, test_tpr)))\n",
    "plt.legend()\n",
    "plt.xlabel(\"Alpha: hyperparameter\")\n",
    "plt.ylabel(\"AUC\")\n",
    "plt.title(\"ROC PLOTS\")\n",
    "plt.grid()\n",
    "plt.show()"
   ]
  },
  {
   "cell_type": "code",
   "execution_count": 21,
   "metadata": {
    "ExecuteTime": {
     "end_time": "2020-04-17T21:20:13.433193Z",
     "start_time": "2020-04-17T21:20:13.419905Z"
    }
   },
   "outputs": [],
   "source": [
    "te_conf = confusion_matrix(y_test,y_te_predict)\n",
    "tr_conf = confusion_matrix(y_train,y_tr_predict)"
   ]
  },
  {
   "cell_type": "code",
   "execution_count": 22,
   "metadata": {
    "ExecuteTime": {
     "end_time": "2020-04-17T21:20:13.438651Z",
     "start_time": "2020-04-17T21:20:13.434618Z"
    }
   },
   "outputs": [
    {
     "data": {
      "text/plain": [
       "array([[ 135,  321],\n",
       "       [ 342, 2202]])"
      ]
     },
     "execution_count": 22,
     "metadata": {},
     "output_type": "execute_result"
    }
   ],
   "source": [
    "te_conf"
   ]
  },
  {
   "cell_type": "code",
   "execution_count": 23,
   "metadata": {
    "ExecuteTime": {
     "end_time": "2020-04-17T21:20:13.444191Z",
     "start_time": "2020-04-17T21:20:13.440411Z"
    }
   },
   "outputs": [
    {
     "data": {
      "text/plain": [
       "array([[ 831,  233],\n",
       "       [ 534, 5402]])"
      ]
     },
     "execution_count": 23,
     "metadata": {},
     "output_type": "execute_result"
    }
   ],
   "source": [
    "tr_conf"
   ]
  },
  {
   "cell_type": "markdown",
   "metadata": {},
   "source": [
    "# TFIDF implementation"
   ]
  },
  {
   "cell_type": "code",
   "execution_count": 24,
   "metadata": {
    "ExecuteTime": {
     "end_time": "2020-04-17T21:20:13.451676Z",
     "start_time": "2020-04-17T21:20:13.445623Z"
    }
   },
   "outputs": [],
   "source": [
    "def tf_encoder_for_cat_columns(col,train,test):\n",
    "    if col == 'essay':\n",
    "        vec = TfidfVectorizer(ngram_range=(1,4),min_df=10,norm='l1',max_features=10000)\n",
    "    else:\n",
    "        vec = CountVectorizer()\n",
    "    \n",
    "    print(\"Fitting the {:5} data to the count_vectorizer\".format(col))\n",
    "    vec.fit(train[col].values)\n",
    "    print('Transforming the {:5} data'.format(col))\n",
    "    return vec.transform(train[col].values), vec.transform(test[col].values)\n",
    "# , cnt_vec.transform(cv[col].values)\n",
    "\n",
    "def encoder_for_num_columns(col, train, test):\n",
    "    normal = Normalizer()\n",
    "    print('Fitting the {} column data to the normalizer'.format(col))\n",
    "    normal.fit(train[col].values.reshape(-1,1))\n",
    "    print('Fitting the {} column data to the normalizer'.format(col))\n",
    "    return normal.transform(train[col].values.reshape(-1,1)) , normal.transform(test[col].values.reshape(-1,1))\n",
    "# , normal.transform(cv[col].values.reshape(-1,1))\n"
   ]
  },
  {
   "cell_type": "code",
   "execution_count": 25,
   "metadata": {
    "ExecuteTime": {
     "end_time": "2020-04-17T21:20:32.029373Z",
     "start_time": "2020-04-17T21:20:13.452919Z"
    }
   },
   "outputs": [
    {
     "name": "stderr",
     "output_type": "stream",
     "text": [
      " 38%|███▊      | 3/8 [00:00<00:00, 28.61it/s]"
     ]
    },
    {
     "name": "stdout",
     "output_type": "stream",
     "text": [
      "Fitting the school_state data to the count_vectorizer\n",
      "Transforming the school_state data\n",
      "Fitting the teacher_prefix data to the count_vectorizer\n",
      "Transforming the teacher_prefix data\n",
      "Fitting the project_grade_category data to the count_vectorizer\n",
      "Transforming the project_grade_category data\n",
      "Fitting the teacher_number_of_previously_posted_projects column data to the normalizer\n",
      "Fitting the teacher_number_of_previously_posted_projects column data to the normalizer\n",
      "Fitting the clean_categories data to the count_vectorizer\n",
      "Transforming the clean_categories data\n",
      "Fitting the clean_subcategories data to the count_vectorizer\n",
      "Transforming the clean_subcategories data\n",
      "Fitting the essay data to the count_vectorizer\n",
      "Transforming the essay data\n"
     ]
    },
    {
     "name": "stderr",
     "output_type": "stream",
     "text": [
      "100%|██████████| 8/8 [00:18<00:00,  2.32s/it]"
     ]
    },
    {
     "name": "stdout",
     "output_type": "stream",
     "text": [
      "Fitting the price column data to the normalizer\n",
      "Fitting the price column data to the normalizer\n"
     ]
    },
    {
     "name": "stderr",
     "output_type": "stream",
     "text": [
      "\n"
     ]
    }
   ],
   "source": [
    "# Storing all the bow transformations in single dictionary\n",
    "temp = {}\n",
    "for ele in tqdm(df.columns):\n",
    "    if type(df[ele][0] ) == str:\n",
    "        temp_train , temp_test = tf_encoder_for_cat_columns(ele,x_train,x_test)\n",
    "        temp['x_train_{}_tfidf'.format(ele)] = temp_train\n",
    "        del temp_train\n",
    "        temp['x_test_{}_tfidf'.format(ele)]  = temp_test\n",
    "        del temp_test\n",
    "#         temp['x_cv_{}_bow'.format(ele)]    = temp_cv\n",
    "#         del temp_cv\n",
    "    else:\n",
    "        temp_train , temp_test = encoder_for_num_columns(ele, x_train, x_test)\n",
    "        temp['x_train_{}_norm '.format(ele)] = temp_train\n",
    "        del temp_train\n",
    "        temp['x_test_{}_norm'.format(ele)]  = temp_test\n",
    "        del temp_test\n",
    "#         temp['x_cv_{}_norm'.format(ele)]    = temp_cv\n",
    "#         del temp_cv\n"
   ]
  },
  {
   "cell_type": "code",
   "execution_count": 26,
   "metadata": {
    "ExecuteTime": {
     "end_time": "2020-04-17T21:20:32.037247Z",
     "start_time": "2020-04-17T21:20:32.031065Z"
    }
   },
   "outputs": [
    {
     "name": "stderr",
     "output_type": "stream",
     "text": [
      "100%|██████████| 2/2 [00:00<00:00, 4337.44it/s]"
     ]
    },
    {
     "name": "stdout",
     "output_type": "stream",
     "text": [
      "==================================================\n",
      "Creating seperate key val pairs for hstacking\n",
      "x_train_school_state_tfidf\n",
      "x_train_teacher_prefix_tfidf\n",
      "x_train_project_grade_category_tfidf\n",
      "x_train_teacher_number_of_previously_posted_projects_norm \n",
      "x_train_clean_categories_tfidf\n",
      "x_train_clean_subcategories_tfidf\n",
      "x_train_essay_tfidf\n",
      "x_train_price_norm \n",
      "==================================================\n",
      "Creating seperate key val pairs for hstacking\n",
      "x_test_school_state_tfidf\n",
      "x_test_teacher_prefix_tfidf\n",
      "x_test_project_grade_category_tfidf\n",
      "x_test_teacher_number_of_previously_posted_projects_norm\n",
      "x_test_clean_categories_tfidf\n",
      "x_test_clean_subcategories_tfidf\n",
      "x_test_essay_tfidf\n",
      "x_test_price_norm\n"
     ]
    },
    {
     "name": "stderr",
     "output_type": "stream",
     "text": [
      "\n"
     ]
    }
   ],
   "source": [
    "hstack_temp = {}\n",
    "for ele in tqdm(['train','test']):\n",
    "    print('='*50)\n",
    "    print('Creating seperate key val pairs for hstacking')\n",
    "    hstack_temp[ele] = []\n",
    "    for key in temp.keys():\n",
    "        if key.find(ele) >=0:\n",
    "            print(key)\n",
    "            hstack_temp[ele].append(temp[key])\n",
    "del temp"
   ]
  },
  {
   "cell_type": "code",
   "execution_count": 27,
   "metadata": {
    "ExecuteTime": {
     "end_time": "2020-04-17T21:20:32.122845Z",
     "start_time": "2020-04-17T21:20:32.039605Z"
    }
   },
   "outputs": [],
   "source": [
    "x_tr = hstack(hstack_temp['train']).tocsr()\n",
    "x_te = hstack(hstack_temp['test']).tocsr()\n",
    "# x_cv = hstack(hstack_temp['cv']).tocsr()\n",
    "del hstack_temp"
   ]
  },
  {
   "cell_type": "code",
   "execution_count": 28,
   "metadata": {
    "ExecuteTime": {
     "end_time": "2020-04-17T21:20:32.128207Z",
     "start_time": "2020-04-17T21:20:32.124284Z"
    }
   },
   "outputs": [
    {
     "data": {
      "text/plain": [
       "(7000, 10100)"
      ]
     },
     "execution_count": 28,
     "metadata": {},
     "output_type": "execute_result"
    }
   ],
   "source": [
    "x_tr.shape"
   ]
  },
  {
   "cell_type": "code",
   "execution_count": 29,
   "metadata": {
    "ExecuteTime": {
     "end_time": "2020-04-17T21:20:32.133675Z",
     "start_time": "2020-04-17T21:20:32.130231Z"
    }
   },
   "outputs": [
    {
     "data": {
      "text/plain": [
       "(3000, 10100)"
      ]
     },
     "execution_count": 29,
     "metadata": {},
     "output_type": "execute_result"
    }
   ],
   "source": [
    "x_te.shape"
   ]
  },
  {
   "cell_type": "code",
   "execution_count": 30,
   "metadata": {
    "ExecuteTime": {
     "end_time": "2020-04-17T21:21:09.057124Z",
     "start_time": "2020-04-17T21:20:32.134928Z"
    }
   },
   "outputs": [],
   "source": [
    "gnb = MultinomialNB()\n",
    "parameters = {'alpha':[10**-5,10**-4 ,10**-3,10**-2,10**-1,1,1.5,2,5,10,15,20,40,80,100,120]}\n",
    "clf = GridSearchCV(gnb,parameters,cv=5,scoring='roc_auc',return_train_score=True)\n",
    "clf.fit(x_tr.toarray(),y_train)\n",
    "results = pd.DataFrame(clf.cv_results_)\n",
    "results.sort_values('param_alpha',inplace=True)"
   ]
  },
  {
   "cell_type": "code",
   "execution_count": 31,
   "metadata": {
    "ExecuteTime": {
     "end_time": "2020-04-17T21:21:09.108968Z",
     "start_time": "2020-04-17T21:21:09.059677Z"
    }
   },
   "outputs": [
    {
     "data": {
      "text/html": [
       "<div>\n",
       "<style scoped>\n",
       "    .dataframe tbody tr th:only-of-type {\n",
       "        vertical-align: middle;\n",
       "    }\n",
       "\n",
       "    .dataframe tbody tr th {\n",
       "        vertical-align: top;\n",
       "    }\n",
       "\n",
       "    .dataframe thead th {\n",
       "        text-align: right;\n",
       "    }\n",
       "</style>\n",
       "<table border=\"1\" class=\"dataframe\">\n",
       "  <thead>\n",
       "    <tr style=\"text-align: right;\">\n",
       "      <th></th>\n",
       "      <th>mean_fit_time</th>\n",
       "      <th>std_fit_time</th>\n",
       "      <th>mean_score_time</th>\n",
       "      <th>std_score_time</th>\n",
       "      <th>param_alpha</th>\n",
       "      <th>params</th>\n",
       "      <th>split0_test_score</th>\n",
       "      <th>split1_test_score</th>\n",
       "      <th>split2_test_score</th>\n",
       "      <th>split3_test_score</th>\n",
       "      <th>...</th>\n",
       "      <th>mean_test_score</th>\n",
       "      <th>std_test_score</th>\n",
       "      <th>rank_test_score</th>\n",
       "      <th>split0_train_score</th>\n",
       "      <th>split1_train_score</th>\n",
       "      <th>split2_train_score</th>\n",
       "      <th>split3_train_score</th>\n",
       "      <th>split4_train_score</th>\n",
       "      <th>mean_train_score</th>\n",
       "      <th>std_train_score</th>\n",
       "    </tr>\n",
       "  </thead>\n",
       "  <tbody>\n",
       "    <tr>\n",
       "      <th>0</th>\n",
       "      <td>0.272804</td>\n",
       "      <td>0.027634</td>\n",
       "      <td>0.029280</td>\n",
       "      <td>0.000517</td>\n",
       "      <td>1e-05</td>\n",
       "      <td>{'alpha': 1e-05}</td>\n",
       "      <td>0.568913</td>\n",
       "      <td>0.573173</td>\n",
       "      <td>0.548244</td>\n",
       "      <td>0.586756</td>\n",
       "      <td>...</td>\n",
       "      <td>0.567068</td>\n",
       "      <td>0.013118</td>\n",
       "      <td>1</td>\n",
       "      <td>0.745434</td>\n",
       "      <td>0.742779</td>\n",
       "      <td>0.741979</td>\n",
       "      <td>0.733473</td>\n",
       "      <td>0.740562</td>\n",
       "      <td>0.740846</td>\n",
       "      <td>0.004013</td>\n",
       "    </tr>\n",
       "    <tr>\n",
       "      <th>1</th>\n",
       "      <td>0.284320</td>\n",
       "      <td>0.000849</td>\n",
       "      <td>0.030541</td>\n",
       "      <td>0.002259</td>\n",
       "      <td>0.0001</td>\n",
       "      <td>{'alpha': 0.0001}</td>\n",
       "      <td>0.566696</td>\n",
       "      <td>0.573478</td>\n",
       "      <td>0.544625</td>\n",
       "      <td>0.584165</td>\n",
       "      <td>...</td>\n",
       "      <td>0.565213</td>\n",
       "      <td>0.013560</td>\n",
       "      <td>2</td>\n",
       "      <td>0.734103</td>\n",
       "      <td>0.730961</td>\n",
       "      <td>0.731012</td>\n",
       "      <td>0.722315</td>\n",
       "      <td>0.729198</td>\n",
       "      <td>0.729518</td>\n",
       "      <td>0.003932</td>\n",
       "    </tr>\n",
       "    <tr>\n",
       "      <th>2</th>\n",
       "      <td>0.284996</td>\n",
       "      <td>0.002153</td>\n",
       "      <td>0.029717</td>\n",
       "      <td>0.000434</td>\n",
       "      <td>0.001</td>\n",
       "      <td>{'alpha': 0.001}</td>\n",
       "      <td>0.563977</td>\n",
       "      <td>0.574127</td>\n",
       "      <td>0.540851</td>\n",
       "      <td>0.580930</td>\n",
       "      <td>...</td>\n",
       "      <td>0.562964</td>\n",
       "      <td>0.014156</td>\n",
       "      <td>3</td>\n",
       "      <td>0.720399</td>\n",
       "      <td>0.716642</td>\n",
       "      <td>0.717836</td>\n",
       "      <td>0.708882</td>\n",
       "      <td>0.715605</td>\n",
       "      <td>0.715873</td>\n",
       "      <td>0.003844</td>\n",
       "    </tr>\n",
       "    <tr>\n",
       "      <th>3</th>\n",
       "      <td>0.285341</td>\n",
       "      <td>0.000875</td>\n",
       "      <td>0.029517</td>\n",
       "      <td>0.000095</td>\n",
       "      <td>0.01</td>\n",
       "      <td>{'alpha': 0.01}</td>\n",
       "      <td>0.560748</td>\n",
       "      <td>0.572576</td>\n",
       "      <td>0.535140</td>\n",
       "      <td>0.576164</td>\n",
       "      <td>...</td>\n",
       "      <td>0.559249</td>\n",
       "      <td>0.014869</td>\n",
       "      <td>4</td>\n",
       "      <td>0.695747</td>\n",
       "      <td>0.691358</td>\n",
       "      <td>0.694370</td>\n",
       "      <td>0.685031</td>\n",
       "      <td>0.691876</td>\n",
       "      <td>0.691676</td>\n",
       "      <td>0.003691</td>\n",
       "    </tr>\n",
       "    <tr>\n",
       "      <th>4</th>\n",
       "      <td>0.286524</td>\n",
       "      <td>0.002638</td>\n",
       "      <td>0.029637</td>\n",
       "      <td>0.000630</td>\n",
       "      <td>0.1</td>\n",
       "      <td>{'alpha': 0.1}</td>\n",
       "      <td>0.557603</td>\n",
       "      <td>0.568020</td>\n",
       "      <td>0.530849</td>\n",
       "      <td>0.571358</td>\n",
       "      <td>...</td>\n",
       "      <td>0.555278</td>\n",
       "      <td>0.014617</td>\n",
       "      <td>5</td>\n",
       "      <td>0.648993</td>\n",
       "      <td>0.646242</td>\n",
       "      <td>0.650849</td>\n",
       "      <td>0.641304</td>\n",
       "      <td>0.649218</td>\n",
       "      <td>0.647321</td>\n",
       "      <td>0.003353</td>\n",
       "    </tr>\n",
       "    <tr>\n",
       "      <th>5</th>\n",
       "      <td>0.283218</td>\n",
       "      <td>0.003363</td>\n",
       "      <td>0.029449</td>\n",
       "      <td>0.000141</td>\n",
       "      <td>1</td>\n",
       "      <td>{'alpha': 1}</td>\n",
       "      <td>0.560859</td>\n",
       "      <td>0.550154</td>\n",
       "      <td>0.548006</td>\n",
       "      <td>0.556253</td>\n",
       "      <td>...</td>\n",
       "      <td>0.553770</td>\n",
       "      <td>0.004534</td>\n",
       "      <td>6</td>\n",
       "      <td>0.588250</td>\n",
       "      <td>0.593464</td>\n",
       "      <td>0.592688</td>\n",
       "      <td>0.589051</td>\n",
       "      <td>0.592295</td>\n",
       "      <td>0.591149</td>\n",
       "      <td>0.002090</td>\n",
       "    </tr>\n",
       "    <tr>\n",
       "      <th>6</th>\n",
       "      <td>0.286075</td>\n",
       "      <td>0.001417</td>\n",
       "      <td>0.029739</td>\n",
       "      <td>0.000316</td>\n",
       "      <td>1.5</td>\n",
       "      <td>{'alpha': 1.5}</td>\n",
       "      <td>0.559839</td>\n",
       "      <td>0.545135</td>\n",
       "      <td>0.549347</td>\n",
       "      <td>0.552618</td>\n",
       "      <td>...</td>\n",
       "      <td>0.551535</td>\n",
       "      <td>0.004829</td>\n",
       "      <td>7</td>\n",
       "      <td>0.579028</td>\n",
       "      <td>0.584811</td>\n",
       "      <td>0.582889</td>\n",
       "      <td>0.580335</td>\n",
       "      <td>0.582852</td>\n",
       "      <td>0.581983</td>\n",
       "      <td>0.002051</td>\n",
       "    </tr>\n",
       "    <tr>\n",
       "      <th>7</th>\n",
       "      <td>0.286536</td>\n",
       "      <td>0.002673</td>\n",
       "      <td>0.029653</td>\n",
       "      <td>0.001024</td>\n",
       "      <td>2</td>\n",
       "      <td>{'alpha': 2}</td>\n",
       "      <td>0.558832</td>\n",
       "      <td>0.541654</td>\n",
       "      <td>0.549707</td>\n",
       "      <td>0.550336</td>\n",
       "      <td>...</td>\n",
       "      <td>0.549825</td>\n",
       "      <td>0.005472</td>\n",
       "      <td>8</td>\n",
       "      <td>0.573426</td>\n",
       "      <td>0.579446</td>\n",
       "      <td>0.577001</td>\n",
       "      <td>0.574905</td>\n",
       "      <td>0.577197</td>\n",
       "      <td>0.576395</td>\n",
       "      <td>0.002066</td>\n",
       "    </tr>\n",
       "    <tr>\n",
       "      <th>8</th>\n",
       "      <td>0.286151</td>\n",
       "      <td>0.001361</td>\n",
       "      <td>0.029875</td>\n",
       "      <td>0.000533</td>\n",
       "      <td>5</td>\n",
       "      <td>{'alpha': 5}</td>\n",
       "      <td>0.555204</td>\n",
       "      <td>0.532897</td>\n",
       "      <td>0.551072</td>\n",
       "      <td>0.544688</td>\n",
       "      <td>...</td>\n",
       "      <td>0.545550</td>\n",
       "      <td>0.007581</td>\n",
       "      <td>9</td>\n",
       "      <td>0.560214</td>\n",
       "      <td>0.566849</td>\n",
       "      <td>0.562628</td>\n",
       "      <td>0.562414</td>\n",
       "      <td>0.563491</td>\n",
       "      <td>0.563119</td>\n",
       "      <td>0.002156</td>\n",
       "    </tr>\n",
       "    <tr>\n",
       "      <th>9</th>\n",
       "      <td>0.285371</td>\n",
       "      <td>0.002091</td>\n",
       "      <td>0.029600</td>\n",
       "      <td>0.000106</td>\n",
       "      <td>10</td>\n",
       "      <td>{'alpha': 10}</td>\n",
       "      <td>0.553236</td>\n",
       "      <td>0.528503</td>\n",
       "      <td>0.549810</td>\n",
       "      <td>0.539914</td>\n",
       "      <td>...</td>\n",
       "      <td>0.542602</td>\n",
       "      <td>0.008628</td>\n",
       "      <td>10</td>\n",
       "      <td>0.552516</td>\n",
       "      <td>0.559946</td>\n",
       "      <td>0.554708</td>\n",
       "      <td>0.555632</td>\n",
       "      <td>0.556257</td>\n",
       "      <td>0.555812</td>\n",
       "      <td>0.002425</td>\n",
       "    </tr>\n",
       "  </tbody>\n",
       "</table>\n",
       "<p>10 rows × 21 columns</p>\n",
       "</div>"
      ],
      "text/plain": [
       "   mean_fit_time  std_fit_time  mean_score_time  std_score_time param_alpha  \\\n",
       "0       0.272804      0.027634         0.029280        0.000517       1e-05   \n",
       "1       0.284320      0.000849         0.030541        0.002259      0.0001   \n",
       "2       0.284996      0.002153         0.029717        0.000434       0.001   \n",
       "3       0.285341      0.000875         0.029517        0.000095        0.01   \n",
       "4       0.286524      0.002638         0.029637        0.000630         0.1   \n",
       "5       0.283218      0.003363         0.029449        0.000141           1   \n",
       "6       0.286075      0.001417         0.029739        0.000316         1.5   \n",
       "7       0.286536      0.002673         0.029653        0.001024           2   \n",
       "8       0.286151      0.001361         0.029875        0.000533           5   \n",
       "9       0.285371      0.002091         0.029600        0.000106          10   \n",
       "\n",
       "              params  split0_test_score  split1_test_score  split2_test_score  \\\n",
       "0   {'alpha': 1e-05}           0.568913           0.573173           0.548244   \n",
       "1  {'alpha': 0.0001}           0.566696           0.573478           0.544625   \n",
       "2   {'alpha': 0.001}           0.563977           0.574127           0.540851   \n",
       "3    {'alpha': 0.01}           0.560748           0.572576           0.535140   \n",
       "4     {'alpha': 0.1}           0.557603           0.568020           0.530849   \n",
       "5       {'alpha': 1}           0.560859           0.550154           0.548006   \n",
       "6     {'alpha': 1.5}           0.559839           0.545135           0.549347   \n",
       "7       {'alpha': 2}           0.558832           0.541654           0.549707   \n",
       "8       {'alpha': 5}           0.555204           0.532897           0.551072   \n",
       "9      {'alpha': 10}           0.553236           0.528503           0.549810   \n",
       "\n",
       "   split3_test_score  ...  mean_test_score  std_test_score  rank_test_score  \\\n",
       "0           0.586756  ...         0.567068        0.013118                1   \n",
       "1           0.584165  ...         0.565213        0.013560                2   \n",
       "2           0.580930  ...         0.562964        0.014156                3   \n",
       "3           0.576164  ...         0.559249        0.014869                4   \n",
       "4           0.571358  ...         0.555278        0.014617                5   \n",
       "5           0.556253  ...         0.553770        0.004534                6   \n",
       "6           0.552618  ...         0.551535        0.004829                7   \n",
       "7           0.550336  ...         0.549825        0.005472                8   \n",
       "8           0.544688  ...         0.545550        0.007581                9   \n",
       "9           0.539914  ...         0.542602        0.008628               10   \n",
       "\n",
       "   split0_train_score  split1_train_score  split2_train_score  \\\n",
       "0            0.745434            0.742779            0.741979   \n",
       "1            0.734103            0.730961            0.731012   \n",
       "2            0.720399            0.716642            0.717836   \n",
       "3            0.695747            0.691358            0.694370   \n",
       "4            0.648993            0.646242            0.650849   \n",
       "5            0.588250            0.593464            0.592688   \n",
       "6            0.579028            0.584811            0.582889   \n",
       "7            0.573426            0.579446            0.577001   \n",
       "8            0.560214            0.566849            0.562628   \n",
       "9            0.552516            0.559946            0.554708   \n",
       "\n",
       "   split3_train_score  split4_train_score  mean_train_score  std_train_score  \n",
       "0            0.733473            0.740562          0.740846         0.004013  \n",
       "1            0.722315            0.729198          0.729518         0.003932  \n",
       "2            0.708882            0.715605          0.715873         0.003844  \n",
       "3            0.685031            0.691876          0.691676         0.003691  \n",
       "4            0.641304            0.649218          0.647321         0.003353  \n",
       "5            0.589051            0.592295          0.591149         0.002090  \n",
       "6            0.580335            0.582852          0.581983         0.002051  \n",
       "7            0.574905            0.577197          0.576395         0.002066  \n",
       "8            0.562414            0.563491          0.563119         0.002156  \n",
       "9            0.555632            0.556257          0.555812         0.002425  \n",
       "\n",
       "[10 rows x 21 columns]"
      ]
     },
     "execution_count": 31,
     "metadata": {},
     "output_type": "execute_result"
    }
   ],
   "source": [
    "results.head(10)"
   ]
  },
  {
   "cell_type": "code",
   "execution_count": 32,
   "metadata": {
    "ExecuteTime": {
     "end_time": "2020-04-17T21:21:09.351480Z",
     "start_time": "2020-04-17T21:21:09.111608Z"
    }
   },
   "outputs": [
    {
     "data": {
      "image/png": "[encoded data removed]",
      "text/plain": [
       "<Figure size 720x720 with 1 Axes>"
      ]
     },
     "metadata": {
      "needs_background": "light"
     },
     "output_type": "display_data"
    }
   ],
   "source": [
    "fig , ax = plt.subplots(1,1,figsize=(10,10))\n",
    "ax.plot(results['param_alpha'],results['mean_train_score'],label='Train Score')\n",
    "ax.scatter(results['param_alpha'],results['mean_train_score'],label='Train Score')\n",
    "ax.plot(results['param_alpha'],results['mean_test_score'],label='Test Score')\n",
    "ax.scatter(results['param_alpha'],results['mean_test_score'],label='Test Score')\n",
    "ax.set_ylabel('Auc Score')\n",
    "ax.set_xlabel('Laplace Smoothening')\n",
    "ax.legend()\n",
    "ax.grid()\n",
    "# ax.set_xticks(map(str,results['param_alpha']))\n",
    "ax.set_title('Auc Score for Train and Test')\n",
    "plt.show()"
   ]
  },
  {
   "cell_type": "code",
   "execution_count": 33,
   "metadata": {
    "ExecuteTime": {
     "end_time": "2020-04-17T21:21:09.366491Z",
     "start_time": "2020-04-17T21:21:09.353241Z"
    }
   },
   "outputs": [
    {
     "name": "stdout",
     "output_type": "stream",
     "text": [
      "Alpha ==> Train Score ==> Test Score ==> Distance\n",
      "1e-05 ==> 0.7408455554517868 ==> 0.5670684282395282 ==> 0.17377712721225858\n",
      "0.0001 ==> 0.7295180089059844 ==> 0.5652133646125647 ==> 0.16430464429341973\n",
      "0.001 ==> 0.7158729762011675 ==> 0.5629635649262862 ==> 0.15290941127488133\n",
      "0.01 ==> 0.6916763903486189 ==> 0.5592494390415849 ==> 0.13242695130703408\n",
      "0.1 ==> 0.6473211952312009 ==> 0.5552784279385407 ==> 0.09204276729266025\n",
      "1 ==> 0.5911494901740283 ==> 0.5537698642124945 ==> 0.03737962596153377\n",
      "1.5 ==> 0.581983060278036 ==> 0.5515345129490856 ==> 0.030448547328950415\n",
      "2 ==> 0.5763949502380905 ==> 0.5498249765547828 ==> 0.026569973683307713\n",
      "5 ==> 0.5631191437442122 ==> 0.5455496925614849 ==> 0.017569451182727347\n",
      "10 ==> 0.5558118624160775 ==> 0.5426020383370872 ==> 0.013209824078990295\n",
      "15 ==> 0.5518156172339527 ==> 0.5408571719712189 ==> 0.010958445262733818\n",
      "20 ==> 0.5492955606904728 ==> 0.5395601450553227 ==> 0.009735415635150124\n",
      "40 ==> 0.5438377409725602 ==> 0.5363293655616383 ==> 0.007508375410921864\n",
      "80 ==> 0.5403817658199779 ==> 0.5350024965413577 ==> 0.005379269278620202\n",
      "100 ==> 0.5397025800702279 ==> 0.5347677216708301 ==> 0.004934858399397779\n",
      "120 ==> 0.5392710725985141 ==> 0.5346985893243723 ==> 0.004572483274141836\n"
     ]
    }
   ],
   "source": [
    "print('Alpha','Train Score','Test Score','Distance',sep=' ==> ')\n",
    "for ind, row in results.iterrows():\n",
    "    print(row.param_alpha,row.mean_train_score,row.mean_test_score,row.mean_train_score-row.mean_test_score,sep=' ==> ')"
   ]
  },
  {
   "cell_type": "code",
   "execution_count": 34,
   "metadata": {
    "ExecuteTime": {
     "end_time": "2020-04-17T21:21:09.370130Z",
     "start_time": "2020-04-17T21:21:09.367861Z"
    }
   },
   "outputs": [],
   "source": [
    "alpha = 0.001"
   ]
  },
  {
   "cell_type": "code",
   "execution_count": 35,
   "metadata": {
    "ExecuteTime": {
     "end_time": "2020-04-17T21:21:09.924347Z",
     "start_time": "2020-04-17T21:21:09.371541Z"
    }
   },
   "outputs": [
    {
     "data": {
      "text/plain": [
       "MultinomialNB(alpha=0.001, class_prior=None, fit_prior=True)"
      ]
     },
     "execution_count": 35,
     "metadata": {},
     "output_type": "execute_result"
    }
   ],
   "source": [
    "mnb = MultinomialNB(alpha=alpha)\n",
    "mnb.fit(x_tr.toarray(),y_train)"
   ]
  },
  {
   "cell_type": "code",
   "execution_count": 36,
   "metadata": {
    "ExecuteTime": {
     "end_time": "2020-04-17T21:21:10.751295Z",
     "start_time": "2020-04-17T21:21:09.926815Z"
    }
   },
   "outputs": [],
   "source": [
    "y_te_predict = mnb.predict(x_te.toarray())\n",
    "y_tr_predict = mnb.predict(x_tr.toarray())"
   ]
  },
  {
   "cell_type": "code",
   "execution_count": 37,
   "metadata": {
    "ExecuteTime": {
     "end_time": "2020-04-17T21:21:10.765766Z",
     "start_time": "2020-04-17T21:21:10.753913Z"
    }
   },
   "outputs": [
    {
     "name": "stdout",
     "output_type": "stream",
     "text": [
      "0.5014097744360902\n",
      "0.5\n"
     ]
    }
   ],
   "source": [
    "print(roc_auc_score(y_train,y_tr_predict))\n",
    "print(roc_auc_score(y_test,y_te_predict))"
   ]
  },
  {
   "cell_type": "code",
   "execution_count": 38,
   "metadata": {
    "ExecuteTime": {
     "end_time": "2020-04-17T21:21:10.775547Z",
     "start_time": "2020-04-17T21:21:10.768704Z"
    }
   },
   "outputs": [],
   "source": [
    "train_fpr , train_tpr , tr_thresholds = roc_curve(y_train,y_tr_predict)\n",
    "test_fpr , test_tpr , te_threshokds = roc_curve(y_test,y_te_predict)"
   ]
  },
  {
   "cell_type": "code",
   "execution_count": 39,
   "metadata": {
    "ExecuteTime": {
     "end_time": "2020-04-17T21:21:10.930925Z",
     "start_time": "2020-04-17T21:21:10.778201Z"
    }
   },
   "outputs": [
    {
     "data": {
      "image/png": "[encoded data removed]",
      "text/plain": [
       "<Figure size 432x288 with 1 Axes>"
      ]
     },
     "metadata": {
      "needs_background": "light"
     },
     "output_type": "display_data"
    }
   ],
   "source": [
    "plt.plot(train_fpr,train_tpr, label='Train AUC'+str(auc(train_fpr, train_tpr)))\n",
    "plt.plot(test_fpr,test_tpr, label='Test AUC'+str(auc(test_fpr, test_tpr)))\n",
    "plt.legend()\n",
    "plt.xlabel(\"Alpha: hyperparameter\")\n",
    "plt.ylabel(\"AUC\")\n",
    "plt.title(\"ROC PLOTS\")\n",
    "plt.grid()\n",
    "plt.show()"
   ]
  },
  {
   "cell_type": "code",
   "execution_count": 40,
   "metadata": {
    "ExecuteTime": {
     "end_time": "2020-04-17T21:21:10.943414Z",
     "start_time": "2020-04-17T21:21:10.932809Z"
    }
   },
   "outputs": [],
   "source": [
    "te_conf = confusion_matrix(y_test,y_te_predict)\n",
    "tr_conf = confusion_matrix(y_train,y_tr_predict)"
   ]
  },
  {
   "cell_type": "code",
   "execution_count": 41,
   "metadata": {
    "ExecuteTime": {
     "end_time": "2020-04-17T21:21:10.947797Z",
     "start_time": "2020-04-17T21:21:10.944725Z"
    }
   },
   "outputs": [
    {
     "data": {
      "text/plain": [
       "array([[   0,  456],\n",
       "       [   0, 2544]])"
      ]
     },
     "execution_count": 41,
     "metadata": {},
     "output_type": "execute_result"
    }
   ],
   "source": [
    "te_conf"
   ]
  },
  {
   "cell_type": "code",
   "execution_count": 42,
   "metadata": {
    "ExecuteTime": {
     "end_time": "2020-04-17T21:21:10.952474Z",
     "start_time": "2020-04-17T21:21:10.948958Z"
    }
   },
   "outputs": [
    {
     "data": {
      "text/plain": [
       "array([[   3, 1061],\n",
       "       [   0, 5936]])"
      ]
     },
     "execution_count": 42,
     "metadata": {},
     "output_type": "execute_result"
    }
   ],
   "source": [
    "tr_conf"
   ]
  },
  {
   "cell_type": "code",
   "execution_count": null,
   "metadata": {},
   "outputs": [],
   "source": []
  }
 ],
 "metadata": {
  "colab": {
   "collapsed_sections": [],
   "name": "6_Assignment_NB_Instructions.ipynb",
   "provenance": [],
   "version": "0.3.2"
  },
  "kernelspec": {
   "display_name": "Python 3",
   "language": "python",
   "name": "python3"
  },
  "language_info": {
   "codemirror_mode": {
    "name": "ipython",
    "version": 3
   },
   "file_extension": ".py",
   "mimetype": "text/x-python",
   "name": "python",
   "nbconvert_exporter": "python",
   "pygments_lexer": "ipython3",
   "version": "3.6.8"
  },
  "latex_envs": {
   "LaTeX_envs_menu_present": true,
   "autoclose": false,
   "autocomplete": true,
   "bibliofile": "biblio.bib",
   "cite_by": "apalike",
   "current_citInitial": 1,
   "eqLabelWithNumbers": true,
   "eqNumInitial": 1,
   "hotkeys": {
    "equation": "Ctrl-E",
    "itemize": "Ctrl-I"
   },
   "labels_anchors": false,
   "latex_user_defs": false,
   "report_style_numbering": false,
   "user_envs_cfg": false
  },
  "notify_time": "5",
  "toc": {
   "base_numbering": 1,
   "nav_menu": {},
   "number_sections": true,
   "sideBar": true,
   "skip_h1_title": false,
   "title_cell": "Table of Contents",
   "title_sidebar": "Contents",
   "toc_cell": false,
   "toc_position": {},
   "toc_section_display": true,
   "toc_window_display": true
  },
  "varInspector": {
   "cols": {
    "lenName": 16,
    "lenType": 16,
    "lenVar": 40
   },
   "kernels_config": {
    "python": {
     "delete_cmd_postfix": "",
     "delete_cmd_prefix": "del ",
     "library": "var_list.py",
     "varRefreshCmd": "print(var_dic_list())"
    },
    "r": {
     "delete_cmd_postfix": ") ",
     "delete_cmd_prefix": "rm(",
     "library": "var_list.r",
     "varRefreshCmd": "cat(var_dic_list()) "
    }
   },
   "types_to_exclude": [
    "module",
    "function",
    "builtin_function_or_method",
    "instance",
    "_Feature"
   ],
   "window_display": false
  },
  "widgets": {
   "application/vnd.jupyter.widget-state+json": {
    "state": {},
    "version_major": 2,
    "version_minor": 0
   }
  }
 },
 "nbformat": 4,
 "nbformat_minor": 1
}
