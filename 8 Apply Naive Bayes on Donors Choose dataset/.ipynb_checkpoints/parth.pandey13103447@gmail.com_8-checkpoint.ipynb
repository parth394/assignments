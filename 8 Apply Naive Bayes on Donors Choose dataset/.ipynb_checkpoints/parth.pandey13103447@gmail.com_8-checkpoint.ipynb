{
 "cells": [
  {
   "cell_type": "markdown",
   "metadata": {
    "colab_type": "text",
    "id": "m8q_2i-60wdS"
   },
   "source": [
    "# Assignment 6: Apply NB"
   ]
  },
  {
   "cell_type": "markdown",
   "metadata": {
    "colab_type": "text",
    "id": "1uzyVpZG1AbL"
   },
   "source": [
    "## **Imports**"
   ]
  },
  {
   "cell_type": "code",
   "execution_count": 1,
   "metadata": {
    "colab": {
     "base_uri": "https://localhost:8080/",
     "height": 72
    },
    "colab_type": "code",
    "id": "anUGwtzDchPW",
    "outputId": "ede9dc0f-7040-41af-a6ea-e021c04b20db"
   },
   "outputs": [
    {
     "name": "stderr",
     "output_type": "stream",
     "text": [
      "/usr/local/lib/python3.6/dist-packages/statsmodels/tools/_testing.py:19: FutureWarning: pandas.util.testing is deprecated. Use the functions in the public API at pandas.testing instead.\n",
      "  import pandas.util.testing as tm\n"
     ]
    }
   ],
   "source": [
    "import os\n",
    "import pandas as pd\n",
    "from sklearn.model_selection import train_test_split\n",
    "from sklearn.feature_extraction.text import CountVectorizer\n",
    "from sklearn.preprocessing import Normalizer,StandardScaler\n",
    "from sklearn.naive_bayes import MultinomialNB\n",
    "from sklearn.metrics import roc_curve , auc, confusion_matrix, roc_auc_score\n",
    "from scipy.sparse import hstack\n",
    "from sklearn.model_selection import GridSearchCV\n",
    "from sklearn.feature_extraction.text import TfidfVectorizer\n",
    "import numpy as np\n",
    "from tqdm import tqdm\n",
    "\n",
    "import matplotlib.pyplot as plt\n",
    "import seaborn as sns\n",
    "import gc\n",
    "%matplotlib inline"
   ]
  },
  {
   "cell_type": "markdown",
   "metadata": {
    "colab_type": "text",
    "id": "trVgoWMc7mEv"
   },
   "source": [
    "## Reading Data "
   ]
  },
  {
   "cell_type": "code",
   "execution_count": 2,
   "metadata": {
    "colab": {
     "base_uri": "https://localhost:8080/",
     "height": 34
    },
    "colab_type": "code",
    "id": "xRZc0FbGeVOE",
    "outputId": "bc92e563-2402-4fde-b774-36ef25bee9b4"
   },
   "outputs": [
    {
     "data": {
      "text/plain": [
       "['preprocessed_data.csv']"
      ]
     },
     "execution_count": 2,
     "metadata": {
      "tags": []
     },
     "output_type": "execute_result"
    }
   ],
   "source": [
    "os.listdir('drive/My Drive/Colab Notebooks/AppliedAI/datasets/assignment_8/')"
   ]
  },
  {
   "cell_type": "code",
   "execution_count": 3,
   "metadata": {
    "colab": {
     "base_uri": "https://localhost:8080/",
     "height": 86
    },
    "colab_type": "code",
    "id": "F9bYa5d5clXR",
    "outputId": "853476b9-3468-4219-8a39-6bbc4f17b845"
   },
   "outputs": [
    {
     "name": "stdout",
     "output_type": "stream",
     "text": [
      "Index(['school_state', 'teacher_prefix', 'project_grade_category',\n",
      "       'teacher_number_of_previously_posted_projects', 'project_is_approved',\n",
      "       'clean_categories', 'clean_subcategories', 'essay', 'price'],\n",
      "      dtype='object')\n"
     ]
    }
   ],
   "source": [
    "df = pd.read_csv('drive/My Drive/Colab Notebooks/AppliedAI/datasets/assignment_8/preprocessed_data.csv')\n",
    "print(df.columns)"
   ]
  },
  {
   "cell_type": "markdown",
   "metadata": {
    "colab_type": "text",
    "id": "4mObLsnF7vN3"
   },
   "source": [
    "## Splitting data into Train and cross validation(or test): Stratified Sampling"
   ]
  },
  {
   "cell_type": "code",
   "execution_count": 0,
   "metadata": {
    "colab": {},
    "colab_type": "code",
    "id": "j-SrBDDch2kI"
   },
   "outputs": [],
   "source": [
    "label = df['project_is_approved'].values\n",
    "df.drop('project_is_approved',axis=1,inplace=True)\n",
    "x_train, x_test, y_train, y_test = train_test_split(df,label,test_size=0.3,stratify=label)"
   ]
  },
  {
   "cell_type": "markdown",
   "metadata": {
    "colab_type": "text",
    "id": "333OxhMX8gbC"
   },
   "source": [
    "## Define Reusable Functions to be Used for Encoding Categorical and Numerical Features"
   ]
  },
  {
   "cell_type": "code",
   "execution_count": 0,
   "metadata": {
    "colab": {},
    "colab_type": "code",
    "id": "FoSKI_VYo5u0"
   },
   "outputs": [],
   "source": [
    "# Defining reusable function\n",
    "\n",
    "def encoder_for_cat_columns(col,train,test):\n",
    "    if col == 'essay':\n",
    "        cnt_vec = CountVectorizer(ngram_range=(1,5),min_df=10,max_features=5000,binary=True)\n",
    "    else:\n",
    "        cnt_vec = CountVectorizer()\n",
    "    \n",
    "    cnt_vec.fit(train[col].values)\n",
    "    return cnt_vec.transform(train[col].values), cnt_vec.transform(test[col].values) , cnt_vec\n",
    "\n",
    "def encoder_for_num_columns(col, train, test):\n",
    "    normal = Normalizer()\n",
    "    normal.fit(train[col].values.reshape(-1,1))\n",
    "    return normal.transform(train[col].values.reshape(-1,1)) , normal.transform(test[col].values.reshape(-1,1))\n",
    "\n",
    "def tf_encoder_for_cat_columns(col,train,test):\n",
    "    if col == 'essay':\n",
    "        vec = TfidfVectorizer(ngram_range=(1,5),min_df=10,norm='l1',max_features=5000)\n",
    "    else:\n",
    "        vec = CountVectorizer()\n",
    "    \n",
    "    vec.fit(train[col].values)\n",
    "    return vec.transform(train[col].values), vec.transform(test[col].values) , vec"
   ]
  },
  {
   "cell_type": "markdown",
   "metadata": {
    "colab_type": "text",
    "id": "MuFsxVHufqrc"
   },
   "source": [
    "## SET - 1"
   ]
  },
  {
   "cell_type": "markdown",
   "metadata": {
    "colab_type": "text",
    "id": "FhSddMxCtPTP"
   },
   "source": [
    "#### Convert Data"
   ]
  },
  {
   "cell_type": "code",
   "execution_count": 6,
   "metadata": {
    "colab": {
     "base_uri": "https://localhost:8080/",
     "height": 104
    },
    "colab_type": "code",
    "id": "SGMRmfXepxLw",
    "outputId": "8cd905f1-ddec-46be-b273-0b00072abe5f"
   },
   "outputs": [
    {
     "name": "stderr",
     "output_type": "stream",
     "text": [
      "\r",
      "  0%|          | 0/8 [00:00<?, ?it/s]"
     ]
    },
    {
     "name": "stdout",
     "output_type": "stream",
     "text": [
      "Storing all the bow transformations in single dictionary\n"
     ]
    },
    {
     "name": "stderr",
     "output_type": "stream",
     "text": [
      "100%|██████████| 8/8 [05:32<00:00, 41.62s/it]\n",
      "100%|██████████| 2/2 [00:00<00:00, 4286.46it/s]\n"
     ]
    },
    {
     "name": "stdout",
     "output_type": "stream",
     "text": [
      "Creating seperate key val pairs for hstacking\n"
     ]
    },
    {
     "data": {
      "text/plain": [
       "0"
      ]
     },
     "execution_count": 6,
     "metadata": {
      "tags": []
     },
     "output_type": "execute_result"
    }
   ],
   "source": [
    "print('Storing all the bow transformations in single dictionary')\n",
    "temp = {}\n",
    "for ele in tqdm(df.columns):\n",
    "    if type(df[ele][0] ) == str:\n",
    "        temp_train , temp_test, temp_vec  = encoder_for_cat_columns(ele,x_train,x_test)\n",
    "        temp['x_train_{}_bow'.format(ele)] = temp_train\n",
    "        del temp_train\n",
    "        temp['x_test_{}_bow'.format(ele)]  = temp_test\n",
    "        del temp_test\n",
    "        temp['{}_vectorizer'.format(ele)] = temp_vec\n",
    "        del temp_vec\n",
    "    else:\n",
    "        temp_train , temp_test = encoder_for_num_columns(ele, x_train, x_test)\n",
    "        temp['x_train_{}_norm '.format(ele)] = temp_train\n",
    "        del temp_train\n",
    "        temp['x_test_{}_norm'.format(ele)]  = temp_test\n",
    "        del temp_test\n",
    "\n",
    "print('Creating seperate key val pairs for hstacking')\n",
    "hstack_temp = {}\n",
    "for ele in tqdm(['train','test']):\n",
    "    hstack_temp[ele] = []\n",
    "    for key in temp.keys():\n",
    "        if key.find(ele) >=0:\n",
    "            hstack_temp[ele].append(temp[key])\n",
    "\n",
    "x_tr = hstack(hstack_temp['train']).tocsr()\n",
    "x_te = hstack(hstack_temp['test']).tocsr()\n",
    "del hstack_temp\n",
    "vec = temp['essay_vectorizer']\n",
    "del temp\n",
    "gc.collect()"
   ]
  },
  {
   "cell_type": "code",
   "execution_count": 7,
   "metadata": {
    "colab": {
     "base_uri": "https://localhost:8080/",
     "height": 52
    },
    "colab_type": "code",
    "id": "-iEtAzUxvsBJ",
    "outputId": "6b3cc290-2b0d-46be-d820-a09c9825dd0c"
   },
   "outputs": [
    {
     "name": "stdout",
     "output_type": "stream",
     "text": [
      "(76473, 5101)\n",
      "(32775, 5101)\n"
     ]
    }
   ],
   "source": [
    "# Checking shapes\n",
    "print(x_tr.shape)\n",
    "print(x_te.shape)"
   ]
  },
  {
   "cell_type": "markdown",
   "metadata": {
    "colab_type": "text",
    "id": "BKnnJj2v0RBN"
   },
   "source": [
    "#### Model Training With Hyper Parameter Tuning"
   ]
  },
  {
   "cell_type": "code",
   "execution_count": 0,
   "metadata": {
    "colab": {},
    "colab_type": "code",
    "id": "voJ12X-M0xuz"
   },
   "outputs": [],
   "source": [
    "mnb = MultinomialNB()\n",
    "parameters = {'alpha':[10**-5,10**-4 ,10**-3,10**-2,10**-1,1,1.5,2,5,10,15,20,40,80,100,120,150,200]}\n",
    "clf = GridSearchCV(mnb,parameters,cv=5,scoring='roc_auc',return_train_score=True)\n",
    "clf.fit(x_tr.toarray(),y_train)\n",
    "results = pd.DataFrame(clf.cv_results_)\n",
    "results.sort_values('param_alpha',inplace=True)"
   ]
  },
  {
   "cell_type": "code",
   "execution_count": 9,
   "metadata": {
    "colab": {
     "base_uri": "https://localhost:8080/",
     "height": 313
    },
    "colab_type": "code",
    "id": "LISEhkQo05Xd",
    "outputId": "e410c2ec-f545-479b-a17a-34af8afad690"
   },
   "outputs": [
    {
     "data": {
      "text/html": [
       "<div>\n",
       "<style scoped>\n",
       "    .dataframe tbody tr th:only-of-type {\n",
       "        vertical-align: middle;\n",
       "    }\n",
       "\n",
       "    .dataframe tbody tr th {\n",
       "        vertical-align: top;\n",
       "    }\n",
       "\n",
       "    .dataframe thead th {\n",
       "        text-align: right;\n",
       "    }\n",
       "</style>\n",
       "<table border=\"1\" class=\"dataframe\">\n",
       "  <thead>\n",
       "    <tr style=\"text-align: right;\">\n",
       "      <th></th>\n",
       "      <th>mean_fit_time</th>\n",
       "      <th>std_fit_time</th>\n",
       "      <th>mean_score_time</th>\n",
       "      <th>std_score_time</th>\n",
       "      <th>param_alpha</th>\n",
       "      <th>params</th>\n",
       "      <th>split0_test_score</th>\n",
       "      <th>split1_test_score</th>\n",
       "      <th>split2_test_score</th>\n",
       "      <th>split3_test_score</th>\n",
       "      <th>split4_test_score</th>\n",
       "      <th>mean_test_score</th>\n",
       "      <th>std_test_score</th>\n",
       "      <th>rank_test_score</th>\n",
       "      <th>split0_train_score</th>\n",
       "      <th>split1_train_score</th>\n",
       "      <th>split2_train_score</th>\n",
       "      <th>split3_train_score</th>\n",
       "      <th>split4_train_score</th>\n",
       "      <th>mean_train_score</th>\n",
       "      <th>std_train_score</th>\n",
       "    </tr>\n",
       "  </thead>\n",
       "  <tbody>\n",
       "    <tr>\n",
       "      <th>0</th>\n",
       "      <td>1.761435</td>\n",
       "      <td>0.058277</td>\n",
       "      <td>0.143979</td>\n",
       "      <td>0.002222</td>\n",
       "      <td>1e-05</td>\n",
       "      <td>{'alpha': 1e-05}</td>\n",
       "      <td>0.685075</td>\n",
       "      <td>0.679430</td>\n",
       "      <td>0.672888</td>\n",
       "      <td>0.673591</td>\n",
       "      <td>0.680200</td>\n",
       "      <td>0.678237</td>\n",
       "      <td>0.004522</td>\n",
       "      <td>1</td>\n",
       "      <td>0.713902</td>\n",
       "      <td>0.711798</td>\n",
       "      <td>0.712890</td>\n",
       "      <td>0.714387</td>\n",
       "      <td>0.713138</td>\n",
       "      <td>0.713223</td>\n",
       "      <td>0.000890</td>\n",
       "    </tr>\n",
       "    <tr>\n",
       "      <th>1</th>\n",
       "      <td>1.847528</td>\n",
       "      <td>0.219054</td>\n",
       "      <td>0.158256</td>\n",
       "      <td>0.030933</td>\n",
       "      <td>0.0001</td>\n",
       "      <td>{'alpha': 0.0001}</td>\n",
       "      <td>0.685075</td>\n",
       "      <td>0.679430</td>\n",
       "      <td>0.672888</td>\n",
       "      <td>0.673590</td>\n",
       "      <td>0.680200</td>\n",
       "      <td>0.678237</td>\n",
       "      <td>0.004522</td>\n",
       "      <td>2</td>\n",
       "      <td>0.713902</td>\n",
       "      <td>0.711798</td>\n",
       "      <td>0.712890</td>\n",
       "      <td>0.714386</td>\n",
       "      <td>0.713138</td>\n",
       "      <td>0.713223</td>\n",
       "      <td>0.000890</td>\n",
       "    </tr>\n",
       "    <tr>\n",
       "      <th>2</th>\n",
       "      <td>1.739930</td>\n",
       "      <td>0.004837</td>\n",
       "      <td>0.146726</td>\n",
       "      <td>0.004368</td>\n",
       "      <td>0.001</td>\n",
       "      <td>{'alpha': 0.001}</td>\n",
       "      <td>0.685075</td>\n",
       "      <td>0.679430</td>\n",
       "      <td>0.672888</td>\n",
       "      <td>0.673590</td>\n",
       "      <td>0.680200</td>\n",
       "      <td>0.678236</td>\n",
       "      <td>0.004522</td>\n",
       "      <td>3</td>\n",
       "      <td>0.713901</td>\n",
       "      <td>0.711798</td>\n",
       "      <td>0.712889</td>\n",
       "      <td>0.714386</td>\n",
       "      <td>0.713138</td>\n",
       "      <td>0.713222</td>\n",
       "      <td>0.000890</td>\n",
       "    </tr>\n",
       "    <tr>\n",
       "      <th>3</th>\n",
       "      <td>1.733608</td>\n",
       "      <td>0.008769</td>\n",
       "      <td>0.143414</td>\n",
       "      <td>0.001540</td>\n",
       "      <td>0.01</td>\n",
       "      <td>{'alpha': 0.01}</td>\n",
       "      <td>0.685072</td>\n",
       "      <td>0.679426</td>\n",
       "      <td>0.672886</td>\n",
       "      <td>0.673585</td>\n",
       "      <td>0.680195</td>\n",
       "      <td>0.678233</td>\n",
       "      <td>0.004522</td>\n",
       "      <td>4</td>\n",
       "      <td>0.713897</td>\n",
       "      <td>0.711794</td>\n",
       "      <td>0.712885</td>\n",
       "      <td>0.714381</td>\n",
       "      <td>0.713134</td>\n",
       "      <td>0.713218</td>\n",
       "      <td>0.000890</td>\n",
       "    </tr>\n",
       "    <tr>\n",
       "      <th>4</th>\n",
       "      <td>1.739172</td>\n",
       "      <td>0.021653</td>\n",
       "      <td>0.142678</td>\n",
       "      <td>0.000671</td>\n",
       "      <td>0.1</td>\n",
       "      <td>{'alpha': 0.1}</td>\n",
       "      <td>0.685041</td>\n",
       "      <td>0.679391</td>\n",
       "      <td>0.672861</td>\n",
       "      <td>0.673548</td>\n",
       "      <td>0.680158</td>\n",
       "      <td>0.678200</td>\n",
       "      <td>0.004521</td>\n",
       "      <td>5</td>\n",
       "      <td>0.713852</td>\n",
       "      <td>0.711756</td>\n",
       "      <td>0.712842</td>\n",
       "      <td>0.714337</td>\n",
       "      <td>0.713092</td>\n",
       "      <td>0.713176</td>\n",
       "      <td>0.000888</td>\n",
       "    </tr>\n",
       "  </tbody>\n",
       "</table>\n",
       "</div>"
      ],
      "text/plain": [
       "   mean_fit_time  std_fit_time  ...  mean_train_score  std_train_score\n",
       "0       1.761435      0.058277  ...          0.713223         0.000890\n",
       "1       1.847528      0.219054  ...          0.713223         0.000890\n",
       "2       1.739930      0.004837  ...          0.713222         0.000890\n",
       "3       1.733608      0.008769  ...          0.713218         0.000890\n",
       "4       1.739172      0.021653  ...          0.713176         0.000888\n",
       "\n",
       "[5 rows x 21 columns]"
      ]
     },
     "execution_count": 9,
     "metadata": {
      "tags": []
     },
     "output_type": "execute_result"
    }
   ],
   "source": [
    "results.head()"
   ]
  },
  {
   "cell_type": "markdown",
   "metadata": {
    "colab_type": "text",
    "id": "gWLP_IwlgOey"
   },
   "source": [
    "#### Plotting Tuning Reaults"
   ]
  },
  {
   "cell_type": "code",
   "execution_count": 10,
   "metadata": {
    "colab": {
     "base_uri": "https://localhost:8080/",
     "height": 621
    },
    "colab_type": "code",
    "id": "CICOJXFT09jW",
    "outputId": "cae3de49-ab77-4da0-b237-af80e12d872d"
   },
   "outputs": [
    {
     "data": {
      "image/png": "[encoded data removed]",
      "text/plain": [
       "<Figure size 720x720 with 1 Axes>"
      ]
     },
     "metadata": {
      "needs_background": "light",
      "tags": []
     },
     "output_type": "display_data"
    }
   ],
   "source": [
    "fig , ax = plt.subplots(1,1,figsize=(10,10))\n",
    "ax.plot(results['param_alpha'],results['mean_train_score'],label='Train Score')\n",
    "ax.scatter(results['param_alpha'],results['mean_train_score'],label='Train Score')\n",
    "ax.plot(results['param_alpha'],results['mean_test_score'],label='Test Score')\n",
    "ax.scatter(results['param_alpha'],results['mean_test_score'],label='Test Score')\n",
    "ax.set_ylabel('Auc Score')\n",
    "ax.set_xlabel('Laplace Smoothening')\n",
    "ax.legend()\n",
    "ax.grid()\n",
    "# ax.set_xticks(map(str,results['param_alpha']))\n",
    "ax.set_title('Auc Score for Train and Test')\n",
    "plt.show()"
   ]
  },
  {
   "cell_type": "code",
   "execution_count": 11,
   "metadata": {
    "colab": {
     "base_uri": "https://localhost:8080/",
     "height": 347
    },
    "colab_type": "code",
    "id": "fRvN1RKy0_XX",
    "outputId": "90cc72db-1176-48e8-dd10-e254f97dffd4"
   },
   "outputs": [
    {
     "name": "stdout",
     "output_type": "stream",
     "text": [
      "Alpha ==> Train Score ==> Test Score ==> Distance\n",
      "1e-05 ==> 0.7132229120620368 ==> 0.6782369339387515 ==> 0.0349859781232853\n",
      "0.0001 ==> 0.713222887940761 ==> 0.6782369272632837 ==> 0.03498596067747739\n",
      "0.001 ==> 0.7132223657977292 ==> 0.6782364614275054 ==> 0.034985904370223864\n",
      "0.01 ==> 0.7132182691175999 ==> 0.6782326884401079 ==> 0.03498558067749202\n",
      "0.1 ==> 0.7131758487699175 ==> 0.6781996566505855 ==> 0.034976192119332006\n",
      "1 ==> 0.7127366733274936 ==> 0.6778540419536683 ==> 0.0348826313738253\n",
      "1.5 ==> 0.712487861221214 ==> 0.6776599572974954 ==> 0.034827903923718595\n",
      "2 ==> 0.7122343180673263 ==> 0.6774647680335718 ==> 0.03476955003375448\n",
      "5 ==> 0.7106448725335511 ==> 0.6762204627400423 ==> 0.0344244097935088\n",
      "10 ==> 0.7077473890221173 ==> 0.6738878101389041 ==> 0.033859578883213226\n",
      "15 ==> 0.70460852086952 ==> 0.6713135407211824 ==> 0.03329498014833754\n",
      "20 ==> 0.7013015534166469 ==> 0.6685868164077398 ==> 0.03271473700890715\n",
      "40 ==> 0.6874583216194153 ==> 0.657184141377584 ==> 0.030274180241831372\n",
      "80 ==> 0.6625185707858328 ==> 0.6369588623857695 ==> 0.025559708400063275\n",
      "100 ==> 0.6524017929391002 ==> 0.628973320980373 ==> 0.023428471958727215\n",
      "120 ==> 0.6437302231905987 ==> 0.6222296887564285 ==> 0.021500534434170215\n",
      "150 ==> 0.6329585710503209 ==> 0.6139836056524934 ==> 0.018974965397827503\n",
      "200 ==> 0.619508402962532 ==> 0.6038242255547062 ==> 0.015684177407825795\n"
     ]
    }
   ],
   "source": [
    "print('Alpha','Train Score','Test Score','Distance',sep=' ==> ')\n",
    "for ind, row in results.iterrows():\n",
    "    print(row.param_alpha,row.mean_train_score,row.mean_test_score,row.mean_train_score-row.mean_test_score,sep=' ==> ')"
   ]
  },
  {
   "cell_type": "markdown",
   "metadata": {
    "colab_type": "text",
    "id": "hSVROxL2eWnY"
   },
   "source": [
    "#### Choose Best Alpha"
   ]
  },
  {
   "cell_type": "code",
   "execution_count": 0,
   "metadata": {
    "colab": {},
    "colab_type": "code",
    "id": "lcCrumxT1CSv"
   },
   "outputs": [],
   "source": [
    "# Taking the best alpha\n",
    "alpha = 0.01"
   ]
  },
  {
   "cell_type": "markdown",
   "metadata": {
    "colab_type": "text",
    "id": "YTE5mibzelZl"
   },
   "source": [
    "#### Retraining Final Model"
   ]
  },
  {
   "cell_type": "code",
   "execution_count": 0,
   "metadata": {
    "colab": {},
    "colab_type": "code",
    "id": "bikxnO4X1ERJ"
   },
   "outputs": [],
   "source": [
    "mnb = MultinomialNB(alpha=alpha)\n",
    "mnb.fit(x_tr.toarray(),y_train)\n",
    "y_te_predict = mnb.predict(x_te.toarray())\n",
    "y_tr_predict = mnb.predict(x_tr.toarray())"
   ]
  },
  {
   "cell_type": "markdown",
   "metadata": {
    "colab_type": "text",
    "id": "U4e2K5L3ewDj"
   },
   "source": [
    "#### Check Results"
   ]
  },
  {
   "cell_type": "code",
   "execution_count": 14,
   "metadata": {
    "colab": {
     "base_uri": "https://localhost:8080/",
     "height": 86
    },
    "colab_type": "code",
    "id": "FB1YYvB81FkH",
    "outputId": "848ab257-cb28-40d4-923f-d03eccd17e37"
   },
   "outputs": [
    {
     "name": "stdout",
     "output_type": "stream",
     "text": [
      "Train Data Results\n",
      "0.63995506215424\n",
      "Test Data Results\n",
      "0.6181881113682933\n"
     ]
    }
   ],
   "source": [
    "print(\"Train Data Results\")\n",
    "print(roc_auc_score(y_train,y_tr_predict))\n",
    "print(\"Test Data Results\")\n",
    "print(roc_auc_score(y_test,y_te_predict))"
   ]
  },
  {
   "cell_type": "markdown",
   "metadata": {
    "colab_type": "text",
    "id": "9hKm4lC0e6LL"
   },
   "source": [
    "#### Plotting ROC Curve"
   ]
  },
  {
   "cell_type": "code",
   "execution_count": 0,
   "metadata": {
    "colab": {},
    "colab_type": "code",
    "id": "D7If9HFI1HUk"
   },
   "outputs": [],
   "source": [
    "train_fpr , train_tpr , tr_thresholds = roc_curve(y_train,y_tr_predict)\n",
    "test_fpr , test_tpr , te_threshokds = roc_curve(y_test,y_te_predict)"
   ]
  },
  {
   "cell_type": "code",
   "execution_count": 16,
   "metadata": {
    "colab": {
     "base_uri": "https://localhost:8080/",
     "height": 295
    },
    "colab_type": "code",
    "id": "A_uAwTw41K2r",
    "outputId": "2f43dd96-29c0-4835-8ddc-00ffed4e59e3"
   },
   "outputs": [
    {
     "data": {
      "image/png": "[encoded data removed]",
      "text/plain": [
       "<Figure size 432x288 with 1 Axes>"
      ]
     },
     "metadata": {
      "needs_background": "light",
      "tags": []
     },
     "output_type": "display_data"
    }
   ],
   "source": [
    "plt.plot(train_fpr,train_tpr, label='Train AUC'+str(auc(train_fpr, train_tpr)))\n",
    "plt.plot(test_fpr,test_tpr, label='Test AUC'+str(auc(test_fpr, test_tpr)))\n",
    "plt.legend()\n",
    "plt.xlabel(\"Alpha: hyperparameter\")\n",
    "plt.ylabel(\"AUC\")\n",
    "plt.title(\"ROC PLOTS\")\n",
    "plt.grid()\n",
    "plt.show()"
   ]
  },
  {
   "cell_type": "markdown",
   "metadata": {
    "colab_type": "text",
    "id": "GY9GQCrqfEwV"
   },
   "source": [
    "#### Confusion Matrix"
   ]
  },
  {
   "cell_type": "code",
   "execution_count": 0,
   "metadata": {
    "colab": {},
    "colab_type": "code",
    "id": "G5dKbJQT1NEw"
   },
   "outputs": [],
   "source": [
    "te_conf = confusion_matrix(y_test,y_te_predict)\n",
    "tr_conf = confusion_matrix(y_train,y_tr_predict)"
   ]
  },
  {
   "cell_type": "code",
   "execution_count": 18,
   "metadata": {
    "colab": {
     "base_uri": "https://localhost:8080/",
     "height": 121
    },
    "colab_type": "code",
    "id": "iBWoLi6f1O6B",
    "outputId": "bf1c41f1-392c-4896-b012-1c4d058cc494"
   },
   "outputs": [
    {
     "name": "stdout",
     "output_type": "stream",
     "text": [
      "Train Data Confusion Matrix\n",
      "[[ 5495  6084]\n",
      " [12632 52262]]\n",
      "Test Data Confusion Matrix\n",
      "[[ 2196  2767]\n",
      " [ 5732 22080]]\n"
     ]
    }
   ],
   "source": [
    "print('Train Data Confusion Matrix')\n",
    "print(tr_conf)\n",
    "print('Test Data Confusion Matrix')\n",
    "print(te_conf)"
   ]
  },
  {
   "cell_type": "code",
   "execution_count": 19,
   "metadata": {
    "colab": {
     "base_uri": "https://localhost:8080/",
     "height": 69
    },
    "colab_type": "code",
    "id": "K9sloyYS1Qdw",
    "outputId": "bd97494f-66a1-4088-a583-b2bccc13b62c"
   },
   "outputs": [
    {
     "name": "stdout",
     "output_type": "stream",
     "text": [
      "Final Confusion Matrix\n",
      "[[ 2196  2767]\n",
      " [ 5732 22080]]\n"
     ]
    }
   ],
   "source": [
    "print('Final Confusion Matrix')\n",
    "print(te_conf)"
   ]
  },
  {
   "cell_type": "markdown",
   "metadata": {
    "colab_type": "text",
    "id": "NjFSv7B6iQET"
   },
   "source": [
    "#### Top 20 Feature Representation"
   ]
  },
  {
   "cell_type": "code",
   "execution_count": 20,
   "metadata": {
    "colab": {
     "base_uri": "https://localhost:8080/",
     "height": 816
    },
    "colab_type": "code",
    "id": "1TTmd88JdKiY",
    "outputId": "790203ee-6fb8-422b-f3c7-c60b522d21cf"
   },
   "outputs": [
    {
     "name": "stdout",
     "output_type": "stream",
     "text": [
      "\n",
      "Top 20 Features for class 0\n",
      "\n",
      "4th grade\n",
      "40\n",
      "4th 5th\n",
      "21st century learning\n",
      "this technology\n",
      "students constantly\n",
      "time day\n",
      "throughout school\n",
      "11\n",
      "throughout\n",
      "coding\n",
      "classroom focus potential growth\n",
      "cold\n",
      "day they\n",
      "help learn\n",
      "chairs allow\n",
      "2nd graders\n",
      "8th\n",
      "century skills\n",
      "classroom full\n",
      "\n",
      "Top 20 Features for class 1\n",
      "\n",
      "4th grade\n",
      "40\n",
      "4th 5th\n",
      "21st century learning\n",
      "8th\n",
      "21st century\n",
      "30 students\n",
      "21st century skills\n",
      "2nd graders\n",
      "000\n",
      "22\n",
      "11\n",
      "80 students\n",
      "100 students receive free\n",
      "20 students\n",
      "4th\n",
      "13\n",
      "thus\n",
      "this project help\n",
      "90 students\n"
     ]
    }
   ],
   "source": [
    "# print('Top 20 Features ')\n",
    "# https://stackoverflow.com/questions/29867367/sklearn-multinomial-nb-most-informative-features\n",
    "# Getting the feature names\n",
    "feature_names = vec.get_feature_names()\n",
    "print('\\nTop 20 Features for class 0\\n')\n",
    "for feature_index in mnb.feature_log_prob_[0].argsort()[:20]:\n",
    "    print(feature_names[feature_index],end='\\n')\n",
    "print('\\nTop 20 Features for class 1\\n')\n",
    "for feature_index in mnb.feature_log_prob_[1].argsort()[:20]:\n",
    "    print(feature_names[feature_index],end='\\n')"
   ]
  },
  {
   "cell_type": "markdown",
   "metadata": {
    "colab_type": "text",
    "id": "TNIe5Ztk70yw"
   },
   "source": [
    "## **SET - 2**"
   ]
  },
  {
   "cell_type": "markdown",
   "metadata": {
    "colab_type": "text",
    "id": "EYGorWbQ9Mh_"
   },
   "source": [
    "#### Convert Data"
   ]
  },
  {
   "cell_type": "code",
   "execution_count": 21,
   "metadata": {
    "colab": {
     "base_uri": "https://localhost:8080/",
     "height": 104
    },
    "colab_type": "code",
    "id": "upZ4_kHO8sEb",
    "outputId": "b312428d-8f05-4847-bcc8-496beb217731"
   },
   "outputs": [
    {
     "name": "stderr",
     "output_type": "stream",
     "text": [
      "\r",
      "  0%|          | 0/8 [00:00<?, ?it/s]"
     ]
    },
    {
     "name": "stdout",
     "output_type": "stream",
     "text": [
      "Storing all the bow transformations in single dictionary\n"
     ]
    },
    {
     "name": "stderr",
     "output_type": "stream",
     "text": [
      "100%|██████████| 8/8 [05:39<00:00, 42.41s/it] \n",
      "100%|██████████| 2/2 [00:00<00:00, 1794.74it/s]\n"
     ]
    },
    {
     "name": "stdout",
     "output_type": "stream",
     "text": [
      "Creating seperate key val pairs for hstacking\n"
     ]
    },
    {
     "data": {
      "text/plain": [
       "2808"
      ]
     },
     "execution_count": 21,
     "metadata": {
      "tags": []
     },
     "output_type": "execute_result"
    }
   ],
   "source": [
    "print('Storing all the bow transformations in single dictionary')\n",
    "temp = {}\n",
    "for ele in tqdm(df.columns):\n",
    "    if type(df[ele][0] ) == str:\n",
    "        temp_train , temp_test, temp_vec = tf_encoder_for_cat_columns(ele,x_train,x_test)\n",
    "        temp['x_train_{}_bow'.format(ele)] = temp_train\n",
    "        del temp_train\n",
    "        temp['x_test_{}_bow'.format(ele)]  = temp_test\n",
    "        del temp_test\n",
    "        temp['{}_vectorizer'.format(ele)] = temp_vec\n",
    "        del temp_vec\n",
    "    else:\n",
    "        temp_train , temp_test = encoder_for_num_columns(ele, x_train, x_test)\n",
    "        temp['x_train_{}_norm '.format(ele)] = temp_train\n",
    "        del temp_train\n",
    "        temp['x_test_{}_norm'.format(ele)]  = temp_test\n",
    "        del temp_test\n",
    "\n",
    "print('Creating seperate key val pairs for hstacking')\n",
    "hstack_temp = {}\n",
    "for ele in tqdm(['train','test']):\n",
    "    hstack_temp[ele] = []\n",
    "    for key in temp.keys():\n",
    "        if key.find(ele) >=0:\n",
    "            hstack_temp[ele].append(temp[key])\n",
    "\n",
    "x_tr = hstack(hstack_temp['train']).tocsr()\n",
    "x_te = hstack(hstack_temp['test']).tocsr()\n",
    "del hstack_temp\n",
    "vec = temp['essay_vectorizer']\n",
    "del temp\n",
    "gc.collect()"
   ]
  },
  {
   "cell_type": "code",
   "execution_count": 22,
   "metadata": {
    "colab": {
     "base_uri": "https://localhost:8080/",
     "height": 52
    },
    "colab_type": "code",
    "id": "S2eXlLWy9ZoK",
    "outputId": "52d5a1b4-08a6-4c9c-8755-e6c4bfb033ab"
   },
   "outputs": [
    {
     "name": "stdout",
     "output_type": "stream",
     "text": [
      "(76473, 5101)\n",
      "(32775, 5101)\n"
     ]
    }
   ],
   "source": [
    "# Checking shapes\n",
    "print(x_tr.shape)\n",
    "print(x_te.shape)"
   ]
  },
  {
   "cell_type": "markdown",
   "metadata": {
    "colab_type": "text",
    "id": "ATQJVtdu8WZ5"
   },
   "source": [
    "#### Model Training With Hyper Parameter Tuning"
   ]
  },
  {
   "cell_type": "code",
   "execution_count": 0,
   "metadata": {
    "colab": {},
    "colab_type": "code",
    "id": "jMBX28wl9QOX"
   },
   "outputs": [],
   "source": [
    "gnb = MultinomialNB()\n",
    "parameters = {'alpha':[10**-5,10**-4 ,10**-3,10**-2,10**-1,1,1.5,2,5,10,15,20,40,80,100,120,150,200]}\n",
    "clf = GridSearchCV(gnb,parameters,cv=5,scoring='roc_auc',return_train_score=True)\n",
    "clf.fit(x_tr.toarray(),y_train)\n",
    "results = pd.DataFrame(clf.cv_results_)\n",
    "results.sort_values('param_alpha',inplace=True)"
   ]
  },
  {
   "cell_type": "code",
   "execution_count": 24,
   "metadata": {
    "colab": {
     "base_uri": "https://localhost:8080/",
     "height": 557
    },
    "colab_type": "code",
    "id": "jKimZpL09hEq",
    "outputId": "352f201e-e593-4ab1-af26-66804f041b16"
   },
   "outputs": [
    {
     "data": {
      "text/html": [
       "<div>\n",
       "<style scoped>\n",
       "    .dataframe tbody tr th:only-of-type {\n",
       "        vertical-align: middle;\n",
       "    }\n",
       "\n",
       "    .dataframe tbody tr th {\n",
       "        vertical-align: top;\n",
       "    }\n",
       "\n",
       "    .dataframe thead th {\n",
       "        text-align: right;\n",
       "    }\n",
       "</style>\n",
       "<table border=\"1\" class=\"dataframe\">\n",
       "  <thead>\n",
       "    <tr style=\"text-align: right;\">\n",
       "      <th></th>\n",
       "      <th>mean_fit_time</th>\n",
       "      <th>std_fit_time</th>\n",
       "      <th>mean_score_time</th>\n",
       "      <th>std_score_time</th>\n",
       "      <th>param_alpha</th>\n",
       "      <th>params</th>\n",
       "      <th>split0_test_score</th>\n",
       "      <th>split1_test_score</th>\n",
       "      <th>split2_test_score</th>\n",
       "      <th>split3_test_score</th>\n",
       "      <th>split4_test_score</th>\n",
       "      <th>mean_test_score</th>\n",
       "      <th>std_test_score</th>\n",
       "      <th>rank_test_score</th>\n",
       "      <th>split0_train_score</th>\n",
       "      <th>split1_train_score</th>\n",
       "      <th>split2_train_score</th>\n",
       "      <th>split3_train_score</th>\n",
       "      <th>split4_train_score</th>\n",
       "      <th>mean_train_score</th>\n",
       "      <th>std_train_score</th>\n",
       "    </tr>\n",
       "  </thead>\n",
       "  <tbody>\n",
       "    <tr>\n",
       "      <th>0</th>\n",
       "      <td>1.901166</td>\n",
       "      <td>0.355068</td>\n",
       "      <td>0.147758</td>\n",
       "      <td>0.004015</td>\n",
       "      <td>1e-05</td>\n",
       "      <td>{'alpha': 1e-05}</td>\n",
       "      <td>0.597527</td>\n",
       "      <td>0.590698</td>\n",
       "      <td>0.575131</td>\n",
       "      <td>0.580895</td>\n",
       "      <td>0.592074</td>\n",
       "      <td>0.587265</td>\n",
       "      <td>0.008100</td>\n",
       "      <td>1</td>\n",
       "      <td>0.598589</td>\n",
       "      <td>0.600098</td>\n",
       "      <td>0.601899</td>\n",
       "      <td>0.599774</td>\n",
       "      <td>0.598945</td>\n",
       "      <td>0.599861</td>\n",
       "      <td>0.001155</td>\n",
       "    </tr>\n",
       "    <tr>\n",
       "      <th>1</th>\n",
       "      <td>1.721315</td>\n",
       "      <td>0.006975</td>\n",
       "      <td>0.145464</td>\n",
       "      <td>0.001447</td>\n",
       "      <td>0.0001</td>\n",
       "      <td>{'alpha': 0.0001}</td>\n",
       "      <td>0.597525</td>\n",
       "      <td>0.590696</td>\n",
       "      <td>0.575130</td>\n",
       "      <td>0.580893</td>\n",
       "      <td>0.592073</td>\n",
       "      <td>0.587263</td>\n",
       "      <td>0.008100</td>\n",
       "      <td>2</td>\n",
       "      <td>0.598587</td>\n",
       "      <td>0.600097</td>\n",
       "      <td>0.601897</td>\n",
       "      <td>0.599772</td>\n",
       "      <td>0.598944</td>\n",
       "      <td>0.599859</td>\n",
       "      <td>0.001155</td>\n",
       "    </tr>\n",
       "    <tr>\n",
       "      <th>2</th>\n",
       "      <td>1.749149</td>\n",
       "      <td>0.016357</td>\n",
       "      <td>0.148749</td>\n",
       "      <td>0.002965</td>\n",
       "      <td>0.001</td>\n",
       "      <td>{'alpha': 0.001}</td>\n",
       "      <td>0.597512</td>\n",
       "      <td>0.590681</td>\n",
       "      <td>0.575117</td>\n",
       "      <td>0.580882</td>\n",
       "      <td>0.592057</td>\n",
       "      <td>0.587250</td>\n",
       "      <td>0.008099</td>\n",
       "      <td>3</td>\n",
       "      <td>0.598568</td>\n",
       "      <td>0.600079</td>\n",
       "      <td>0.601880</td>\n",
       "      <td>0.599754</td>\n",
       "      <td>0.598926</td>\n",
       "      <td>0.599841</td>\n",
       "      <td>0.001156</td>\n",
       "    </tr>\n",
       "    <tr>\n",
       "      <th>3</th>\n",
       "      <td>1.721088</td>\n",
       "      <td>0.003928</td>\n",
       "      <td>0.144602</td>\n",
       "      <td>0.001246</td>\n",
       "      <td>0.01</td>\n",
       "      <td>{'alpha': 0.01}</td>\n",
       "      <td>0.597384</td>\n",
       "      <td>0.590542</td>\n",
       "      <td>0.574984</td>\n",
       "      <td>0.580767</td>\n",
       "      <td>0.591899</td>\n",
       "      <td>0.587115</td>\n",
       "      <td>0.008094</td>\n",
       "      <td>4</td>\n",
       "      <td>0.598382</td>\n",
       "      <td>0.599901</td>\n",
       "      <td>0.601712</td>\n",
       "      <td>0.599585</td>\n",
       "      <td>0.598748</td>\n",
       "      <td>0.599665</td>\n",
       "      <td>0.001161</td>\n",
       "    </tr>\n",
       "    <tr>\n",
       "      <th>4</th>\n",
       "      <td>1.713492</td>\n",
       "      <td>0.007842</td>\n",
       "      <td>0.146512</td>\n",
       "      <td>0.001786</td>\n",
       "      <td>0.1</td>\n",
       "      <td>{'alpha': 0.1}</td>\n",
       "      <td>0.596288</td>\n",
       "      <td>0.589375</td>\n",
       "      <td>0.573811</td>\n",
       "      <td>0.579785</td>\n",
       "      <td>0.590456</td>\n",
       "      <td>0.585943</td>\n",
       "      <td>0.008053</td>\n",
       "      <td>5</td>\n",
       "      <td>0.596749</td>\n",
       "      <td>0.598317</td>\n",
       "      <td>0.600231</td>\n",
       "      <td>0.598063</td>\n",
       "      <td>0.597195</td>\n",
       "      <td>0.598111</td>\n",
       "      <td>0.001203</td>\n",
       "    </tr>\n",
       "    <tr>\n",
       "      <th>5</th>\n",
       "      <td>1.729315</td>\n",
       "      <td>0.013923</td>\n",
       "      <td>0.146938</td>\n",
       "      <td>0.001873</td>\n",
       "      <td>1</td>\n",
       "      <td>{'alpha': 1}</td>\n",
       "      <td>0.590964</td>\n",
       "      <td>0.583584</td>\n",
       "      <td>0.567792</td>\n",
       "      <td>0.574579</td>\n",
       "      <td>0.583045</td>\n",
       "      <td>0.579993</td>\n",
       "      <td>0.008009</td>\n",
       "      <td>6</td>\n",
       "      <td>0.588417</td>\n",
       "      <td>0.590315</td>\n",
       "      <td>0.592897</td>\n",
       "      <td>0.590323</td>\n",
       "      <td>0.589526</td>\n",
       "      <td>0.590296</td>\n",
       "      <td>0.001476</td>\n",
       "    </tr>\n",
       "    <tr>\n",
       "      <th>6</th>\n",
       "      <td>1.722646</td>\n",
       "      <td>0.010273</td>\n",
       "      <td>0.147225</td>\n",
       "      <td>0.001442</td>\n",
       "      <td>1.5</td>\n",
       "      <td>{'alpha': 1.5}</td>\n",
       "      <td>0.589396</td>\n",
       "      <td>0.581928</td>\n",
       "      <td>0.565999</td>\n",
       "      <td>0.572941</td>\n",
       "      <td>0.580805</td>\n",
       "      <td>0.578214</td>\n",
       "      <td>0.008032</td>\n",
       "      <td>7</td>\n",
       "      <td>0.585848</td>\n",
       "      <td>0.587909</td>\n",
       "      <td>0.590741</td>\n",
       "      <td>0.588022</td>\n",
       "      <td>0.587223</td>\n",
       "      <td>0.587949</td>\n",
       "      <td>0.001596</td>\n",
       "    </tr>\n",
       "    <tr>\n",
       "      <th>7</th>\n",
       "      <td>1.722701</td>\n",
       "      <td>0.015895</td>\n",
       "      <td>0.144189</td>\n",
       "      <td>0.000683</td>\n",
       "      <td>2</td>\n",
       "      <td>{'alpha': 2}</td>\n",
       "      <td>0.588126</td>\n",
       "      <td>0.580618</td>\n",
       "      <td>0.564619</td>\n",
       "      <td>0.571595</td>\n",
       "      <td>0.579007</td>\n",
       "      <td>0.576793</td>\n",
       "      <td>0.008040</td>\n",
       "      <td>8</td>\n",
       "      <td>0.583743</td>\n",
       "      <td>0.585953</td>\n",
       "      <td>0.588985</td>\n",
       "      <td>0.586168</td>\n",
       "      <td>0.585329</td>\n",
       "      <td>0.586036</td>\n",
       "      <td>0.001701</td>\n",
       "    </tr>\n",
       "    <tr>\n",
       "      <th>8</th>\n",
       "      <td>1.713805</td>\n",
       "      <td>0.014077</td>\n",
       "      <td>0.145673</td>\n",
       "      <td>0.003296</td>\n",
       "      <td>5</td>\n",
       "      <td>{'alpha': 5}</td>\n",
       "      <td>0.581828</td>\n",
       "      <td>0.574496</td>\n",
       "      <td>0.559004</td>\n",
       "      <td>0.565571</td>\n",
       "      <td>0.570508</td>\n",
       "      <td>0.570281</td>\n",
       "      <td>0.007753</td>\n",
       "      <td>9</td>\n",
       "      <td>0.574453</td>\n",
       "      <td>0.577114</td>\n",
       "      <td>0.581025</td>\n",
       "      <td>0.578086</td>\n",
       "      <td>0.577154</td>\n",
       "      <td>0.577566</td>\n",
       "      <td>0.002112</td>\n",
       "    </tr>\n",
       "    <tr>\n",
       "      <th>9</th>\n",
       "      <td>1.722686</td>\n",
       "      <td>0.014931</td>\n",
       "      <td>0.144313</td>\n",
       "      <td>0.004987</td>\n",
       "      <td>10</td>\n",
       "      <td>{'alpha': 10}</td>\n",
       "      <td>0.573210</td>\n",
       "      <td>0.567271</td>\n",
       "      <td>0.552613</td>\n",
       "      <td>0.558555</td>\n",
       "      <td>0.560982</td>\n",
       "      <td>0.562526</td>\n",
       "      <td>0.007115</td>\n",
       "      <td>10</td>\n",
       "      <td>0.564520</td>\n",
       "      <td>0.567039</td>\n",
       "      <td>0.571614</td>\n",
       "      <td>0.568712</td>\n",
       "      <td>0.567903</td>\n",
       "      <td>0.567957</td>\n",
       "      <td>0.002306</td>\n",
       "    </tr>\n",
       "  </tbody>\n",
       "</table>\n",
       "</div>"
      ],
      "text/plain": [
       "   mean_fit_time  std_fit_time  ...  mean_train_score  std_train_score\n",
       "0       1.901166      0.355068  ...          0.599861         0.001155\n",
       "1       1.721315      0.006975  ...          0.599859         0.001155\n",
       "2       1.749149      0.016357  ...          0.599841         0.001156\n",
       "3       1.721088      0.003928  ...          0.599665         0.001161\n",
       "4       1.713492      0.007842  ...          0.598111         0.001203\n",
       "5       1.729315      0.013923  ...          0.590296         0.001476\n",
       "6       1.722646      0.010273  ...          0.587949         0.001596\n",
       "7       1.722701      0.015895  ...          0.586036         0.001701\n",
       "8       1.713805      0.014077  ...          0.577566         0.002112\n",
       "9       1.722686      0.014931  ...          0.567957         0.002306\n",
       "\n",
       "[10 rows x 21 columns]"
      ]
     },
     "execution_count": 24,
     "metadata": {
      "tags": []
     },
     "output_type": "execute_result"
    }
   ],
   "source": [
    "results.head(10)"
   ]
  },
  {
   "cell_type": "markdown",
   "metadata": {
    "colab_type": "text",
    "id": "Rl7Cjb3NghqA"
   },
   "source": [
    "#### Plotting Tuning Results"
   ]
  },
  {
   "cell_type": "code",
   "execution_count": 25,
   "metadata": {
    "colab": {
     "base_uri": "https://localhost:8080/",
     "height": 621
    },
    "colab_type": "code",
    "id": "Nb7ipSr8-GHL",
    "outputId": "1071a882-f86e-4e8c-a9bd-3c88b05dc32c"
   },
   "outputs": [
    {
     "data": {
      "image/png": "[encoded data removed]",
      "text/plain": [
       "<Figure size 720x720 with 1 Axes>"
      ]
     },
     "metadata": {
      "needs_background": "light",
      "tags": []
     },
     "output_type": "display_data"
    }
   ],
   "source": [
    "fig , ax = plt.subplots(1,1,figsize=(10,10))\n",
    "ax.plot(results['param_alpha'],results['mean_train_score'],label='Train Score')\n",
    "ax.scatter(results['param_alpha'],results['mean_train_score'],label='Train Score')\n",
    "ax.plot(results['param_alpha'],results['mean_test_score'],label='Test Score')\n",
    "ax.scatter(results['param_alpha'],results['mean_test_score'],label='Test Score')\n",
    "ax.set_ylabel('Auc Score')\n",
    "ax.set_xlabel('Laplace Smoothening')\n",
    "ax.legend()\n",
    "ax.grid()\n",
    "# ax.set_xticks(map(str,results['param_alpha']))\n",
    "ax.set_title('Auc Score for Train and Test')\n",
    "plt.show()"
   ]
  },
  {
   "cell_type": "code",
   "execution_count": 26,
   "metadata": {
    "colab": {
     "base_uri": "https://localhost:8080/",
     "height": 347
    },
    "colab_type": "code",
    "id": "w-6wLQDw-J2E",
    "outputId": "fab4eb58-334f-491c-ebd7-e48099570ef4"
   },
   "outputs": [
    {
     "name": "stdout",
     "output_type": "stream",
     "text": [
      "Alpha ==> Train Score ==> Test Score ==> Distance\n",
      "1e-05 ==> 0.5998610246697537 ==> 0.5872647949391946 ==> 0.012596229730559072\n",
      "0.0001 ==> 0.5998593029035579 ==> 0.5872634374428776 ==> 0.012595865460680367\n",
      "0.001 ==> 0.5998413732228443 ==> 0.5872498564810933 ==> 0.012591516741750963\n",
      "0.01 ==> 0.599665498997761 ==> 0.5871149975580321 ==> 0.012550501439728912\n",
      "0.1 ==> 0.5981110216188819 ==> 0.5859428098278313 ==> 0.012168211791050543\n",
      "1 ==> 0.5902958168519156 ==> 0.5799930650502707 ==> 0.01030275180164486\n",
      "1.5 ==> 0.5879486018613663 ==> 0.5782138028455973 ==> 0.009734799015769013\n",
      "2 ==> 0.5860357763982688 ==> 0.5767929169029637 ==> 0.009242859495305011\n",
      "5 ==> 0.5775664228907667 ==> 0.5702813828251678 ==> 0.0072850400655988246\n",
      "10 ==> 0.5679573955639038 ==> 0.5625259617270219 ==> 0.005431433836881938\n",
      "15 ==> 0.5618315449981331 ==> 0.5573896905637405 ==> 0.0044418544343926\n",
      "20 ==> 0.5577864870395592 ==> 0.554034008759778 ==> 0.0037524782797812017\n",
      "40 ==> 0.5506543042547244 ==> 0.5480879817607813 ==> 0.002566322493943063\n",
      "80 ==> 0.5462240995859207 ==> 0.5443761134846161 ==> 0.001847986101304544\n",
      "100 ==> 0.5448818535577568 ==> 0.543246464961943 ==> 0.0016353885958138026\n",
      "120 ==> 0.5439576317119622 ==> 0.542466330881209 ==> 0.0014913008307532172\n",
      "150 ==> 0.5429222283756338 ==> 0.5415760332319571 ==> 0.0013461951436766206\n",
      "200 ==> 0.5416892432732692 ==> 0.5405542717570091 ==> 0.0011349715162600749\n"
     ]
    }
   ],
   "source": [
    "print('Alpha','Train Score','Test Score','Distance',sep=' ==> ')\n",
    "for ind, row in results.iterrows():\n",
    "    print(row.param_alpha,row.mean_train_score,row.mean_test_score,row.mean_train_score-row.mean_test_score,sep=' ==> ')"
   ]
  },
  {
   "cell_type": "markdown",
   "metadata": {
    "colab_type": "text",
    "id": "GlwjECpqgncy"
   },
   "source": [
    "#### Choose Best Alpha"
   ]
  },
  {
   "cell_type": "code",
   "execution_count": 0,
   "metadata": {
    "colab": {},
    "colab_type": "code",
    "id": "To9tyKT9-NB6"
   },
   "outputs": [],
   "source": [
    "alpha = 1"
   ]
  },
  {
   "cell_type": "markdown",
   "metadata": {
    "colab_type": "text",
    "id": "qr9-kpMKgwZ_"
   },
   "source": [
    "#### Retrain Final Model"
   ]
  },
  {
   "cell_type": "code",
   "execution_count": 0,
   "metadata": {
    "colab": {},
    "colab_type": "code",
    "id": "l6lGFpwk-PSv"
   },
   "outputs": [],
   "source": [
    "mnb = MultinomialNB(alpha=alpha)\n",
    "mnb.fit(x_tr.toarray(),y_train)\n",
    "y_te_predict = mnb.predict(x_te.toarray())\n",
    "y_tr_predict = mnb.predict(x_tr.toarray())"
   ]
  },
  {
   "cell_type": "markdown",
   "metadata": {
    "colab_type": "text",
    "id": "rO7W1v7ShWHz"
   },
   "source": [
    "#### Check Results"
   ]
  },
  {
   "cell_type": "code",
   "execution_count": 42,
   "metadata": {
    "colab": {
     "base_uri": "https://localhost:8080/",
     "height": 86
    },
    "colab_type": "code",
    "id": "7_P-c6d4-alb",
    "outputId": "d1c168e5-9cff-4bea-b12f-d2358989fcf3"
   },
   "outputs": [
    {
     "name": "stdout",
     "output_type": "stream",
     "text": [
      "Train Data Results\n",
      "0.5000354767493402\n",
      "Test Data Results\n",
      "0.5\n"
     ]
    }
   ],
   "source": [
    "print(\"Train Data Results\")\n",
    "print(roc_auc_score(y_train,y_tr_predict))\n",
    "print(\"Test Data Results\")\n",
    "print(roc_auc_score(y_test,y_te_predict))"
   ]
  },
  {
   "cell_type": "markdown",
   "metadata": {
    "colab_type": "text",
    "id": "HrY7MJ9chbyL"
   },
   "source": [
    "#### Plotting ROC Curve"
   ]
  },
  {
   "cell_type": "code",
   "execution_count": 0,
   "metadata": {
    "colab": {},
    "colab_type": "code",
    "id": "N3luTl9cem0R"
   },
   "outputs": [],
   "source": [
    "train_fpr , train_tpr , tr_thresholds = roc_curve(y_train,y_tr_predict)\n",
    "test_fpr , test_tpr , te_threshokds = roc_curve(y_test,y_te_predict)"
   ]
  },
  {
   "cell_type": "code",
   "execution_count": 44,
   "metadata": {
    "colab": {
     "base_uri": "https://localhost:8080/",
     "height": 295
    },
    "colab_type": "code",
    "id": "p1pMtQs2-dOT",
    "outputId": "9cbe2213-4336-4a0c-857c-accd7e45ac23"
   },
   "outputs": [
    {
     "data": {
      "image/png": "[encoded data removed]",
      "text/plain": [
       "<Figure size 432x288 with 1 Axes>"
      ]
     },
     "metadata": {
      "needs_background": "light",
      "tags": []
     },
     "output_type": "display_data"
    }
   ],
   "source": [
    "plt.plot(train_fpr,train_tpr, label='Train AUC'+str(auc(train_fpr, train_tpr)))\n",
    "plt.plot(test_fpr,test_tpr, label='Test AUC'+str(auc(test_fpr, test_tpr)))\n",
    "plt.legend()\n",
    "plt.xlabel(\"Alpha: hyperparameter\")\n",
    "plt.ylabel(\"AUC\")\n",
    "plt.title(\"ROC PLOTS\")\n",
    "plt.grid()\n",
    "plt.show()"
   ]
  },
  {
   "cell_type": "markdown",
   "metadata": {
    "colab_type": "text",
    "id": "HREfydI-hgvZ"
   },
   "source": [
    "#### Confusion Matrix"
   ]
  },
  {
   "cell_type": "code",
   "execution_count": 0,
   "metadata": {
    "colab": {},
    "colab_type": "code",
    "id": "ho9TEzR7-hBn"
   },
   "outputs": [],
   "source": [
    "te_conf = confusion_matrix(y_test,y_te_predict)\n",
    "tr_conf = confusion_matrix(y_train,y_tr_predict)"
   ]
  },
  {
   "cell_type": "code",
   "execution_count": 46,
   "metadata": {
    "colab": {
     "base_uri": "https://localhost:8080/",
     "height": 139
    },
    "colab_type": "code",
    "id": "JCTwcNWP-h-R",
    "outputId": "88902e97-930c-4822-8d13-31eaa0c599bb"
   },
   "outputs": [
    {
     "name": "stdout",
     "output_type": "stream",
     "text": [
      "Train Confusion Matrix\n",
      "\n",
      "[[    1 11578]\n",
      " [    1 64893]]\n",
      "Test Confusion Matrix\n",
      "[[    0  4963]\n",
      " [    0 27812]]\n"
     ]
    }
   ],
   "source": [
    "print('Train Confusion Matrix\\n')\n",
    "print(tr_conf)\n",
    "print('Test Confusion Matrix')\n",
    "print(te_conf)"
   ]
  },
  {
   "cell_type": "code",
   "execution_count": 47,
   "metadata": {
    "colab": {
     "base_uri": "https://localhost:8080/",
     "height": 69
    },
    "colab_type": "code",
    "id": "Cu7pzuhb-kLJ",
    "outputId": "28dba38c-ebc2-4602-a86e-9454257fa235"
   },
   "outputs": [
    {
     "name": "stdout",
     "output_type": "stream",
     "text": [
      "Final Confusion Matrix\n",
      "[[    0  4963]\n",
      " [    0 27812]]\n"
     ]
    }
   ],
   "source": [
    "print('Final Confusion Matrix')\n",
    "print(te_conf)"
   ]
  },
  {
   "cell_type": "markdown",
   "metadata": {
    "colab_type": "text",
    "id": "gJTEm5jtiIFH"
   },
   "source": [
    "#### Top 20 Features Representation"
   ]
  },
  {
   "cell_type": "code",
   "execution_count": 48,
   "metadata": {
    "colab": {
     "base_uri": "https://localhost:8080/",
     "height": 816
    },
    "colab_type": "code",
    "id": "Jpap-CcgCdpI",
    "outputId": "0dbba243-8a23-49f8-da55-7abed4d70b70"
   },
   "outputs": [
    {
     "name": "stdout",
     "output_type": "stream",
     "text": [
      "\n",
      "Top 20 Features for class 0\n",
      "\n",
      "this technology\n",
      "time day\n",
      "students creative meaningful\n",
      "cognitive\n",
      "classroom focus\n",
      "day they\n",
      "throughout school day\n",
      "collaborate\n",
      "born\n",
      "throughout day\n",
      "classroom focus potential\n",
      "technology nannan\n",
      "single parent households\n",
      "things they\n",
      "help kids\n",
      "technology engineering\n",
      "chairs allow\n",
      "later\n",
      "art room\n",
      "century learning\n",
      "\n",
      "Top 20 Features for class 1\n",
      "\n",
      "informational\n",
      "magnetic\n",
      "income high poverty school district\n",
      "day long\n",
      "income high poverty school\n",
      "magnet school\n",
      "children learn\n",
      "children love\n",
      "classroom every\n",
      "information\n",
      "classroom environment\n",
      "despite challenges\n",
      "despite\n",
      "second language\n",
      "children come\n",
      "industry\n",
      "classroom despite many challenges face\n",
      "ahead\n",
      "day learning\n",
      "day eager\n"
     ]
    }
   ],
   "source": [
    "feature_names = vec.get_feature_names()\n",
    "print('\\nTop 20 Features for class 0\\n')\n",
    "for feature_index in mnb.feature_log_prob_[0].argsort()[:20]:\n",
    "    print(feature_names[feature_index],end='\\n')\n",
    "print('\\nTop 20 Features for class 1\\n')\n",
    "for feature_index in mnb.feature_log_prob_[1].argsort()[:20]:\n",
    "    print(feature_names[feature_index],end='\\n')"
   ]
  }
 ],
 "metadata": {
  "colab": {
   "collapsed_sections": [],
   "machine_shape": "hm",
   "name": "Assigment-8.ipynb",
   "provenance": [],
   "toc_visible": true
  },
  "kernelspec": {
   "display_name": "Python 3",
   "language": "python",
   "name": "python3"
  },
  "latex_envs": {
   "LaTeX_envs_menu_present": true,
   "autoclose": false,
   "autocomplete": true,
   "bibliofile": "biblio.bib",
   "cite_by": "apalike",
   "current_citInitial": 1,
   "eqLabelWithNumbers": true,
   "eqNumInitial": 1,
   "hotkeys": {
    "equation": "Ctrl-E",
    "itemize": "Ctrl-I"
   },
   "labels_anchors": false,
   "latex_user_defs": false,
   "report_style_numbering": false,
   "user_envs_cfg": false
  },
  "toc": {
   "base_numbering": 1,
   "nav_menu": {},
   "number_sections": true,
   "sideBar": true,
   "skip_h1_title": false,
   "title_cell": "Table of Contents",
   "title_sidebar": "Contents",
   "toc_cell": false,
   "toc_position": {},
   "toc_section_display": true,
   "toc_window_display": true
  },
  "varInspector": {
   "cols": {
    "lenName": 16,
    "lenType": 16,
    "lenVar": 40
   },
   "kernels_config": {
    "python": {
     "delete_cmd_postfix": "",
     "delete_cmd_prefix": "del ",
     "library": "var_list.py",
     "varRefreshCmd": "print(var_dic_list())"
    },
    "r": {
     "delete_cmd_postfix": ") ",
     "delete_cmd_prefix": "rm(",
     "library": "var_list.r",
     "varRefreshCmd": "cat(var_dic_list()) "
    }
   },
   "types_to_exclude": [
    "module",
    "function",
    "builtin_function_or_method",
    "instance",
    "_Feature"
   ],
   "window_display": false
  }
 },
 "nbformat": 4,
 "nbformat_minor": 1
}
