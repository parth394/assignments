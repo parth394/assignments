{
 "cells": [
  {
   "cell_type": "markdown",
   "metadata": {
    "colab_type": "text",
    "id": "Dnubs-Nnb3cw"
   },
   "source": [
    "# Assignment 6: Apply NB"
   ]
  },
  {
   "cell_type": "markdown",
   "metadata": {
    "colab_type": "text",
    "id": "12krXa2pb3c1"
   },
   "source": [
    "<ol>\n",
    "    <li><strong>Apply Multinomial NB on these feature sets</strong>\n",
    "        <ul>\n",
    "            <li><font color='red'>Set 1</font>: categorical, numerical features + preprocessed_eassay (BOW)</li>\n",
    "            <li><font color='red'>Set 2</font>: categorical, numerical features + preprocessed_eassay (TFIDF)</li>\n",
    "        </ul>\n",
    "    </li>\n",
    "    <li><strong>The hyper paramter tuning(find best alpha:smoothing parameter)</strong>\n",
    "        <ul>\n",
    "    <li>Find the best hyper parameter which will give the maximum <a href='https://www.appliedaicourse.com/course/applied-ai-course-online/lessons/receiver-operating-characteristic-curve-roc-curve-and-auc-1/'>AUC</a> value</li>\n",
    "    <li>find the best hyper paramter using k-fold cross validation(use GridsearchCV or RandomsearchCV)/simple cross validation data (write for loop to iterate over hyper parameter values)</li>\n",
    "    <li></li>\n",
    "        </ul>\n",
    "    </li>\n",
    "    <li>\n",
    "    <strong>Representation of results</strong>\n",
    "        <ul>\n",
    "    <li>You need to plot the performance of model both on train data and cross validation data for each hyper parameter, like shown in the figure\n",
    "    <img src='https://i.imgur.com/hUv6aEy.jpg' width=300px></li>\n",
    "    <li>Once after you found the best hyper parameter, you need to train your model with it, and find the AUC on test data and plot the ROC curve on both train and test.\n",
    "    <img src='https://i.imgur.com/wMQDTFe.jpg' width=300px></li>\n",
    "    <li>Along with plotting ROC curve, you need to print the <a href='https://www.appliedaicourse.com/course/applied-ai-course-online/lessons/confusion-matrix-tpr-fpr-fnr-tnr-1/'>confusion matrix</a> with predicted and original labels of test data points\n",
    "    <img src='https://i.imgur.com/IdN5Ctv.png' width=300px></li>\n",
    "        </ul>\n",
    "    </li>\n",
    "    <li>\n",
    "fine the top 20 features from either from feature <font color='red'>Set 1</font> or feature <font color='red'>Set 2</font> using absolute values of `feature_log_prob_ ` parameter of `MultinomialNB` \n",
    "(https://scikit-learn.org/stable/modules/generated/sklearn.naive_bayes.MultinomialNB.html) and print their corresponding feature names\n",
    "    </li>\n",
    "    <li>You need to summarize the results at the end of the notebook, summarize it in the table format\n",
    "        <img src='http://i.imgur.com/YVpIGGE.jpg' width=400px>\n",
    "    </li>\n",
    "</ol>"
   ]
  },
  {
   "cell_type": "markdown",
   "metadata": {
    "colab_type": "text",
    "id": "inzYCIaib3c3"
   },
   "source": [
    "<h1>2. Naive Bayes </h1>"
   ]
  },
  {
   "cell_type": "code",
   "execution_count": 23,
   "metadata": {
    "ExecuteTime": {
     "end_time": "2020-04-17T18:39:48.086196Z",
     "start_time": "2020-04-17T18:39:48.077151Z"
    }
   },
   "outputs": [],
   "source": [
    "import pandas as pd\n",
    "from sklearn.model_selection import train_test_split\n",
    "from sklearn.feature_extraction.text import CountVectorizer\n",
    "from sklearn.preprocessing import Normalizer,StandardScaler\n",
    "from sklearn.naive_bayes import GaussianNB\n",
    "from sklearn.metrics import roc_curve , auc, confusion_matrix, roc_auc_score\n",
    "from scipy.sparse import hstack\n",
    "from sklearn.model_selection import GridSearchCV\n",
    "from sklearn.feature_extraction.text import TfidfVectorizer\n",
    "import numpy as np\n",
    "from tqdm import tqdm\n",
    "\n",
    "import matplotlib.pyplot as plt\n",
    "import seaborn as sns\n",
    "\n",
    "%matplotlib inline"
   ]
  },
  {
   "cell_type": "code",
   "execution_count": 12,
   "metadata": {
    "ExecuteTime": {
     "end_time": "2020-04-17T18:36:05.075783Z",
     "start_time": "2020-04-17T18:36:03.928175Z"
    }
   },
   "outputs": [
    {
     "name": "stdout",
     "output_type": "stream",
     "text": [
      "Index(['school_state', 'teacher_prefix', 'project_grade_category',\n",
      "       'teacher_number_of_previously_posted_projects', 'project_is_approved',\n",
      "       'clean_categories', 'clean_subcategories', 'essay', 'price'],\n",
      "      dtype='object')\n"
     ]
    }
   ],
   "source": [
    "df = pd.read_csv('preprocessed_data.csv')\n",
    "print(df.columns)\n",
    "df = df.sample(n=10000,random_state=0).reset_index()"
   ]
  },
  {
   "cell_type": "code",
   "execution_count": 13,
   "metadata": {
    "ExecuteTime": {
     "end_time": "2020-04-17T18:36:06.165118Z",
     "start_time": "2020-04-17T18:36:06.144331Z"
    }
   },
   "outputs": [
    {
     "data": {
      "text/html": [
       "<div>\n",
       "<style scoped>\n",
       "    .dataframe tbody tr th:only-of-type {\n",
       "        vertical-align: middle;\n",
       "    }\n",
       "\n",
       "    .dataframe tbody tr th {\n",
       "        vertical-align: top;\n",
       "    }\n",
       "\n",
       "    .dataframe thead th {\n",
       "        text-align: right;\n",
       "    }\n",
       "</style>\n",
       "<table border=\"1\" class=\"dataframe\">\n",
       "  <thead>\n",
       "    <tr style=\"text-align: right;\">\n",
       "      <th></th>\n",
       "      <th>school_state</th>\n",
       "      <th>teacher_prefix</th>\n",
       "      <th>project_grade_category</th>\n",
       "      <th>teacher_number_of_previously_posted_projects</th>\n",
       "      <th>project_is_approved</th>\n",
       "      <th>clean_categories</th>\n",
       "      <th>clean_subcategories</th>\n",
       "      <th>essay</th>\n",
       "      <th>price</th>\n",
       "    </tr>\n",
       "  </thead>\n",
       "  <tbody>\n",
       "    <tr>\n",
       "      <th>0</th>\n",
       "      <td>sc</td>\n",
       "      <td>ms</td>\n",
       "      <td>grades_6_8</td>\n",
       "      <td>4</td>\n",
       "      <td>1</td>\n",
       "      <td>music_arts</td>\n",
       "      <td>performingarts</td>\n",
       "      <td>it truly amazing arts integration school curri...</td>\n",
       "      <td>454.56</td>\n",
       "    </tr>\n",
       "    <tr>\n",
       "      <th>1</th>\n",
       "      <td>pa</td>\n",
       "      <td>ms</td>\n",
       "      <td>grades_3_5</td>\n",
       "      <td>1</td>\n",
       "      <td>1</td>\n",
       "      <td>math_science specialneeds</td>\n",
       "      <td>mathematics specialneeds</td>\n",
       "      <td>my students need chromebooks headphones utiliz...</td>\n",
       "      <td>67.27</td>\n",
       "    </tr>\n",
       "    <tr>\n",
       "      <th>2</th>\n",
       "      <td>ut</td>\n",
       "      <td>mrs</td>\n",
       "      <td>grades_3_5</td>\n",
       "      <td>3</td>\n",
       "      <td>1</td>\n",
       "      <td>music_arts</td>\n",
       "      <td>music performingarts</td>\n",
       "      <td>we 80 students every year third grade we schoo...</td>\n",
       "      <td>188.99</td>\n",
       "    </tr>\n",
       "    <tr>\n",
       "      <th>3</th>\n",
       "      <td>nc</td>\n",
       "      <td>mrs</td>\n",
       "      <td>grades_3_5</td>\n",
       "      <td>1</td>\n",
       "      <td>1</td>\n",
       "      <td>health_sports</td>\n",
       "      <td>gym_fitness health_wellness</td>\n",
       "      <td>i 20 amazing third graders eager learn our sch...</td>\n",
       "      <td>549.81</td>\n",
       "    </tr>\n",
       "    <tr>\n",
       "      <th>4</th>\n",
       "      <td>la</td>\n",
       "      <td>mrs</td>\n",
       "      <td>grades_prek_2</td>\n",
       "      <td>2</td>\n",
       "      <td>0</td>\n",
       "      <td>literacy_language</td>\n",
       "      <td>literacy</td>\n",
       "      <td>i teach 20 kindergarten children including esl...</td>\n",
       "      <td>1267.83</td>\n",
       "    </tr>\n",
       "  </tbody>\n",
       "</table>\n",
       "</div>"
      ],
      "text/plain": [
       "  school_state teacher_prefix project_grade_category  \\\n",
       "0           sc             ms             grades_6_8   \n",
       "1           pa             ms             grades_3_5   \n",
       "2           ut            mrs             grades_3_5   \n",
       "3           nc            mrs             grades_3_5   \n",
       "4           la            mrs          grades_prek_2   \n",
       "\n",
       "   teacher_number_of_previously_posted_projects  project_is_approved  \\\n",
       "0                                             4                    1   \n",
       "1                                             1                    1   \n",
       "2                                             3                    1   \n",
       "3                                             1                    1   \n",
       "4                                             2                    0   \n",
       "\n",
       "            clean_categories          clean_subcategories  \\\n",
       "0                 music_arts               performingarts   \n",
       "1  math_science specialneeds     mathematics specialneeds   \n",
       "2                 music_arts         music performingarts   \n",
       "3              health_sports  gym_fitness health_wellness   \n",
       "4          literacy_language                     literacy   \n",
       "\n",
       "                                               essay    price  \n",
       "0  it truly amazing arts integration school curri...   454.56  \n",
       "1  my students need chromebooks headphones utiliz...    67.27  \n",
       "2  we 80 students every year third grade we schoo...   188.99  \n",
       "3  i 20 amazing third graders eager learn our sch...   549.81  \n",
       "4  i teach 20 kindergarten children including esl...  1267.83  "
      ]
     },
     "execution_count": 13,
     "metadata": {},
     "output_type": "execute_result"
    }
   ],
   "source": [
    "df.drop('index',axis=1,inplace=True)\n",
    "df.head()"
   ]
  },
  {
   "cell_type": "code",
   "execution_count": 14,
   "metadata": {
    "ExecuteTime": {
     "end_time": "2020-04-17T18:36:07.384983Z",
     "start_time": "2020-04-17T18:36:07.378438Z"
    }
   },
   "outputs": [],
   "source": [
    "# Creating a reusable function\n",
    "def three_way_splitter(x,y,test,cv):\n",
    "#     First splitting train and test data\n",
    "    x_train, x_test, y_train, y_test = train_test_split(x,y,test_size=test,stratify=y)\n",
    "#     Splitting train data into train and cv\n",
    "    x_train, x_cv, y_train, y_cv = train_test_split(x_train,y_train, test_size=cv,stratify=y_train)  \n",
    "    return x_train, x_cv, x_test, y_train, y_cv, y_test"
   ]
  },
  {
   "cell_type": "code",
   "execution_count": 15,
   "metadata": {
    "ExecuteTime": {
     "end_time": "2020-04-17T18:36:08.654167Z",
     "start_time": "2020-04-17T18:36:08.627996Z"
    }
   },
   "outputs": [],
   "source": [
    "label = df['project_is_approved'].values\n",
    "df.drop('project_is_approved',axis=1,inplace=True)\n",
    "# x_train,x_test,x_cv,y_train,y_test,y_cv = three_way_splitter(df, label,test=0.2,cv=0.1)\n",
    "x_train, x_test, y_train, y_test = train_test_split(df,label,test_size=0.3,stratify=label)"
   ]
  },
  {
   "cell_type": "code",
   "execution_count": 16,
   "metadata": {
    "ExecuteTime": {
     "end_time": "2020-04-17T18:36:09.771172Z",
     "start_time": "2020-04-17T18:36:09.755096Z"
    }
   },
   "outputs": [],
   "source": [
    "# Defining reusable function\n",
    "\n",
    "def encoder_for_cat_columns(col,train,test):\n",
    "    if col == 'essay':\n",
    "        cnt_vec = CountVectorizer(ngram_range=(1,5),min_df=10,max_features=10000)\n",
    "    else:\n",
    "        cnt_vec = CountVectorizer()\n",
    "    \n",
    "    print(\"Fitting the {:5} data to the count_vectorizer\".format(col))\n",
    "    cnt_vec.fit(train[col].values)\n",
    "    print('Transforming the {:5} data'.format(col))\n",
    "    return cnt_vec.transform(train[col].values), cnt_vec.transform(test[col].values)\n",
    "# , cnt_vec.transform(cv[col].values)\n",
    "\n",
    "def encoder_for_num_columns(col, train, test):\n",
    "    normal = StandardScaler()\n",
    "    print('Fitting the {} column data to the normalizer'.format(col))\n",
    "    normal.fit(train[col].values.reshape(-1,1))\n",
    "    print('Fitting the {} column data to the normalizer'.format(col))\n",
    "    return normal.transform(train[col].values.reshape(-1,1)) , normal.transform(test[col].values.reshape(-1,1))\n",
    "# , normal.transform(cv[col].values.reshape(-1,1))\n"
   ]
  },
  {
   "cell_type": "code",
   "execution_count": 17,
   "metadata": {
    "ExecuteTime": {
     "end_time": "2020-04-17T18:36:37.598044Z",
     "start_time": "2020-04-17T18:36:11.005079Z"
    }
   },
   "outputs": [
    {
     "name": "stderr",
     "output_type": "stream",
     "text": [
      " 38%|███▊      | 3/8 [00:00<00:00, 20.34it/s]"
     ]
    },
    {
     "name": "stdout",
     "output_type": "stream",
     "text": [
      "Fitting the school_state data to the count_vectorizer\n",
      "Transforming the school_state data\n",
      "Fitting the teacher_prefix data to the count_vectorizer\n",
      "Transforming the teacher_prefix data\n",
      "Fitting the project_grade_category data to the count_vectorizer\n",
      "Transforming the project_grade_category data\n",
      "Fitting the teacher_number_of_previously_posted_projects column data to the normalizer\n",
      "Fitting the teacher_number_of_previously_posted_projects column data to the normalizer\n",
      "Fitting the clean_categories data to the count_vectorizer\n",
      "Transforming the clean_categories data\n",
      "Fitting the clean_subcategories data to the count_vectorizer\n"
     ]
    },
    {
     "name": "stderr",
     "output_type": "stream",
     "text": [
      "\r",
      " 75%|███████▌  | 6/8 [00:00<00:00, 22.17it/s]"
     ]
    },
    {
     "name": "stdout",
     "output_type": "stream",
     "text": [
      "Transforming the clean_subcategories data\n",
      "Fitting the essay data to the count_vectorizer\n"
     ]
    },
    {
     "name": "stderr",
     "output_type": "stream",
     "text": [
      "\r",
      " 75%|███████▌  | 6/8 [00:14<00:00, 22.17it/s]"
     ]
    },
    {
     "name": "stdout",
     "output_type": "stream",
     "text": [
      "Transforming the essay data\n"
     ]
    },
    {
     "name": "stderr",
     "output_type": "stream",
     "text": [
      "100%|██████████| 8/8 [00:26<00:00,  3.32s/it]"
     ]
    },
    {
     "name": "stdout",
     "output_type": "stream",
     "text": [
      "Fitting the price column data to the normalizer\n",
      "Fitting the price column data to the normalizer\n"
     ]
    },
    {
     "name": "stderr",
     "output_type": "stream",
     "text": [
      "\n"
     ]
    }
   ],
   "source": [
    "# Storing all the bow transformations in single dictionary\n",
    "temp = {}\n",
    "for ele in tqdm(df.columns):\n",
    "    if type(df[ele][0] ) == str:\n",
    "        temp_train , temp_test = encoder_for_cat_columns(ele,x_train,x_test)\n",
    "        temp['x_train_{}_bow'.format(ele)] = temp_train\n",
    "        del temp_train\n",
    "        temp['x_test_{}_bow'.format(ele)]  = temp_test\n",
    "        del temp_test\n",
    "#         temp['x_cv_{}_bow'.format(ele)]    = temp_cv\n",
    "#         del temp_cv\n",
    "    else:\n",
    "        temp_train , temp_test = encoder_for_num_columns(ele, x_train, x_test)\n",
    "        temp['x_train_{}_norm '.format(ele)] = temp_train\n",
    "        del temp_train\n",
    "        temp['x_test_{}_norm'.format(ele)]  = temp_test\n",
    "        del temp_test\n",
    "#         temp['x_cv_{}_norm'.format(ele)]    = temp_cv\n",
    "#         del temp_cv\n"
   ]
  },
  {
   "cell_type": "code",
   "execution_count": 18,
   "metadata": {
    "ExecuteTime": {
     "end_time": "2020-04-17T18:36:39.360371Z",
     "start_time": "2020-04-17T18:36:39.353876Z"
    }
   },
   "outputs": [
    {
     "name": "stderr",
     "output_type": "stream",
     "text": [
      "100%|██████████| 2/2 [00:00<00:00, 4348.68it/s]\n"
     ]
    }
   ],
   "source": [
    "hstack_temp = {}\n",
    "for ele in tqdm(['train','test']):\n",
    "    hstack_temp[ele] = []\n",
    "    for key in temp.keys():\n",
    "        if key.find(ele) >=0:\n",
    "            hstack_temp[ele].append(temp[key])\n",
    "del temp"
   ]
  },
  {
   "cell_type": "code",
   "execution_count": 19,
   "metadata": {
    "ExecuteTime": {
     "end_time": "2020-04-17T18:36:40.852293Z",
     "start_time": "2020-04-17T18:36:40.779303Z"
    }
   },
   "outputs": [],
   "source": [
    "x_tr = hstack(hstack_temp['train']).tocsr()\n",
    "x_te = hstack(hstack_temp['test']).tocsr()\n",
    "# x_cv = hstack(hstack_temp['cv']).tocsr()\n",
    "del hstack_temp"
   ]
  },
  {
   "cell_type": "code",
   "execution_count": 20,
   "metadata": {
    "ExecuteTime": {
     "end_time": "2020-04-17T18:36:41.460455Z",
     "start_time": "2020-04-17T18:36:41.450423Z"
    }
   },
   "outputs": [
    {
     "data": {
      "text/plain": [
       "(7000, 10100)"
      ]
     },
     "execution_count": 20,
     "metadata": {},
     "output_type": "execute_result"
    }
   ],
   "source": [
    "x_tr.shape"
   ]
  },
  {
   "cell_type": "code",
   "execution_count": 21,
   "metadata": {
    "ExecuteTime": {
     "end_time": "2020-04-17T18:36:42.267981Z",
     "start_time": "2020-04-17T18:36:42.261794Z"
    }
   },
   "outputs": [
    {
     "data": {
      "text/plain": [
       "(3000, 10100)"
      ]
     },
     "execution_count": 21,
     "metadata": {},
     "output_type": "execute_result"
    }
   ],
   "source": [
    "x_te.shape"
   ]
  },
  {
   "cell_type": "code",
   "execution_count": null,
   "metadata": {
    "ExecuteTime": {
     "start_time": "2020-04-17T18:39:57.969Z"
    },
    "scrolled": false
   },
   "outputs": [],
   "source": [
    "gnb = GaussianNB()\n",
    "parameters = {'var_smoothing':[10**-5,10**-4 ,10**-3,10**-2,10**-1,1,1.5,2,5,10,15,20]}\n",
    "clf = GridSearchCV(gnb,parameters,cv=5,scoring='roc_auc',return_train_score=True)\n",
    "clf.fit(x_tr.toarray(),y_train)\n",
    "results = pd.DataFrame(clf.cv_results_)\n",
    "results.sort_values('param_var_smoothing',inplace=True)"
   ]
  },
  {
   "cell_type": "code",
   "execution_count": 26,
   "metadata": {
    "ExecuteTime": {
     "end_time": "2020-04-17T17:12:04.327677Z",
     "start_time": "2020-04-17T17:12:04.285024Z"
    }
   },
   "outputs": [
    {
     "data": {
      "text/html": [
       "<div>\n",
       "<style scoped>\n",
       "    .dataframe tbody tr th:only-of-type {\n",
       "        vertical-align: middle;\n",
       "    }\n",
       "\n",
       "    .dataframe tbody tr th {\n",
       "        vertical-align: top;\n",
       "    }\n",
       "\n",
       "    .dataframe thead th {\n",
       "        text-align: right;\n",
       "    }\n",
       "</style>\n",
       "<table border=\"1\" class=\"dataframe\">\n",
       "  <thead>\n",
       "    <tr style=\"text-align: right;\">\n",
       "      <th></th>\n",
       "      <th>mean_fit_time</th>\n",
       "      <th>std_fit_time</th>\n",
       "      <th>mean_score_time</th>\n",
       "      <th>std_score_time</th>\n",
       "      <th>param_var_smoothing</th>\n",
       "      <th>params</th>\n",
       "      <th>split0_test_score</th>\n",
       "      <th>split1_test_score</th>\n",
       "      <th>split2_test_score</th>\n",
       "      <th>split3_test_score</th>\n",
       "      <th>...</th>\n",
       "      <th>mean_test_score</th>\n",
       "      <th>std_test_score</th>\n",
       "      <th>rank_test_score</th>\n",
       "      <th>split0_train_score</th>\n",
       "      <th>split1_train_score</th>\n",
       "      <th>split2_train_score</th>\n",
       "      <th>split3_train_score</th>\n",
       "      <th>split4_train_score</th>\n",
       "      <th>mean_train_score</th>\n",
       "      <th>std_train_score</th>\n",
       "    </tr>\n",
       "  </thead>\n",
       "  <tbody>\n",
       "    <tr>\n",
       "      <th>0</th>\n",
       "      <td>0.733586</td>\n",
       "      <td>0.123140</td>\n",
       "      <td>0.132660</td>\n",
       "      <td>0.010007</td>\n",
       "      <td>1e-05</td>\n",
       "      <td>{'var_smoothing': 1e-05}</td>\n",
       "      <td>0.577694</td>\n",
       "      <td>0.572384</td>\n",
       "      <td>0.568997</td>\n",
       "      <td>0.556346</td>\n",
       "      <td>...</td>\n",
       "      <td>0.569284</td>\n",
       "      <td>0.007082</td>\n",
       "      <td>12</td>\n",
       "      <td>0.966422</td>\n",
       "      <td>0.960323</td>\n",
       "      <td>0.960432</td>\n",
       "      <td>0.963950</td>\n",
       "      <td>0.959330</td>\n",
       "      <td>0.962091</td>\n",
       "      <td>0.002673</td>\n",
       "    </tr>\n",
       "    <tr>\n",
       "      <th>1</th>\n",
       "      <td>0.660483</td>\n",
       "      <td>0.004198</td>\n",
       "      <td>0.126519</td>\n",
       "      <td>0.001022</td>\n",
       "      <td>0.0001</td>\n",
       "      <td>{'var_smoothing': 0.0001}</td>\n",
       "      <td>0.599753</td>\n",
       "      <td>0.618874</td>\n",
       "      <td>0.595981</td>\n",
       "      <td>0.591126</td>\n",
       "      <td>...</td>\n",
       "      <td>0.599881</td>\n",
       "      <td>0.009911</td>\n",
       "      <td>11</td>\n",
       "      <td>0.964335</td>\n",
       "      <td>0.962206</td>\n",
       "      <td>0.964138</td>\n",
       "      <td>0.967228</td>\n",
       "      <td>0.963024</td>\n",
       "      <td>0.964186</td>\n",
       "      <td>0.001706</td>\n",
       "    </tr>\n",
       "    <tr>\n",
       "      <th>2</th>\n",
       "      <td>0.664365</td>\n",
       "      <td>0.003211</td>\n",
       "      <td>0.127327</td>\n",
       "      <td>0.001138</td>\n",
       "      <td>0.001</td>\n",
       "      <td>{'var_smoothing': 0.001}</td>\n",
       "      <td>0.661462</td>\n",
       "      <td>0.653179</td>\n",
       "      <td>0.666036</td>\n",
       "      <td>0.654142</td>\n",
       "      <td>...</td>\n",
       "      <td>0.662141</td>\n",
       "      <td>0.008354</td>\n",
       "      <td>3</td>\n",
       "      <td>0.945552</td>\n",
       "      <td>0.948791</td>\n",
       "      <td>0.947087</td>\n",
       "      <td>0.948748</td>\n",
       "      <td>0.944766</td>\n",
       "      <td>0.946989</td>\n",
       "      <td>0.001635</td>\n",
       "    </tr>\n",
       "    <tr>\n",
       "      <th>3</th>\n",
       "      <td>0.668254</td>\n",
       "      <td>0.003444</td>\n",
       "      <td>0.127370</td>\n",
       "      <td>0.000876</td>\n",
       "      <td>0.01</td>\n",
       "      <td>{'var_smoothing': 0.01}</td>\n",
       "      <td>0.687867</td>\n",
       "      <td>0.651229</td>\n",
       "      <td>0.672431</td>\n",
       "      <td>0.669249</td>\n",
       "      <td>...</td>\n",
       "      <td>0.674129</td>\n",
       "      <td>0.014054</td>\n",
       "      <td>1</td>\n",
       "      <td>0.860514</td>\n",
       "      <td>0.866714</td>\n",
       "      <td>0.866616</td>\n",
       "      <td>0.865260</td>\n",
       "      <td>0.863984</td>\n",
       "      <td>0.864618</td>\n",
       "      <td>0.002282</td>\n",
       "    </tr>\n",
       "    <tr>\n",
       "      <th>4</th>\n",
       "      <td>0.680070</td>\n",
       "      <td>0.028055</td>\n",
       "      <td>0.127944</td>\n",
       "      <td>0.002789</td>\n",
       "      <td>0.1</td>\n",
       "      <td>{'var_smoothing': 0.1}</td>\n",
       "      <td>0.689019</td>\n",
       "      <td>0.640637</td>\n",
       "      <td>0.662953</td>\n",
       "      <td>0.671302</td>\n",
       "      <td>...</td>\n",
       "      <td>0.667680</td>\n",
       "      <td>0.015929</td>\n",
       "      <td>2</td>\n",
       "      <td>0.768447</td>\n",
       "      <td>0.774177</td>\n",
       "      <td>0.772853</td>\n",
       "      <td>0.769404</td>\n",
       "      <td>0.771973</td>\n",
       "      <td>0.771371</td>\n",
       "      <td>0.002138</td>\n",
       "    </tr>\n",
       "    <tr>\n",
       "      <th>5</th>\n",
       "      <td>0.659338</td>\n",
       "      <td>0.002584</td>\n",
       "      <td>0.126309</td>\n",
       "      <td>0.000421</td>\n",
       "      <td>1</td>\n",
       "      <td>{'var_smoothing': 1}</td>\n",
       "      <td>0.669816</td>\n",
       "      <td>0.642746</td>\n",
       "      <td>0.654243</td>\n",
       "      <td>0.655082</td>\n",
       "      <td>...</td>\n",
       "      <td>0.656838</td>\n",
       "      <td>0.009019</td>\n",
       "      <td>4</td>\n",
       "      <td>0.726264</td>\n",
       "      <td>0.729379</td>\n",
       "      <td>0.725905</td>\n",
       "      <td>0.724764</td>\n",
       "      <td>0.725038</td>\n",
       "      <td>0.726270</td>\n",
       "      <td>0.001648</td>\n",
       "    </tr>\n",
       "    <tr>\n",
       "      <th>6</th>\n",
       "      <td>0.660230</td>\n",
       "      <td>0.004205</td>\n",
       "      <td>0.126337</td>\n",
       "      <td>0.001408</td>\n",
       "      <td>1.5</td>\n",
       "      <td>{'var_smoothing': 1.5}</td>\n",
       "      <td>0.664509</td>\n",
       "      <td>0.642481</td>\n",
       "      <td>0.651498</td>\n",
       "      <td>0.649442</td>\n",
       "      <td>...</td>\n",
       "      <td>0.653130</td>\n",
       "      <td>0.007487</td>\n",
       "      <td>5</td>\n",
       "      <td>0.718596</td>\n",
       "      <td>0.720917</td>\n",
       "      <td>0.718619</td>\n",
       "      <td>0.717046</td>\n",
       "      <td>0.716916</td>\n",
       "      <td>0.718418</td>\n",
       "      <td>0.001446</td>\n",
       "    </tr>\n",
       "    <tr>\n",
       "      <th>7</th>\n",
       "      <td>0.656958</td>\n",
       "      <td>0.003011</td>\n",
       "      <td>0.125889</td>\n",
       "      <td>0.000638</td>\n",
       "      <td>2</td>\n",
       "      <td>{'var_smoothing': 2}</td>\n",
       "      <td>0.661233</td>\n",
       "      <td>0.641757</td>\n",
       "      <td>0.648801</td>\n",
       "      <td>0.645443</td>\n",
       "      <td>...</td>\n",
       "      <td>0.650308</td>\n",
       "      <td>0.006847</td>\n",
       "      <td>6</td>\n",
       "      <td>0.713258</td>\n",
       "      <td>0.715062</td>\n",
       "      <td>0.713640</td>\n",
       "      <td>0.711798</td>\n",
       "      <td>0.711431</td>\n",
       "      <td>0.713038</td>\n",
       "      <td>0.001313</td>\n",
       "    </tr>\n",
       "    <tr>\n",
       "      <th>8</th>\n",
       "      <td>0.658974</td>\n",
       "      <td>0.003232</td>\n",
       "      <td>0.125887</td>\n",
       "      <td>0.000640</td>\n",
       "      <td>5</td>\n",
       "      <td>{'var_smoothing': 5}</td>\n",
       "      <td>0.651262</td>\n",
       "      <td>0.638130</td>\n",
       "      <td>0.642508</td>\n",
       "      <td>0.635278</td>\n",
       "      <td>...</td>\n",
       "      <td>0.642397</td>\n",
       "      <td>0.005537</td>\n",
       "      <td>7</td>\n",
       "      <td>0.699422</td>\n",
       "      <td>0.700613</td>\n",
       "      <td>0.700685</td>\n",
       "      <td>0.698494</td>\n",
       "      <td>0.697105</td>\n",
       "      <td>0.699264</td>\n",
       "      <td>0.001351</td>\n",
       "    </tr>\n",
       "    <tr>\n",
       "      <th>9</th>\n",
       "      <td>0.659498</td>\n",
       "      <td>0.002520</td>\n",
       "      <td>0.126031</td>\n",
       "      <td>0.000581</td>\n",
       "      <td>10</td>\n",
       "      <td>{'var_smoothing': 10}</td>\n",
       "      <td>0.646702</td>\n",
       "      <td>0.635705</td>\n",
       "      <td>0.639218</td>\n",
       "      <td>0.630595</td>\n",
       "      <td>...</td>\n",
       "      <td>0.638535</td>\n",
       "      <td>0.005328</td>\n",
       "      <td>8</td>\n",
       "      <td>0.693093</td>\n",
       "      <td>0.694186</td>\n",
       "      <td>0.694399</td>\n",
       "      <td>0.692452</td>\n",
       "      <td>0.690372</td>\n",
       "      <td>0.692900</td>\n",
       "      <td>0.001451</td>\n",
       "    </tr>\n",
       "  </tbody>\n",
       "</table>\n",
       "<p>10 rows × 21 columns</p>\n",
       "</div>"
      ],
      "text/plain": [
       "   mean_fit_time  std_fit_time  mean_score_time  std_score_time  \\\n",
       "0       0.733586      0.123140         0.132660        0.010007   \n",
       "1       0.660483      0.004198         0.126519        0.001022   \n",
       "2       0.664365      0.003211         0.127327        0.001138   \n",
       "3       0.668254      0.003444         0.127370        0.000876   \n",
       "4       0.680070      0.028055         0.127944        0.002789   \n",
       "5       0.659338      0.002584         0.126309        0.000421   \n",
       "6       0.660230      0.004205         0.126337        0.001408   \n",
       "7       0.656958      0.003011         0.125889        0.000638   \n",
       "8       0.658974      0.003232         0.125887        0.000640   \n",
       "9       0.659498      0.002520         0.126031        0.000581   \n",
       "\n",
       "  param_var_smoothing                     params  split0_test_score  \\\n",
       "0               1e-05   {'var_smoothing': 1e-05}           0.577694   \n",
       "1              0.0001  {'var_smoothing': 0.0001}           0.599753   \n",
       "2               0.001   {'var_smoothing': 0.001}           0.661462   \n",
       "3                0.01    {'var_smoothing': 0.01}           0.687867   \n",
       "4                 0.1     {'var_smoothing': 0.1}           0.689019   \n",
       "5                   1       {'var_smoothing': 1}           0.669816   \n",
       "6                 1.5     {'var_smoothing': 1.5}           0.664509   \n",
       "7                   2       {'var_smoothing': 2}           0.661233   \n",
       "8                   5       {'var_smoothing': 5}           0.651262   \n",
       "9                  10      {'var_smoothing': 10}           0.646702   \n",
       "\n",
       "   split1_test_score  split2_test_score  split3_test_score  ...  \\\n",
       "0           0.572384           0.568997           0.556346  ...   \n",
       "1           0.618874           0.595981           0.591126  ...   \n",
       "2           0.653179           0.666036           0.654142  ...   \n",
       "3           0.651229           0.672431           0.669249  ...   \n",
       "4           0.640637           0.662953           0.671302  ...   \n",
       "5           0.642746           0.654243           0.655082  ...   \n",
       "6           0.642481           0.651498           0.649442  ...   \n",
       "7           0.641757           0.648801           0.645443  ...   \n",
       "8           0.638130           0.642508           0.635278  ...   \n",
       "9           0.635705           0.639218           0.630595  ...   \n",
       "\n",
       "   mean_test_score  std_test_score  rank_test_score  split0_train_score  \\\n",
       "0         0.569284        0.007082               12            0.966422   \n",
       "1         0.599881        0.009911               11            0.964335   \n",
       "2         0.662141        0.008354                3            0.945552   \n",
       "3         0.674129        0.014054                1            0.860514   \n",
       "4         0.667680        0.015929                2            0.768447   \n",
       "5         0.656838        0.009019                4            0.726264   \n",
       "6         0.653130        0.007487                5            0.718596   \n",
       "7         0.650308        0.006847                6            0.713258   \n",
       "8         0.642397        0.005537                7            0.699422   \n",
       "9         0.638535        0.005328                8            0.693093   \n",
       "\n",
       "   split1_train_score  split2_train_score  split3_train_score  \\\n",
       "0            0.960323            0.960432            0.963950   \n",
       "1            0.962206            0.964138            0.967228   \n",
       "2            0.948791            0.947087            0.948748   \n",
       "3            0.866714            0.866616            0.865260   \n",
       "4            0.774177            0.772853            0.769404   \n",
       "5            0.729379            0.725905            0.724764   \n",
       "6            0.720917            0.718619            0.717046   \n",
       "7            0.715062            0.713640            0.711798   \n",
       "8            0.700613            0.700685            0.698494   \n",
       "9            0.694186            0.694399            0.692452   \n",
       "\n",
       "   split4_train_score  mean_train_score  std_train_score  \n",
       "0            0.959330          0.962091         0.002673  \n",
       "1            0.963024          0.964186         0.001706  \n",
       "2            0.944766          0.946989         0.001635  \n",
       "3            0.863984          0.864618         0.002282  \n",
       "4            0.771973          0.771371         0.002138  \n",
       "5            0.725038          0.726270         0.001648  \n",
       "6            0.716916          0.718418         0.001446  \n",
       "7            0.711431          0.713038         0.001313  \n",
       "8            0.697105          0.699264         0.001351  \n",
       "9            0.690372          0.692900         0.001451  \n",
       "\n",
       "[10 rows x 21 columns]"
      ]
     },
     "execution_count": 26,
     "metadata": {},
     "output_type": "execute_result"
    }
   ],
   "source": [
    "results.head(10)"
   ]
  },
  {
   "cell_type": "code",
   "execution_count": 27,
   "metadata": {
    "ExecuteTime": {
     "end_time": "2020-04-17T17:12:06.596219Z",
     "start_time": "2020-04-17T17:12:06.276292Z"
    }
   },
   "outputs": [
    {
     "data": {
      "image/png": "[encoded data removed]",
      "text/plain": [
       "<Figure size 720x720 with 1 Axes>"
      ]
     },
     "metadata": {
      "needs_background": "light"
     },
     "output_type": "display_data"
    }
   ],
   "source": [
    "fig , ax = plt.subplots(1,1,figsize=(10,10))\n",
    "ax.plot(results['param_var_smoothing'],results['mean_train_score'],label='Train Score')\n",
    "ax.scatter(results['param_var_smoothing'],results['mean_train_score'],label='Train Score')\n",
    "ax.plot(results['param_var_smoothing'],results['mean_test_score'],label='Test Score')\n",
    "ax.scatter(results['param_var_smoothing'],results['mean_test_score'],label='Test Score')\n",
    "ax.set_ylabel('Auc Score')\n",
    "ax.set_xlabel('Laplace Smoothening')\n",
    "ax.legend()\n",
    "ax.grid()\n",
    "# ax.set_xticks(map(str,results['param_var_smoothing']))\n",
    "ax.set_title('Auc Score for Train and Test')\n",
    "plt.show()"
   ]
  },
  {
   "cell_type": "code",
   "execution_count": 28,
   "metadata": {
    "ExecuteTime": {
     "end_time": "2020-04-17T17:12:16.150156Z",
     "start_time": "2020-04-17T17:12:16.138791Z"
    }
   },
   "outputs": [
    {
     "data": {
      "text/plain": [
       "0      1e-05\n",
       "1     0.0001\n",
       "2      0.001\n",
       "3       0.01\n",
       "4        0.1\n",
       "5          1\n",
       "6        1.5\n",
       "7          2\n",
       "8          5\n",
       "9         10\n",
       "10        15\n",
       "11        20\n",
       "Name: param_var_smoothing, dtype: object"
      ]
     },
     "execution_count": 28,
     "metadata": {},
     "output_type": "execute_result"
    }
   ],
   "source": [
    "results['param_var_smoothing']"
   ]
  },
  {
   "cell_type": "code",
   "execution_count": 29,
   "metadata": {
    "ExecuteTime": {
     "end_time": "2020-04-17T17:12:17.846633Z",
     "start_time": "2020-04-17T17:12:17.824017Z"
    }
   },
   "outputs": [
    {
     "data": {
      "text/plain": [
       "0     0.392808\n",
       "1     0.364305\n",
       "2     0.284848\n",
       "3     0.190489\n",
       "4     0.103691\n",
       "5     0.069432\n",
       "6     0.065289\n",
       "7     0.062730\n",
       "8     0.056867\n",
       "9     0.054366\n",
       "10    0.053383\n",
       "11    0.053008\n",
       "dtype: float64"
      ]
     },
     "execution_count": 29,
     "metadata": {},
     "output_type": "execute_result"
    }
   ],
   "source": [
    "results['mean_train_score'] - results['mean_test_score']"
   ]
  },
  {
   "cell_type": "code",
   "execution_count": 30,
   "metadata": {
    "ExecuteTime": {
     "end_time": "2020-04-17T17:12:38.308222Z",
     "start_time": "2020-04-17T17:12:38.301920Z"
    }
   },
   "outputs": [],
   "source": [
    "# Taking the best var_smoothing\n",
    "best_var_smoothing = 0.1"
   ]
  },
  {
   "cell_type": "code",
   "execution_count": 31,
   "metadata": {
    "ExecuteTime": {
     "end_time": "2020-04-17T17:12:40.230128Z",
     "start_time": "2020-04-17T17:12:39.077732Z"
    }
   },
   "outputs": [
    {
     "data": {
      "text/plain": [
       "GaussianNB(priors=None, var_smoothing=0.1)"
      ]
     },
     "execution_count": 31,
     "metadata": {},
     "output_type": "execute_result"
    }
   ],
   "source": [
    "gnb = GaussianNB(var_smoothing=best_var_smoothing)\n",
    "gnb.fit(x_tr.toarray(),y_train)"
   ]
  },
  {
   "cell_type": "code",
   "execution_count": 32,
   "metadata": {
    "ExecuteTime": {
     "end_time": "2020-04-17T17:12:42.109624Z",
     "start_time": "2020-04-17T17:12:40.631069Z"
    }
   },
   "outputs": [],
   "source": [
    "y_te_predict = gnb.predict(x_te.toarray())\n",
    "y_tr_predict = gnb.predict(x_tr.toarray())"
   ]
  },
  {
   "cell_type": "code",
   "execution_count": 33,
   "metadata": {
    "ExecuteTime": {
     "end_time": "2020-04-17T17:12:42.747042Z",
     "start_time": "2020-04-17T17:12:42.727193Z"
    }
   },
   "outputs": [
    {
     "name": "stdout",
     "output_type": "stream",
     "text": [
      "0.5972921691020003\n",
      "0.5716443230718304\n"
     ]
    }
   ],
   "source": [
    "print(roc_auc_score(y_train,y_tr_predict))\n",
    "print(roc_auc_score(y_test,y_te_predict))"
   ]
  },
  {
   "cell_type": "code",
   "execution_count": 34,
   "metadata": {
    "ExecuteTime": {
     "end_time": "2020-04-17T17:12:44.011365Z",
     "start_time": "2020-04-17T17:12:43.998392Z"
    }
   },
   "outputs": [],
   "source": [
    "train_fpr , train_tpr , tr_thresholds = roc_curve(y_train,y_tr_predict)\n",
    "test_fpr , test_tpr , te_threshokds = roc_curve(y_test,y_te_predict)"
   ]
  },
  {
   "cell_type": "code",
   "execution_count": 35,
   "metadata": {
    "ExecuteTime": {
     "end_time": "2020-04-17T17:12:45.008839Z",
     "start_time": "2020-04-17T17:12:44.803158Z"
    },
    "scrolled": true
   },
   "outputs": [
    {
     "data": {
      "image/png": "[encoded data removed]",
      "text/plain": [
       "<Figure size 432x288 with 1 Axes>"
      ]
     },
     "metadata": {
      "needs_background": "light"
     },
     "output_type": "display_data"
    }
   ],
   "source": [
    "plt.plot(train_fpr,train_tpr, label='Train AUC'+str(auc(train_fpr, train_tpr)))\n",
    "plt.plot(test_fpr,test_tpr, label='Test AUC'+str(auc(test_fpr, test_tpr)))\n",
    "plt.legend()\n",
    "plt.xlabel(\"Alpha: hyperparameter\")\n",
    "plt.ylabel(\"AUC\")\n",
    "plt.title(\"ROC PLOTS\")\n",
    "plt.grid()\n",
    "plt.show()"
   ]
  },
  {
   "cell_type": "code",
   "execution_count": 36,
   "metadata": {
    "ExecuteTime": {
     "end_time": "2020-04-17T17:12:46.099311Z",
     "start_time": "2020-04-17T17:12:46.076057Z"
    }
   },
   "outputs": [],
   "source": [
    "te_conf = confusion_matrix(y_test,y_te_predict)\n",
    "tr_conf = confusion_matrix(y_train,y_tr_predict)"
   ]
  },
  {
   "cell_type": "code",
   "execution_count": 37,
   "metadata": {
    "ExecuteTime": {
     "end_time": "2020-04-17T17:12:46.940221Z",
     "start_time": "2020-04-17T17:12:46.931424Z"
    }
   },
   "outputs": [
    {
     "data": {
      "text/plain": [
       "array([[ 412,   44],\n",
       "       [1934,  610]])"
      ]
     },
     "execution_count": 37,
     "metadata": {},
     "output_type": "execute_result"
    }
   ],
   "source": [
    "te_conf"
   ]
  },
  {
   "cell_type": "code",
   "execution_count": 38,
   "metadata": {
    "ExecuteTime": {
     "end_time": "2020-04-17T17:12:47.695301Z",
     "start_time": "2020-04-17T17:12:47.685666Z"
    }
   },
   "outputs": [
    {
     "data": {
      "text/plain": [
       "array([[ 995,   69],\n",
       "       [4396, 1540]])"
      ]
     },
     "execution_count": 38,
     "metadata": {},
     "output_type": "execute_result"
    }
   ],
   "source": [
    "tr_conf"
   ]
  },
  {
   "cell_type": "markdown",
   "metadata": {},
   "source": [
    "# TFIDF implementation"
   ]
  },
  {
   "cell_type": "code",
   "execution_count": 39,
   "metadata": {
    "ExecuteTime": {
     "end_time": "2020-04-17T17:12:59.970734Z",
     "start_time": "2020-04-17T17:12:59.950779Z"
    }
   },
   "outputs": [],
   "source": [
    "def tf_encoder_for_cat_columns(col,train,test):\n",
    "    if col == 'essay':\n",
    "        vec = TfidfVectorizer(ngram_range=(1,4),min_df=10,norm='l1',max_features=10000)\n",
    "    else:\n",
    "        vec = CountVectorizer()\n",
    "    \n",
    "    print(\"Fitting the {:5} data to the count_vectorizer\".format(col))\n",
    "    vec.fit(train[col].values)\n",
    "    print('Transforming the {:5} data'.format(col))\n",
    "    return vec.transform(train[col].values), vec.transform(test[col].values)\n",
    "# , cnt_vec.transform(cv[col].values)\n",
    "\n",
    "def encoder_for_num_columns(col, train, test):\n",
    "    normal = StandardScaler()\n",
    "    print('Fitting the {} column data to the normalizer'.format(col))\n",
    "    normal.fit(train[col].values.reshape(-1,1))\n",
    "    print('Fitting the {} column data to the normalizer'.format(col))\n",
    "    return normal.transform(train[col].values.reshape(-1,1)) , normal.transform(test[col].values.reshape(-1,1))\n",
    "# , normal.transform(cv[col].values.reshape(-1,1))\n"
   ]
  },
  {
   "cell_type": "code",
   "execution_count": 74,
   "metadata": {
    "ExecuteTime": {
     "end_time": "2020-04-17T17:25:10.581477Z",
     "start_time": "2020-04-17T17:24:51.574956Z"
    }
   },
   "outputs": [
    {
     "name": "stderr",
     "output_type": "stream",
     "text": [
      " 38%|███▊      | 3/8 [00:00<00:00, 22.00it/s]"
     ]
    },
    {
     "name": "stdout",
     "output_type": "stream",
     "text": [
      "Fitting the school_state data to the count_vectorizer\n",
      "Transforming the school_state data\n",
      "Fitting the teacher_prefix data to the count_vectorizer\n",
      "Transforming the teacher_prefix data\n",
      "Fitting the project_grade_category data to the count_vectorizer\n",
      "Transforming the project_grade_category data\n",
      "Fitting the teacher_number_of_previously_posted_projects column data to the normalizer\n",
      "Fitting the teacher_number_of_previously_posted_projects column data to the normalizer\n",
      "Fitting the clean_categories data to the count_vectorizer\n",
      "Transforming the clean_categories data\n",
      "Fitting the clean_subcategories data to the count_vectorizer\n",
      "Transforming the clean_subcategories data\n",
      "Fitting the essay data to the count_vectorizer\n",
      "Transforming the essay data\n"
     ]
    },
    {
     "name": "stderr",
     "output_type": "stream",
     "text": [
      "100%|██████████| 8/8 [00:18<00:00,  2.37s/it]"
     ]
    },
    {
     "name": "stdout",
     "output_type": "stream",
     "text": [
      "Fitting the price column data to the normalizer\n",
      "Fitting the price column data to the normalizer\n"
     ]
    },
    {
     "name": "stderr",
     "output_type": "stream",
     "text": [
      "\n"
     ]
    }
   ],
   "source": [
    "# Storing all the bow transformations in single dictionary\n",
    "temp = {}\n",
    "for ele in tqdm(df.columns):\n",
    "    if type(df[ele][0] ) == str:\n",
    "        temp_train , temp_test = tf_encoder_for_cat_columns(ele,x_train,x_test)\n",
    "        temp['x_train_{}_tfidf'.format(ele)] = temp_train\n",
    "        del temp_train\n",
    "        temp['x_test_{}_tfidf'.format(ele)]  = temp_test\n",
    "        del temp_test\n",
    "#         temp['x_cv_{}_bow'.format(ele)]    = temp_cv\n",
    "#         del temp_cv\n",
    "    else:\n",
    "        temp_train , temp_test = encoder_for_num_columns(ele, x_train, x_test)\n",
    "        temp['x_train_{}_norm '.format(ele)] = temp_train\n",
    "        del temp_train\n",
    "        temp['x_test_{}_norm'.format(ele)]  = temp_test\n",
    "        del temp_test\n",
    "#         temp['x_cv_{}_norm'.format(ele)]    = temp_cv\n",
    "#         del temp_cv\n"
   ]
  },
  {
   "cell_type": "code",
   "execution_count": 75,
   "metadata": {
    "ExecuteTime": {
     "end_time": "2020-04-17T17:25:15.582775Z",
     "start_time": "2020-04-17T17:25:15.565236Z"
    }
   },
   "outputs": [
    {
     "name": "stderr",
     "output_type": "stream",
     "text": [
      "100%|██████████| 2/2 [00:00<00:00, 426.40it/s]"
     ]
    },
    {
     "name": "stdout",
     "output_type": "stream",
     "text": [
      "==================================================\n",
      "Creating seperate key val pairs for hstacking\n",
      "x_train_school_state_tfidf\n",
      "x_train_teacher_prefix_tfidf\n",
      "x_train_project_grade_category_tfidf\n",
      "x_train_teacher_number_of_previously_posted_projects_norm \n",
      "x_train_clean_categories_tfidf\n",
      "x_train_clean_subcategories_tfidf\n",
      "x_train_essay_tfidf\n",
      "x_train_price_norm \n",
      "==================================================\n",
      "Creating seperate key val pairs for hstacking\n",
      "x_test_school_state_tfidf\n",
      "x_test_teacher_prefix_tfidf\n",
      "x_test_project_grade_category_tfidf\n",
      "x_test_teacher_number_of_previously_posted_projects_norm\n",
      "x_test_clean_categories_tfidf\n",
      "x_test_clean_subcategories_tfidf\n",
      "x_test_essay_tfidf\n",
      "x_test_price_norm\n"
     ]
    },
    {
     "name": "stderr",
     "output_type": "stream",
     "text": [
      "\n"
     ]
    }
   ],
   "source": [
    "hstack_temp = {}\n",
    "for ele in tqdm(['train','test']):\n",
    "    print('='*50)\n",
    "    print('Creating seperate key val pairs for hstacking')\n",
    "    hstack_temp[ele] = []\n",
    "    for key in temp.keys():\n",
    "        if key.find(ele) >=0:\n",
    "            print(key)\n",
    "            hstack_temp[ele].append(temp[key])\n",
    "del temp"
   ]
  },
  {
   "cell_type": "code",
   "execution_count": 76,
   "metadata": {
    "ExecuteTime": {
     "end_time": "2020-04-17T17:25:17.095432Z",
     "start_time": "2020-04-17T17:25:16.999156Z"
    }
   },
   "outputs": [],
   "source": [
    "x_tr = hstack(hstack_temp['train']).tocsr()\n",
    "x_te = hstack(hstack_temp['test']).tocsr()\n",
    "# x_cv = hstack(hstack_temp['cv']).tocsr()\n",
    "del hstack_temp"
   ]
  },
  {
   "cell_type": "code",
   "execution_count": 77,
   "metadata": {
    "ExecuteTime": {
     "end_time": "2020-04-17T17:25:17.787634Z",
     "start_time": "2020-04-17T17:25:17.777659Z"
    }
   },
   "outputs": [
    {
     "data": {
      "text/plain": [
       "(7000, 10100)"
      ]
     },
     "execution_count": 77,
     "metadata": {},
     "output_type": "execute_result"
    }
   ],
   "source": [
    "x_tr.shape"
   ]
  },
  {
   "cell_type": "code",
   "execution_count": 78,
   "metadata": {
    "ExecuteTime": {
     "end_time": "2020-04-17T17:25:18.433271Z",
     "start_time": "2020-04-17T17:25:18.424957Z"
    }
   },
   "outputs": [
    {
     "data": {
      "text/plain": [
       "(3000, 10100)"
      ]
     },
     "execution_count": 78,
     "metadata": {},
     "output_type": "execute_result"
    }
   ],
   "source": [
    "x_te.shape"
   ]
  },
  {
   "cell_type": "code",
   "execution_count": 79,
   "metadata": {
    "ExecuteTime": {
     "end_time": "2020-04-17T17:26:36.893667Z",
     "start_time": "2020-04-17T17:25:19.158078Z"
    }
   },
   "outputs": [],
   "source": [
    "gnb = GaussianNB()\n",
    "parameters = {'var_smoothing':[10**-5,10**-4 ,10**-3,10**-2,10**-1,1,1.5,2,5,10,15,20]}\n",
    "clf = GridSearchCV(gnb,parameters,cv=5,scoring='roc_auc',return_train_score=True)\n",
    "clf.fit(x_tr.toarray(),y_train)\n",
    "results = pd.DataFrame(clf.cv_results_)\n",
    "results.sort_values('param_var_smoothing',inplace=True)"
   ]
  },
  {
   "cell_type": "code",
   "execution_count": 80,
   "metadata": {
    "ExecuteTime": {
     "end_time": "2020-04-17T17:26:44.781918Z",
     "start_time": "2020-04-17T17:26:44.739840Z"
    }
   },
   "outputs": [
    {
     "data": {
      "text/html": [
       "<div>\n",
       "<style scoped>\n",
       "    .dataframe tbody tr th:only-of-type {\n",
       "        vertical-align: middle;\n",
       "    }\n",
       "\n",
       "    .dataframe tbody tr th {\n",
       "        vertical-align: top;\n",
       "    }\n",
       "\n",
       "    .dataframe thead th {\n",
       "        text-align: right;\n",
       "    }\n",
       "</style>\n",
       "<table border=\"1\" class=\"dataframe\">\n",
       "  <thead>\n",
       "    <tr style=\"text-align: right;\">\n",
       "      <th></th>\n",
       "      <th>mean_fit_time</th>\n",
       "      <th>std_fit_time</th>\n",
       "      <th>mean_score_time</th>\n",
       "      <th>std_score_time</th>\n",
       "      <th>param_var_smoothing</th>\n",
       "      <th>params</th>\n",
       "      <th>split0_test_score</th>\n",
       "      <th>split1_test_score</th>\n",
       "      <th>split2_test_score</th>\n",
       "      <th>split3_test_score</th>\n",
       "      <th>...</th>\n",
       "      <th>mean_test_score</th>\n",
       "      <th>std_test_score</th>\n",
       "      <th>rank_test_score</th>\n",
       "      <th>split0_train_score</th>\n",
       "      <th>split1_train_score</th>\n",
       "      <th>split2_train_score</th>\n",
       "      <th>split3_train_score</th>\n",
       "      <th>split4_train_score</th>\n",
       "      <th>mean_train_score</th>\n",
       "      <th>std_train_score</th>\n",
       "    </tr>\n",
       "  </thead>\n",
       "  <tbody>\n",
       "    <tr>\n",
       "      <th>0</th>\n",
       "      <td>0.668811</td>\n",
       "      <td>0.015906</td>\n",
       "      <td>0.129307</td>\n",
       "      <td>0.003530</td>\n",
       "      <td>1e-05</td>\n",
       "      <td>{'var_smoothing': 1e-05}</td>\n",
       "      <td>0.621252</td>\n",
       "      <td>0.658155</td>\n",
       "      <td>0.611543</td>\n",
       "      <td>0.635428</td>\n",
       "      <td>...</td>\n",
       "      <td>0.633285</td>\n",
       "      <td>0.016041</td>\n",
       "      <td>1</td>\n",
       "      <td>0.801445</td>\n",
       "      <td>0.802252</td>\n",
       "      <td>0.797053</td>\n",
       "      <td>0.804034</td>\n",
       "      <td>0.800521</td>\n",
       "      <td>0.801061</td>\n",
       "      <td>0.002314</td>\n",
       "    </tr>\n",
       "    <tr>\n",
       "      <th>1</th>\n",
       "      <td>0.656767</td>\n",
       "      <td>0.002010</td>\n",
       "      <td>0.127102</td>\n",
       "      <td>0.001472</td>\n",
       "      <td>0.0001</td>\n",
       "      <td>{'var_smoothing': 0.0001}</td>\n",
       "      <td>0.547622</td>\n",
       "      <td>0.595408</td>\n",
       "      <td>0.534873</td>\n",
       "      <td>0.550364</td>\n",
       "      <td>...</td>\n",
       "      <td>0.559636</td>\n",
       "      <td>0.021114</td>\n",
       "      <td>11</td>\n",
       "      <td>0.625486</td>\n",
       "      <td>0.615728</td>\n",
       "      <td>0.625977</td>\n",
       "      <td>0.618997</td>\n",
       "      <td>0.615448</td>\n",
       "      <td>0.620327</td>\n",
       "      <td>0.004588</td>\n",
       "    </tr>\n",
       "    <tr>\n",
       "      <th>2</th>\n",
       "      <td>0.658931</td>\n",
       "      <td>0.001660</td>\n",
       "      <td>0.127932</td>\n",
       "      <td>0.000445</td>\n",
       "      <td>0.001</td>\n",
       "      <td>{'var_smoothing': 0.001}</td>\n",
       "      <td>0.542813</td>\n",
       "      <td>0.590736</td>\n",
       "      <td>0.529907</td>\n",
       "      <td>0.545360</td>\n",
       "      <td>...</td>\n",
       "      <td>0.554761</td>\n",
       "      <td>0.021204</td>\n",
       "      <td>12</td>\n",
       "      <td>0.611668</td>\n",
       "      <td>0.601545</td>\n",
       "      <td>0.614997</td>\n",
       "      <td>0.606809</td>\n",
       "      <td>0.601852</td>\n",
       "      <td>0.607374</td>\n",
       "      <td>0.005317</td>\n",
       "    </tr>\n",
       "    <tr>\n",
       "      <th>3</th>\n",
       "      <td>0.681665</td>\n",
       "      <td>0.016681</td>\n",
       "      <td>0.128884</td>\n",
       "      <td>0.003389</td>\n",
       "      <td>0.01</td>\n",
       "      <td>{'var_smoothing': 0.01}</td>\n",
       "      <td>0.554117</td>\n",
       "      <td>0.594963</td>\n",
       "      <td>0.536180</td>\n",
       "      <td>0.555229</td>\n",
       "      <td>...</td>\n",
       "      <td>0.561186</td>\n",
       "      <td>0.019338</td>\n",
       "      <td>10</td>\n",
       "      <td>0.613554</td>\n",
       "      <td>0.607713</td>\n",
       "      <td>0.621530</td>\n",
       "      <td>0.613417</td>\n",
       "      <td>0.610209</td>\n",
       "      <td>0.613285</td>\n",
       "      <td>0.004660</td>\n",
       "    </tr>\n",
       "    <tr>\n",
       "      <th>4</th>\n",
       "      <td>0.666478</td>\n",
       "      <td>0.011525</td>\n",
       "      <td>0.127089</td>\n",
       "      <td>0.001372</td>\n",
       "      <td>0.1</td>\n",
       "      <td>{'var_smoothing': 0.1}</td>\n",
       "      <td>0.581559</td>\n",
       "      <td>0.613995</td>\n",
       "      <td>0.557819</td>\n",
       "      <td>0.580380</td>\n",
       "      <td>...</td>\n",
       "      <td>0.583421</td>\n",
       "      <td>0.017905</td>\n",
       "      <td>9</td>\n",
       "      <td>0.617163</td>\n",
       "      <td>0.612486</td>\n",
       "      <td>0.613709</td>\n",
       "      <td>0.619640</td>\n",
       "      <td>0.615522</td>\n",
       "      <td>0.615704</td>\n",
       "      <td>0.002529</td>\n",
       "    </tr>\n",
       "    <tr>\n",
       "      <th>5</th>\n",
       "      <td>0.665601</td>\n",
       "      <td>0.004972</td>\n",
       "      <td>0.128474</td>\n",
       "      <td>0.001045</td>\n",
       "      <td>1</td>\n",
       "      <td>{'var_smoothing': 1}</td>\n",
       "      <td>0.605982</td>\n",
       "      <td>0.624192</td>\n",
       "      <td>0.579514</td>\n",
       "      <td>0.597502</td>\n",
       "      <td>...</td>\n",
       "      <td>0.600496</td>\n",
       "      <td>0.014615</td>\n",
       "      <td>8</td>\n",
       "      <td>0.622104</td>\n",
       "      <td>0.619533</td>\n",
       "      <td>0.608468</td>\n",
       "      <td>0.622174</td>\n",
       "      <td>0.614537</td>\n",
       "      <td>0.617363</td>\n",
       "      <td>0.005243</td>\n",
       "    </tr>\n",
       "    <tr>\n",
       "      <th>6</th>\n",
       "      <td>0.662596</td>\n",
       "      <td>0.002325</td>\n",
       "      <td>0.128618</td>\n",
       "      <td>0.002510</td>\n",
       "      <td>1.5</td>\n",
       "      <td>{'var_smoothing': 1.5}</td>\n",
       "      <td>0.610147</td>\n",
       "      <td>0.625805</td>\n",
       "      <td>0.580218</td>\n",
       "      <td>0.600492</td>\n",
       "      <td>...</td>\n",
       "      <td>0.603628</td>\n",
       "      <td>0.014811</td>\n",
       "      <td>7</td>\n",
       "      <td>0.624168</td>\n",
       "      <td>0.621357</td>\n",
       "      <td>0.611666</td>\n",
       "      <td>0.624231</td>\n",
       "      <td>0.617458</td>\n",
       "      <td>0.619776</td>\n",
       "      <td>0.004749</td>\n",
       "    </tr>\n",
       "    <tr>\n",
       "      <th>7</th>\n",
       "      <td>0.656750</td>\n",
       "      <td>0.002669</td>\n",
       "      <td>0.128732</td>\n",
       "      <td>0.002155</td>\n",
       "      <td>2</td>\n",
       "      <td>{'var_smoothing': 2}</td>\n",
       "      <td>0.612123</td>\n",
       "      <td>0.628127</td>\n",
       "      <td>0.580811</td>\n",
       "      <td>0.601406</td>\n",
       "      <td>...</td>\n",
       "      <td>0.605657</td>\n",
       "      <td>0.015376</td>\n",
       "      <td>6</td>\n",
       "      <td>0.624854</td>\n",
       "      <td>0.621503</td>\n",
       "      <td>0.614281</td>\n",
       "      <td>0.625327</td>\n",
       "      <td>0.619800</td>\n",
       "      <td>0.621153</td>\n",
       "      <td>0.004008</td>\n",
       "    </tr>\n",
       "    <tr>\n",
       "      <th>8</th>\n",
       "      <td>0.663765</td>\n",
       "      <td>0.008145</td>\n",
       "      <td>0.127238</td>\n",
       "      <td>0.001609</td>\n",
       "      <td>5</td>\n",
       "      <td>{'var_smoothing': 5}</td>\n",
       "      <td>0.612352</td>\n",
       "      <td>0.629432</td>\n",
       "      <td>0.594749</td>\n",
       "      <td>0.599994</td>\n",
       "      <td>...</td>\n",
       "      <td>0.609849</td>\n",
       "      <td>0.012026</td>\n",
       "      <td>4</td>\n",
       "      <td>0.625200</td>\n",
       "      <td>0.621015</td>\n",
       "      <td>0.622473</td>\n",
       "      <td>0.626757</td>\n",
       "      <td>0.623011</td>\n",
       "      <td>0.623691</td>\n",
       "      <td>0.002039</td>\n",
       "    </tr>\n",
       "    <tr>\n",
       "      <th>9</th>\n",
       "      <td>0.665227</td>\n",
       "      <td>0.011233</td>\n",
       "      <td>0.127601</td>\n",
       "      <td>0.001068</td>\n",
       "      <td>10</td>\n",
       "      <td>{'var_smoothing': 10}</td>\n",
       "      <td>0.611079</td>\n",
       "      <td>0.628697</td>\n",
       "      <td>0.597387</td>\n",
       "      <td>0.599092</td>\n",
       "      <td>...</td>\n",
       "      <td>0.610184</td>\n",
       "      <td>0.011405</td>\n",
       "      <td>3</td>\n",
       "      <td>0.624883</td>\n",
       "      <td>0.620874</td>\n",
       "      <td>0.623261</td>\n",
       "      <td>0.626481</td>\n",
       "      <td>0.622881</td>\n",
       "      <td>0.623676</td>\n",
       "      <td>0.001896</td>\n",
       "    </tr>\n",
       "  </tbody>\n",
       "</table>\n",
       "<p>10 rows × 21 columns</p>\n",
       "</div>"
      ],
      "text/plain": [
       "   mean_fit_time  std_fit_time  mean_score_time  std_score_time  \\\n",
       "0       0.668811      0.015906         0.129307        0.003530   \n",
       "1       0.656767      0.002010         0.127102        0.001472   \n",
       "2       0.658931      0.001660         0.127932        0.000445   \n",
       "3       0.681665      0.016681         0.128884        0.003389   \n",
       "4       0.666478      0.011525         0.127089        0.001372   \n",
       "5       0.665601      0.004972         0.128474        0.001045   \n",
       "6       0.662596      0.002325         0.128618        0.002510   \n",
       "7       0.656750      0.002669         0.128732        0.002155   \n",
       "8       0.663765      0.008145         0.127238        0.001609   \n",
       "9       0.665227      0.011233         0.127601        0.001068   \n",
       "\n",
       "  param_var_smoothing                     params  split0_test_score  \\\n",
       "0               1e-05   {'var_smoothing': 1e-05}           0.621252   \n",
       "1              0.0001  {'var_smoothing': 0.0001}           0.547622   \n",
       "2               0.001   {'var_smoothing': 0.001}           0.542813   \n",
       "3                0.01    {'var_smoothing': 0.01}           0.554117   \n",
       "4                 0.1     {'var_smoothing': 0.1}           0.581559   \n",
       "5                   1       {'var_smoothing': 1}           0.605982   \n",
       "6                 1.5     {'var_smoothing': 1.5}           0.610147   \n",
       "7                   2       {'var_smoothing': 2}           0.612123   \n",
       "8                   5       {'var_smoothing': 5}           0.612352   \n",
       "9                  10      {'var_smoothing': 10}           0.611079   \n",
       "\n",
       "   split1_test_score  split2_test_score  split3_test_score  ...  \\\n",
       "0           0.658155           0.611543           0.635428  ...   \n",
       "1           0.595408           0.534873           0.550364  ...   \n",
       "2           0.590736           0.529907           0.545360  ...   \n",
       "3           0.594963           0.536180           0.555229  ...   \n",
       "4           0.613995           0.557819           0.580380  ...   \n",
       "5           0.624192           0.579514           0.597502  ...   \n",
       "6           0.625805           0.580218           0.600492  ...   \n",
       "7           0.628127           0.580811           0.601406  ...   \n",
       "8           0.629432           0.594749           0.599994  ...   \n",
       "9           0.628697           0.597387           0.599092  ...   \n",
       "\n",
       "   mean_test_score  std_test_score  rank_test_score  split0_train_score  \\\n",
       "0         0.633285        0.016041                1            0.801445   \n",
       "1         0.559636        0.021114               11            0.625486   \n",
       "2         0.554761        0.021204               12            0.611668   \n",
       "3         0.561186        0.019338               10            0.613554   \n",
       "4         0.583421        0.017905                9            0.617163   \n",
       "5         0.600496        0.014615                8            0.622104   \n",
       "6         0.603628        0.014811                7            0.624168   \n",
       "7         0.605657        0.015376                6            0.624854   \n",
       "8         0.609849        0.012026                4            0.625200   \n",
       "9         0.610184        0.011405                3            0.624883   \n",
       "\n",
       "   split1_train_score  split2_train_score  split3_train_score  \\\n",
       "0            0.802252            0.797053            0.804034   \n",
       "1            0.615728            0.625977            0.618997   \n",
       "2            0.601545            0.614997            0.606809   \n",
       "3            0.607713            0.621530            0.613417   \n",
       "4            0.612486            0.613709            0.619640   \n",
       "5            0.619533            0.608468            0.622174   \n",
       "6            0.621357            0.611666            0.624231   \n",
       "7            0.621503            0.614281            0.625327   \n",
       "8            0.621015            0.622473            0.626757   \n",
       "9            0.620874            0.623261            0.626481   \n",
       "\n",
       "   split4_train_score  mean_train_score  std_train_score  \n",
       "0            0.800521          0.801061         0.002314  \n",
       "1            0.615448          0.620327         0.004588  \n",
       "2            0.601852          0.607374         0.005317  \n",
       "3            0.610209          0.613285         0.004660  \n",
       "4            0.615522          0.615704         0.002529  \n",
       "5            0.614537          0.617363         0.005243  \n",
       "6            0.617458          0.619776         0.004749  \n",
       "7            0.619800          0.621153         0.004008  \n",
       "8            0.623011          0.623691         0.002039  \n",
       "9            0.622881          0.623676         0.001896  \n",
       "\n",
       "[10 rows x 21 columns]"
      ]
     },
     "execution_count": 80,
     "metadata": {},
     "output_type": "execute_result"
    }
   ],
   "source": [
    "results.head(10)"
   ]
  },
  {
   "cell_type": "code",
   "execution_count": 81,
   "metadata": {
    "ExecuteTime": {
     "end_time": "2020-04-17T17:26:45.643885Z",
     "start_time": "2020-04-17T17:26:45.350698Z"
    }
   },
   "outputs": [
    {
     "data": {
      "image/png": "[encoded data removed]",
      "text/plain": [
       "<Figure size 720x720 with 1 Axes>"
      ]
     },
     "metadata": {
      "needs_background": "light"
     },
     "output_type": "display_data"
    }
   ],
   "source": [
    "fig , ax = plt.subplots(1,1,figsize=(10,10))\n",
    "ax.plot(results['param_var_smoothing'],results['mean_train_score'],label='Train Score')\n",
    "ax.scatter(results['param_var_smoothing'],results['mean_train_score'],label='Train Score')\n",
    "ax.plot(results['param_var_smoothing'],results['mean_test_score'],label='Test Score')\n",
    "ax.scatter(results['param_var_smoothing'],results['mean_test_score'],label='Test Score')\n",
    "ax.set_ylabel('Auc Score')\n",
    "ax.set_xlabel('Laplace Smoothening')\n",
    "ax.legend()\n",
    "ax.grid()\n",
    "# ax.set_xticks(map(str,results['param_var_smoothing']))\n",
    "ax.set_title('Auc Score for Train and Test')\n",
    "plt.show()"
   ]
  },
  {
   "cell_type": "code",
   "execution_count": 51,
   "metadata": {
    "ExecuteTime": {
     "end_time": "2020-04-17T17:16:55.905954Z",
     "start_time": "2020-04-17T17:16:55.892368Z"
    }
   },
   "outputs": [
    {
     "data": {
      "text/plain": [
       "0      1e-05\n",
       "1     0.0001\n",
       "2      0.001\n",
       "3       0.01\n",
       "4        0.1\n",
       "5          1\n",
       "6        1.5\n",
       "7          2\n",
       "8          5\n",
       "9         10\n",
       "10        15\n",
       "11        20\n",
       "Name: param_var_smoothing, dtype: object"
      ]
     },
     "execution_count": 51,
     "metadata": {},
     "output_type": "execute_result"
    }
   ],
   "source": [
    "results['param_var_smoothing']"
   ]
  },
  {
   "cell_type": "code",
   "execution_count": 52,
   "metadata": {
    "ExecuteTime": {
     "end_time": "2020-04-17T17:16:56.531208Z",
     "start_time": "2020-04-17T17:16:56.519362Z"
    }
   },
   "outputs": [
    {
     "data": {
      "text/plain": [
       "0     0.167776\n",
       "1     0.060691\n",
       "2     0.052613\n",
       "3     0.052098\n",
       "4     0.032283\n",
       "5     0.016868\n",
       "6     0.016148\n",
       "7     0.015496\n",
       "8     0.013842\n",
       "9     0.013492\n",
       "10    0.012812\n",
       "11    0.013082\n",
       "dtype: float64"
      ]
     },
     "execution_count": 52,
     "metadata": {},
     "output_type": "execute_result"
    }
   ],
   "source": [
    "results['mean_train_score'] - results['mean_test_score']"
   ]
  },
  {
   "cell_type": "code",
   "execution_count": 82,
   "metadata": {
    "ExecuteTime": {
     "end_time": "2020-04-17T17:51:31.672098Z",
     "start_time": "2020-04-17T17:51:31.669699Z"
    }
   },
   "outputs": [],
   "source": [
    "alpha = 0.1"
   ]
  },
  {
   "cell_type": "code",
   "execution_count": 83,
   "metadata": {
    "ExecuteTime": {
     "end_time": "2020-04-17T17:51:33.443217Z",
     "start_time": "2020-04-17T17:51:32.349472Z"
    }
   },
   "outputs": [
    {
     "data": {
      "text/plain": [
       "GaussianNB(priors=None, var_smoothing=0.1)"
      ]
     },
     "execution_count": 83,
     "metadata": {},
     "output_type": "execute_result"
    }
   ],
   "source": [
    "gnb = GaussianNB(var_smoothing=alpha)\n",
    "gnb.fit(x_tr.toarray(),y_train)"
   ]
  },
  {
   "cell_type": "code",
   "execution_count": 84,
   "metadata": {
    "ExecuteTime": {
     "end_time": "2020-04-17T17:51:35.554403Z",
     "start_time": "2020-04-17T17:51:33.975985Z"
    }
   },
   "outputs": [],
   "source": [
    "y_te_predict = gnb.predict(x_te.toarray())\n",
    "y_tr_predict = gnb.predict(x_tr.toarray())"
   ]
  },
  {
   "cell_type": "code",
   "execution_count": 85,
   "metadata": {
    "ExecuteTime": {
     "end_time": "2020-04-17T17:51:36.152873Z",
     "start_time": "2020-04-17T17:51:36.135684Z"
    }
   },
   "outputs": [
    {
     "name": "stdout",
     "output_type": "stream",
     "text": [
      "0.5064814158036601\n",
      "0.5058858821582257\n"
     ]
    }
   ],
   "source": [
    "print(roc_auc_score(y_train,y_tr_predict))\n",
    "print(roc_auc_score(y_test,y_te_predict))"
   ]
  },
  {
   "cell_type": "code",
   "execution_count": 86,
   "metadata": {
    "ExecuteTime": {
     "end_time": "2020-04-17T17:51:37.007981Z",
     "start_time": "2020-04-17T17:51:36.808317Z"
    }
   },
   "outputs": [
    {
     "data": {
      "image/png": "[encoded data removed]",
      "text/plain": [
       "<Figure size 432x288 with 1 Axes>"
      ]
     },
     "metadata": {
      "needs_background": "light"
     },
     "output_type": "display_data"
    }
   ],
   "source": [
    "plt.plot(train_fpr,train_tpr, label='Train AUC'+str(auc(train_fpr, train_tpr)))\n",
    "plt.plot(test_fpr,test_tpr, label='Test AUC'+str(auc(test_fpr, test_tpr)))\n",
    "plt.legend()\n",
    "plt.xlabel(\"Alpha: hyperparameter\")\n",
    "plt.ylabel(\"AUC\")\n",
    "plt.title(\"ROC PLOTS\")\n",
    "plt.grid()\n",
    "plt.show()"
   ]
  },
  {
   "cell_type": "code",
   "execution_count": 87,
   "metadata": {
    "ExecuteTime": {
     "end_time": "2020-04-17T17:51:37.683829Z",
     "start_time": "2020-04-17T17:51:37.668848Z"
    }
   },
   "outputs": [],
   "source": [
    "train_fpr , train_tpr , tr_thresholds = roc_curve(y_train,y_tr_predict)\n",
    "test_fpr , test_tpr , te_threshokds = roc_curve(y_test,y_te_predict)"
   ]
  },
  {
   "cell_type": "code",
   "execution_count": 88,
   "metadata": {
    "ExecuteTime": {
     "end_time": "2020-04-17T17:51:38.435114Z",
     "start_time": "2020-04-17T17:51:38.409400Z"
    }
   },
   "outputs": [],
   "source": [
    "te_conf = confusion_matrix(y_test,y_te_predict)\n",
    "tr_conf = confusion_matrix(y_train,y_tr_predict)"
   ]
  },
  {
   "cell_type": "code",
   "execution_count": 89,
   "metadata": {
    "ExecuteTime": {
     "end_time": "2020-04-17T17:51:39.193930Z",
     "start_time": "2020-04-17T17:51:39.182873Z"
    }
   },
   "outputs": [
    {
     "data": {
      "text/plain": [
       "array([[  12,  444],\n",
       "       [  37, 2507]])"
      ]
     },
     "execution_count": 89,
     "metadata": {},
     "output_type": "execute_result"
    }
   ],
   "source": [
    "te_conf"
   ]
  },
  {
   "cell_type": "code",
   "execution_count": 90,
   "metadata": {
    "ExecuteTime": {
     "end_time": "2020-04-17T17:51:39.967768Z",
     "start_time": "2020-04-17T17:51:39.955908Z"
    }
   },
   "outputs": [
    {
     "data": {
      "text/plain": [
       "array([[  31, 1033],\n",
       "       [  96, 5840]])"
      ]
     },
     "execution_count": 90,
     "metadata": {},
     "output_type": "execute_result"
    }
   ],
   "source": [
    "tr_conf"
   ]
  },
  {
   "cell_type": "code",
   "execution_count": null,
   "metadata": {},
   "outputs": [],
   "source": []
  }
 ],
 "metadata": {
  "colab": {
   "collapsed_sections": [],
   "name": "6_Assignment_NB_Instructions.ipynb",
   "provenance": [],
   "version": "0.3.2"
  },
  "kernelspec": {
   "display_name": "Python 3",
   "language": "python",
   "name": "python3"
  },
  "latex_envs": {
   "LaTeX_envs_menu_present": true,
   "autoclose": false,
   "autocomplete": true,
   "bibliofile": "biblio.bib",
   "cite_by": "apalike",
   "current_citInitial": 1,
   "eqLabelWithNumbers": true,
   "eqNumInitial": 1,
   "hotkeys": {
    "equation": "Ctrl-E",
    "itemize": "Ctrl-I"
   },
   "labels_anchors": false,
   "latex_user_defs": false,
   "report_style_numbering": false,
   "user_envs_cfg": false
  },
  "notify_time": "5",
  "toc": {
   "base_numbering": 1,
   "nav_menu": {},
   "number_sections": true,
   "sideBar": true,
   "skip_h1_title": false,
   "title_cell": "Table of Contents",
   "title_sidebar": "Contents",
   "toc_cell": false,
   "toc_position": {},
   "toc_section_display": true,
   "toc_window_display": true
  },
  "varInspector": {
   "cols": {
    "lenName": 16,
    "lenType": 16,
    "lenVar": 40
   },
   "kernels_config": {
    "python": {
     "delete_cmd_postfix": "",
     "delete_cmd_prefix": "del ",
     "library": "var_list.py",
     "varRefreshCmd": "print(var_dic_list())"
    },
    "r": {
     "delete_cmd_postfix": ") ",
     "delete_cmd_prefix": "rm(",
     "library": "var_list.r",
     "varRefreshCmd": "cat(var_dic_list()) "
    }
   },
   "types_to_exclude": [
    "module",
    "function",
    "builtin_function_or_method",
    "instance",
    "_Feature"
   ],
   "window_display": false
  },
  "widgets": {
   "application/vnd.jupyter.widget-state+json": {
    "state": {},
    "version_major": 2,
    "version_minor": 0
   }
  }
 },
 "nbformat": 4,
 "nbformat_minor": 1
}
